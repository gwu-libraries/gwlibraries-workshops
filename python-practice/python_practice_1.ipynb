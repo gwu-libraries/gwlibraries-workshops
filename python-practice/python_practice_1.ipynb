{
 "cells": [
  {
   "attachments": {
    "3d1f4296-461c-4e86-b8db-88fcbc7000b2.png": {
     "image/png": "[encoded data removed]"
    }
   },
   "cell_type": "markdown",
   "id": "b96843f5-cd57-40f7-bcd0-15755ed23c8a",
   "metadata": {},
   "source": [
    "![image.png](attachment:3d1f4296-461c-4e86-b8db-88fcbc7000b2.png)"
   ]
  },
  {
   "cell_type": "markdown",
   "id": "ab94d1b2-6e55-4e8c-b0ad-50ae9540a037",
   "metadata": {},
   "source": [
    "# Python Practice\n",
    "## Algorithms: Thinking in Code\n",
    "\n",
    "**Instructors**: Dolsy Smith\n",
    "\n",
    "**Date**: Wednesday, September 20\n",
    "\n",
    "**Time**: 2:30 - 4:30 pm\n",
    "\n",
    "**Location**: Gelman Library, Room 302"
   ]
  },
  {
   "cell_type": "markdown",
   "id": "3cfe14a6-8a5a-4e27-b8a6-81ae43741b85",
   "metadata": {},
   "source": [
    "## Outline\n",
    "\n",
    "1. [Dixit Algorismi](#Dixit-Algorismi)\n",
    "2. [Finding Palindromes](#Problem-1:-Finding-Palindromes)\n",
    "3. [Run-Length Encoding](#Problem-2:-Run-Length-Encoding)\n",
    "4. [Aggregating by Groups](#Problem-3:-Aggregating-by-Groups)\n",
    "5. [Rolling Weather Windows](#Problem-4:-Rolling-Weather-Windows)"
   ]
  },
  {
   "cell_type": "markdown",
   "id": "3b45c51c-0497-409d-8678-2e71f4906c0a",
   "metadata": {},
   "source": [
    "## _Dixit Algorismi_\n",
    "\n",
    "Algorithms are foundational for computing. Although we think of them now as something that _computers_ do, they precede the invention of the digital computer by several millenia. The origin of the term, in fact, lies in the Latinization of the name of a famous  mathematician, Abu Ja’far Muhammad ibn Musa al-Khawarizmi, author of the earliest known textbook on algebra in Arabic. When Europeans translated this textbook into Latin in the 12th Century CE, they rendered his surname, _al-Khawarizmi_, as _Algorismi_ ([Wikipedia](https://en.wikipedia.org/wiki/Algorithm)).\n",
    "\n",
    "It's useful to think about algorithms as _procedures of thought_ as well as _acts of translation_. \n",
    "\n",
    "In this workshop, we'll practice thinking through a few different computational problems and translating our thinking into Python code. "
   ]
  },
  {
   "cell_type": "markdown",
   "id": "95ac5f77-a75d-4ec3-a080-5953899973db",
   "metadata": {},
   "source": [
    "## Problem 1: Finding Palindromes\n",
    "\n",
    "#### Write a Python function that detects whether a given string is a palindrome. \n",
    "The function should return `True` if it is, `False` otherwise.\n",
    "\n",
    "### Definitions\n",
    "\n",
    "A **palindrome** is any sequence of characters that reads the same from left to right as from right to left. Examples of palindromes include the following:\n",
    "> racecar\n",
    "> 2002\n",
    "> aaabbccccbbaaa\n",
    "\n",
    "For the purpose of this problem, we'll exclude fun examples such as \"never odd or even\" and \"Madam, in Eden, I'm Adam,\" which while palindromic to readers of English, are not literally palindromes (in the sense defined above), since spaces, capital letters, and/or punctuation render the sequences non-identical when reversed. \n",
    "\n",
    "We will also count a sequence consisting of a single character as a palindrome, e.g., `\"a\"`, `\"1\"`, etc.\n",
    "\n",
    "### Hints\n",
    "\n",
    "- A Python **string** is a sequence of characters.\n",
    "- Each character has a well-defined position. For instance, let `my_string = \"hello\"`. Then `my_string[0] == \"h\"` and `my_string[4] == \"o\"`.\n",
    "- We can also use negative indexing to access characters from right to left: `my_string[-1] == \"o\"`.\n",
    "- We can also extract substrings by using **slice notation**: `my_string[0:3] == \"hell\"`.\n",
    "- Two strings are considered identical by Python if they consist of the same sequence of characters in the same order: `\"my_string == \"hello\"`. \n"
   ]
  },
  {
   "cell_type": "code",
   "execution_count": null,
   "id": "9ede590e-c940-4d3a-b524-962b8955331d",
   "metadata": {},
   "outputs": [],
   "source": [
    "def is_palindrome(p):\n",
    "    # Delete the line below and write your code here.\n",
    "    # Don't forget to return something! \n",
    "    pass"
   ]
  },
  {
   "cell_type": "code",
   "execution_count": 8,
   "id": "2a981aa2-c3bf-424c-960d-bc72147e7753",
   "metadata": {},
   "outputs": [],
   "source": [
    "# Palindrome test function\n",
    "from random import choice, choices, randrange\n",
    "def test_palindrome(fn):\n",
    "    charlist = \"abcdefghijklmnopqrstuvwxy0123456789\"\n",
    "    for n in [1, 2, 3, 5, 10, 15, 25, 50]:\n",
    "        if n == 1:\n",
    "            palindrome = choice(charlist)\n",
    "            assert fn(palindrome) == True, f\"Palindrome function failed on palindrome {palindrome}, of size 1.\"\n",
    "        else:\n",
    "            palindrome = ''.join(choices(charlist, k=n))\n",
    "            palindrome = palindrome + palindrome[::-1]\n",
    "            assert fn(palindrome) == True, f\"Palindrome function failed on {palindrome}, of size {n*2}.\"  \n",
    "            if len(set(palindrome)) > 1:\n",
    "                non_palindrome = palindrome[:-1]\n",
    "            else:\n",
    "                non_palindrom = palindrome + 'z'\n",
    "            assert fn(non_palindrome) == False, f\"Palindrome function failed on {non_palindrome}, not a palindrome.\"\n",
    "    return \"Success!\""
   ]
  },
  {
   "cell_type": "code",
   "execution_count": null,
   "id": "133a1abe-58f7-49f0-b7cb-0522b9bc6e9d",
   "metadata": {},
   "outputs": [],
   "source": [
    "test_palindrome(is_palindrome)"
   ]
  },
  {
   "cell_type": "markdown",
   "id": "7b59a357-e009-4623-ad4a-299a6443e674",
   "metadata": {},
   "source": [
    "## Problem 2: Run-Length Encoding\n",
    "\n",
    "#### Write a function that encodes a given Python string using run-length encoding. \n",
    "\n",
    "### Definitions\n",
    "\n",
    "**Run-length encoding** is an actual algorithm used for data compression. It works in situations where discrete elements repeat for extended periods within a sequence. The algorithm reduces such a sequence to a shorter sequence by representing each \"run\" of a repeated element to two data points: the element and the number of times it repeats. \n",
    "\n",
    "For instance, the sequence `WWWWWWWWWWWWBWWWWWWWWWWWWBBBWWWWWWWWWWWWWWWWWWWWWWWWBWWWWWWWWWWWWWW` would be represented as \n",
    "`12W1B12W3B24W1B14W`.\n",
    "\n",
    "Can you think of kinds of data where run-length encoding might be a good choice for compression?\n",
    "\n",
    "### Hints & Constraints\n",
    "\n",
    "- Since our inputs will by Python strings, the elements to enocode will be characters.\n",
    "- For simplicity's sake, assume that no strings will include numbers (0-9). Any other kind of character is fair game.\n",
    "- Even if an element does not repeat in the original sequence, it must still be encoded. For instance, the first `B` in the example above appears once; it is encoded as `B1`, not simply `B`."
   ]
  },
  {
   "cell_type": "code",
   "execution_count": 11,
   "id": "6eb3eade-5768-48bf-a808-066bab4c4e99",
   "metadata": {},
   "outputs": [],
   "source": [
    "def make_rle(sequence):\n",
    "    pass"
   ]
  },
  {
   "cell_type": "code",
   "execution_count": 1,
   "id": "d8258a13-8fc2-4059-9910-e76ba55a8c92",
   "metadata": {},
   "outputs": [],
   "source": [
    "# Run-length encoding test function\n",
    "def test_rle(fn):\n",
    "    # Test sequence of length 1\n",
    "    rle = fn(\"a\") \n",
    "    assert rle == \"a1\", f\"RLE {rle} does not match sequence of length 1, 'a'\"\n",
    "    # Create sequence of random number of subsequences\n",
    "    length = randrange(1, 25)\n",
    "    char_list = \"abcdefghijklmnopqrstuvwxyz\"\n",
    "    char_list += char_list.upper() \n",
    "    char_list += \",./;'[]\\`{}|:<>?~!@#$%^&*()_-+=\"\n",
    "    sequence = \"\"\n",
    "    rle = \"\"\n",
    "    for _ in range(length):\n",
    "        char = choice(char_list) \n",
    "        repeats = choice([1, 2, 5, 10, 15])\n",
    "        sequence += char * repeats\n",
    "        rle += f\"{char}{repeats}\"\n",
    "    assert fn(sequence) == rle, f\"RLE {fn(sequence)} does not match sequence {sequence}\"\n",
    "    return \"Success!\""
   ]
  },
  {
   "cell_type": "code",
   "execution_count": null,
   "id": "d055401d-8f69-4135-9544-90212d7d8d67",
   "metadata": {},
   "outputs": [],
   "source": [
    "test_rle(make_rle)"
   ]
  },
  {
   "cell_type": "markdown",
   "id": "2f9a73a1-2ca9-4f66-9da3-568b71c075b1",
   "metadata": {},
   "source": [
    "## Problem 3: Aggregating by Groups\n",
    "\n",
    "#### Write a Python function that accepts a list of numeric scores and finds the average score within each integer group. \n",
    "\n",
    "For example, given the list of scores `[\"1.7\", \"1.5\", \"2.3\", \"1.2\", \"2.5\", \"3.0\", \"2.75\", \"3.5\"]`, the function should produce the following groups:\n",
    "> `[1.7, 1.5, 1.2]`\n",
    "> \n",
    "> `[2.3, 2.5, 2.75]`\n",
    "> \n",
    "> `[3.0, 3.5]`\n",
    "\n",
    "And the function should return the average of each group of scores, i.e., `[1.5, 2.5, 3.3]`, sorted in ascending order. Averages should be left unrounded. \n",
    "\n",
    "### Hints\n",
    "\n",
    "- It may be useful to sort your data before grouping it. The Python `sorted` function will take a list of values and return it in ascending order. Note that Python strings will be sorted differently from Python floats or integers.\n",
    "- You can convert from a string to a float using the `float` function, and back again (if necessary) using the `str` function.\n",
    "- If you convert a float to an integer (with the `int` function), it will truncate the number: both `int(2.1)` and `int(2.8)` become `2`.\n",
    "- We'll walk through loading data from a file below."
   ]
  },
  {
   "cell_type": "code",
   "execution_count": 14,
   "id": "322e6664-cf9e-4a83-8a9f-bc9998a11eaa",
   "metadata": {},
   "outputs": [],
   "source": [
    "from urllib.request import urlretrieve"
   ]
  },
  {
   "cell_type": "code",
   "execution_count": 15,
   "id": "f043cece-8c2d-4511-90da-12ae6c1cf4c7",
   "metadata": {},
   "outputs": [],
   "source": [
    "scores_url = 'https://raw.githubusercontent.com/gwu-libraries/gwlibraries-workshops/master/python-practice/data/python-practice-1-scores-1.txt'\n",
    "urlretrieve(scores_url, 'scores.txt')\n",
    "with open('./scores.txt') as f:\n",
    "    scores_txt = f.read()"
   ]
  },
  {
   "cell_type": "code",
   "execution_count": 16,
   "id": "9cf311fe-1191-428a-820c-3a7750d17385",
   "metadata": {},
   "outputs": [],
   "source": [
    "# Split the comma-delimted string into a list\n",
    "scores = scores_txt.split(',')"
   ]
  },
  {
   "cell_type": "code",
   "execution_count": 31,
   "id": "23fccde0-40f6-4106-a2a6-116420c809b5",
   "metadata": {},
   "outputs": [],
   "source": [
    "def average_by_group(scores):\n",
    "    pass"
   ]
  },
  {
   "cell_type": "code",
   "execution_count": 22,
   "id": "75600884-a9f3-43c6-a986-cfdce90254de",
   "metadata": {},
   "outputs": [],
   "source": [
    "# Test function for average by group \n",
    "def test_abg(fn):\n",
    "    assert fn(['1.1', '2.4', '3.4']) == [1.1, 2.4, 3.4]\n",
    "    assert fn(['1.1', '2.4', '1.2', '3.1', '2.75', '3.7']) == [1.15, 2.575, 3.4000000000000004]\n",
    "    assert fn(['1','2', '3', '4']) == [1.0, 2.0, 3.0, 4.0]\n",
    "    assert fn(['1.2', '2.2', '1.2', '3.3', '1.2', '2.2', '1.2', '1.2', '3.3', '4.4', '3.3', '1.2', '2.2', '4.4', '3.3']) == [1.2, 2.2, 3.3, 4.4]\n",
    "    return \"Success!\""
   ]
  },
  {
   "cell_type": "code",
   "execution_count": null,
   "id": "df9d6d9b-42f9-4544-bfef-2d6043269119",
   "metadata": {},
   "outputs": [],
   "source": [
    "test_abg(average_by_group)"
   ]
  },
  {
   "cell_type": "markdown",
   "id": "ebf9195c-524e-4589-8b4a-87edaa52e885",
   "metadata": {},
   "source": [
    "## Problem 4: Rolling Weather Windows\n",
    "\n",
    "#### Write a Python function that reads a CSV file of weekly weather data from around the United States and provides a rolling average of temperature, grouped by location of the weather station. \n",
    "\n",
    "#### Optionally, provide the user with the ability to select the size of the window used in computing each average.\n",
    "\n",
    "### Definitions\n",
    "\n",
    "A **rolling average** can be useful when looking for trends in time-series data. If the data points are sorted in chronological order, the rolling average provides, at each point, the average of values up that point. For some kinds of data, a **window function** makes the rolling average more reliable: the window function specifies how many observations are used to calculate the rolling average. For instance, a window of `3` means that the current data point and the two prior data points are used to compute the average at that point, as opposed to using all the prior data points back to the beginning of the dataset.\n",
    "\n",
    "In the example below, the value in the `Avg Temp` column is a rolling average. It has the effect of smoothing out changes in the data, so the drastic jumps between one point in the next don't obscure the overall direction of the trend. \n",
    "\n",
    "| Date | Location | Temp | Avg Temp |\n",
    "| -- | -- | -- | -- |\n",
    "| 09/01/2021 | DC | 86 | 86 |\n",
    "| 09/02/2021 | DC | 87 | 86.5 |\n",
    "| 09/03/2021 | DC | 85 | 86 |\n",
    "| 09/04/2021 | DC | 80 | 84.5 |\n",
    "\n",
    "\n",
    "The dataset we'll use for this practice problem comes from the [CORGIS Datasets Project](https://corgis-edu.github.io/corgis/csv/weather/) and is derived from National Weather Service data for 2016. "
   ]
  },
  {
   "cell_type": "code",
   "execution_count": null,
   "id": "85422e21-e65e-4548-bd26-868ff21f9972",
   "metadata": {},
   "outputs": [],
   "source": [
    "from csv import DictReader"
   ]
  },
  {
   "cell_type": "code",
   "execution_count": null,
   "id": "ad2d2a65-1119-4bc4-a9a4-51430b6ca29c",
   "metadata": {},
   "outputs": [],
   "source": [
    "urlretrieve('https://corgis-edu.github.io/corgis/datasets/csv/weather/weather.csv', './weather.csv')"
   ]
  },
  {
   "cell_type": "code",
   "execution_count": null,
   "id": "99b18cbd-386a-4434-bdf2-2fc87b24f5ee",
   "metadata": {},
   "outputs": [],
   "source": [
    "with open('./weather.csv') as f:\n",
    "    reader = DictReader(f)\n",
    "    weather_data = [r for r in reader]"
   ]
  },
  {
   "cell_type": "code",
   "execution_count": null,
   "id": "a52c82dd-1733-4d39-a4a0-b4b5c7ea7ae9",
   "metadata": {},
   "outputs": [],
   "source": [
    "len(weather_data)"
   ]
  },
  {
   "cell_type": "code",
   "execution_count": null,
   "id": "61e3f0fa-7d4c-4ede-89e9-3051538b7a50",
   "metadata": {},
   "outputs": [],
   "source": [
    "weather_data[0]"
   ]
  },
  {
   "cell_type": "code",
   "execution_count": null,
   "id": "87a7d785-eb71-4f80-b18c-ff75612106cc",
   "metadata": {},
   "outputs": [],
   "source": [
    "def rolling_average(weather_data, window=None):\n",
    "    pass"
   ]
  },
  {
   "cell_type": "markdown",
   "id": "7f99dc03-5e0a-4b25-a632-90bdd5e892e7",
   "metadata": {},
   "source": [
    "## Solutions & Further Learning\n",
    "\n",
    "Examples of solutions to all of the above problems can be found on the separate [solutions notebook](https://github.com/gwu-libraries/gwlibraries-workshops/blob/master/python-practice/python_practice_1_solutions.ipynb).\n",
    "\n",
    "In this workshop, we've barely scratched the surface. To continue your journey into algorithms, the following resources might prove useful or interesting.\n",
    "\n",
    "#### Practice Problem Sites\n",
    "\n",
    "The following sites offer collections of practice problems in various languages, usually including automatic feedback. Some of them also offer opportunities to compete with and/or mentor others.\n",
    "\n",
    "- [CodeWars](https://www.codewars.com/): Problem sets are offered in a wide variety of programming languages and categories. \n",
    "- [Project Euler](https://projecteuler.net/): Focused on mathematical problems.\n",
    "- [Kaggle Competitions](https://www.kaggle.com/competitions): Targets data-science/machine-learning problems; includes a large library of datasets to practice with.\n",
    "- [Leetcode](https://leetcode.com/): Similar to CodeWars; seems particularly designed for those preparing for coding interviews.\n",
    "\n",
    "#### Books & Tutorials\n",
    "\n",
    "- The [O'Reilly Online Library](https://go.oreilly.com/gwu-edu) (GW subscription resource) offers books from a wide array of technical publishers. Search for \"python algorithms\" to get started.\n",
    "- The [Python Cookbook](https://learning.oreilly.com/library/view/python-cookbook-3rd/9781449357337/), available in the O'Reilly library, is a compendium of \"recipes\" for solving various practical tasks in Python. If you're looking for a reference book to support your Python learning, this is a great one.\n",
    "- Donald Knuth's [Art of Computer Programming](https://learning.oreilly.com/library/view/python-cookbook-3rd/9781449357337/), also available in the O'Reilly library, is widely considered a classic of the genre. Knuth's book pre-dates the existence of Python, but it remains a touchstone for those interested in understanding the logic of many of the fundamental algorithms we now take for granted.\n",
    "- [LinkedIn Learning](http://go.gwu.edu/linkedinlearning), also a subscription resource available to GW students, staff, and faculty, includes well-produced video tutorials, such as [Python Data Structures and Algorithms](https://www.linkedin.com/learning/python-data-structures-and-algorithms/python-data-structures-and-algorithms-in-action?u=74651410) and [Programming Foundations: Algorithms](https://www.linkedin.com/learning/programming-foundations-algorithms/algorithms-power-the-world?u=74651410)."
   ]
  }
 ],
 "metadata": {
  "kernelspec": {
   "display_name": "Python 3 (ipykernel)",
   "language": "python",
   "name": "python3"
  },
  "language_info": {
   "codemirror_mode": {
    "name": "ipython",
    "version": 3
   },
   "file_extension": ".py",
   "mimetype": "text/x-python",
   "name": "python",
   "nbconvert_exporter": "python",
   "pygments_lexer": "ipython3",
   "version": "3.11.4"
  }
 },
 "nbformat": 4,
 "nbformat_minor": 5
}
