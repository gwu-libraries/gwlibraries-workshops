{
 "cells": [
  {
   "cell_type": "markdown",
   "id": "dbf982ab-7e00-4a68-baf2-2bdf3c8cd845",
   "metadata": {},
   "source": [
    "# Python Practice 1: Solutions\n",
    "\n",
    "This notebook contains solutions to the practice problems in the notebook [Algorithms: Thinking in Code](https://github.com/gwu-libraries/gwlibraries-workshops/blob/master/python-practice/python_practice_1.ipynb)."
   ]
  },
  {
   "cell_type": "markdown",
   "id": "5866b07d-90c0-483a-9319-f5a9c2fd5d3c",
   "metadata": {},
   "source": [
    "## Problem 1: Finding Palindromes"
   ]
  },
  {
   "cell_type": "markdown",
   "id": "81411d32-9c0b-4579-9c2f-dc831875c2be",
   "metadata": {},
   "source": [
    "<details>\n",
    "    <summary><h3>Click for a solution</h3></summary>\n",
    "<pre>\n",
    "<code>\n",
    "def is_palindrome(p):\n",
    "    return p == p[::-1]\n",
    "</code>\n",
    "</pre>\n",
    "</details>"
   ]
  },
  {
   "cell_type": "markdown",
   "id": "d31bc0f1-1ef5-4046-ab2c-c37cb8e5ebae",
   "metadata": {},
   "source": [
    "## Problem 2: Run-Length Encoding"
   ]
  },
  {
   "cell_type": "markdown",
   "id": "c5c8967e-bbef-4e28-86e0-744d7630d8fb",
   "metadata": {},
   "source": [
    "<details>\n",
    "    <summary><h3>Click for a solution</h3></summary>\n",
    "<pre>\n",
    "<code>\n",
    "def make_rle(sequence):\n",
    "    rle = \"\"\n",
    "    if len(sequence) == 1:\n",
    "        return sequence + \"1\"\n",
    "    count = 1\n",
    "    for char, next_char in zip(sequence[:-1], sequence[1:]):\n",
    "        if char == next_char:\n",
    "            count += 1\n",
    "        else:\n",
    "            rle += f\"{char}{count}\"\n",
    "            count = 1\n",
    "    rle += f\"{sequence[-1]}{count}\"\n",
    "    return rle\n",
    "</code>\n",
    "</pre>\n",
    "</details>"
   ]
  },
  {
   "cell_type": "markdown",
   "id": "88d35c4a-9448-41d9-9af5-61bac1064e1e",
   "metadata": {},
   "source": [
    "<details>\n",
    "    <summary><h3>Click for another solution</h3></summary>\n",
    "<pre>\n",
    "<code>\n",
    "from itertools import groupby, chain\n",
    "def make_rle_g(sequence):\n",
    "    rle = [f\"{g[0]}{len(list(g[1]))}\" for g in groupby(sequence)]\n",
    "    return \"\".join(rle)\n",
    "</code>\n",
    "</pre>\n",
    "</details>"
   ]
  },
  {
   "cell_type": "markdown",
   "id": "cb076eb9-dd71-42b9-971e-31a69b07ca1d",
   "metadata": {},
   "source": [
    "## Problem 3: Aggregating by Groups"
   ]
  },
  {
   "cell_type": "markdown",
   "id": "4eb22f08-5e8c-4e16-bddc-464fa87d9434",
   "metadata": {},
   "source": [
    "<details>\n",
    "    <summary><h3>Click for a solution</h3></summary>\n",
    "<pre>\n",
    "<code>\n",
    "def average_by_group(scores):\n",
    "    score_dict = {}\n",
    "    for score in scores:\n",
    "        score_n = int(score)\n",
    "        if score_n in score_dict:\n",
    "            score_dict[score_n].append(float(score))\n",
    "        else:\n",
    "            score_dict[score_n] = [float(score)]\n",
    "    averages = []\n",
    "    for score_list in score_dict.values():\n",
    "        averages.append(sum(score_list) / len(score_list))\n",
    "    return sorted(averages)\n",
    "</code>\n",
    "</pre>\n",
    "</details>"
   ]
  },
  {
   "cell_type": "markdown",
   "id": "61989358-a2f3-48d8-9d77-76cee5857325",
   "metadata": {},
   "source": [
    "<details>\n",
    "    <summary><h3>Click for another solution</h3></summary>\n",
    "<pre>\n",
    "<code>\n",
    "# Same as above but with a single loop\n",
    "def average_by_group(scores):\n",
    "    score_dict = {}\n",
    "    for score in scores:\n",
    "        score_n = int(score)\n",
    "        if score_n in score_dict:\n",
    "            previous_avg, n = score_dict[score_n]\n",
    "            score_dict[score_n] = ((previous_avg * n + float(score)) / (n + 1), n + 1)\n",
    "        else:\n",
    "            score_dict[score_n] = (float(score), 1)\n",
    "    return sorted([v[0] for v in score_dict.values()])\n",
    "</code>\n",
    "</pre>\n",
    "</details>"
   ]
  },
  {
   "cell_type": "markdown",
   "id": "220a45a8-38f9-4ffb-baa1-1dd39314c231",
   "metadata": {},
   "source": [
    "<details>\n",
    "    <summary><h3>Click for yet another solution</h3></summary>\n",
    "<pre>\n",
    "<code>\n",
    "def average_by_group(scores):\n",
    "    scores = [float(score) for score in scores]\n",
    "    scores = sorted(scores)\n",
    "    avgs = {score: list(score_group) for (score, score_group) in groupby(scores, key=int)}\n",
    "    return [sum(score_list)/len(score_list) for score_list in avgs.values()]\n",
    "</code>\n",
    "</pre>\n",
    "</details>"
   ]
  },
  {
   "cell_type": "markdown",
   "id": "0c13b528-8695-45b2-a12b-a84bf0b4245a",
   "metadata": {},
   "source": [
    "## Problem 4: Rolling Weather Windows"
   ]
  },
  {
   "cell_type": "markdown",
   "id": "9ade5274-792c-42b9-9cdf-492caadf39a6",
   "metadata": {},
   "source": [
    "We'll talk through this solution step by step before we write out a single function\n",
    "\n",
    "### Step 1 \n",
    "\n",
    "After retrieving the CSV file from the Internet and reading it into a Python data structure, our first step is to sort it."
   ]
  },
  {
   "cell_type": "code",
   "execution_count": 4,
   "id": "02717bc6-fc02-41e7-b115-9d5de6976fd6",
   "metadata": {},
   "outputs": [],
   "source": [
    "from csv import DictReader\n",
    "from urllib.request import urlretrieve\n",
    "urlretrieve('https://corgis-edu.github.io/corgis/datasets/csv/weather/weather.csv', './weather.csv')\n",
    "with open('./weather.csv') as f:\n",
    "    reader = DictReader(f)\n",
    "    weather_data = [r for r in reader]"
   ]
  },
  {
   "cell_type": "markdown",
   "id": "e7ae24db-5fa2-4409-87f9-8163f12eb5f4",
   "metadata": {},
   "source": [
    "We can use the optional `key` argument to the `sorted` function to tell the function which data points we want to sort on.\n",
    "\n",
    "When sorting a Python list of dictionaries, it's common to use a **lambda function** as the `key` argument. \n",
    "\n",
    "A lambda is basically a one-line function without a name. \n",
    "\n",
    "To create a lambda, you write the word `lambda`, followed by any arguments the function should accept, followed by a colon, followed by the body of the function. The lambda function will return the result of whatever happens to the right of the colon.\n",
    "\n",
    "In sorting our dataset, we write a lambda function to extract two data points: the weather station location, and the date of the observation. Since we want to compute the rolling mean _for each weather station_, we'll need to sort the list by station first and then by date.\n",
    "\n",
    "We could do this in two steps, by calling `sorted` twice. But since the station name and the date are both already Python strings and are sortable, we can combine them into a single sort key, using an `f` string. That appraoch is shown below."
   ]
  },
  {
   "cell_type": "code",
   "execution_count": 8,
   "id": "e8092b68-bb6a-4303-b506-59861cb973a7",
   "metadata": {},
   "outputs": [],
   "source": [
    "weather_data = sorted(weather_data, key=lambda w: f\"{w['Station.Location']}{w['Date.Full']}\")"
   ]
  },
  {
   "cell_type": "markdown",
   "id": "0c8bfe47-29fc-4276-8b97-e34abbc5d0c8",
   "metadata": {},
   "source": [
    "Let's test to make sure we've sorted the list correctly."
   ]
  },
  {
   "cell_type": "code",
   "execution_count": null,
   "id": "9ad4caac-cc26-4445-9e6a-cc328369591d",
   "metadata": {},
   "outputs": [],
   "source": [
    "for w in weather_data:\n",
    "    print(f\"{w['Station.Location']} {w['Date.Full']}\")"
   ]
  },
  {
   "cell_type": "markdown",
   "id": "3cbc3cc9-8c75-4d24-9df5-9b7c66e77e53",
   "metadata": {},
   "source": [
    "## Step 2\n",
    "\n",
    "Now that the data has been sorted, we can compute the rolling average.\n",
    "\n",
    "How do we approach this? Well, since we want to see the rolling averages _for each weather station_ (as opposed to for the whole country), grouping by weather station is probably a good start. \n",
    "\n",
    "We can use the `groupby` function to do this, using a lambda function as the `key` argument, just as we did with `sorted`. This time, our lambda function is only picking out the value of the `Station.Location` element, since we do _not_ want to group by date. (As a rule of thumb, with rolling average, you don't usually want to group by the time series element.)\n",
    "\n",
    "Let's test this approach first to make sure it works. In the code below, we inspect the first group obtained by grouping the sorted data by `Station.Location`. The `itertools.groupby` function actually returns a Python iterator, which is a data structure that is meant to be consumed within a loop. In order to get just the first element, however, we can use the `next` function, which simple advances the iterator by one iteration. \n",
    "\n",
    "Then we can inspect the two parts of the `groupby` result for the first iteration: the group key, which in this case should be `Aberdeen, SD`, and the group itself, which should be a list of all the records corresponding to that weather station."
   ]
  },
  {
   "cell_type": "code",
   "execution_count": null,
   "id": "2306f06a-a8e6-4934-9119-55c78143be57",
   "metadata": {},
   "outputs": [],
   "source": [
    "from itertools import groupby\n",
    "g = next(groupby(weather_data, key=lambda w: w[\"Station.Location\"]))\n",
    "print(g[0])\n",
    "list(g[1])"
   ]
  },
  {
   "cell_type": "markdown",
   "id": "2c8520cb-1b00-41c7-b3cf-73a578c77669",
   "metadata": {},
   "source": [
    "With confidence that our `groupby` expression will work, we can now use it in a `for` loop to calculate the rolling average for each group.\n",
    "\n",
    "To do the latter, we need to loop over each record in the group, which corresponds to one week's average temperature. We know that the data are already sorted by date (and by definition, `groupby` doesn't change the sort order), so we can define the rolling average for each date as the average of the **current** average temperature value and all of the previous values (for that group). \n",
    "\n",
    "With one exception: the first data point doesn't have any previous values, so its rolling average will be the same as that date's average temp.\n",
    "\n",
    "The field that contains the temperature data is called `Data.Temperature.Avg Temp`. We will create a new field to hold the rolling average, called `Data.Temperature.Rolling Temp`. \n",
    "\n",
    "And we'll use Python's `enumerate` function to keep track of how many data points need to be averaged at any given time. That will allow us to use the previous value for the rolling average to compute the current value (without having to sum all the previous temperature values every time). \n",
    "\n",
    "As in the solution to Problem 3, we're exploiting the fact that if `x` represents the average of some `n` numbers (`n1`, `n2`, `n3`, etc.), then to create a new average, `x1`, out of the previous average plus a new number, `n4`, we use the following formula:\n",
    "\n",
    "```\n",
    "x1 = ((x*n) + n4) / (n+1)\n",
    "```\n",
    "\n",
    "Finally, we `append` each result as we compute it to a new list, `weather_rolling`. That way, we can easily access the previous rolling average for our computations: it will be the last element in the `weather_rolling` list."
   ]
  },
  {
   "cell_type": "code",
   "execution_count": 15,
   "id": "5e2e8230-2e91-45d4-9bde-432629ac5f2c",
   "metadata": {},
   "outputs": [],
   "source": [
    "weather_rolling = []\n",
    "for _, group in groupby(weather_data, key=lambda w: w[\"Station.Location\"]):\n",
    "    for i, record in enumerate(group):\n",
    "        if i == 0:\n",
    "            record['Data.Temperature.Rolling Temp'] = float(record['Data.Temperature.Avg Temp'])\n",
    "        else:\n",
    "            record['Data.Temperature.Rolling Temp'] = (weather_rolling[-1]['Data.Temperature.Rolling Temp'] * i\\\n",
    "                                                        + float(record['Data.Temperature.Avg Temp'])) / (i+1)\n",
    "        weather_rolling.append(record)"
   ]
  },
  {
   "cell_type": "code",
   "execution_count": null,
   "id": "4ffc4cb5-ab56-4884-ba02-95ebde094f8f",
   "metadata": {},
   "outputs": [],
   "source": []
  }
 ],
 "metadata": {
  "kernelspec": {
   "display_name": "Python 3 (ipykernel)",
   "language": "python",
   "name": "python3"
  },
  "language_info": {
   "codemirror_mode": {
    "name": "ipython",
    "version": 3
   },
   "file_extension": ".py",
   "mimetype": "text/x-python",
   "name": "python",
   "nbconvert_exporter": "python",
   "pygments_lexer": "ipython3",
   "version": "3.11.4"
  }
 },
 "nbformat": 4,
 "nbformat_minor": 5
}
