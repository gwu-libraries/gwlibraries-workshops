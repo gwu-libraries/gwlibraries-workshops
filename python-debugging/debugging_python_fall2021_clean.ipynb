{
 "cells": [
  {
   "cell_type": "markdown",
   "metadata": {},
   "source": [
    "# Getting the Bugs Out\n",
    "### Troubleshooting Code in Python\n",
    "\n",
    "In this workshop we'll look at some examples of Python code that's not working as intended or that could be improved, and we'll implement strategies to do so."
   ]
  },
  {
   "cell_type": "markdown",
   "metadata": {},
   "source": [
    "### Understanding exceptions in Python\n",
    "\n",
    "#### Example 1: Analyzing Twitter data\n",
    "\n",
    "Data from the Twitter API is in [JSON-L](https://jsonlines.org/) format, in which each line of a text file is a valid string in JSON (JavaScript Object Notation). \n",
    "\n",
    "We have a file containing a couple thousand Tweets by U.S. Senators. They are all (are should be all) retweets -- meaning, instances where the Twitter user has retweeted someone else's Tweet. \n",
    "\n",
    "We want to parse this file and examine which accounts are being retweeted by which Senators?"
   ]
  },
  {
   "cell_type": "markdown",
   "metadata": {},
   "source": [
    "#### Loading and parsing JSON-L data\n",
    "\n",
    "Our first step is to import a couple of libraries we'll need for this task."
   ]
  },
  {
   "cell_type": "code",
   "execution_count": null,
   "metadata": {},
   "outputs": [],
   "source": [
    "import requests\n",
    "import jsonlines"
   ]
  },
  {
   "cell_type": "markdown",
   "metadata": {},
   "source": [
    "Now we'll load the Twitter dataset (originally retrieved from GW LAI's [TweetSets](https://tweetsets.library.gwu.edu/) platform, but hosted here on GitHub for convenience)."
   ]
  },
  {
   "cell_type": "code",
   "execution_count": null,
   "metadata": {},
   "outputs": [],
   "source": [
    "data = requests.get('https://raw.githubusercontent.com/gwu-libraries/gwlibraries-workshops/master/python-debugging/sample-retweets.jsonl')"
   ]
  },
  {
   "cell_type": "markdown",
   "metadata": {},
   "source": [
    "Now let's parse this data with the `jsonlines` module, which lets us iterate over a sequence of JSON objects in a file, converting each to Python data structures.\n",
    "\n",
    "1. Create a `Reader` object. \n",
    "2. Use a [list comprehension](https://realpython.com/list-comprehension-python/) to collect each Tweet in a list called `tweets`."
   ]
  },
  {
   "cell_type": "code",
   "execution_count": null,
   "metadata": {},
   "outputs": [],
   "source": [
    "reader = jsonlines.Reader(data)\n",
    "tweets = [r for r in reader]"
   ]
  },
  {
   "cell_type": "markdown",
   "metadata": {},
   "source": [
    "#### Finding accounts retweeted by Senators\n",
    "\n",
    "Each Tweet that is a retweet has a `retweeted_status` element with information about the original Tweet. So if we look for the `user` property of that (retweeted) Tweet, we could associate it with the `user` property of the retweet, in order to find out which Senators are retweeting which other Twitter accounts. \n",
    "\n",
    "One way to do this would be to associate a list of Senatorial accounts with each retweeted account that we find.\n",
    "\n",
    "The following code is a first pass at doing so."
   ]
  },
  {
   "cell_type": "code",
   "execution_count": null,
   "metadata": {},
   "outputs": [],
   "source": [
    "# Find the accounts that Senators are retweeting, and record which Senators are retweeting which accounts\n",
    "# To hold our retweeted user accounts\n",
    "retweeted_accounts = [] \n",
    "# Iterate over all our Tweets\n",
    "for tweet in tweets:\n",
    "    # Access the information about the original Tweet (what's being retweeted)\n",
    "    retweet = tweet['retweeted_status']\n",
    "    # Account of the original Tweet\n",
    "    account = retweet['user']\n",
    "    # Save this and associate with the account of the current (re)Tweet\n",
    "    retweeted_accounts[account].append(tweet['user']) "
   ]
  },
  {
   "cell_type": "markdown",
   "metadata": {},
   "source": [
    "### Best practices\n",
    "\n",
    "#### Encapsulation\n",
    "\n",
    "In addition to catching exceptions, there are other patterns conducive to bug-free code. One very common one is to use functions generously to encapsulate discrete behaviors in your code. \n",
    "\n",
    "Functions allow us to avoid repeating ourselves, which in turn reduces the chance of syntax errors and the like. Functions also make code easier to test, debug, and reason about.\n",
    "\n",
    "Let's say we want to load another dataset of Tweets, also in JSON-L. This dataset contains a mix of different kinds of Tweets (including retweets and quotes as well as original Tweets).\n",
    "\n",
    "We could re-run the cell we use above or copy and paste the code into a new cell. But if this is something we might need to do regularly, it's useful to define a new function to contain this logic."
   ]
  },
  {
   "cell_type": "code",
   "execution_count": null,
   "metadata": {},
   "outputs": [],
   "source": [
    "def load_tweets(url_of_tweets):\n",
    "    data = requests.get(url_of_tweets)\n",
    "    reader = jsonlines.Reader(data.text.splitlines())\n",
    "    tweets = [r for r in reader]\n",
    "    return tweets"
   ]
  },
  {
   "cell_type": "markdown",
   "metadata": {},
   "source": [
    "Functions consist of the following:\n",
    "- a `def` statement followed by a unique name (try to avoid names used by other Python functions) and parentheses\n",
    "- optionally, a list of parameters inside the parentheses. Paremeters with a default value (which take the form `parameter=default_value`) are optional; if not provided, they receive the default value. Paremeters without a default value are required. If they are missing from the function call, Python raises an exception.\n",
    "- a `return` statement. (Otherwise, the function generally has no effect.)"
   ]
  },
  {
   "cell_type": "markdown",
   "metadata": {},
   "source": [
    "We can use our function to load a new dataset."
   ]
  },
  {
   "cell_type": "code",
   "execution_count": null,
   "metadata": {},
   "outputs": [],
   "source": [
    "tweets_2 = load_tweets('https://raw.githubusercontent.com/gwu-libraries/gwlibraries-workshops/master/python-debugging/tweets-shuffled.jsonl')"
   ]
  },
  {
   "cell_type": "markdown",
   "metadata": {},
   "source": [
    "Functions can also make complicated logic easier to read by breaking it into smaller units. Let's say we want to extract from each Tweet the account screen name, the number of times it was retweeted, and the text of the Tweet, and we want to include retweeted and quoted Tweets, too."
   ]
  },
  {
   "cell_type": "markdown",
   "metadata": {},
   "source": [
    "#### Writing DRY code"
   ]
  },
  {
   "cell_type": "code",
   "execution_count": null,
   "metadata": {},
   "outputs": [],
   "source": [
    "tweet_metadata = []\n",
    "for tweet in tweets_2:\n",
    "    rt = tweet.get('retweeted_status')\n",
    "    if rt:\n",
    "        rt_screen_name = tweet['user']['screen_name']\n",
    "        rt_text = tweet['full_text']\n",
    "        rt_num_rt = tweet['retweet_count']\n",
    "        tweet_metadata.append({'screen_name': rt_screen_name,\n",
    "                               'text': rt_text,\n",
    "                               'num_retweets': rt_num_rt})\n",
    "    else:\n",
    "        if tweet.get('quoted_status'):\n",
    "            qt_screen_name = tweet['user']['screen_name']\n",
    "            qt_text = tweet['full_text']\n",
    "            qt_num_rt = tweet['retweet_count']\n",
    "            tweet_metadata.append({'screen_name': qt_screen_name,\n",
    "                                   'text': qt_text,\n",
    "                                   'num_retweets': qt_num_rt})\n",
    "    screen_name = tweet['user']['screen_name']\n",
    "    text = tweet['full_text']\n",
    "    num_rt = tweet['retweet_count']\n",
    "    tweet_metadata.append({'screen_name': screen_name,\n",
    "           'text': text,\n",
    "           'num_retweets': num_rt})"
   ]
  },
  {
   "cell_type": "markdown",
   "metadata": {},
   "source": [
    "#### Working with third-party libraries\n",
    "\n",
    "#### Example 2: Residential household energy consumption in Arlington, VA by hour and day, 2014\n",
    "\n",
    "Debugging code that uses third-party Python libraries presents its own challenges. The following example highlights some pitfalls with datetime values in the pandas library and illustrates how built-in library methods can simplify and optimize your code."
   ]
  },
  {
   "cell_type": "markdown",
   "metadata": {},
   "source": [
    "The data source is originall from the [Open Energy Data Initiative](https://data.openei.org/submissions/153), but I've modified it for this lesson. It has one row for each day/hour in the year for 2014, and columns corresponding to the energy usage for various types of utilities and appliances."
   ]
  },
  {
   "cell_type": "code",
   "execution_count": null,
   "metadata": {},
   "outputs": [],
   "source": [
    "import pandas as pd"
   ]
  },
  {
   "cell_type": "code",
   "execution_count": null,
   "metadata": {},
   "outputs": [],
   "source": [
    "energy_df = pd.read_csv('https://raw.githubusercontent.com/gwu-libraries/gwlibraries-workshops/master/python-debugging/energy-consumption-arlington-2014.csv')"
   ]
  },
  {
   "cell_type": "code",
   "execution_count": null,
   "metadata": {},
   "outputs": [],
   "source": [
    "energy_df"
   ]
  },
  {
   "cell_type": "markdown",
   "metadata": {},
   "source": [
    "#### Troubleshooting date/time problems \n",
    "\n",
    "pandas has a handy `to_datetime` method that can convert a string to a Python datetime value. That will be useful if, say, we want to plot this data as a time series. But running it on the `Date/Time` column throws an exception."
   ]
  },
  {
   "cell_type": "code",
   "execution_count": null,
   "metadata": {},
   "outputs": [],
   "source": [
    "pd.to_datetime(energy_df['Date/Time'])"
   ]
  },
  {
   "cell_type": "markdown",
   "metadata": {},
   "source": [
    "#### When `for` loops are superfluous\n",
    "\n",
    "Let's say we wanted to plot the usage of these various utilities over the course of the year. Hourly data often proves rather noisy when plotted, which can make it hard to discern patterns. \n",
    "\n",
    "Plotting just one type of utility makes for a very noisy chart, so it will be hard to compare different utilities/types of consumption."
   ]
  },
  {
   "cell_type": "code",
   "execution_count": null,
   "metadata": {},
   "outputs": [],
   "source": [
    "energy_df.plot(x='Date/Time', y='Electricity:Facility [kW](Hourly)')"
   ]
  },
  {
   "cell_type": "markdown",
   "metadata": {},
   "source": [
    "In these cases, the [rolling mean](https://en.wikipedia.org/wiki/Moving_average) can be a useful technique. By smoothing values over a particular period of time, it can reveal trends that emerge at different time scales. It lets you \"zoom out\" on the data, so to speak. \n",
    "\n",
    "Since the data is hourly, we might want to calculate the rolling mean over a 24-hour period, which would give us a better impression of the trends from day to day. "
   ]
  },
  {
   "cell_type": "markdown",
   "metadata": {},
   "source": [
    "Our `for` loop approach to the rolling mean uses pandas indexing and slicing to average over the last 24 hours of data, hour by hour in our dataset. "
   ]
  },
  {
   "cell_type": "code",
   "execution_count": null,
   "metadata": {},
   "outputs": [],
   "source": [
    "mean_kw = []\n",
    "for i in range(23, len(energy_df)):\n",
    "    first_idx = i - 23\n",
    "    period = energy_df.iloc[first_idx:i+1]['Electricity:Facility [kW](Hourly)']\n",
    "    mean_kw.append(period.mean())"
   ]
  }
 ],
 "metadata": {
  "kernelspec": {
   "display_name": "Python 3",
   "language": "python",
   "name": "python3"
  },
  "language_info": {
   "codemirror_mode": {
    "name": "ipython",
    "version": 3
   },
   "file_extension": ".py",
   "mimetype": "text/x-python",
   "name": "python",
   "nbconvert_exporter": "python",
   "pygments_lexer": "ipython3",
   "version": "3.8.5"
  }
 },
 "nbformat": 4,
 "nbformat_minor": 4
}
