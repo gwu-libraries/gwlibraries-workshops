{
  "nbformat": 4,
  "nbformat_minor": 0,
  "metadata": {
    "colab": {
      "provenance": []
    },
    "kernelspec": {
      "name": "python3",
      "display_name": "Python 3"
    },
    "language_info": {
      "name": "python"
    }
  },
  "cells": [
    {
      "cell_type": "code",
      "source": [
        "from transformers import pipeline"
      ],
      "metadata": {
        "id": "tR9d_JfsLYCN"
      },
      "execution_count": null,
      "outputs": []
    },
    {
      "cell_type": "code",
      "source": [
        "sentiment_pipeline = pipeline(model='cardiffnlp/twitter-roberta-base-sentiment')"
      ],
      "metadata": {
        "id": "hsCwpksTLaxb"
      },
      "execution_count": null,
      "outputs": []
    },
    {
      "cell_type": "code",
      "source": [
        "text1 = '''\n",
        "I have to say that the food options in the Student Center don't really pass muster.\n",
        "The chicken place is all right, if you're interested in frittering away your  GWorld dollars\n",
        "on a second-rate impression of Chick-fil-a: the presentation is lackluster, the service is\n",
        "lackadaisical, and the main event hardly meats expectations, so to speak. If pressed for time,\n",
        "I'll go to Panera, but proximity is all it really has going for it.\n",
        "'''\n",
        "\n",
        "text2 = '''\n",
        "I hate how people are always complaining about the food in the Student Center. A lot of these comments\n",
        "about how bad the chicken place is are plainly exaggerated, and in particular I think it's pretty\n",
        "despicable to complain about the service when you're a pampered college student being waited on by\n",
        "someone making minimum wage. If you don't like the options, by all means, go elsewhere, but spare us\n",
        "your theatrics: not all of us can afford to eat every meal on our parents' credit card like a spoiled brat.\n",
        "'''\n",
        "\n",
        "data = [text1, text2]"
      ],
      "metadata": {
        "id": "hP5revzCLfVd"
      },
      "execution_count": null,
      "outputs": []
    },
    {
      "cell_type": "code",
      "source": [
        "label_map = {'LABEL_0': 'negative', 'LABEL_1': 'neutral', 'LABEL_2': 'positive'}\n",
        "[{'label': label_map[x['label']],\n",
        "  'score': x['score']}\n",
        " for x in sentiment_pipeline(data)]"
      ],
      "metadata": {
        "id": "AHJkH8EPN8PH"
      },
      "execution_count": null,
      "outputs": []
    }
  ]
}