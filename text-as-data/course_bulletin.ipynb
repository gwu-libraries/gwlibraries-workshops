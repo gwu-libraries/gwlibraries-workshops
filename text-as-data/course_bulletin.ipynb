{
 "cells": [
  {
   "cell_type": "code",
   "execution_count": 25,
   "id": "281c90df-540e-4139-9434-aa4255d95f72",
   "metadata": {},
   "outputs": [],
   "source": [
    "import requests\n",
    "from bs4 import BeautifulSoup\n",
    "from collections import defaultdict"
   ]
  },
  {
   "cell_type": "code",
   "execution_count": 3,
   "id": "db1fccdf-0d0f-4c42-a719-ff8010575654",
   "metadata": {},
   "outputs": [],
   "source": [
    "BASE_URL = 'https://bulletin.gwu.edu/courses/'"
   ]
  },
  {
   "cell_type": "code",
   "execution_count": 5,
   "id": "e97bf66a-71fc-4e9c-98cf-d10d116c8485",
   "metadata": {},
   "outputs": [],
   "source": [
    "dept_list = requests.get(BASE_URL).text"
   ]
  },
  {
   "cell_type": "code",
   "execution_count": 7,
   "id": "e2bdf5d2-cf3a-4ba2-9f46-d836fdd07e01",
   "metadata": {},
   "outputs": [],
   "source": [
    "depts = BeautifulSoup(dept_list)"
   ]
  },
  {
   "cell_type": "code",
   "execution_count": 20,
   "id": "b0221ab4-f5a1-4e35-b30f-2f749e88da3a",
   "metadata": {},
   "outputs": [],
   "source": [
    "dept_links = [d for d in depts.find_all('a') if d.get('href', '').startswith('/courses/')]"
   ]
  },
  {
   "cell_type": "code",
   "execution_count": 23,
   "id": "11bbdde9-26ec-4ceb-a935-211147105a8a",
   "metadata": {},
   "outputs": [],
   "source": [
    "course_pages = []\n",
    "for link in dept_links[:-1]:\n",
    "    page = requests.get(BASE_URL + link['href'].split('/', maxsplit=2)[-1])\n",
    "    page.raise_for_status()\n",
    "    course_pages.append(page.text)"
   ]
  },
  {
   "cell_type": "code",
   "execution_count": 28,
   "id": "4ff4c238-0f7c-4292-b78c-153e724ad863",
   "metadata": {},
   "outputs": [],
   "source": [
    "courses = defaultdict(dict)\n",
    "for page in course_pages:\n",
    "    soup = BeautifulSoup(page)\n",
    "    dept_title = soup.find('h1').text\n",
    "    for title, desc in zip(soup.find_all('p', class_='courseblocktitle'), soup.find_all('p', class_='courseblockdesc')):\n",
    "        courses[dept_title][title.text] = desc.text"
   ]
  },
  {
   "cell_type": "code",
   "execution_count": 31,
   "id": "f423091c-d598-4518-af24-ecce58dcc97d",
   "metadata": {},
   "outputs": [
    {
     "name": "stdout",
     "output_type": "stream",
     "text": [
      "Collecting en-core-web-sm==3.8.0\n",
      "  Downloading https://github.com/explosion/spacy-models/releases/download/en_core_web_sm-3.8.0/en_core_web_sm-3.8.0-py3-none-any.whl (12.8 MB)\n",
      "\u001b[2K     \u001b[90m━━━━━━━━━━━━━━━━━━━━━━━━━━━━━━━━━━━━━━━━\u001b[0m \u001b[32m12.8/12.8 MB\u001b[0m \u001b[31m17.2 MB/s\u001b[0m eta \u001b[36m0:00:00\u001b[0m00:01\u001b[0m00:01\u001b[0m\n",
      "\u001b[?25hInstalling collected packages: en-core-web-sm\n",
      "Successfully installed en-core-web-sm-3.8.0\n",
      "\n",
      "\u001b[1m[\u001b[0m\u001b[34;49mnotice\u001b[0m\u001b[1;39;49m]\u001b[0m\u001b[39;49m A new release of pip is available: \u001b[0m\u001b[31;49m23.3.1\u001b[0m\u001b[39;49m -> \u001b[0m\u001b[32;49m24.3.1\u001b[0m\n",
      "\u001b[1m[\u001b[0m\u001b[34;49mnotice\u001b[0m\u001b[1;39;49m]\u001b[0m\u001b[39;49m To update, run: \u001b[0m\u001b[32;49mpip install --upgrade pip\u001b[0m\n",
      "\u001b[38;5;2m✔ Download and installation successful\u001b[0m\n",
      "You can now load the package via spacy.load('en_core_web_sm')\n"
     ]
    }
   ],
   "source": [
    "import spacy\n",
    "#!python -m spacy download en_core_web_sm\n",
    "nlp = spacy.load('en_core_web_sm')"
   ]
  },
  {
   "cell_type": "code",
   "execution_count": 32,
   "id": "727e803e-278e-41ce-8974-635b5df97ac1",
   "metadata": {},
   "outputs": [],
   "source": [
    "docs = list(nlp.pipe([desc for dept_dict in courses.values() for desc in dept_dict.values()]))"
   ]
  },
  {
   "cell_type": "code",
   "execution_count": 41,
   "id": "32d622e6-6a3c-49a8-b898-ec0583c5e1cf",
   "metadata": {},
   "outputs": [],
   "source": [
    "cleaned_courses = defaultdict(dict)\n",
    "i = 0\n",
    "for dept, dept_dict in courses.items():\n",
    "    for title, desc in dept_dict.items():\n",
    "        desc_tokens = [t.text for t in docs[i] if not t.is_space and not t.is_punct]\n",
    "        if desc_tokens:\n",
    "            title = title.replace('\\xa0', ' ')\n",
    "            cleaned_courses[dept][title] = desc_tokens\n",
    "        i += 1"
   ]
  },
  {
   "cell_type": "code",
   "execution_count": 43,
   "id": "69aed025-42ba-4b37-89cd-bfab4a0c648b",
   "metadata": {},
   "outputs": [],
   "source": [
    "import json\n",
    "with open('gw_bulletin.json', 'w') as f:\n",
    "    json.dump(cleaned_courses, f)"
   ]
  },
  {
   "cell_type": "code",
   "execution_count": 1,
   "id": "b16ce674-9b4e-4e8b-8240-8a4343591d05",
   "metadata": {},
   "outputs": [],
   "source": [
    "import json\n",
    "with open('gw_bulletin.json') as f:\n",
    "    cleaned_courses = json.load(f)"
   ]
  },
  {
   "cell_type": "code",
   "execution_count": 2,
   "id": "ad769062-acf7-4be8-90c2-7577d2e8e573",
   "metadata": {},
   "outputs": [],
   "source": [
    "from random import sample"
   ]
  },
  {
   "cell_type": "code",
   "execution_count": 6,
   "id": "e2d53e37-7f6c-494b-acf7-609995603067",
   "metadata": {},
   "outputs": [],
   "source": [
    "sample_keys = sample(list(cleaned_courses.keys()), k=10)"
   ]
  },
  {
   "cell_type": "code",
   "execution_count": 7,
   "id": "e306ed9c-13ff-4753-930e-6d67f9880140",
   "metadata": {},
   "outputs": [
    {
     "data": {
      "text/plain": [
       "['International Business (IBUS)',\n",
       " 'Anatomy and Cell Biology (ANAT)',\n",
       " 'Management (MGT)',\n",
       " 'Sustainability (SUST)',\n",
       " 'Health Services Management and Leadership (HSML)',\n",
       " 'Counseling (CNSL)',\n",
       " 'Sociology (SOC)',\n",
       " 'Geology (GEOL)',\n",
       " 'Speech, Language, and Hearing Science (SLHS)',\n",
       " 'Business Administration (BADM)']"
      ]
     },
     "execution_count": 7,
     "metadata": {},
     "output_type": "execute_result"
    }
   ],
   "source": [
    "sample_keys"
   ]
  },
  {
   "cell_type": "code",
   "execution_count": 8,
   "id": "b1eab6dc-3e72-49db-bf7c-02252e17f5e6",
   "metadata": {},
   "outputs": [],
   "source": [
    "fieldnames = ['department', 'course', 'description']"
   ]
  },
  {
   "cell_type": "code",
   "execution_count": 9,
   "id": "363ea68b-5af8-4fd0-9d39-bdfff3162499",
   "metadata": {},
   "outputs": [],
   "source": [
    "from csv import DictWriter\n",
    "with open('gw_bulletin.csv', 'w') as f:\n",
    "    writer = DictWriter(f, fieldnames)\n",
    "    writer.writeheader()\n",
    "    for dept, course_dict in cleaned_courses.items():\n",
    "        if dept in sample_keys:\n",
    "            for i, (title, desc) in enumerate(course_dict.items()):\n",
    "                if i < 10:\n",
    "                    writer.writerow(dict(zip(fieldnames, (dept, title, '|'.join(desc)))))"
   ]
  }
 ],
 "metadata": {
  "kernelspec": {
   "display_name": "text_as_data",
   "language": "python",
   "name": "text_as_data"
  },
  "language_info": {
   "codemirror_mode": {
    "name": "ipython",
    "version": 3
   },
   "file_extension": ".py",
   "mimetype": "text/x-python",
   "name": "python",
   "nbconvert_exporter": "python",
   "pygments_lexer": "ipython3",
   "version": "3.11.7"
  }
 },
 "nbformat": 4,
 "nbformat_minor": 5
}
