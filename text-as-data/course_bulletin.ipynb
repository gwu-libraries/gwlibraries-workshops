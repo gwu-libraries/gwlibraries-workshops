{
 "cells": [
  {
   "cell_type": "code",
   "execution_count": 1,
   "id": "281c90df-540e-4139-9434-aa4255d95f72",
   "metadata": {},
   "outputs": [],
   "source": [
    "import requests\n",
    "from bs4 import BeautifulSoup\n",
    "from collections import defaultdict"
   ]
  },
  {
   "cell_type": "code",
   "execution_count": 3,
   "id": "db1fccdf-0d0f-4c42-a719-ff8010575654",
   "metadata": {},
   "outputs": [],
   "source": [
    "BASE_URL = 'https://bulletin.gwu.edu/courses/'"
   ]
  },
  {
   "cell_type": "code",
   "execution_count": 4,
   "id": "e97bf66a-71fc-4e9c-98cf-d10d116c8485",
   "metadata": {},
   "outputs": [],
   "source": [
    "dept_list = requests.get(BASE_URL).text"
   ]
  },
  {
   "cell_type": "code",
   "execution_count": 5,
   "id": "e2bdf5d2-cf3a-4ba2-9f46-d836fdd07e01",
   "metadata": {},
   "outputs": [],
   "source": [
    "depts = BeautifulSoup(dept_list)"
   ]
  },
  {
   "cell_type": "code",
   "execution_count": 6,
   "id": "b0221ab4-f5a1-4e35-b30f-2f749e88da3a",
   "metadata": {},
   "outputs": [],
   "source": [
    "dept_links = [d for d in depts.find_all('a') if d.get('href', '').startswith('/courses/')]"
   ]
  },
  {
   "cell_type": "code",
   "execution_count": 7,
   "id": "11bbdde9-26ec-4ceb-a935-211147105a8a",
   "metadata": {},
   "outputs": [],
   "source": [
    "course_pages = []\n",
    "for link in dept_links[:-1]:\n",
    "    page = requests.get(BASE_URL + link['href'].split('/', maxsplit=2)[-1])\n",
    "    page.raise_for_status()\n",
    "    course_pages.append(page.text)"
   ]
  },
  {
   "cell_type": "code",
   "execution_count": 8,
   "id": "4ff4c238-0f7c-4292-b78c-153e724ad863",
   "metadata": {},
   "outputs": [],
   "source": [
    "courses = defaultdict(dict)\n",
    "for page in course_pages:\n",
    "    soup = BeautifulSoup(page)\n",
    "    dept_title = soup.find('h1').text\n",
    "    for title, desc in zip(soup.find_all('p', class_='courseblocktitle'), soup.find_all('p', class_='courseblockdesc')):\n",
    "        courses[dept_title][title.text] = desc.text"
   ]
  },
  {
   "cell_type": "code",
   "execution_count": 10,
   "id": "f423091c-d598-4518-af24-ecce58dcc97d",
   "metadata": {},
   "outputs": [],
   "source": [
    "import spacy\n",
    "#!python -m spacy download en_core_web_sm\n",
    "nlp = spacy.load('en_core_web_sm')"
   ]
  },
  {
   "cell_type": "code",
   "execution_count": 11,
   "id": "727e803e-278e-41ce-8974-635b5df97ac1",
   "metadata": {},
   "outputs": [],
   "source": [
    "docs = list(nlp.pipe([desc for dept_dict in courses.values() for desc in dept_dict.values()]))"
   ]
  },
  {
   "cell_type": "code",
   "execution_count": 44,
   "id": "32d622e6-6a3c-49a8-b898-ec0583c5e1cf",
   "metadata": {},
   "outputs": [],
   "source": [
    "cleaned_courses = []\n",
    "i = 0\n",
    "for dept, dept_dict in courses.items():\n",
    "    for title, desc in dept_dict.items():\n",
    "        desc_tokens = [t.text.lower() for t in docs[i] if t.is_alpha]\n",
    "        if desc_tokens:\n",
    "            title = title.replace('\\xa0', ' ')\n",
    "            desc = desc.replace('\\xa0', ' ')\n",
    "            cleaned_courses.append({'dept': dept, 'title': title, 'desc': desc, 'tokens': desc_tokens})\n",
    "        i += 1"
   ]
  },
  {
   "cell_type": "code",
   "execution_count": 45,
   "id": "297a6b38-00da-455b-ae4d-b4e220cd3931",
   "metadata": {},
   "outputs": [],
   "source": [
    "import json\n",
    "with open('gw_bulletin.json', 'w') as f:\n",
    "    json.dump(cleaned_courses, f)"
   ]
  },
  {
   "cell_type": "code",
   "execution_count": 13,
   "id": "ad769062-acf7-4be8-90c2-7577d2e8e573",
   "metadata": {},
   "outputs": [],
   "source": [
    "from random import sample"
   ]
  },
  {
   "cell_type": "code",
   "execution_count": 20,
   "id": "e2d53e37-7f6c-494b-acf7-609995603067",
   "metadata": {},
   "outputs": [],
   "source": [
    "sample_keys = sample(list(cleaned_courses.keys()), k=10)"
   ]
  },
  {
   "cell_type": "code",
   "execution_count": 21,
   "id": "e306ed9c-13ff-4753-930e-6d67f9880140",
   "metadata": {},
   "outputs": [
    {
     "data": {
      "text/plain": [
       "['School of Media and Public Affairs (SMPA)',\n",
       " 'Corcoran Interaction Design (CIXD)',\n",
       " 'Political Science (PSC)',\n",
       " 'Computer Science (CSCI)',\n",
       " 'Professional Studies Public Leadership (PSPL)',\n",
       " 'Chinese (CHIN)',\n",
       " 'Regulatory Affairs (RAFF)',\n",
       " 'Hominid Paleobiology (HOMP)',\n",
       " 'English (ENGL)',\n",
       " 'Speech, Language, and Hearing Science (SLHS)']"
      ]
     },
     "execution_count": 21,
     "metadata": {},
     "output_type": "execute_result"
    }
   ],
   "source": [
    "sample_keys"
   ]
  },
  {
   "cell_type": "code",
   "execution_count": 22,
   "id": "986ea482-381a-49ab-a6fa-21b771983836",
   "metadata": {},
   "outputs": [],
   "source": [
    "num_docs = 100"
   ]
  },
  {
   "cell_type": "code",
   "execution_count": 56,
   "id": "c241bb98-1d10-4940-ba49-970e7ee2d776",
   "metadata": {},
   "outputs": [],
   "source": [
    "sample = [c for c in cleaned_courses if c['dept'] in sample_keys]"
   ]
  },
  {
   "cell_type": "code",
   "execution_count": 58,
   "id": "a5fcf158-c533-4434-9b5a-2cc92ff98ca8",
   "metadata": {},
   "outputs": [
    {
     "data": {
      "text/plain": [
       "825"
      ]
     },
     "execution_count": 58,
     "metadata": {},
     "output_type": "execute_result"
    }
   ],
   "source": [
    "len(sample)"
   ]
  },
  {
   "cell_type": "code",
   "execution_count": 24,
   "id": "5aab7d7c-bb30-459d-893b-2be0335b8a25",
   "metadata": {},
   "outputs": [],
   "source": [
    "from itertools import *\n",
    "\n",
    "def roundrobin(*iterables):\n",
    "    \"Visit input iterables in a cycle until each is exhausted.\"\n",
    "    # roundrobin('ABC', 'D', 'EF') → A D E B F C\n",
    "    # Algorithm credited to George Sakkis\n",
    "    iterators = map(iter, iterables)\n",
    "    for num_active in range(len(iterables), 0, -1):\n",
    "        iterators = cycle(islice(iterators, num_active))\n",
    "        yield from map(next, iterators)"
   ]
  },
  {
   "cell_type": "code",
   "execution_count": 60,
   "id": "6b3acb61-cfe2-456c-9d87-9c5d45a6d4bf",
   "metadata": {},
   "outputs": [],
   "source": [
    "groups = [list(g) for k, g in groupby(sample, key=lambda x: x['dept'])]\n",
    "sample = [c for c in roundrobin(*groups)][:100]"
   ]
  },
  {
   "cell_type": "code",
   "execution_count": 62,
   "id": "39555eea-d8f3-4e5f-adc9-e737788d9db6",
   "metadata": {},
   "outputs": [],
   "source": [
    "sample = sorted(sample, key=lambda x: x['dept'])"
   ]
  },
  {
   "cell_type": "code",
   "execution_count": 63,
   "id": "b1eab6dc-3e72-49db-bf7c-02252e17f5e6",
   "metadata": {},
   "outputs": [],
   "source": [
    "fieldnames = ['department', 'course', 'description', 'tokens']"
   ]
  },
  {
   "cell_type": "code",
   "execution_count": 65,
   "id": "363ea68b-5af8-4fd0-9d39-bdfff3162499",
   "metadata": {},
   "outputs": [],
   "source": [
    "from csv import DictWriter\n",
    "with open('gw_bulletin.csv', 'w') as f:\n",
    "    writer = DictWriter(f, fieldnames)\n",
    "    writer.writeheader()\n",
    "    for course in sample:\n",
    "        writer.writerow(dict(zip(fieldnames, (course['dept'], course['title'], course['desc'], '|'.join(course['tokens'])))))"
   ]
  }
 ],
 "metadata": {
  "kernelspec": {
   "display_name": "text_as_data",
   "language": "python",
   "name": "text_as_data"
  },
  "language_info": {
   "codemirror_mode": {
    "name": "ipython",
    "version": 3
   },
   "file_extension": ".py",
   "mimetype": "text/x-python",
   "name": "python",
   "nbconvert_exporter": "python",
   "pygments_lexer": "ipython3",
   "version": "3.11.7"
  }
 },
 "nbformat": 4,
 "nbformat_minor": 5
}
