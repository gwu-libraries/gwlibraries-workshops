{
 "cells": [
  {
   "cell_type": "markdown",
   "metadata": {},
   "source": [
    "## Getting Data from API's with Python"
   ]
  },
  {
   "cell_type": "markdown",
   "metadata": {},
   "source": [
    "**GW Libraries and Academic Innovation**\n",
    "\n",
    "Monday, February 1, 2021"
   ]
  },
  {
   "cell_type": "markdown",
   "metadata": {},
   "source": [
    "### Workshop goals\n",
    "\n",
    "This workshop will cover basic use cases for retrieving data from RESTful API's with Python. \n",
    "\n",
    "By the conclusion of this workshop, you will have worked through the following:\n",
    "\n",
    "* Understanding the REST framework for data retrieval\n",
    "* Constructing a query with parameters in Python using the `requests` library\n",
    "* Writing a `for` loop to retrieve multiple sets results\n",
    "* Parsing a JSON response\n",
    "* Exporting data in CSV format"
   ]
  },
  {
   "cell_type": "markdown",
   "metadata": {},
   "source": [
    "### Tips for using this Google Colab notebook\n",
    "\n",
    "When working in a Google Colaboratory notebook, `Shift-Return` (`Shift-Enter`) runs the cell you're on. You can also run the cell using the `Play` button at the left edge of the cell.\n",
    "\n",
    "There are many other keyboard shortcuts. You can access the list via the menu bar, at `Tools`-->`Command palette`. In fact, you can even customize your keyboard shortcuts using `Tools`-->`Keyboard shortcuts`.\n",
    "\n",
    "(If you're working in an Anaconda/Jupyter notebook: \n",
    " - `Control-Enter` (`Command-Return`) runs the cell you're on. You can also run the cell using the `Run` button in the toolbar. `Esc`, then `A` inserts a cell above where you are.\n",
    " - `Esc`, then `B` inserts a cell below where you are.\n",
    " - More shortcuts under `Help` --> `Keyboard Shortcuts`)\n",
    "\n",
    "You will probably get some errors in working through this notebook. That's okay, you can just go back and change the cell and re-run it.\n",
    "\n",
    "The notebook auto-saves as you work, just like gmail and most Google apps."
   ]
  },
  {
   "cell_type": "markdown",
   "metadata": {},
   "source": [
    "### Introduction\n",
    "\n",
    "#### What is an API?\n",
    "\n",
    "An **A**pplication **P**rogramming **I**nterface is a generic term for functionality that allows one computer application to talk to another. In contrast to a graphical user interface (GUI), which allows an end user to interact with an application via visual symbols (*e.g.* icons) and manual operations (*e.g.* mouse clicks), an API allows a user to interact with the application by writing code. \n",
    "\n",
    "\n",
    "You can think of API's as the glue that holds together the various modules and libraries of code that make up a given system, whether we're talking about a single piece of software or the entire World Wide Web.\n",
    "\n",
    "-------------------------\n",
    "\n",
    "#### What is REST?\n",
    "\n",
    "**R**epresentational **S**tate **T**ransfer refers to a common set of principles implemented by services that communicate via the web. Most RESTful API's use **HTTP** to provide access. Via HTTP and its core methods, you code can communicate with a web service the way your browser does when you visit a web site. We'll see how to write code to do just that in this workshop.   "
   ]
  },
  {
   "cell_type": "markdown",
   "metadata": {},
   "source": [
    "### Setup\n",
    "\n",
    "We're going to use a couple of libraries for making API calls and processing the data these calls return. They are not part of the standard Python distribution, but they're pre-installed for Google Colaboratory notebooks. If you're running a Jupyter notebook locally on your computer via the Anaconda distribution of Python, they are pre-installed there as well. If not, you can install them yourself by running these commands inline in your notebook:\n",
    "\n",
    "`!pip install pandas`\n",
    "\n",
    "`!pip intall requests`\n",
    "\n",
    "You can also install them at the command line by using the above commands *without* the prefixed exclamation point."
   ]
  },
  {
   "cell_type": "markdown",
   "metadata": {},
   "source": [
    "### Using API's to find and rerieve COVID-19 data"
   ]
  },
  {
   "cell_type": "markdown",
   "metadata": {},
   "source": [
    "First we need to import the libraries we're using to work with this data.\n",
    "\n",
    "As a refresher:\n",
    " - `import` loads an external Python library for use in your code.\n",
    " - `as` with `import` allows us to provide a nickname for the library, so that we don't have type the full name each time."
   ]
  },
  {
   "cell_type": "code",
   "execution_count": null,
   "metadata": {},
   "outputs": [],
   "source": [
    "import requests\n",
    "import pandas as pd"
   ]
  },
  {
   "cell_type": "markdown",
   "metadata": {},
   "source": [
    "#### A straightforward request with JSON"
   ]
  },
  {
   "cell_type": "markdown",
   "metadata": {},
   "source": [
    "The first data set we'll use is provided by _The Atlantic_'s [Covid Tracking Project](https://covidtracking.com/data/api).\n",
    "\n",
    "Let's take a moment to look at the documentation together."
   ]
  },
  {
   "cell_type": "markdown",
   "metadata": {},
   "source": [
    "This API is fairly straightforward. We can retrieve the results in either JSON or CSV. We'll be using JSON, primarily to familiarize ourselves with this format, which is quite common for RESTful API's. \n",
    "\n",
    "**J**ava**S**cript **O**bject **N**otation is a data format designed to map readily onto Javascript data types. As it happens, it also maps readily onto Python data types.  "
   ]
  },
  {
   "cell_type": "markdown",
   "metadata": {},
   "source": [
    "We'll use the API **endpoint** for \"Historic US Values\" in JSON format. API documentation will often refer to multiple endpoints, each of which provides access to a different set or view of data. This endpoint provides time series data for COVID-19 cases in the US."
   ]
  },
  {
   "cell_type": "code",
   "execution_count": null,
   "metadata": {},
   "outputs": [],
   "source": [
    "covid_us_url = 'https://api.covidtracking.com/v1/us/daily.json'"
   ]
  },
  {
   "cell_type": "markdown",
   "metadata": {},
   "source": [
    "To fetch the data from the endpoint, we use the `requests` library, calling the `get` method and passing as an argument the endpoint URL. \n",
    "\n",
    "`GET` is one of several HTTP \"verbs,\" which correspond to different actions a web server can be asked to perform. `GET` means, _Give me the data stored at this particular URL path_. "
   ]
  },
  {
   "cell_type": "code",
   "execution_count": null,
   "metadata": {},
   "outputs": [],
   "source": [
    "resp = requests.get(covid_us_url)"
   ]
  },
  {
   "cell_type": "markdown",
   "metadata": {},
   "source": [
    "`requests.get` returns a `Response` object. This Python object has many useful properties. It's important to remember that with HTTP services, there can be many reasons why your request for data might fail. \n",
    "\n",
    "Common issues include the following:\n",
    "\n",
    "- The server might be down.\n",
    "- You might have used an incorrect or defunct URL.\n",
    "- You might not have the right permissions.\n",
    "\n",
    "Because of that, our `Response` object contains more than **just** the data we have requested. \n",
    "\n",
    "It contains a `status_code` property, which lets us know what **kind** of response the server gave. Anything other than `200` means that the request failed.\n"
   ]
  },
  {
   "cell_type": "code",
   "execution_count": null,
   "metadata": {},
   "outputs": [],
   "source": [
    "resp.status_code"
   ]
  },
  {
   "cell_type": "markdown",
   "metadata": {},
   "source": [
    "The `Response` object also contains the response **headers** sent by the server. Every web server you visit transmits one or more headers to the client you're using (web browser, etc.). Most of the time you don't need to worry about these, but when programming with API's, you may find them useful.\n",
    "\n",
    "The `Content-Type` header, for instance, lets us confirm that the data we received was in fact formatted as JSON.\n",
    "\n",
    "Note that our `Response` object has converted these headers to a Python dictionary for ease of access."
   ]
  },
  {
   "cell_type": "code",
   "execution_count": null,
   "metadata": {},
   "outputs": [],
   "source": [
    "resp.headers"
   ]
  },
  {
   "cell_type": "markdown",
   "metadata": {},
   "source": [
    "Each HTTP response also has a **body**. This is either the data we have requested, or some type of error message. \n",
    "\n",
    "The data can be formatted in many different ways. Most plain web pages are formatted as `text/html`. This doesn't actually mean much to Python, since Python doesn't have an HTML data type. But you can view the contents of the body as a Python string by evaluating `resp.text`."
   ]
  },
  {
   "cell_type": "code",
   "execution_count": null,
   "metadata": {},
   "outputs": [],
   "source": [
    "resp.text"
   ]
  },
  {
   "cell_type": "markdown",
   "metadata": {},
   "source": [
    "Notice the outer quotation marks alerting us that this is a string. A giant string is no fun to work with as data. Fortunately, if the body of the response has been correctly formatted as JSON, we can easily convert it to mre useful Python data types.\n",
    "\n",
    "`resp.json()` converts the **body** of the response, which is the data we requested, into native Python types: strings, numeric types, lists, and dictionaries.\n",
    "\n",
    "**Note**: Not all API's return JSON by default or even at all. Many use XML. If you call `.json()` on a `Response` that does not contain JSON-formatted data, Python will raise an exception."
   ]
  },
  {
   "cell_type": "code",
   "execution_count": null,
   "metadata": {},
   "outputs": [],
   "source": [
    "data_us_daily = resp.json()"
   ]
  },
  {
   "cell_type": "markdown",
   "metadata": {},
   "source": [
    "Let's look at this data. What Python data types do you see here?"
   ]
  },
  {
   "cell_type": "code",
   "execution_count": null,
   "metadata": {},
   "outputs": [],
   "source": [
    "data_us_daily"
   ]
  },
  {
   "cell_type": "markdown",
   "metadata": {},
   "source": [
    "We have a Python list of dictionaries, each of which has the same keys. This is a typical way to represent a table of data in Python.\n",
    "\n",
    "The `pandas` library, however, provides the `DataFrame` type, which makes working with tabular data much easier.\n",
    "\n",
    "The `DataFrame.from_records` method takes a list of Python dictionaries and converts it into a table, where the shared keys are the table columns, and the values become the values in each row."
   ]
  },
  {
   "cell_type": "code",
   "execution_count": null,
   "metadata": {},
   "outputs": [],
   "source": [
    "data_us_daily = pd.DataFrame.from_records(data_us_daily)"
   ]
  },
  {
   "cell_type": "markdown",
   "metadata": {},
   "source": [
    "Now we can really see the tabular nature of this data. From here, we can use `pandas` methods to clean, sort, filter, aggregate, and even plot the data. We can also export it easily to CSV.\n",
    "\n",
    "We'll come back to `pandas` later in the workshop. For now, let's tackle a slightly more complicated API."
   ]
  },
  {
   "cell_type": "markdown",
   "metadata": {},
   "source": [
    "#### Making repeated requests\n",
    "\n",
    "The `requests` library is great. But because HTTP requests can be complicated, there are certain steps we will usually want to take when making requests -- like checking for status errors, decoding content, etc. -- that can become repetitive if we have to write them out every time. \n",
    "\n",
    "So let's create a Python **function** to handle all of that housekeeping."
   ]
  },
  {
   "cell_type": "markdown",
   "metadata": {},
   "source": [
    "Our function will take some arguments: \n",
    "- a url\n",
    "- an optional dictionary of URL parameters (to be explained later)\n",
    "- an optional dictionary of HTTP headers\n",
    "\n",
    "It will return:\n",
    "- The body of the HTTP response, if the request succeeded.\n",
    "- Otherwise, it will raise a Python exception."
   ]
  },
  {
   "cell_type": "code",
   "execution_count": null,
   "metadata": {},
   "outputs": [],
   "source": [
    "def get_data(url, params=None, headers=None): # We'll talk about these later\n",
    "    '''Accepts a url, which should be a string.\n",
    "    Optionally, accepts a dictionary of URL parameters and a custom HTTP header.'''\n",
    "    try:\n",
    "        # We pass all our arguments to requests.get\n",
    "        resp = requests.get(url, params=params,  \n",
    "                           headers=headers)\n",
    "        # If the response is anything other than 200, raise_for_status() will raise an exception\n",
    "        resp.raise_for_status()        \n",
    "        # Here we can check for a JSON response \n",
    "        # the expression headers.get('Content-Type', '') looks for a key of 'Content-Type' in the headers dictionary.\n",
    "        # If it doesn't find one, it returns the empty string as a default, since some headers may not have Content-Type specified.\n",
    "        if 'application/json' in resp.headers.get('Content-Type', ''):   \n",
    "            # If the header says it's JSON, parse it as JSON\n",
    "            data = resp.json()\n",
    "            return data\n",
    "        else:\n",
    "            # Otherwise, just return the response as text\n",
    "            return resp.text\n",
    "    # Here we trap any errors and print a helpful message for the user\n",
    "    except Exception as e:       # Here we catch errors\n",
    "        print('Error fetching data from url', url)    \n",
    "        print(resp.text)                            \n",
    "        # This will cause the exception to bubble up in the stack trace, which is helpful for debugging\n",
    "        raise                                          "
   ]
  },
  {
   "cell_type": "markdown",
   "metadata": {},
   "source": [
    "If you've never used `try` and `except` before, these Python keywords provide ways for us to catch and handle errors gracefully. They are particularly useful when working with HTTP data, since you can't really predict how the web server you're sending requests to will behave. \n",
    "\n",
    "If no errors/exceptions occur in processing the `try` block, Python will skip the `except` block altogether. \n",
    "\n",
    "At the moment, our `except` block just prints an error message to the screen. But in other situations, you might want to log the errors to a file, or take some other action, depending on the type of error."
   ]
  },
  {
   "cell_type": "markdown",
   "metadata": {},
   "source": [
    "#### Getting COVID-19 data by country\n",
    "\n",
    "The [COVID 19 API](https://covid19api.com/) collects data from various sources and provides it JSON format.\n",
    "\n",
    "This API is a bit more complex, in that we need to specify both a country and a date range when making our requests.\n",
    "\n",
    "We can check out the documentation on Postman:\n",
    "\n",
    "[https://documenter.getpostman.com/view/10808728/SzS8rjbc](https://documenter.getpostman.com/view/10808728/SzS8rjbc)"
   ]
  },
  {
   "cell_type": "markdown",
   "metadata": {},
   "source": [
    "If we consult the documentation for the endpoint **By Country Total**, we see that the URL should contain the name of the country in a specific format called a _slug_. (This is a format that removes spaces, capitalization, and characters that are more difficult to parse when constructing URL's.)\n",
    "\n",
    "How do we find out the slug? There's an API endpoint for that, too. So our first step is to get the list of slugs and find the one for the country we want whose data we want to retrieve."
   ]
  },
  {
   "cell_type": "code",
   "execution_count": null,
   "metadata": {},
   "outputs": [],
   "source": [
    "countries_url = 'https://api.covid19api.com/countries'\n",
    "# We can use our new function to get this data \n",
    "country_metadata = get_data(countries_url)"
   ]
  },
  {
   "cell_type": "markdown",
   "metadata": {},
   "source": [
    "Note how the country metadata is presented. Again, we have a list of dictionaries, each of which contains the name of a country, its slug, and its ISO code."
   ]
  },
  {
   "cell_type": "markdown",
   "metadata": {},
   "source": [
    "#### Exercise\n",
    "\n",
    "To get data for a specific country, we can use the following URL:\n",
    "\n",
    "```\n",
    "covid_country_url = 'https://api.covid19api.com/total/country/{country_slug}/status/confirmed'\n",
    "```\n",
    "We need to replace the `country_slug` in curly braces with the actual slug for the country we are interested in.\n",
    "\n",
    "How would you use `country_metadata` to look up the slug for a specific country by name, _e.g._, Germany? Use only Python code."
   ]
  },
  {
   "cell_type": "code",
   "execution_count": null,
   "metadata": {},
   "outputs": [],
   "source": [
    "germany_slug = country_data_dict['Germany']['Slug']"
   ]
  },
  {
   "cell_type": "markdown",
   "metadata": {},
   "source": [
    "To create the URL for the _By Country Total_ endpoint, we can use string formatting. \n",
    "\n",
    "The part in curly braces will be replaced by whatever value we pass to a keyword argument to the `.format` method where the keyword is the same as the part in curly braces. \n",
    "\n",
    "Note the `.format` is actually a method defined on the string itself. All string objects in Python have this method available."
   ]
  },
  {
   "cell_type": "code",
   "execution_count": null,
   "metadata": {},
   "outputs": [],
   "source": [
    "covid_country_url = 'https://api.covid19api.com/total/country/{country_slug}/status/confirmed'\n",
    "germany_url = covid_country_url.format(country_slug=germany_slug)"
   ]
  },
  {
   "cell_type": "markdown",
   "metadata": {},
   "source": [
    "To get country COVID data for a range of dates, we can supply a `from` and a `to` date as URL paramters. \n",
    "\n",
    "URL parameters are the parts of the URL that follow a question mark. They typically have the form `key=value` where `key` is the parameter name and `value` is the associated value. You can think of them like keywords you enter into a search engine using an Advanced Search form. \n",
    "\n",
    "Constructing a URL with parameters in Python is straightfoward with the `requests` library. As we've seen, it takes an optional keyword argument called `params`, which should be a dictionary mapping keys to values. "
   ]
  },
  {
   "cell_type": "markdown",
   "metadata": {},
   "source": [
    "The Covid API documentation indicates that the date value should conform to a particular format. Assuming we want data for each day starting at midnight, we can use string formatting to simplify creation of these parameters."
   ]
  },
  {
   "cell_type": "code",
   "execution_count": null,
   "metadata": {},
   "outputs": [],
   "source": [
    "date_str = '{date}T00:00:00Z'"
   ]
  },
  {
   "cell_type": "code",
   "execution_count": null,
   "metadata": {},
   "outputs": [],
   "source": [
    "params = {'from': date_str.format(date='2020-03-01'),\n",
    "         'to': date_str.format(date='2021-01-31')}"
   ]
  },
  {
   "cell_type": "code",
   "execution_count": null,
   "metadata": {},
   "outputs": [],
   "source": [
    "germany_data = get_data(germany_url, params=params)"
   ]
  },
  {
   "cell_type": "markdown",
   "metadata": {},
   "source": [
    "#### Exercise\n",
    "\n",
    "Can you write a function that accepts the following:\n",
    "- a country name as a string, e.g., `'Germany'`\n",
    "- a from-date\n",
    "- a to date\n",
    "\n",
    "and that returns the case data for that country?\n",
    "\n",
    "**Requirements** \n",
    "1. We want to be able to pass in the standard country names in English, not the slugs.\n",
    "2. We want to pass in the dates as strings of the format YEAR-MONTH-DAY.\n",
    "3. We want to receive the data for the country that we identified.\n",
    "4. **Bonus**: If the user submits a country name that's not in the list, we want to catch it gracefully, printing an error message for the user but not breaking the function"
   ]
  },
  {
   "cell_type": "markdown",
   "metadata": {},
   "source": [
    "What if we want to return data for multiple countries at the same time? We can refactor our function using a `for` loop and a list."
   ]
  },
  {
   "cell_type": "code",
   "execution_count": null,
   "metadata": {},
   "outputs": [],
   "source": [
    "def get_country_data(countries, from_date, to_date):\n",
    "    '''First argument should be a Python list.\n",
    "    Second and third arguments should be Python strings of the format YEAR-MONTH-DAY.'''\n",
    "    # Uses the date_str we defined above to create the parameters\n",
    "    params = {'from': date_str.format(date=from_date), \n",
    "             'to': date_str.format(date=to_date)} \n",
    "    # An empty list to hold the data for all the countries\n",
    "    all_data = []     \n",
    "    # Loops through the list of contries\n",
    "    for country in countries:                          \n",
    "        try:\n",
    "            # Uses our predefined dictionary to retrieve the slug\n",
    "            # In a try/except block to catch cases where the country name we provided isn't in the dictionary\n",
    "            slug = country_data_dict[country]['Slug']   \n",
    "        # If a dictionary doesn't have a certain key, a KeyError is raised\n",
    "        except KeyError:     \n",
    "            # Error message for the user\n",
    "            print(\"Country not found: \", country)\n",
    "            # Goes to the next iteration of the loop\n",
    "            continue             \n",
    "        # Creates the URL for this country\n",
    "        url = covid_country_url.format(country_slug=slug) \n",
    "        # Calls our predefined function\n",
    "        data = get_data(url, params=params)  \n",
    "        # Adds these results to the original set\n",
    "        # Using extend (rather than append) prevents us from getting a list of lists\n",
    "        all_data.extend(data)     \n",
    "    # Don't forget to return something!\n",
    "    return all_data                                    "
   ]
  },
  {
   "cell_type": "code",
   "execution_count": null,
   "metadata": {},
   "outputs": [],
   "source": [
    "three_countries = get_country_data(['Germany', 'China', 'United States of America'], \n",
    "                                   from_date='2020-03-01', \n",
    "                                   to_date='2021-01-26')"
   ]
  },
  {
   "cell_type": "markdown",
   "metadata": {},
   "source": [
    "Assuming we used `.extend` to build our list, we can create a `DataFrame` with this data, which should be a single list of dictionaries."
   ]
  },
  {
   "cell_type": "code",
   "execution_count": null,
   "metadata": {},
   "outputs": [],
   "source": [
    "comp_data = pd.DataFrame.from_records(three_countries)"
   ]
  },
  {
   "cell_type": "markdown",
   "metadata": {},
   "source": [
    "#### Analyzing COVID-19 country data"
   ]
  },
  {
   "cell_type": "markdown",
   "metadata": {},
   "source": [
    "We can filter our DataFrame and can even graph our data using `pandas` built-in plotting functions, which use `matplotlib` under the hood.\n",
    "\n",
    "Let's look at how we would graph the trend of cases for a single country."
   ]
  },
  {
   "cell_type": "markdown",
   "metadata": {},
   "source": [
    "\n",
    "Our dataset contains the cumulative total by date for each country. If we want to plot date against case and country, the first step is to convert the date column to a datetime format that Python can recognize. (Datetime values transmitted via JSON will typically be either strings or integers.)\n",
    "\n",
    "`pandas` makes such conversions fairly straightforward. The `pandas.to_datetime` method recognizes strings in a wide variety of standard formats and converts them to Python datetime objects."
   ]
  },
  {
   "cell_type": "code",
   "execution_count": null,
   "metadata": {},
   "outputs": [],
   "source": [
    "comp_data['Date'] = pd.to_datetime(comp_data['Date'])"
   ]
  },
  {
   "cell_type": "markdown",
   "metadata": {},
   "source": [
    "We can now use the `DataFrame.loc` property to isolate those rows where the `Country` column contains the name `Germany`."
   ]
  },
  {
   "cell_type": "code",
   "execution_count": null,
   "metadata": {},
   "outputs": [],
   "source": [
    "germany = comp_data.loc[comp_data['Country'] == 'Germany']"
   ]
  },
  {
   "cell_type": "markdown",
   "metadata": {},
   "source": [
    "To create a timeseries plot, we can use the `DataFrame.plot` method. In this case, since there are multiple columns, we'll want to supply the `x` and `y` arguments to the `plot` method, indicating which column to use as which axis."
   ]
  },
  {
   "cell_type": "code",
   "execution_count": null,
   "metadata": {},
   "outputs": [],
   "source": [
    "germany.plot(x='Date', y='Cases')"
   ]
  },
  {
   "cell_type": "markdown",
   "metadata": {},
   "source": [
    "Our plot could use some better formatting and a title. The `plot` method returns a `matplotlib Axes` object, which can be used to set properties on the plot itself."
   ]
  },
  {
   "cell_type": "code",
   "execution_count": null,
   "metadata": {},
   "outputs": [],
   "source": [
    "ax = germany.plot(x='Date', y='Cases')\n",
    "ax.set_title('COVID cases in Germany, March 2020-January 2021')\n",
    "ax.ticklabel_format(style='plain', axis='y')"
   ]
  },
  {
   "cell_type": "markdown",
   "metadata": {},
   "source": [
    "### In conclusion\n",
    "\n",
    "In this workshop we've seen how to do the following:\n",
    "\n",
    "- Query an API with `requests` and parse a JSON response\n",
    "- Use URL parameters in constructing our request\n",
    "- Use `try` and `catch` to trap errors that might arise\n",
    "- Use `pandas` to create a `DataFrame` from JSON data\n",
    "- Use functions to encapsulate and reuse code\n",
    "- Filter plot data with a `DataFrame`\n",
    "\n",
    "For another set of examples that explore other API topics, see the material for last year's [Python for API's workshop](https://github.com/gwu-libraries/gwlibraries-workshops/blob/master/python-for-apis/python_api_workshop.ipynb), which covers retrieving data from API's with paginated results and using API keys. \n",
    "\n",
    "A closely related topic but one beyond the scope of our workshop is **web scraping**, which is useful when you need to extract data from a website that does not provide a REST API. GW LAI is offering a [workshop](https://library.gwu.edu/news-events/events/web-scraping-python) on this topic on February 11. In addition, there are a number of resources available on web scraping in Python, including the O'Reilly book [Web Scraping with Python](https://learning.oreilly.com/library/view/web-scraping-with/9781491985564/), available to GW students, faculty, and staff via our [Safari Tech Books](https://www.safaribooksonline.com/library/view/temporary-access) subscription."
   ]
  }
 ],
 "metadata": {
  "kernelspec": {
   "display_name": "Python 3",
   "language": "python",
   "name": "python3"
  },
  "language_info": {
   "codemirror_mode": {
    "name": "ipython",
    "version": 3
   },
   "file_extension": ".py",
   "mimetype": "text/x-python",
   "name": "python",
   "nbconvert_exporter": "python",
   "pygments_lexer": "ipython3",
   "version": "3.8.5"
  }
 },
 "nbformat": 4,
 "nbformat_minor": 4
}
