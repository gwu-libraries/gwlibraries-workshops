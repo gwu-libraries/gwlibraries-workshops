{
 "cells": [
  {
   "cell_type": "markdown",
   "id": "8ee233a9-62a7-4f38-80ee-bcd72b368f2f",
   "metadata": {},
   "source": [
    "# Reading & Writing Machines\n",
    "\n",
    "The early history of computing revolves around efforts to automate human computation -- human labor. And from Lovelace to Turing and beyond, a key concern lay in the specification and refinement of _algorithms_: methods of reducing complex calculations and other operations to explicit formal rules, rules that could, in principle, be implemented with rigor and precision by purely mechanical (and later, of course, electronic) means. \n",
    "\n",
    "But as a means of understanding Chat GPT and other forms of [generative AI](https://en.wikipedia.org/wiki/Generative_artificial_intelligence), a consideration of algorithms only gets us so far. In fact, when it comes to the [large language models](https://en.wikipedia.org/wiki/Large_language_model) that have captivated the public imagination, I would argue that their \"unreasonable effectiveness\" is less a triumph of the algorithm, than the manifestation of another strand of computation, bound up with the former, but motivated by distinct pressures and concerns. Instead of formal logic and mathematical proof, this strand draws on traditions of thinking about data, randomness, and probability. And instead of the prescription of actions, it aims at the description and prediction of aspects of the world. \n",
    "\n",
    "One of the most interesting moments in this tradition, in light of later developments, remains Claude Shannon's work on modeling the structure of printed English. In this interactive document, we will use the [Python programming language](https://www.python.org) to reproduce a couple of Shannon's experiments, in the hopes of pulling back the curtain a bit on what seems to many (and not unreasonably) as evidence of a ghost in the machine. But the aim is not necessarily to demystify experiences of generative AI. I, for one, do find many of these experiences haunting. But maybe the haunting doesn't happen where we at first assume.\n",
    "\n",
    "The material that follows draws on and is inspired by my reading of Lydia Liu's _The Freudian Robot_.\n",
    "\n"
   ]
  },
  {
   "cell_type": "markdown",
   "id": "209cb756-c356-4150-adf3-a4a8a2cf0b24",
   "metadata": {},
   "source": [
    "## Two kinds of coding\n",
    "\n",
    "### Programs as code(s)\n",
    "\n",
    "We imagine computers as machines that operate on 1's and 0's. In fact, the 1's and 0's are themselves an abstraction for human convenience: digital computation happens as a series of electronic pulses: basically, switches that are either \"on\" or \"off.\" (Think of counting to 10 by flipping a light switch on and off 10 times.)\n",
    "\n",
    "Every digital representation -- everything that can be computed by a digital computer -- must be encoded, ultimately, in this binary form, translated into a sequence of pulses. \n",
    "\n",
    "But to make computers efficient for human use, a variety of additional layers of abstraction have been developed on top of the basic binary layer. By virtue of using computers and smartphones, we are all familiar with the concept of an interface, which instantiates a set of rules prescribing how we are to interact with the device in order to accomplish well-defined tasks. These interactions get encoded down to the level of electronic pulses (and the results of the computation are translated back into the encoding of the interface). \n",
    "\n",
    "A programming language is also an interface: just a text-based one. It represents a code into which we can translate our instructions for computation, in order for those instructions to be encoded further for processing. \n",
    "\n",
    "Let's start with a single instruction. Run the following line of Python code. You won't see any output -- that's okay.\n"
   ]
  },
  {
   "cell_type": "code",
   "execution_count": 1,
   "id": "fa425114-e402-4761-b30c-c1e1762dd61b",
   "metadata": {},
   "outputs": [],
   "source": [
    "answer_to_everything = 42"
   ]
  },
  {
   "cell_type": "markdown",
   "id": "c43f26d2-9ed3-49fb-a2c6-9591eb1738da",
   "metadata": {},
   "source": [
    "In the encoding specified by the Python language, the equals sign (`=`) is an instruction that loosely translates to: \"Store this value (right side) somewhere in memory, and given that location in memory the provided label (left side).\" The following image presents one way of imagining what happens in response to this code (with the caveat that, ultimately, the letters and numbers are represented by their binary encoding).  "
   ]
  },
  {
   "cell_type": "markdown",
   "id": "063a8ee0-c7cb-4ce2-b74d-d447fb9b0865",
   "metadata": {},
   "source": [
    "[image here]"
   ]
  },
  {
   "cell_type": "markdown",
   "id": "fb21619b-0b45-4159-b520-63c6f4f08952",
   "metadata": {},
   "source": [
    "By running the previous line of code, we have created a _variable_ called `answer_to_everything`. We can use the variable to retrieve its value (for use in other parts of our program)."
   ]
  },
  {
   "cell_type": "code",
   "execution_count": 2,
   "id": "e41c570a-0627-4a97-9785-b6b5faf94b4b",
   "metadata": {},
   "outputs": [
    {
     "name": "stdout",
     "output_type": "stream",
     "text": [
      "42\n"
     ]
    }
   ],
   "source": [
    "print(answer_to_everything)"
   ]
  },
  {
   "cell_type": "markdown",
   "id": "83d96246-c61e-404d-ba0f-f8096b11bf47",
   "metadata": {},
   "source": [
    "The `print()` _function_ is a Python command that displays a value on the screen. The syntax of Python -- e.g., the name \"print,\" as well as the parentheses that follow the function name and that enclose the _argument_, which is the thing we want to print -- is perfectly arbitrary (in the Saussurean sense). This syntax was invented by the designers of the Python language, though they drew on conventions found in other programming languages. The point is that nothing about the Python command `print(answer_to_everything)` makes its operation transparent; to know what it does, you have to know the language (or, at least, be familiar with the conventions of programming languages more generally) -- just as when learning to speak a foreign language, you can't deduce much about the meaning of the words from the way they look or sound.\n",
    "\n",
    "However, unlike so-called \"natural\" languages, programming languages are, generally speaking, fully determinate. In other words, even minor deviations in syntax will usually cause errors, and errors will usually bring the whole program to a crashing halt."
   ]
  },
  {
   "cell_type": "code",
   "execution_count": 3,
   "id": "2633fb92-6114-4b5c-aea8-571269503f8a",
   "metadata": {},
   "outputs": [
    {
     "ename": "NameError",
     "evalue": "name 'answer_to_everythin' is not defined",
     "output_type": "error",
     "traceback": [
      "\u001b[0;31m---------------------------------------------------------------------------\u001b[0m",
      "\u001b[0;31mNameError\u001b[0m                                 Traceback (most recent call last)",
      "Cell \u001b[0;32mIn[3], line 1\u001b[0m\n\u001b[0;32m----> 1\u001b[0m \u001b[38;5;28mprint\u001b[39m(\u001b[43manswer_to_everythin\u001b[49m)\n",
      "\u001b[0;31mNameError\u001b[0m: name 'answer_to_everythin' is not defined"
     ]
    }
   ],
   "source": [
    "print(answer_to_everythin)"
   ]
  },
  {
   "cell_type": "markdown",
   "id": "76593f24-7ab4-48dd-a6a6-19d2b2016e13",
   "metadata": {},
   "source": [
    "A misspelled variable causes Python to abort its computation. Imagine if conversation ground to a halt whenever one of the parties mispronounced a word or used a malapropism!\n",
    "\n",
    "I like to say that Python is extremely literal. (But of course, this is merely an analogy, and a loose one. There is no room for metaphor in programming languages, at least, not as far as the computation is concerned.)"
   ]
  },
  {
   "cell_type": "markdown",
   "id": "382482b5-5d87-455a-b07d-0d05451e72db",
   "metadata": {},
   "source": [
    "### Encoding text\n",
    "\n",
    "As an engineer at Bell Labs, Claude Shannon wanted to find -- mathematically -- the most efficient means of encoding data for electronic transmission. Note that this task involves a rather different set of factors from those that influence the design of a programming language.\n",
    "\n",
    "The designer of the language has the luxury of insisting that programmers adhere to the specified syntax exactly. In working in Python, we have to use the `print(42)` function to display the number `42` on the screen; if we forget the parentheses, for instance, the command won't work. But when we talk on the phone (or via Zoom, etc.), it would certainly be a hassle if we had to first translate our words into a strict, fault-intolerant code like that of Python. \n",
    "\n",
    "All the same, there is no digital (electronic) representation without encoding. To refer to the difference between these two types of codes, I am drawing a distinction between _algorithms_ and _data_. Shannon's work was among the first to illuminate this distinction, which remains highly relevant to the development of machine learning and generative AI.\n",
    "\n",
    "Before we turn to Shannon's experiments with English text, let's look briefly at how Python represents text as data."
   ]
  },
  {
   "cell_type": "code",
   "execution_count": 4,
   "id": "23a16da0-d11a-43f3-a179-ede5979f3369",
   "metadata": {},
   "outputs": [],
   "source": [
    "a_text = \"Most noble and illustrious drinkers, and you thrice precious pockified blades (for to you, and none else, do I dedicate my writings), Alcibiades, in that dialogue of Plato's, which is entitled The Banquet, whilst he was setting forth the praises of his schoolmaster Socrates (without all question the prince of philosophers), amongst other discourses to that purpose, said that he resembled the Silenes.\""
   ]
  },
  {
   "cell_type": "markdown",
   "id": "02ab3533-27f3-4480-bc29-bea8410ba8fd",
   "metadata": {},
   "source": [
    "Running the line above creates a new variable, `a_text`, and assigns it to a _string_ representing the first sentence from Francois Rabelais' early Modern novel, _Gargantua and Pantagruel_. A string is the most basic way in Python of representing text, where \"text\" means anything that is not to be treated purely a numeric value. \n",
    "\n",
    "Anything between quotation marks, in Python, is a string.\n",
    "\n",
    "One problem with strings in Python (and other programming languages) is that they have very little structure.\n",
    "\n",
    "A Python string is a determinate sequence of characters, where a _character_ is, a letter of a recognized alphabet, a punctuation mark, a space, etc. Each character is stored in the computer's memory as a numeric code, and from that perspective, all characters are essentially equal.\n",
    "\n",
    "We can access a single character in a string by supplying its position. (Python counts characters in strings from left to right, starting with 0, not 1, for the first character.)"
   ]
  },
  {
   "cell_type": "code",
   "execution_count": 5,
   "id": "703efe54-ca3b-488d-b76e-61bba4ddc8fb",
   "metadata": {},
   "outputs": [
    {
     "data": {
      "text/plain": [
       "'n'"
      ]
     },
     "execution_count": 5,
     "metadata": {},
     "output_type": "execute_result"
    }
   ],
   "source": [
    "a_text[5]"
   ]
  },
  {
   "cell_type": "markdown",
   "id": "a655e224-65ab-4b8d-bf14-3aed95941064",
   "metadata": {},
   "source": [
    "We can access a sequence of characters -- here, the characters in positions 11 through 50."
   ]
  },
  {
   "cell_type": "code",
   "execution_count": 6,
   "id": "46981216-84ec-4a56-a2d6-7a0edc0cf788",
   "metadata": {},
   "outputs": [
    {
     "data": {
      "text/plain": [
       "' and illustrious drinkers, and you thric'"
      ]
     },
     "execution_count": 6,
     "metadata": {},
     "output_type": "execute_result"
    }
   ],
   "source": [
    "a_text[10:50]"
   ]
  },
  {
   "cell_type": "markdown",
   "id": "b1ef2a6f-fed0-4929-8df3-41dcfb06427b",
   "metadata": {},
   "source": [
    "We can even divide the string into pieces, using the occurences of particular characters. The code below divides our text on the white space, returning a _list_ (another Python construct) of smaller strings."
   ]
  },
  {
   "cell_type": "code",
   "execution_count": 7,
   "id": "6d2ff07f-e349-4cc8-bb80-593ad37126dd",
   "metadata": {
    "scrolled": true
   },
   "outputs": [
    {
     "data": {
      "text/plain": [
       "['Most',\n",
       " 'noble',\n",
       " 'and',\n",
       " 'illustrious',\n",
       " 'drinkers,',\n",
       " 'and',\n",
       " 'you',\n",
       " 'thrice',\n",
       " 'precious',\n",
       " 'pockified',\n",
       " 'blades',\n",
       " '(for',\n",
       " 'to',\n",
       " 'you,',\n",
       " 'and',\n",
       " 'none',\n",
       " 'else,',\n",
       " 'do',\n",
       " 'I',\n",
       " 'dedicate',\n",
       " 'my',\n",
       " 'writings),',\n",
       " 'Alcibiades,',\n",
       " 'in',\n",
       " 'that',\n",
       " 'dialogue',\n",
       " 'of',\n",
       " \"Plato's,\",\n",
       " 'which',\n",
       " 'is',\n",
       " 'entitled',\n",
       " 'The',\n",
       " 'Banquet,',\n",
       " 'whilst',\n",
       " 'he',\n",
       " 'was',\n",
       " 'setting',\n",
       " 'forth',\n",
       " 'the',\n",
       " 'praises',\n",
       " 'of',\n",
       " 'his',\n",
       " 'schoolmaster',\n",
       " 'Socrates',\n",
       " '(without',\n",
       " 'all',\n",
       " 'question',\n",
       " 'the',\n",
       " 'prince',\n",
       " 'of',\n",
       " 'philosophers),',\n",
       " 'amongst',\n",
       " 'other',\n",
       " 'discourses',\n",
       " 'to',\n",
       " 'that',\n",
       " 'purpose,',\n",
       " 'said',\n",
       " 'that',\n",
       " 'he',\n",
       " 'resembled',\n",
       " 'the',\n",
       " 'Silenes.']"
      ]
     },
     "execution_count": 7,
     "metadata": {},
     "output_type": "execute_result"
    }
   ],
   "source": [
    "a_text.split()"
   ]
  },
  {
   "cell_type": "markdown",
   "id": "f0492dc1-df43-4eee-8357-ecac1e6be83b",
   "metadata": {},
   "source": [
    "The strings in the list above correspond, loosely, to the individual words in the sentence from Rabelais' text. But Python really has no concept of \"word,\" neither in English, nor any other natural language. (Technically, the only words Python recognizes are certain reserved Python keywords, as defined by the core specification of the language.)"
   ]
  },
  {
   "cell_type": "markdown",
   "id": "ce5c70c2-238e-4277-bd02-f17e2d6b3e6b",
   "metadata": {},
   "source": [
    "## Language as a drunken walk\n",
    "\n",
    "It's probably fair to say that when Shannon was developing his mathematical approach to encoding information, the algorithmic ideal still dominated computational research in Western Europe and the United States. In previous decades, philosophers like Bertrand Russell and mathematicians like David Hilbert had sought to develop a formal approach to mathematical proof that would unify the scientific disciplines, the goal of such research being to identify a core set of axioms, or logical rules, in terms of which all other \"rigorous\" procedures of thought could be expressed. Working within this tradition, Alan Turing had developed his model of what would become the digital computer. \n",
    "\n",
    "Can language as humans use it be reduced to such formal rules? On the face of it, it's easy to think not. However, that conclusion poses a problem for computation involving human (or \"natural\") language, since the computer is basically a formal-rule-following machine.\n",
    "\n",
    "Shannon's innovation was to pose \n"
   ]
  },
  {
   "cell_type": "markdown",
   "id": "73e9efb1-2492-4f9c-bdff-9fa0b07bb581",
   "metadata": {},
   "source": [
    "\n",
    "Chat-GPT and its ilk have made the [Turing test](https://en.wikipedia.org/wiki/Turing_test) -- long a trope of science fiction and a topic of serious interest chiefly to computer scientists -- into something of a ubiqituous pastime. Certainly, those of us who regularly use the Internet as a source of information or participate in its discourse communities now face the disconcerting question: has what we're reading, seeing, listening to, etc., been produced by a human being or a computer program? How can we tell? Alan Turing proposed his test as a phenomenological benchmark: any machine that could successfully and reliably fool its human interlocutors into granting it the presumption of human intelligence could, in fact, be considered intelligent (in all relevant respects).\n",
    "\n",
    "There's a lot to unpack in Turing's philosophical exercise. But as a tool for understanding how [generative AI](https://en.wikipedia.org/wiki/Generative_artificial_intelligence) works, or at least, for approaching the ground from which it springs, Turing's work is arguably less useful than that of his less celebrated contemporary, Claude Shannon.\n",
    "\n",
    "Working at Bell Labs in the 1940's, Claude Shannon developed the [mathematical theory of communication](https://people.math.harvard.edu/~ctm/home/text/others/shannon/entropy/entropy.pdf). Often referred to as a \"theory of _information_,\" it is noteworthy that Shannon framed his work as a theory of _communication_. Regardless, the practical significance of Shannon's work is [immense](https://www.quantamagazine.org/how-claude-shannons-information-theory-invented-the-future-20201222/): the mathematical modeling introduced there underpins great swaths of modern telecommunications infrastructure, and it paved the way to our data-saturated digital mediascape. \n",
    "\n",
    "Shannon's model is motivated by a practical question: how can we determine the _most efficient means of encoding_ a given message? And although his model has proven relevant to any medium that can be represented digitally, his work was grounded, as Lydia Liu shows, in questions about language, specifically, _printed English_.\n",
    "\n",
    "### From Claude Shannon to Chat GPT (and back again)\n",
    "\n",
    "If Turing's guiding concern was to know what kinds of intellectual activity could be automated, Shannon's was quite different: to know whether human language, in its panoply of uses, could be modeled as a [stochastic (random) process](https://en.wikipedia.org/wiki/Stochastic_process). Turing's point of departure lay in the resources of formal logic and mathematical proof; Shannon drew on data and probability. \n",
    "\n",
    "Although forms of popular (and even scholarly) imagining about AI continue to draw on a Turing-esque framework, wherein the primary concern is with the meaning of intelligence, the \"unreasonable effectiveness\" of [large language models](https://en.wikipedia.org/wiki/Large_language_model) hearkens back to Shannon's experiments on the probabilistic modeling of English prose. And while we certainly couldn't build Siri or Chap-GPT using just Shannon's insights, his methods might be regarded as an early exercise in machine learning. Could we also say that the digital humanities treads this same ground?\n",
    "\n",
    "In this interactive document, we'll use the [Python programming language] to reproduce a couple of Shannon's experiments, in the hopes of pulling back the curtain a bit on what seems to many (and not unreasonably) as evidence of a ghost in the machine. But the aim is not necessarily to demystify experiences of generative AI. I, for one, do find many of these experiences haunting, but I'm not sure the haunting happens where AI's prominent boosters claim that it does.\n",
    "\n",
    "The material that follows draws on and is inspired by my reading of Lydia Liu's _The Freudian Robot_."
   ]
  },
  {
   "cell_type": "code",
   "execution_count": null,
   "id": "dca2b13e-30b0-4969-8df9-b51827ed742a",
   "metadata": {},
   "outputs": [],
   "source": []
  }
 ],
 "metadata": {
  "kernelspec": {
   "display_name": "Python 3 (ipykernel)",
   "language": "python",
   "name": "python3"
  },
  "language_info": {
   "codemirror_mode": {
    "name": "ipython",
    "version": 3
   },
   "file_extension": ".py",
   "mimetype": "text/x-python",
   "name": "python",
   "nbconvert_exporter": "python",
   "pygments_lexer": "ipython3",
   "version": "3.11.6"
  }
 },
 "nbformat": 4,
 "nbformat_minor": 5
}
