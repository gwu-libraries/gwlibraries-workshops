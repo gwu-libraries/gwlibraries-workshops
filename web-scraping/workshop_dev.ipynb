{
 "cells": [
  {
   "cell_type": "code",
   "execution_count": null,
   "id": "7f9e5874",
   "metadata": {},
   "outputs": [],
   "source": [
    "import http.server as SimpleHTTPServer\n",
    "import socketserver as SocketServer\n",
    "from threading import Thread\n",
    "from time import sleep\n",
    "import requests\n",
    "import ipywidgets as widgets\n",
    "from IPython.display import HTML, display\n",
    "import logging"
   ]
  },
  {
   "cell_type": "code",
   "execution_count": null,
   "id": "2f9285f2",
   "metadata": {},
   "outputs": [],
   "source": [
    "out = widgets.Output(layout={'border': '1px solid black'})"
   ]
  },
  {
   "cell_type": "code",
   "execution_count": null,
   "id": "ed4b4ee8",
   "metadata": {},
   "outputs": [],
   "source": [
    "out.clear_output()"
   ]
  },
  {
   "cell_type": "code",
   "execution_count": null,
   "id": "2ce4340c",
   "metadata": {},
   "outputs": [],
   "source": [
    "with out:\n",
    "    display(HTML(\"<h1>Request Headers</h1>\"))"
   ]
  },
  {
   "cell_type": "code",
   "execution_count": null,
   "id": "e18a8544",
   "metadata": {},
   "outputs": [],
   "source": [
    "out"
   ]
  },
  {
   "cell_type": "code",
   "execution_count": null,
   "id": "63db957b",
   "metadata": {},
   "outputs": [],
   "source": [
    "PORT = 8000\n",
    "\n",
    "class GetHandler(\n",
    "        SimpleHTTPServer.SimpleHTTPRequestHandler\n",
    "        ):\n",
    "\n",
    "    def do_GET(self):\n",
    "        logging.error(self.headers)\n",
    "        SimpleHTTPServer.SimpleHTTPRequestHandler.do_GET(self)\n",
    "\n",
    "\n",
    "Handler = GetHandler\n",
    "httpd = SocketServer.TCPServer((\"\", PORT), Handler)"
   ]
  },
  {
   "cell_type": "code",
   "execution_count": null,
   "id": "02031eb7",
   "metadata": {},
   "outputs": [],
   "source": [
    "t = Thread(target=httpd.serve_forever)"
   ]
  },
  {
   "cell_type": "code",
   "execution_count": null,
   "id": "8d771d7b",
   "metadata": {
    "scrolled": true
   },
   "outputs": [],
   "source": [
    "t.start()"
   ]
  },
  {
   "cell_type": "code",
   "execution_count": null,
   "id": "501af546",
   "metadata": {},
   "outputs": [],
   "source": [
    "r = requests.get(\"http://localhost:8000\")\n",
    "r.text"
   ]
  },
  {
   "cell_type": "code",
   "execution_count": null,
   "id": "d9020579-b513-46cf-a807-bf4f39889b92",
   "metadata": {},
   "outputs": [],
   "source": [
    "# requests not a browser, but it still sends a header with its HTTP requests\n",
    "# headers contain metadata about the reuqest, including what kind of data formats (content) the user \"agent\" will accept, "
   ]
  },
  {
   "cell_type": "code",
   "execution_count": null,
   "id": "c472dfc4",
   "metadata": {},
   "outputs": [],
   "source": [
    "t.join()"
   ]
  },
  {
   "cell_type": "markdown",
   "id": "cbc85161-8c17-47ea-a211-47cfccdf2ee6",
   "metadata": {},
   "source": [
    "### Scraping the GW Schedule of Classes"
   ]
  },
  {
   "cell_type": "code",
   "execution_count": null,
   "id": "485a3a20-cfce-49f9-aa30-0fb4a04ed532",
   "metadata": {},
   "outputs": [],
   "source": [
    "from bs4 import BeautifulSoup\n",
    "import requests\n",
    "import re"
   ]
  },
  {
   "cell_type": "code",
   "execution_count": null,
   "id": "7f62a855-356d-46c5-bfaf-c5ceac4186bd",
   "metadata": {},
   "outputs": [],
   "source": [
    "depts_url = 'https://my.gwu.edu/mod/pws/subjects.cfm'\n",
    "params = {'campus_id': '1', # Main Campus\n",
    "            'term_id': '202303'}"
   ]
  },
  {
   "cell_type": "code",
   "execution_count": null,
   "id": "7de361a0-41a1-45dd-94c6-5d899dfb3b71",
   "metadata": {},
   "outputs": [],
   "source": [
    "# Getting a single page\n",
    "depts_page = requests.get(depts_url, params=params)"
   ]
  },
  {
   "cell_type": "code",
   "execution_count": null,
   "id": "0af57fbb-30c0-4d36-903a-a39baa1dccf4",
   "metadata": {},
   "outputs": [],
   "source": [
    "depts_page"
   ]
  },
  {
   "cell_type": "code",
   "execution_count": null,
   "id": "419186c4-b2a5-463a-81aa-41e3526df8c3",
   "metadata": {},
   "outputs": [],
   "source": [
    "depts_page.text\n",
    "# Introduce browser inspector at this point"
   ]
  },
  {
   "cell_type": "code",
   "execution_count": null,
   "id": "1c4ea4d8-8d1d-4c5b-8f71-99081499eafc",
   "metadata": {},
   "outputs": [],
   "source": [
    "soup = BeautifulSoup(depts_page.text, features=\"html.parser\")\n"
   ]
  },
  {
   "cell_type": "code",
   "execution_count": null,
   "id": "0b82e212-317d-41fe-8ab3-c8b184ca580c",
   "metadata": {},
   "outputs": [],
   "source": [
    "soup"
   ]
  },
  {
   "cell_type": "code",
   "execution_count": null,
   "id": "c5cd2114-6c87-4bbb-9803-0f75843a6c11",
   "metadata": {},
   "outputs": [],
   "source": [
    "# Explain how to derive this\n",
    "soup.find(\"div\", class_=\"subjectsMain\").find_all(\"a\")"
   ]
  },
  {
   "cell_type": "code",
   "execution_count": null,
   "id": "dbff523e-7472-48bd-9e76-f711a11cd51d",
   "metadata": {},
   "outputs": [],
   "source": [
    "links = [l['href'] for l in soup.find(\"div\", class_=\"subjectsMain\").find_all(\"a\")]"
   ]
  },
  {
   "cell_type": "code",
   "execution_count": null,
   "id": "ba2adfb0-36fd-4751-a3a6-3d4d3a94798b",
   "metadata": {},
   "outputs": [],
   "source": [
    "links"
   ]
  },
  {
   "cell_type": "code",
   "execution_count": null,
   "id": "574bda6a-83b0-419f-b019-5c24b1a11479",
   "metadata": {},
   "outputs": [],
   "source": [
    "# we can construct the URL from one of these strings and the base URL\n",
    "course_page = requests.get('https://my.gwu.edu/mod/pws/' + links[0])\n",
    "course_page"
   ]
  },
  {
   "cell_type": "code",
   "execution_count": null,
   "id": "35f03a2c-c6e0-4398-9a93-b07e8ae30a12",
   "metadata": {},
   "outputs": [],
   "source": [
    "soup = BeautifulSoup(course_page.text, features=\"html.parser\")\n",
    "soup"
   ]
  },
  {
   "cell_type": "code",
   "execution_count": null,
   "id": "ded8b3d1-0c4c-4694-bb42-31a88f1a6efd",
   "metadata": {},
   "outputs": [],
   "source": [
    "# Let's say we're interested in extracting the times each course meets, along with its dept, course number, course title, and section number\n",
    "# We'll need the 3, 4, 5, and 9th cell <td> from the first row <tr> of each <table> with a class \"courseListing\""
   ]
  },
  {
   "cell_type": "code",
   "execution_count": null,
   "id": "a5a45fc0-02e1-4246-b15a-4249640d582e",
   "metadata": {},
   "outputs": [],
   "source": [
    "tables = soup.find_all('table', class_='courseListing')\n",
    "tables"
   ]
  },
  {
   "cell_type": "code",
   "execution_count": null,
   "id": "e18006c4-0842-47c6-a03e-3892afe666f5",
   "metadata": {},
   "outputs": [],
   "source": [
    "# Add splitting as iterative steps\n",
    "courses = []\n",
    "for table in tables:\n",
    "    cells = table.find('tr').find_all('td')\n",
    "    course = {'course_code': cells[2].text.split(),\n",
    "            'section': cells[3].text,\n",
    "            'title': cells[4].text,\n",
    "            'times': cells[8].text.split('AND')}\n",
    "    courses.append(course)"
   ]
  },
  {
   "cell_type": "code",
   "execution_count": null,
   "id": "2c962789-3711-42f7-a77b-de94a0be960c",
   "metadata": {},
   "outputs": [],
   "source": [
    "courses[0]"
   ]
  },
  {
   "cell_type": "code",
   "execution_count": null,
   "id": "28ee4196-5356-45e7-b8f0-948e583b2f1a",
   "metadata": {},
   "outputs": [],
   "source": [
    "courses[-1]"
   ]
  },
  {
   "cell_type": "code",
   "execution_count": null,
   "id": "8fc20d7b-0763-4b35-83b3-81e9fd89ae2c",
   "metadata": {},
   "outputs": [],
   "source": [
    "courses[2]"
   ]
  },
  {
   "cell_type": "code",
   "execution_count": null,
   "id": "ea0336d4-5386-45ee-beb9-ce5799cd451e",
   "metadata": {},
   "outputs": [],
   "source": [
    "# Refactoring to retrieve all course info\n",
    "def scrape_course_info(page):\n",
    "    soup = BeautifulSoup(page.text, features=\"html.parser\")\n",
    "    tables = soup.find_all('table', class_='courseListing')\n",
    "    courses = []\n",
    "    for table in tables:\n",
    "        cells = table.find('tr').find_all('td')\n",
    "        course = {'course_code': cells[2].text.split(),\n",
    "                'section': cells[3].text,\n",
    "                'title': cells[4].text,\n",
    "                'times': cells[8].text.split('AND')}\n",
    "        courses.append(course)\n",
    "    return courses\n",
    "\n",
    "all_courses = []\n",
    "for link in links:\n",
    "    course_page = requests.get('https://my.gwu.edu/mod/pws/' + link)\n",
    "    courses = scrape_course_info(course_page)\n",
    "    all_courses.extend(courses)"
   ]
  },
  {
   "cell_type": "code",
   "execution_count": null,
   "id": "ebc7155d-ef1e-410d-9b38-7c3d9108599c",
   "metadata": {},
   "outputs": [],
   "source": [
    "len(all_courses)"
   ]
  },
  {
   "cell_type": "code",
   "execution_count": null,
   "id": "0a4482cc-ac9b-447b-bb95-6f61073f729c",
   "metadata": {},
   "outputs": [],
   "source": [
    "all_courses[-1]"
   ]
  },
  {
   "cell_type": "code",
   "execution_count": null,
   "id": "b2cd70a0-6301-4f0e-91b5-1c91d11dd82d",
   "metadata": {},
   "outputs": [],
   "source": [
    "# To export to JSON\n",
    "import json\n",
    "with open('./courses-fall-2023-times-main-campus.json', 'w') as f:\n",
    "    json.dump(all_courses, f)"
   ]
  },
  {
   "cell_type": "code",
   "execution_count": null,
   "id": "46b600bd-5d65-4797-8ca5-87f4debad422",
   "metadata": {},
   "outputs": [],
   "source": [
    "# How about getting the textbooks associated with the courses?\n",
    "books = requests.get('https://www.bkstr.com/webApp/discoverView?bookstore_id-1=122&term_id-1=202303&div-1=&dept-1=ACA&course-1=6201&section-1=10')"
   ]
  },
  {
   "cell_type": "code",
   "execution_count": null,
   "id": "beadd9df-aa18-47d9-86dc-095dd451cc5b",
   "metadata": {},
   "outputs": [],
   "source": [
    "books"
   ]
  },
  {
   "cell_type": "code",
   "execution_count": null,
   "id": "76bbd552-8b9e-42de-8b3b-1db0d6de1e90",
   "metadata": {},
   "outputs": [],
   "source": [
    "books.text"
   ]
  },
  {
   "cell_type": "code",
   "execution_count": null,
   "id": "b96fb4b3-077d-427b-8931-a1ac2928b130",
   "metadata": {},
   "outputs": [],
   "source": [
    "# Trying with a sandbox site\n",
    "r = requests.get('https://www.scrapethissite.com/pages/advanced/?gotcha=headers')"
   ]
  },
  {
   "cell_type": "code",
   "execution_count": null,
   "id": "0918db20-57b6-4f93-96b8-bd808fc408a1",
   "metadata": {},
   "outputs": [],
   "source": [
    "r"
   ]
  },
  {
   "cell_type": "code",
   "execution_count": null,
   "id": "90ec4570-e54e-4d67-b1de-d43a52f6c72b",
   "metadata": {},
   "outputs": [],
   "source": [
    "r.text"
   ]
  },
  {
   "cell_type": "code",
   "execution_count": null,
   "id": "d1ce3e90-3b3e-445d-a473-32b3aa48bcb1",
   "metadata": {},
   "outputs": [],
   "source": [
    "headers = {'User-Agent': 'Mozilla/5.0 (Macintosh; Intel Mac OS X 10_15_7) AppleWebKit/537.36 (KHTML, like Gecko) Chrome/116.0.0.0 Safari/537.36',\n",
    "            'Accept': 'text/html'}\n",
    "r = requests.get('https://www.scrapethissite.com/pages/advanced/?gotcha=headers', headers=headers)"
   ]
  },
  {
   "cell_type": "code",
   "execution_count": null,
   "id": "4be0bbeb-7075-42f5-a883-b23dbc678f95",
   "metadata": {},
   "outputs": [],
   "source": [
    "r"
   ]
  },
  {
   "cell_type": "code",
   "execution_count": null,
   "id": "c1cb2836-9c20-42bc-af64-141ec6c44ddc",
   "metadata": {},
   "outputs": [],
   "source": [
    "# Finding the hidden API in the Nintendo E-shop\n",
    "# 1. Construct the search\n",
    "# 2. Identify the data XHR\n",
    "# 3. Extract the request info\n",
    "# 4. Show how to perform pagination"
   ]
  },
  {
   "cell_type": "code",
   "execution_count": null,
   "id": "c8440cf4-a464-44fc-8c3c-e5fa7bddd1a1",
   "metadata": {},
   "outputs": [],
   "source": [
    "nintendo_headers = '''\n",
    "Accept: */*\n",
    "Accept-Encoding: gzip, deflate, br\n",
    "Accept-Language: en-US,en;q=0.9\n",
    "Cache-Control: no-cache\n",
    "Connection: keep-alive\n",
    "Content-Length: 345\n",
    "Host: u3b6gr4ua3-dsn.algolia.net\n",
    "Origin: https://www.nintendo.com\n",
    "Pragma: no-cache\n",
    "Referer: https://www.nintendo.com/\n",
    "Sec-Fetch-Dest: empty\n",
    "Sec-Fetch-Mode: cors\n",
    "Sec-Fetch-Site: cross-site\n",
    "User-Agent: Mozilla/5.0 (Macintosh; Intel Mac OS X 10_15_7) AppleWebKit/537.36 (KHTML, like Gecko) Chrome/116.0.0.0 Safari/537.36\n",
    "content-type: application/x-www-form-urlencoded\n",
    "sec-ch-ua: \"Chromium\";v=\"116\", \"Not)A;Brand\";v=\"24\", \"Google Chrome\";v=\"116\"\n",
    "sec-ch-ua-mobile: ?0\n",
    "sec-ch-ua-platform: \"macOS\"\n",
    "x-algolia-api-key: a29c6927638bfd8cee23993e51e721c9\n",
    "x-algolia-application-id: U3B6GR4UA3\n",
    "'''\n",
    "nintendo_headers = dict([h.split(sep=': ', maxsplit=1) for h in nintendo_headers.split('\\n') if h])"
   ]
  },
  {
   "cell_type": "code",
   "execution_count": null,
   "id": "ae401077-bd7f-40b1-98a6-46cac2b74ea8",
   "metadata": {},
   "outputs": [],
   "source": [
    "nintendo_url = 'https://u3b6gr4ua3-dsn.algolia.net/1/indexes/*/queries?x-algolia-agent=Algolia%20for%20JavaScript%20(4.19.0)%3B%20Browser%3B%20JS%20Helper%20(3.13.5)%3B%20react%20(17.0.2)%3B%20react-instantsearch%20(6.40.3)'\n",
    "nintendo_json = {\"requests\":[{\"indexName\":\"store_game_en_us\",\"params\":\"analytics=true&attributesToHighlight=%5B%22description%22%5D&clickAnalytics=true&facetFilters=%5B%22playerCount%3A2%2B%22%5D&facetingAfterDistinct=true&facets=%5B%22*%22%5D&filters=&highlightPostTag=%5E*&highlightPreTag=%5E*%5E%5E&hitsPerPage=100&maxValuesPerFacet=100&page=2&tagFilters=\"}]}"
   ]
  },
  {
   "cell_type": "code",
   "execution_count": null,
   "id": "608bf3e8-78fa-4733-a5c2-98187a64c1ed",
   "metadata": {},
   "outputs": [],
   "source": [
    "r = requests.post(nintendo_url, headers=nintendo_headers, json=nintendo_json)"
   ]
  },
  {
   "cell_type": "code",
   "execution_count": null,
   "id": "1596c369-06a3-4855-a3b8-02def98a1fdc",
   "metadata": {},
   "outputs": [],
   "source": [
    "results = r.json()\n",
    "len(results['results'][0]['hits'])"
   ]
  },
  {
   "cell_type": "code",
   "execution_count": null,
   "id": "1ec4a714-0a36-4013-b62f-72de6fa0d7ff",
   "metadata": {},
   "outputs": [],
   "source": [
    "results"
   ]
  }
 ],
 "metadata": {
  "kernelspec": {
   "display_name": "Python 3 (ipykernel)",
   "language": "python",
   "name": "python3"
  },
  "language_info": {
   "codemirror_mode": {
    "name": "ipython",
    "version": 3
   },
   "file_extension": ".py",
   "mimetype": "text/x-python",
   "name": "python",
   "nbconvert_exporter": "python",
   "pygments_lexer": "ipython3",
   "version": "3.11.4"
  }
 },
 "nbformat": 4,
 "nbformat_minor": 5
}
