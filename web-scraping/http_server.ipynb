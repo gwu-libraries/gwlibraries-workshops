{
 "cells": [
  {
   "cell_type": "code",
   "execution_count": 1,
   "id": "4399748f-46a0-4f1f-b30e-6658a20ba363",
   "metadata": {},
   "outputs": [],
   "source": [
    "import http.server as SimpleHTTPServer\n",
    "import socketserver as SocketServer\n",
    "from threading import Thread\n",
    "from time import sleep\n",
    "import requests\n",
    "import logging"
   ]
  },
  {
   "cell_type": "code",
   "execution_count": 2,
   "id": "7ade43cb-55cc-4eda-ad36-f554d9be6f5b",
   "metadata": {},
   "outputs": [],
   "source": [
    "PORT = 8000\n",
    "\n",
    "class GetHandler(\n",
    "        SimpleHTTPServer.SimpleHTTPRequestHandler\n",
    "        ):\n",
    "\n",
    "    def do_GET(self):\n",
    "        logging.error(self.headers)\n",
    "        SimpleHTTPServer.SimpleHTTPRequestHandler.do_GET(self)\n",
    "\n",
    "\n",
    "Handler = GetHandler\n",
    "httpd = SocketServer.TCPServer((\"\", PORT), Handler)"
   ]
  },
  {
   "cell_type": "code",
   "execution_count": 3,
   "id": "915cf7a6-0302-4149-b6ee-61531040eedc",
   "metadata": {},
   "outputs": [],
   "source": [
    "t = Thread(target=httpd.serve_forever)\n",
    "t.start()"
   ]
  },
  {
   "cell_type": "code",
   "execution_count": 4,
   "id": "668ada47-b9f2-4669-aca4-35e265285094",
   "metadata": {},
   "outputs": [
    {
     "name": "stderr",
     "output_type": "stream",
     "text": [
      "ERROR:root:Host: localhost:8000\n",
      "User-Agent: python-requests/2.31.0\n",
      "Accept-Encoding: gzip, deflate\n",
      "Accept: */*\n",
      "Connection: keep-alive\n",
      "\n",
      "\n",
      "127.0.0.1 - - [24/Sep/2025 09:02:35] \"GET / HTTP/1.1\" 200 -\n"
     ]
    },
    {
     "data": {
      "text/plain": [
       "'<html>\\n    <head></head>\\n    <body>\\n        <p>Hello, World!</p>\\n    </body>\\n</html>'"
      ]
     },
     "execution_count": 4,
     "metadata": {},
     "output_type": "execute_result"
    }
   ],
   "source": [
    "r = requests.get(\"http://localhost:8000\")\n",
    "r.text"
   ]
  },
  {
   "cell_type": "code",
   "execution_count": null,
   "id": "0aa10120-0731-4875-9054-c7c385b37b74",
   "metadata": {},
   "outputs": [],
   "source": [
    "t.join()"
   ]
  }
 ],
 "metadata": {
  "kernelspec": {
   "display_name": "Python 3 (ipykernel)",
   "language": "python",
   "name": "python3"
  },
  "language_info": {
   "codemirror_mode": {
    "name": "ipython",
    "version": 3
   },
   "file_extension": ".py",
   "mimetype": "text/x-python",
   "name": "python",
   "nbconvert_exporter": "python",
   "pygments_lexer": "ipython3",
   "version": "3.11.11"
  }
 },
 "nbformat": 4,
 "nbformat_minor": 5
}
