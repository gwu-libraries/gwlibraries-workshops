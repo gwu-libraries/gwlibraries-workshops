{
 "cells": [
  {
   "cell_type": "code",
   "execution_count": 1,
   "id": "4399748f-46a0-4f1f-b30e-6658a20ba363",
   "metadata": {},
   "outputs": [],
   "source": [
    "import http.server as SimpleHTTPServer\n",
    "import socketserver as SocketServer\n",
    "from threading import Thread\n",
    "from time import sleep\n",
    "import requests\n",
    "import logging"
   ]
  },
  {
   "cell_type": "code",
   "execution_count": 2,
   "id": "7ade43cb-55cc-4eda-ad36-f554d9be6f5b",
   "metadata": {},
   "outputs": [],
   "source": [
    "PORT = 8000\n",
    "\n",
    "class GetHandler(\n",
    "        SimpleHTTPServer.SimpleHTTPRequestHandler\n",
    "        ):\n",
    "\n",
    "    def do_GET(self):\n",
    "        logging.error(self.headers)\n",
    "        SimpleHTTPServer.SimpleHTTPRequestHandler.do_GET(self)\n",
    "\n",
    "\n",
    "Handler = GetHandler\n",
    "httpd = SocketServer.TCPServer((\"\", PORT), Handler)"
   ]
  },
  {
   "cell_type": "code",
   "execution_count": 3,
   "id": "915cf7a6-0302-4149-b6ee-61531040eedc",
   "metadata": {},
   "outputs": [],
   "source": [
    "t = Thread(target=httpd.serve_forever)\n",
    "t.start()"
   ]
  },
  {
   "cell_type": "code",
   "execution_count": 4,
   "id": "668ada47-b9f2-4669-aca4-35e265285094",
   "metadata": {},
   "outputs": [
    {
     "name": "stderr",
     "output_type": "stream",
     "text": [
      "ERROR:root:Host: localhost:8000\n",
      "User-Agent: python-requests/2.31.0\n",
      "Accept-Encoding: gzip, deflate\n",
      "Accept: */*\n",
      "Connection: keep-alive\n",
      "\n",
      "\n",
      "127.0.0.1 - - [04/Oct/2024 15:49:50] \"GET / HTTP/1.1\" 200 -\n"
     ]
    },
    {
     "data": {
      "text/plain": [
       "'<html>\\n    <head></head>\\n    <body>\\n        <p>Hello, World!</p>\\n    </body>\\n</html>'"
      ]
     },
     "execution_count": 4,
     "metadata": {},
     "output_type": "execute_result"
    },
    {
     "name": "stderr",
     "output_type": "stream",
     "text": [
      "ERROR:root:Host: localhost:8000\n",
      "Connection: keep-alive\n",
      "Pragma: no-cache\n",
      "Cache-Control: no-cache\n",
      "sec-ch-ua: \"Google Chrome\";v=\"129\", \"Not=A?Brand\";v=\"8\", \"Chromium\";v=\"129\"\n",
      "sec-ch-ua-mobile: ?0\n",
      "sec-ch-ua-platform: \"macOS\"\n",
      "Upgrade-Insecure-Requests: 1\n",
      "User-Agent: Mozilla/5.0 (Macintosh; Intel Mac OS X 10_15_7) AppleWebKit/537.36 (KHTML, like Gecko) Chrome/129.0.0.0 Safari/537.36\n",
      "Accept: text/html,application/xhtml+xml,application/xml;q=0.9,image/avif,image/webp,image/apng,*/*;q=0.8,application/signed-exchange;v=b3;q=0.7\n",
      "Sec-Fetch-Site: none\n",
      "Sec-Fetch-Mode: navigate\n",
      "Sec-Fetch-User: ?1\n",
      "Sec-Fetch-Dest: document\n",
      "Accept-Encoding: gzip, deflate, br, zstd\n",
      "Accept-Language: en-US,en;q=0.9\n",
      "Cookie: sto-id-%3FSaaS-A_prod%3FapdX-1801.na04.prod.alma-sg=GCDICEAK; username-localhost-8888=\"2|1:0|10:1725637400|23:username-localhost-8888|204:eyJ1c2VybmFtZSI6ICI5NGU3YzQ1OGFkZTA0ZTJmYTExNzc4N2Q4MzQ4ZDI4MCIsICJuYW1lIjogIkFub255bW91cyBQcmF4aWRpa2UiLCAiZGlzcGxheV9uYW1lIjogIkFub255bW91cyBQcmF4aWRpa2UiLCAiaW5pdGlhbHMiOiAiQVAiLCAiY29sb3IiOiBudWxsfQ==|4a6cfb7fa7bf3ad6ce9e772054ecbeecc211de4c5f79dd6748c1ef23ebd2dc14\"; _xsrf=2|65bb85bd|30e8be05c65117d6bb25ccf26e5832e2|1725637400; username-localhost-8889=2|1:0|10:1728053009|23:username-localhost-8889|196:eyJ1c2VybmFtZSI6ICJiYmUzZGM3ZDg5ZGU0NGY4OWVmMDdiYTA4YmYzMDhhYyIsICJuYW1lIjogIkFub255bW91cyBBdXRvbm9lIiwgImRpc3BsYXlfbmFtZSI6ICJBbm9ueW1vdXMgQXV0b25vZSIsICJpbml0aWFscyI6ICJBQSIsICJjb2xvciI6IG51bGx9|c02dd7403deaa56ffb1d1a0b360e2d86cf81376500d2e9d22344245afa6bbef7\n",
      "\n",
      "\n",
      "127.0.0.1 - - [04/Oct/2024 15:50:54] \"GET / HTTP/1.1\" 200 -\n",
      "ERROR:root:Host: localhost:8000\n",
      "Connection: keep-alive\n",
      "Pragma: no-cache\n",
      "Cache-Control: no-cache\n",
      "sec-ch-ua-platform: \"macOS\"\n",
      "User-Agent: Mozilla/5.0 (Macintosh; Intel Mac OS X 10_15_7) AppleWebKit/537.36 (KHTML, like Gecko) Chrome/129.0.0.0 Safari/537.36\n",
      "sec-ch-ua: \"Google Chrome\";v=\"129\", \"Not=A?Brand\";v=\"8\", \"Chromium\";v=\"129\"\n",
      "sec-ch-ua-mobile: ?0\n",
      "Accept: image/avif,image/webp,image/apng,image/svg+xml,image/*,*/*;q=0.8\n",
      "Sec-Fetch-Site: same-origin\n",
      "Sec-Fetch-Mode: no-cors\n",
      "Sec-Fetch-Dest: image\n",
      "Referer: http://localhost:8000/\n",
      "Accept-Encoding: gzip, deflate, br, zstd\n",
      "Accept-Language: en-US,en;q=0.9\n",
      "Cookie: sto-id-%3FSaaS-A_prod%3FapdX-1801.na04.prod.alma-sg=GCDICEAK; username-localhost-8888=\"2|1:0|10:1725637400|23:username-localhost-8888|204:eyJ1c2VybmFtZSI6ICI5NGU3YzQ1OGFkZTA0ZTJmYTExNzc4N2Q4MzQ4ZDI4MCIsICJuYW1lIjogIkFub255bW91cyBQcmF4aWRpa2UiLCAiZGlzcGxheV9uYW1lIjogIkFub255bW91cyBQcmF4aWRpa2UiLCAiaW5pdGlhbHMiOiAiQVAiLCAiY29sb3IiOiBudWxsfQ==|4a6cfb7fa7bf3ad6ce9e772054ecbeecc211de4c5f79dd6748c1ef23ebd2dc14\"; _xsrf=2|65bb85bd|30e8be05c65117d6bb25ccf26e5832e2|1725637400; username-localhost-8889=2|1:0|10:1728053009|23:username-localhost-8889|196:eyJ1c2VybmFtZSI6ICJiYmUzZGM3ZDg5ZGU0NGY4OWVmMDdiYTA4YmYzMDhhYyIsICJuYW1lIjogIkFub255bW91cyBBdXRvbm9lIiwgImRpc3BsYXlfbmFtZSI6ICJBbm9ueW1vdXMgQXV0b25vZSIsICJpbml0aWFscyI6ICJBQSIsICJjb2xvciI6IG51bGx9|c02dd7403deaa56ffb1d1a0b360e2d86cf81376500d2e9d22344245afa6bbef7\n",
      "\n",
      "\n",
      "127.0.0.1 - - [04/Oct/2024 15:50:54] code 404, message File not found\n",
      "127.0.0.1 - - [04/Oct/2024 15:50:54] \"GET /favicon.ico HTTP/1.1\" 404 -\n"
     ]
    }
   ],
   "source": [
    "r = requests.get(\"http://localhost:8000\")\n",
    "r.text"
   ]
  },
  {
   "cell_type": "code",
   "execution_count": null,
   "id": "0aa10120-0731-4875-9054-c7c385b37b74",
   "metadata": {},
   "outputs": [],
   "source": [
    "t.join()"
   ]
  }
 ],
 "metadata": {
  "kernelspec": {
   "display_name": "Python 3 (ipykernel)",
   "language": "python",
   "name": "python3"
  },
  "language_info": {
   "codemirror_mode": {
    "name": "ipython",
    "version": 3
   },
   "file_extension": ".py",
   "mimetype": "text/x-python",
   "name": "python",
   "nbconvert_exporter": "python",
   "pygments_lexer": "ipython3",
   "version": "3.11.7"
  }
 },
 "nbformat": 4,
 "nbformat_minor": 5
}
