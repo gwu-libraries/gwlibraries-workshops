{
 "cells": [
  {
   "attachments": {
    "81189e1d-aefe-4a4d-8e95-9d4c42f103aa.png": {
     "image/png": "[encoded data removed]"
    }
   },
   "cell_type": "markdown",
   "id": "2ca5363b-7902-46dd-b433-4b015c883906",
   "metadata": {},
   "source": [
    "![image.png](attachment:81189e1d-aefe-4a4d-8e95-9d4c42f103aa.png)\n",
    "\n",
    "# Web Scraping: What You Need to Know\n",
    "\n",
    "Web scraping is a technique for extracting data from web pages using code. While great tools exist in Python and other programming languages, scraping modern websites poses many challenges. This workshop will help you understand the structure of web pages and identify the features of a website that may make scraping easy, hard, or (in some cases) impossible. We'll walk through some examples together, using Python and the tools available in your web browser. Some prior familiarity with Python or another programming language is highly recommended."
   ]
  },
  {
   "cell_type": "markdown",
   "id": "42da07e0-431d-489a-8347-ec7d6bebae67",
   "metadata": {},
   "source": [
    "**Instructors**: Matt Mihalik & Dolsy Smith\n",
    "\n",
    "**Date & Time**: Friday, October 4, 2:30 - 4:30 pm\n",
    "\n",
    "**Location**: Gelman Library, Room 324 and [via Zoom](https://gwu-edu.zoom.us/my/laiworkshops)\n",
    "\n",
    "**Notebook link**: [https://go.gwu.edu/web-scraping-workshop](https://go.gwu.edu/web-scraping-workshop)"
   ]
  },
  {
   "cell_type": "markdown",
   "id": "521ba200-2889-42a8-b165-df01f6ec133a",
   "metadata": {},
   "source": [
    "## Outline\n",
    "\n",
    "1. [A best-case scenario](#A-Best-Case-Scenario)\n",
    "2. [Bot or Not](#Bot-or-Not) \n",
    "3. [Anatomy of an HTTP request](#Anatomy-of-an-HTTP-Request)\n",
    "4. [How to act less like a bot](#How-to-Act-Less-Like-a-Bot)\n",
    "5. Other modes of bot detection\n",
    "6. [Hidden API's](#Hidden-APIs)\n",
    "7. Good citizen scraping"
   ]
  },
  {
   "cell_type": "markdown",
   "id": "18203451-fa06-44d5-ba07-65e33c63099b",
   "metadata": {},
   "source": [
    "## A Best-Case Scenario \n",
    "\n",
    "At its simplest, a web page is a bunch of HTML tags enclosing some text (and maybe an image or two). Such **static** pages live on a web server (or else they are generated by the web server in response to an **HTTP request**). We call them _static_ because they don't change much. You might think of them like a Word document or PDF that someone sends you as an email attachment.\n",
    "\n",
    "To scrape such pages, we need just a few tools.\n",
    "\n",
    "But since nearly all web pages are written in HTML, as a minimum, it's helpful to have some sense of what **HTML** _is_."
   ]
  },
  {
   "attachments": {},
   "cell_type": "markdown",
   "id": "5416dabd-65e5-4a45-8882-a3c2f9807186",
   "metadata": {},
   "source": [
    "### A very brief HTML primer\n",
    "\n",
    "Take a look at this snippet of HTML. How would you describe the structure you see?\n",
    "\n",
    "![sched-class-snippet.png](https://github.com/gwu-libraries/gwlibraries-workshops/blob/master/web-scraping/html-1.png?raw=true)"
   ]
  },
  {
   "cell_type": "markdown",
   "id": "4905a3c6-cac9-4d71-9e3d-0e6302fe44b3",
   "metadata": {},
   "source": [
    "<details>\n",
    "    <summary style=\"font-size:14pt\">Click for a Hint</summary>\n",
    "    <p></p>\n",
    "    <p>Here are some things to keep in mind about HTML for the purposes of web scarping.</p>\n",
    "    <ul>\n",
    "        <li>HTML provides a set of <em>formatting</em> tags. The tags are, for the most part, not intended to describe document structure or content.</li>\n",
    "        <li>HTML tags are <em>nested</em>. In the example, the <code>&lt;div&gt;</code> tags create three levels of container. The innermost container contains a <code>&lt;ul&gt;</code> tag, which creates an unordered (unnumbered) list.</li>\n",
    "        <li>Within each <code>&lt;li&gt;</code> tag, which encloses a list element, the <code>&lt;a&gt;</code> tag creates a hyperlink.</li>\n",
    "        <li>The URL to which the hyperlink leads is in the <code>href</code> <b>attribute</b> inside the <code>&lt;a&gt;</code> tag. An attribute allows additional data to be enclosed in an HTML tag. The data in attributes does not display, but it can be used by the browser to affect display of the page, or to provide other information (in this case, the URL for a link).</li>\n",
    "        <li>The text that appears on the page -- in the labels on hyperlinks -- is enclosed within the <code>&lt;a&gt;</code> tags: <code>Academy for Classical Acting</code> and <code>Accountancy</code>.</li>\n",
    "    </ul>\n",
    "</details>"
   ]
  },
  {
   "cell_type": "markdown",
   "id": "09d1f629-25a4-4011-9b6c-a85694900756",
   "metadata": {},
   "source": [
    "The snippet above is from the [GW Schedule of Classes](https://my.gwu.edu/mod/pws/subjects.cfm?campId=1&termId=202303). In what follows, we'll scrape this page to extract some course information. We'll use Python tools to do this.\n",
    "\n",
    "There are two steps to scraping a web page (in the best-case scenario). "
   ]
  },
  {
   "cell_type": "markdown",
   "id": "08c55ce7-f50d-44c1-a6cb-0c1be3365885",
   "metadata": {},
   "source": [
    "### Step 1: Download the content\n",
    "\n",
    "We'll use a Python library called `requests` to retrieve the HTML of this and other pages from the web. Many Python distributions come with requests pre-installed, but if you get a `ModuleNotFound` error running the following commands, run `!pip install requests` in a cell by itself, and then run the commands again."
   ]
  },
  {
   "cell_type": "code",
   "execution_count": 1,
   "id": "da4124e5-e245-4572-b871-e25e17327892",
   "metadata": {},
   "outputs": [],
   "source": [
    "import requests"
   ]
  },
  {
   "cell_type": "markdown",
   "id": "53b3b804-c315-4b0e-8140-8bb30d51b951",
   "metadata": {},
   "source": [
    "To scrape page, we start with a URL. In this case, the URL contains **parameters**, which tell the server to return specific kinds of information depending on the values of the parameters (campus and semester). \n",
    "\n",
    "Note that the presence of URL parameters doesn't mean that content is being **dynamically** loaded (i.e., in response to a user's actions in the browser). In this case, all the HTML on the page is being sent from the server at one time. That's part of what makes it a \"best-case\" scenario for scraping."
   ]
  },
  {
   "cell_type": "code",
   "execution_count": 2,
   "id": "67905200-7a26-49bf-845a-d24ee5032e68",
   "metadata": {},
   "outputs": [],
   "source": [
    "depts_url = 'https://my.gwu.edu/mod/pws/subjects.cfm'\n",
    "params = {'campus_id': '1', # Main Campus\n",
    "            'term_id': '202303'}"
   ]
  },
  {
   "cell_type": "markdown",
   "id": "592bff30-2b7a-4e02-ae06-dd055661e059",
   "metadata": {},
   "source": [
    "With our URL and params in place, we can make our first request."
   ]
  },
  {
   "cell_type": "code",
   "execution_count": 3,
   "id": "abd2fa02-4c88-4193-8d69-9bfc020808ed",
   "metadata": {},
   "outputs": [],
   "source": [
    "depts_page = requests.get(depts_url, params=params)"
   ]
  },
  {
   "cell_type": "markdown",
   "id": "9b8404a1-03d1-4b32-a7b0-7aaedb93587f",
   "metadata": {},
   "source": [
    "Here `depts_page` is an HTTP response object. The value of `200` means that the request succeeded (returned the expected content). The content of the page -- the HTML -- is available under the `.text` property of the response object."
   ]
  },
  {
   "cell_type": "code",
   "execution_count": null,
   "id": "347cda3b-48fb-4f0b-94c8-ccde56a6bf04",
   "metadata": {},
   "outputs": [],
   "source": [
    "depts_page"
   ]
  },
  {
   "cell_type": "code",
   "execution_count": null,
   "id": "ca4471c9-1586-41d2-8603-0e2300fcb6a6",
   "metadata": {},
   "outputs": [],
   "source": [
    "depts_page.text"
   ]
  },
  {
   "cell_type": "markdown",
   "id": "a9aa58c0-284f-45fb-860c-03693511a0a5",
   "metadata": {},
   "source": [
    "### Step 2. Parse the HTML\n",
    "\n",
    "To scrape web pages written in HTML, we target the HTML tags using a tool called a **parser**. The parser recognizes valid HTML and allows us to extract the information enclosed in the tags: for instance, the labels and URL's in a list of departments. \n",
    "\n",
    "Before parsing this page with Python, we'll step away from the notebook for a moment to look at some browser tools that can help us identify which elements to target."
   ]
  },
  {
   "cell_type": "markdown",
   "id": "d7b4135f-c15a-4958-bffb-4838d183babf",
   "metadata": {},
   "source": [
    "We'll use a library call [BeautifulSoup](https://www.crummy.com/software/BeautifulSoup/) to parse the HTML of this page. You may need to install it first, which you can do by running `!pip install beautifulsoup4` in a code cell below."
   ]
  },
  {
   "cell_type": "code",
   "execution_count": 4,
   "id": "6a914c34-3f2f-450e-befe-880e6756fbb4",
   "metadata": {},
   "outputs": [],
   "source": [
    "from bs4 import BeautifulSoup\n"
   ]
  },
  {
   "cell_type": "code",
   "execution_count": 5,
   "id": "efd51c16-b6f4-456f-a4ab-dd27cc0023fb",
   "metadata": {},
   "outputs": [],
   "source": [
    "soup = BeautifulSoup(depts_page.text, features=\"html.parser\")"
   ]
  },
  {
   "cell_type": "markdown",
   "id": "e695288a-2680-4d87-8ac5-00ab53038203",
   "metadata": {},
   "source": [
    "We can use the nested structure of HTML to target elements that are **children** (nested under) other elements. So if we want to retrieve all hyperlinks (`<a>` tags) inside the `<div>` with the `class` attribute value of `subjectsMain`, we can write the following:"
   ]
  },
  {
   "cell_type": "code",
   "execution_count": null,
   "id": "0812e4e3-9d41-4124-bdaf-835fcf1ae4ea",
   "metadata": {},
   "outputs": [],
   "source": [
    "soup.find(\"div\", class_=\"subjectsMain\").find_all(\"a\")"
   ]
  },
  {
   "cell_type": "markdown",
   "id": "9897acd4-1b65-4c8c-bd4e-dc85ca1b342c",
   "metadata": {},
   "source": [
    "The `find_all` method returns a Python list of BeautifulSoup objects, one for each HTML element that matches our query. \n",
    "\n",
    "In web scraping, we usually don't care about the HTML elements themselves; we want the text or data inside them. In this case, let's extract all of the `href` values, since each `href` is a link to a page listing the courses in a given department."
   ]
  },
  {
   "cell_type": "code",
   "execution_count": 6,
   "id": "fac09732-0d46-453d-8f0a-1561d6ef62fe",
   "metadata": {},
   "outputs": [],
   "source": [
    "links = [l['href'] for l in soup.find(\"div\", class_=\"subjectsMain\").find_all(\"a\")]"
   ]
  },
  {
   "cell_type": "code",
   "execution_count": 28,
   "id": "845282f3-f9a0-407b-ad90-83048315f6c5",
   "metadata": {},
   "outputs": [],
   "source": [
    "links = set(links)"
   ]
  },
  {
   "cell_type": "markdown",
   "id": "84577b5a-1102-48df-b50e-005411cfddf6",
   "metadata": {},
   "source": [
    "Note that `links` is a list of Python strings, each of which corresponds to a single URL. \n",
    "\n",
    "We use the Python `set()` function to dedupe the list of links -- always a good idea when scraping data from the web, since you never know what might be duplicated. \n",
    "\n",
    "The URL's in `links` are not complete: note that they're missing the `gwu.edu` domain. But we can use them to reconstruct a complete URL to a course listings page by simply appending the string `'https://my.gwu.edu/mod/pws/'` to the beginning of each URL in `links`.\n",
    "\n",
    "That way, we can automate scraping all the course schedule pages for the Fall 2023 semester, main campus. \n",
    "\n",
    "But before we proceed, it behooves us to look at the site's **robots.txt** file. Since the `mod/pws` directory is allowed, we can proceed to scrape knowing that we're not in violation of the website's policies."
   ]
  },
  {
   "cell_type": "markdown",
   "id": "48e61ce8-d51a-4a9e-a40e-0f8b9b8579b2",
   "metadata": {},
   "source": [
    "#### Challenge\n",
    "\n",
    "Can you write some Python code to retrieve all of the course-listing pages from the partial URL's in `links`? For now, just use the `requests` library to `get()` each page and store the page text in a list called `course_listings`. The following code stub will help you get started. "
   ]
  },
  {
   "cell_type": "code",
   "execution_count": null,
   "id": "8e5f859c-6e91-43bc-bcd4-aac946c54c41",
   "metadata": {},
   "outputs": [],
   "source": [
    "course_listings = []\n",
    "for link in links:\n",
    "    pass"
   ]
  },
  {
   "cell_type": "markdown",
   "id": "2516da31-6abd-4fc6-bf94-e85c48bce0f4",
   "metadata": {},
   "source": [
    "<details>\n",
    "    <summary style=\"font-size:14pt\">Click for a Solution</summary>\n",
    "<pre>\n",
    "<code>\n",
    "course_listings = []\n",
    "for link in links:\n",
    "    course_page = requests.get('https://my.gwu.edu/mod/pws/' + link)\n",
    "    course_listings.append(course_page.text)\n",
    "</code>\n",
    "</pre>\n",
    "</details>"
   ]
  },
  {
   "cell_type": "markdown",
   "id": "71d76874-bc06-4065-9ad9-36701bb287a9",
   "metadata": {},
   "source": [
    "Now that we have downloaded the HTML for all the course listings, we could use BeautifulSoup to extract the course schedules from each HTML document. We won't step through that together in the interest of time, but see the [bonus material](#Bonus-Material) at the bottom of this notebook for a detailed example."
   ]
  },
  {
   "cell_type": "markdown",
   "id": "ebfecff9-12ed-488d-a693-ad9d4f30801f",
   "metadata": {},
   "source": [
    "## Bot or Not\n",
    "\n",
    "Each course entry on the course schedules pages includes a link to the course's page on eFollet.com, where you can see the assigned textbooks for that course. For instance, here's the eFollet page for [BISC 2450](https://www.bkstr.com/georgewashingtonstore/follett-discover-view/booklook?shopBy=discoverViewCourse&bookstoreId=122&termId=202303&divisionDisplayName=&departmentDisplayName=BISC&courseDisplayName=2450&sectionDisplayName=10).\n",
    "\n",
    "So what happens if we try to request that page using the same methods as above?"
   ]
  },
  {
   "cell_type": "code",
   "execution_count": null,
   "id": "b11c679a-6195-4c55-8f7a-99445af26711",
   "metadata": {},
   "outputs": [],
   "source": [
    "books = requests.get('https://www.bkstr.com/georgewashingtonstore/follett-discover-view/booklook?shopBy=discoverViewCourse&bookstoreId=122&termId=202303&divisionDisplayName=&departmentDisplayName=BISC&courseDisplayName=2450&sectionDisplayName=10')"
   ]
  },
  {
   "cell_type": "code",
   "execution_count": null,
   "id": "8156b372-5f56-4006-ba3e-5d1125321081",
   "metadata": {},
   "outputs": [],
   "source": [
    "books"
   ]
  },
  {
   "cell_type": "code",
   "execution_count": null,
   "id": "027ce813-e8f7-4a8b-9f8e-608cd10246cd",
   "metadata": {},
   "outputs": [],
   "source": [
    "books.text"
   ]
  },
  {
   "cell_type": "markdown",
   "id": "32b07837-9ab5-453e-a427-459bb6336e56",
   "metadata": {},
   "source": [
    "Our request returns with a `403` status code, which is not a good sign. (Only something in the `200` range indicates a successful request.) And while the response does contain HTML, it's clearly not what we were expecting. So what went wrong?\n",
    "\n",
    "It's time to talk a bit about why websites (and their owners) may not want you to scrape their data, what kinds of other automation they might be trying to protect themselves from, and how that affects your ability to scrape websites.\n",
    "\n",
    "We'll also look more closely at the browser tools to learn more about the structure of HTTP requests."
   ]
  },
  {
   "cell_type": "markdown",
   "id": "771681d9-6ba6-412c-9084-73e24b96e236",
   "metadata": {},
   "source": [
    "## Anatomy of an HTTP Request\n",
    "\n",
    "In the demonstration just now, we saw that web browsers add a lot of information via the **headers** of HTTP requests. This information is typically invisible to the end user, but websites can use it (or exploit it) to do things like track their users and, more to the point as far as web scraping is concerned, try to determine whether a user is a person or a bot.\n",
    "\n",
    "(When we say \"person,\" we mean \"a person using a web browser to browse pages one at a time, usually for a purpose that does _not_ involve gathering large amounts of data from the site.\")\n",
    "\n",
    "By default, our requests made with the Python `requests` library honestly report (via the `User-Agent` header) their origin in a Python module. But if we are willing to fib a little, we can modify this behavior to foster the impression that the request is coming from a web browser."
   ]
  },
  {
   "cell_type": "markdown",
   "id": "17687ccf-babf-40b9-93fd-57c9fbc202b8",
   "metadata": {},
   "source": [
    "### Request Headers\n",
    "\n",
    "An HTTP request header is just a key-value pair, separated by a colon in the textual representation of the HTTP request. We can represent this in Python using a **dictionary**. \n",
    "\n",
    "The `requests.get` method takes an optional `headers` argument, which expects just such a dictionary. In the code below, we'll construct a deceptive header to bypass some bot detection at a sandbox site designed to help you practice web scraping."
   ]
  },
  {
   "cell_type": "code",
   "execution_count": null,
   "id": "f3b41e99-7883-4a91-8447-8a60dc1ff05c",
   "metadata": {},
   "outputs": [],
   "source": [
    "scrape_site_url = 'https://www.scrapethissite.com/pages/advanced/?gotcha=headers'\n",
    "requests.get(scrape_site_url)"
   ]
  },
  {
   "cell_type": "markdown",
   "id": "e8fdb1b5-fdba-4beb-a4a6-5c64032478ae",
   "metadata": {},
   "source": [
    "## How to Act Less Like a Bot"
   ]
  },
  {
   "cell_type": "markdown",
   "id": "85f4be43-b30d-4c12-810d-387338bde45f",
   "metadata": {},
   "source": [
    "Without any custom headers, we get a `400`, meaning the web server has refused to comply with our request. \n",
    "\n",
    "#### Challenge\n",
    "\n",
    "Using your browser tools when visiting the URL above, see if you can populate the `User-Agent` field in the dictionary below with a value that your web browser uses."
   ]
  },
  {
   "cell_type": "code",
   "execution_count": null,
   "id": "45a2d963-b4b1-4d97-8017-edcc46822be6",
   "metadata": {},
   "outputs": [],
   "source": [
    "headers = {'User-Agent': '', # Insert the brower's User-Agent string between the single quotes\n",
    "            'Accept': 'text/html'}"
   ]
  },
  {
   "cell_type": "markdown",
   "id": "4c4a21ce-8dc5-45f2-88e2-2e492412761f",
   "metadata": {},
   "source": [
    "<details>\n",
    "    <summary style=\"font-size:14pt\">Click for a Solution</summary>\n",
    "<pre>\n",
    "<code>\n",
    "# The User-Agent string from my Firefox browser on Mac OS X\n",
    "headers = {'User-Agent': 'Mozilla/5.0 (Macintosh; Intel Mac OS X 10_15_7) AppleWebKit/537.36 (KHTML, like Gecko) Chrome/116.0.0.0 Safari/537.36',\n",
    "            'Accept': 'text/html'}\n",
    "</code>\n",
    "</pre>\n",
    "</details>"
   ]
  },
  {
   "cell_type": "code",
   "execution_count": null,
   "id": "676fb9b8-1976-4b5e-bbe8-3d56f7522c87",
   "metadata": {},
   "outputs": [],
   "source": [
    "r = requests.get('https://www.scrapethissite.com/pages/advanced/?gotcha=headers', headers=headers)"
   ]
  },
  {
   "cell_type": "code",
   "execution_count": null,
   "id": "53336b67-be58-4ba7-a460-38c821a39e8f",
   "metadata": {},
   "outputs": [],
   "source": [
    "r"
   ]
  },
  {
   "cell_type": "markdown",
   "id": "5d26f6ed-b8e3-4a87-9fe2-9145dbcfea3d",
   "metadata": {},
   "source": [
    "With our **spoofed** `User-Agent` header, the site now accepts our request. This method can be one way to evade, or partially evade, bot detection, depending on how the web server is configured. Including other headers (derived from inspecting the successful requests made by your browser) may, in certain instances, also help. \n",
    "\n",
    "There's no one recipe for by-passing every form of bot detection that uses headers, nor is there even a way (apart from trial and error) to determine whether a site is using headers to filter traffic. But it's a relatively low-effort way to improve the odds that your web scraping will pass undetected. "
   ]
  },
  {
   "cell_type": "markdown",
   "id": "6e09ea4f-8557-4c63-8f1b-1ec09d55342b",
   "metadata": {},
   "source": [
    "## Hidden APIs\n",
    "\n",
    "Bot detection isn't the only thing that makes web scraping a challenge. The dynamic structure of many sites also makes them hard to scrape, even if the site isn't actively trying to deter bots. Contemporary web developers often build so-called **single-page apps**, where the HTML is generated in the browser by Javascript (as opposed to generated on the server). \n",
    "\n",
    "The problem these sites pose for scraping is this: an approach that makes a single HTTP request to a page -- such as we used above -- via a library like Python's `requests`, has no ability to **render** HTML; it can only **parse** it. If the HTML that you see when you visit the page with your browser requires **client-side Javascript** to be rendered, your Python script is at a loss: it can't do anything with Javascript. Much in the way that a `.docx` file can be opened only by certain kinds of applications, such web pages are intended to be viewed only by modern web browsers. \n",
    "\n",
    "For these cases, you may need the full capability of a web browser to scrape the site. Projects like [Selenium](https://selenium-python.readthedocs.io/index.html) provide tools for automating a web browser with Python code. But fair warning: these approaches can be quite tedious to implement, since it often becomes necessary to control for very fine-grained browser behavior that responds to the particular nuances of the site. A working knowledge of Javascript is often useful, in addition to Python and HTML.\n",
    "\n",
    "Fortunately, it's not always necessary to go that route when dealing with a dynamic web page. Such web pages still have to get their data from somewhere, even if they're generating the HTML on the spot. And since it's the data we're interested it, not the HTML, if we can identify the data source, we might be able to bypass the web page altogether!\n",
    "\n",
    "In what follows, we'll see how to access the data source for pages of results on the [Nintendo e-shop](https://www.nintendo.com/store/). "
   ]
  },
  {
   "cell_type": "markdown",
   "id": "9565a52f-ae09-449d-be39-b21d9c47088c",
   "metadata": {},
   "source": [
    "### Replicating an XHR request with Python\n",
    "\n",
    "Once we've identified the data source for the search results with the browser tools, we can try to replicate it in Python. \n",
    "\n",
    "This request is a **POST** request, meaning that instead of two parts (URL + parameters and headers), it has three, the third being some data that we submit to the server for processing. \n",
    "\n",
    "We'll recreate each part in turn before putting it all together."
   ]
  },
  {
   "cell_type": "markdown",
   "id": "17e73731-eff3-423c-9a6b-feb2169ebddc",
   "metadata": {},
   "source": [
    "#### Assembling the headers\n",
    "\n",
    "The headers we can copy directly from the `Headers` panel in the browser's network inspector. Just make sure you copy the **request** heades, not the response headers (which, at least on Firefox, are listed first).\n",
    "\n",
    "Since it's basically a multiline string, in Python we can paste the headers text between triple quotation marks."
   ]
  },
  {
   "cell_type": "code",
   "execution_count": null,
   "id": "183ee183-000d-4d2b-b1b5-085835f444d3",
   "metadata": {},
   "outputs": [],
   "source": [
    "nintendo_headers = '''\n",
    "Host: u3b6gr4ua3-dsn.algolia.net\n",
    "User-Agent: Mozilla/5.0 (Macintosh; Intel Mac OS X 10.15; rv:109.0) Gecko/20100101 Firefox/117.0\n",
    "Accept: */*\n",
    "Accept-Language: en-US,en;q=0.5\n",
    "Accept-Encoding: gzip, deflate, br\n",
    "x-algolia-api-key: a29c6927638bfd8cee23993e51e721c9\n",
    "x-algolia-application-id: U3B6GR4UA3\n",
    "content-type: application/x-www-form-urlencoded\n",
    "Content-Length: 301\n",
    "Origin: https://www.nintendo.com\n",
    "Connection: keep-alive\n",
    "Referer: https://www.nintendo.com/\n",
    "Sec-Fetch-Dest: empty\n",
    "Sec-Fetch-Mode: cors\n",
    "Sec-Fetch-Site: cross-site\n",
    "Pragma: no-cache\n",
    "Cache-Control: no-cache\n",
    "'''"
   ]
  },
  {
   "cell_type": "markdown",
   "id": "e10ae85c-bdfb-4a92-bc83-87bf6695f008",
   "metadata": {},
   "source": [
    "The `headers` argument to `requests.post` needs to be a dictionary. But since the headers string is a sequence of key-value pairs, delimited by colons, we can convert it to a dictionary like so:"
   ]
  },
  {
   "cell_type": "code",
   "execution_count": null,
   "id": "591d0989-39ca-455c-8ecb-36fb7271ba63",
   "metadata": {},
   "outputs": [],
   "source": [
    "nintendo_headers = dict([h.split(sep=': ', maxsplit=1) for h in nintendo_headers.split('\\n') if h])"
   ]
  },
  {
   "cell_type": "code",
   "execution_count": null,
   "id": "0f49eeb9-e6e5-47a7-a050-7ca2f78fc07d",
   "metadata": {},
   "outputs": [],
   "source": [
    "nintendo_headers"
   ]
  },
  {
   "cell_type": "markdown",
   "id": "70d9b2ce-9c31-4985-9da7-9e0520732da8",
   "metadata": {},
   "source": [
    "#### URL & parameters\n",
    "\n",
    "The URL can also be copied from the browser's network inspector. The parameters are already encoded as part of the URL."
   ]
  },
  {
   "cell_type": "code",
   "execution_count": null,
   "id": "257f4773-756b-4eef-89f0-aaf6035f247f",
   "metadata": {},
   "outputs": [],
   "source": [
    "nintendo_url = 'https://u3b6gr4ua3-dsn.algolia.net/1/indexes/*/queries?x-algolia-agent=Algolia%20for%20JavaScript%20(4.19.0)%3B%20Browser%3B%20JS%20Helper%20(3.13.5)%3B%20react%20(17.0.2)%3B%20react-instantsearch%20(6.40.3)'"
   ]
  },
  {
   "cell_type": "markdown",
   "id": "f3647290-47b9-48e9-acbf-e3250bba90dc",
   "metadata": {},
   "source": [
    "#### Request body\n",
    "\n",
    "The **body** of the request, in this case, contains what's called **form-encoded data**, which simply means that it originated in a web form (the advanced search). We can simply copy and paste; it's already in JSON format, so we don't need to do anything additional to it. "
   ]
  },
  {
   "cell_type": "code",
   "execution_count": null,
   "id": "6cb6ec3b-d4c1-4ccd-98f6-1b83db253463",
   "metadata": {},
   "outputs": [],
   "source": [
    "nintendo_json = {\"requests\":[{\"indexName\":\"store_game_en_us\",\"params\":\"analytics=true&attributesToHighlight=%5B%22description%22%5D&clickAnalytics=true&facetingAfterDistinct=true&facets=%5B%22*%22%5D&filters=&highlightPostTag=%5E*&highlightPreTag=%5E*%5E%5E&hitsPerPage=40&maxValuesPerFacet=100&page=0&tagFilters=\"}]}"
   ]
  },
  {
   "cell_type": "markdown",
   "id": "77ecd14d-6a62-48b7-b0a4-3cc4dd2df4a6",
   "metadata": {},
   "source": [
    "Now let's make a request!"
   ]
  },
  {
   "cell_type": "code",
   "execution_count": null,
   "id": "c2b91db9-ded6-46a0-8491-9e3dcd7cae87",
   "metadata": {},
   "outputs": [],
   "source": [
    "r = requests.post(nintendo_url, headers=nintendo_headers, json=nintendo_json)"
   ]
  },
  {
   "cell_type": "code",
   "execution_count": null,
   "id": "4cacc97a-5ef6-4082-a4ba-63466bd35a1d",
   "metadata": {},
   "outputs": [],
   "source": [
    "r"
   ]
  },
  {
   "cell_type": "markdown",
   "id": "328a159a-f2c1-4fdb-8491-1a6a0e457ab5",
   "metadata": {},
   "source": [
    "Remember that this response should not be HTML. We're expecting **JSON**. And to access the JSON, we first need to parse it. Fortunately, the `requests` library has us covered."
   ]
  },
  {
   "cell_type": "code",
   "execution_count": null,
   "id": "288e14c9-740d-4015-ba84-b59fa72cf7a9",
   "metadata": {},
   "outputs": [],
   "source": [
    "nintendo_data = r.json()"
   ]
  },
  {
   "cell_type": "code",
   "execution_count": null,
   "id": "5bb3c6dd-b51c-4a8c-af4a-a459b88e1967",
   "metadata": {},
   "outputs": [],
   "source": [
    "nintendo_data"
   ]
  },
  {
   "cell_type": "markdown",
   "id": "2ae76b36-2daa-424d-a7ae-19e6394e607b",
   "metadata": {},
   "source": [
    "The nice thing about JSON data is that we don't have to bother with HTML parsers like BeautifulSoup. When we parse the data with the `.json()` method, it becomes a regular Python object: in this case, a (rather nested) list of dictionaries."
   ]
  },
  {
   "cell_type": "code",
   "execution_count": null,
   "id": "61b301a0-4890-48e0-9b90-5087b9556990",
   "metadata": {},
   "outputs": [],
   "source": [
    "nintendo_data['results'][0]['hits'][0]['title']"
   ]
  },
  {
   "cell_type": "markdown",
   "id": "87738590-3154-4820-b352-ec78bcea1042",
   "metadata": {},
   "source": [
    "What we've done is identified the **data source** used by the Javascript on the page to generate the HTML. By going directly to the data source, we can dramatically simplify our scraping code. This approach is often referred to as using a **hidden API** -- hidden because not publicly advertised, hidden from users behind a curtain of HTML and Javascript.\n",
    "\n",
    "Note that we reproduced the exact request made by our browser, including the headers, in order to try to forestall any bot detection (which may or may not be present). \n",
    "\n",
    "Another advantage of this approach, in this case, is that getting data from subsequent pages of results is relatively straightforward. All we have to do is modify the `page=0` parameter in the JSON request data.\n",
    "\n",
    "If we use Python string formatting, we can even do this in a `for` loop. Let's get the first three pages of results."
   ]
  },
  {
   "cell_type": "code",
   "execution_count": null,
   "id": "678cd7fc-afca-4b43-af3b-29f05e4e73e7",
   "metadata": {},
   "outputs": [],
   "source": [
    "param_str = \"analytics=true&attributesToHighlight=%5B%22description%22%5D&clickAnalytics=true&facetingAfterDistinct=true&facets=%5B%22*%22%5D&filters=&highlightPostTag=%5E*&highlightPreTag=%5E*%5E%5E&hitsPerPage=40&maxValuesPerFacet=100&page={page_num}&tagFilters=\""
   ]
  },
  {
   "cell_type": "code",
   "execution_count": null,
   "id": "135957ac-c52d-458e-99f7-01e93ef52f5b",
   "metadata": {},
   "outputs": [],
   "source": [
    "results = []\n",
    "for i in range(3):\n",
    "    nintendo_json['requests'][0]['params'] = param_str.format(page_num=i)\n",
    "    r = requests.post(nintendo_url, headers=nintendo_headers, json=nintendo_json)\n",
    "    data = r.json()\n",
    "    results.extend(data['results'][0]['hits'])"
   ]
  },
  {
   "cell_type": "code",
   "execution_count": null,
   "id": "a572e454-7360-4646-92cd-58b430bbbd78",
   "metadata": {},
   "outputs": [],
   "source": [
    "len(results)"
   ]
  },
  {
   "cell_type": "markdown",
   "id": "4c688211-e06e-4684-9433-6f0e9e24b7dc",
   "metadata": {},
   "source": [
    "## Bonus Material\n",
    "\n",
    "### Scraping Course Schedules\n",
    "\n",
    "If you've run all the code above and completed the challenge at the end of the section [Step 2. Parsing the HTML](#step-2-parse-the-html), you should have a variable called `course_listings` that is a list of the pages associated with each department in the GW Schedule of Classes (Main Campus, Fall 2023). \n",
    "\n",
    "To extract the schedules from these pages, we'll need to parse each page using BeautifulSoup. "
   ]
  },
  {
   "cell_type": "markdown",
   "id": "588e955b-f503-435e-a5d8-464776f69e59",
   "metadata": {},
   "source": [
    "Let's say we're interested in extracting the following information:\n",
    " - the days and times each course meets, along with \n",
    " - the dept code,\n",
    " - course number,\n",
    " - course title, and\n",
    " - section number.\n",
    "\n",
    "Looking at the HTML in the browser's inspector for [this page](https://my.gwu.edu/mod/pws/courses.cfm?campId=1&termId=202303&subjId=ASTR), which shows the course schedules for the Astronomy department, we can see that each course is an HTML [table](https://developer.mozilla.org/en-US/docs/Learn/HTML/Tables/Basics) with a `class` attribute of `courseListing`. (The `<table>` element has multiple classes, separated by spaces, but we can use the first one, which seems the most relevant.\n",
    "\n",
    "Within the `<table>` element, the schedule information is in the first row (`<tr>`). "
   ]
  },
  {
   "attachments": {},
   "cell_type": "markdown",
   "id": "f2e7a1eb-d173-45c0-90eb-e05df3cd021c",
   "metadata": {},
   "source": [
    "![Screenshot 2023-09-15 at 9.11.53 AM.png](https://github.com/gwu-libraries/gwlibraries-workshops/blob/master/web-scraping/html-2.png?raw=true)"
   ]
  },
  {
   "cell_type": "markdown",
   "id": "e45e9a55-d64e-4643-9710-4aca4f98b825",
   "metadata": {},
   "source": [
    "Specifically, the relevant data points we want are in the 3rd, 4th, 5th, and 9th cells (the `<td>` elements) within the first `<tr>` element of each table.\n",
    "\n",
    "Below is how we can target those elements for a single page."
   ]
  },
  {
   "cell_type": "markdown",
   "id": "abea64f9-dc92-462a-9c95-96b8590ade05",
   "metadata": {},
   "source": [
    "**Step 1**: Parse the HTML for the page"
   ]
  },
  {
   "cell_type": "code",
   "execution_count": 11,
   "id": "a47a4b34-9a51-463d-9e1c-0b92da4daf16",
   "metadata": {},
   "outputs": [],
   "source": [
    "course_page = BeautifulSoup(course_listings[0], features=\"html.parser\")"
   ]
  },
  {
   "cell_type": "markdown",
   "id": "e4260902-4f4c-4bd9-8a6b-553395ccb291",
   "metadata": {},
   "source": [
    "**Step 2**: Extract all the `<table>` elements that have the `courseListing` class attribute. (There should be one per course)."
   ]
  },
  {
   "cell_type": "code",
   "execution_count": 12,
   "id": "2efb7b0f-484b-4e84-a433-a3cb5c996c6f",
   "metadata": {},
   "outputs": [],
   "source": [
    "tables = course_page.find_all('table', class_='courseListing')"
   ]
  },
  {
   "cell_type": "markdown",
   "id": "f39eeded-64ab-41ca-afda-eef306867efa",
   "metadata": {},
   "source": [
    "**Step 3**: Now we want to extract the text from the relevant cells from each table. \n",
    "\n",
    "Within the `for` loop below, the `table.find('tr')` method call extracts the first row from each table, and the call to `find_all('td')` extracts all of the cells within that row. \n",
    "\n",
    "Then we use Python indexing to target the particular table cells we want, and access the `text` attribute to extract the text from those elements. (Remember that in web scraping, we usually want to extract the text from elements and attributes; we don't really care about the elements or attributes themselves, except insofar as they lead us to the desired text, which is ultimately the content of the web apge.)\n",
    "\n",
    "We wrap each collection of course information in a Python dictionary and `append` that dictionary to a list."
   ]
  },
  {
   "cell_type": "code",
   "execution_count": 13,
   "id": "302278bb-2223-48fc-b682-926b64af8b51",
   "metadata": {},
   "outputs": [],
   "source": [
    "courses = []\n",
    "for table in tables:\n",
    "    cells = table.find('tr').find_all('td')\n",
    "    course = {'course_code': cells[2].text.split(),\n",
    "            'section': cells[3].text,\n",
    "            'title': cells[4].text,\n",
    "            'times': cells[8].text.split('AND')}\n",
    "    courses.append(course)"
   ]
  },
  {
   "cell_type": "markdown",
   "id": "1245773d-396f-4ec1-9bea-ca077cb68e1a",
   "metadata": {},
   "source": [
    "Now `courses` should contain the information from the course listings for the first department in our list."
   ]
  },
  {
   "cell_type": "code",
   "execution_count": null,
   "id": "ca6284ee-9381-456d-8683-b3bc45961928",
   "metadata": {
    "scrolled": true
   },
   "outputs": [],
   "source": [
    "courses"
   ]
  },
  {
   "cell_type": "markdown",
   "id": "64dd14a9-9894-4b70-9f25-27cc3e1b5deb",
   "metadata": {},
   "source": [
    "**Step 4:** Now we can repeat this process for each page in the `course_listings` list. \n",
    "\n",
    "It will be cleaner to refactor the code above into a Python function, so that we can simply call that function once per page."
   ]
  },
  {
   "cell_type": "code",
   "execution_count": 8,
   "id": "92032780-7614-4ba4-aa25-d4c615a005ce",
   "metadata": {},
   "outputs": [],
   "source": [
    "def scrape_course_info(page):\n",
    "    soup = BeautifulSoup(page, features=\"html.parser\")\n",
    "    tables = soup.find_all('table', class_='courseListing')\n",
    "    courses = []\n",
    "    for table in tables:\n",
    "        cells = table.find('tr').find_all('td')\n",
    "        course = {'course_code': cells[2].text.split(),\n",
    "                'section': cells[3].text,\n",
    "                'title': cells[4].text,\n",
    "                'times': cells[8].text.split('AND')}\n",
    "        courses.append(course)\n",
    "    return courses"
   ]
  },
  {
   "cell_type": "markdown",
   "id": "4fa0a718-76bb-4bbf-a869-73a41adffb3a",
   "metadata": {},
   "source": [
    "Now we can loop over `course_listings`, calling our function on each pass through the list. We use the `extend` method to add the results of each call to `scrape_course_info` to one big list, which will hold the course info for all course pages (across all departments)."
   ]
  },
  {
   "cell_type": "code",
   "execution_count": 31,
   "id": "b91a1b19-552e-4d72-99f9-4044e3c839e0",
   "metadata": {},
   "outputs": [],
   "source": [
    "all_courses = []\n",
    "for listing in course_listings:\n",
    "    courses = scrape_course_info(listing)\n",
    "    all_courses.extend(courses)"
   ]
  },
  {
   "cell_type": "markdown",
   "id": "02a3b54a-69e6-4bf6-9b54-431469f1fa0c",
   "metadata": {},
   "source": [
    "Now we have the information for 1,650 courses!"
   ]
  },
  {
   "cell_type": "code",
   "execution_count": 32,
   "id": "271bd4a1-0f1b-46f9-b9fc-4718119a615d",
   "metadata": {},
   "outputs": [
    {
     "data": {
      "text/plain": [
       "1650"
      ]
     },
     "execution_count": 32,
     "metadata": {},
     "output_type": "execute_result"
    }
   ],
   "source": [
    "len(all_courses)"
   ]
  },
  {
   "cell_type": "markdown",
   "id": "f4d19a3b-3039-4e3d-a991-9c172ba93b19",
   "metadata": {},
   "source": [
    "### Bonus Bonus! Getting multiple pages of course listings\n",
    "\n",
    "We're technically not finished yet, because some course listings extend across multiple pages. In our initial scraping, we retrieved only the first page of results for each department.\n",
    "\n",
    "For example, look at the page for [Arabic](https://my.gwu.edu/mod/pws/courses.cfm?campId=1&termId=202303&subjId=ARAB). Note the (rather small) `Next Page >>` link on the right-hand side of the page (above the actual course listings). There's also an element labeled `Result Page` that has a link to each page. (In this case, there are only two.) "
   ]
  },
  {
   "attachments": {},
   "cell_type": "markdown",
   "id": "f96d5c12-385a-4c87-ac75-97a029cc32b4",
   "metadata": {},
   "source": [
    "![Screenshot 2023-09-15 at 9.33.13 AM.png](https://github.com/gwu-libraries/gwlibraries-workshops/blob/master/web-scraping/sched-1.png?raw=true)"
   ]
  },
  {
   "cell_type": "markdown",
   "id": "f9ce5905-ce54-4c34-a6dc-aca7f8feb790",
   "metadata": {},
   "source": [
    "When you encounter paginated results on a web site, there are a few different possibilities. \n",
    "\n",
    "1. In the most straightforward case (for scraping purposes), each page of results is a separate page on the server. You can often tell if this is the case by visiting the next page of results and noting whether the URL changes. If the URL changes -- for instance, by the presence of a parameter indicating the page number -- then retrieving all of the results pages is only a matter of making successive requests to the site, updating the URL accordingly. **Unfortunately, for the GW Schedule of Classes, this is not the case.** The URL of the course listings is the same, regardless of which page of results one is visiting.\n",
    "   \n",
    "2. Another possibility is that the page uses Javascript to reload the page with new data. As it turns out, that's how pagination works on the GW Schedule of Classes. If you look closely, when you mouse over the `Next Page >>` link or the `2` link in your browser, you might see a little flag at the bottom of the window indicating that this link will trigger some Javascript. This indicates that going to a specific page of results calls a Javascript function.\n",
    "\n",
    "3. The third possibility, which is subtly different from the second, is that the Javascript function doesn't reload the page but instead retrieves some data from the server and uses that data to update the page. The difference is that in this case, because the HTML is updated by the browser after the page has already been loaded, we can't use Python to parse the updated HTML (without relying on something like Selenium -- see the section on [Hidden API's](#hidden-apis) above."
   ]
  },
  {
   "attachments": {},
   "cell_type": "markdown",
   "id": "c2b0ea3e-4702-47f0-8622-cfab39c7aac2",
   "metadata": {},
   "source": [
    "![Screenshot 2023-09-15 at 9.41.53 AM.png](https://github.com/gwu-libraries/gwlibraries-workshops/blob/master/web-scraping/sched-2.png?raw=true)"
   ]
  },
  {
   "cell_type": "markdown",
   "id": "dd9ca0a6-fc1d-4db9-b15a-5f7d69614515",
   "metadata": {},
   "source": [
    "In this case, using the `Network` tab on our browser's inspector, we can see that, when we click the `2` link to go to the second page, the first request made is a `POST` request which returns HTML, not JSON or some other format. This indicates that the Javascript function is actually loading a new page (not just loading data and adding it to the current page)."
   ]
  },
  {
   "attachments": {},
   "cell_type": "markdown",
   "id": "507a12cd-364e-4a24-8f4d-4e38956e0a7f",
   "metadata": {},
   "source": [
    "![Screenshot 2023-09-15 at 10.03.40 AM.png](https://github.com/gwu-libraries/gwlibraries-workshops/blob/master/web-scraping/inspector-1.png?raw=true)"
   ]
  },
  {
   "cell_type": "markdown",
   "id": "87848135-f480-4c41-8c1f-7dfeac7acb68",
   "metadata": {},
   "source": [
    "And if we look at the `Request` panel when selecting the above request, we can see how the page number was passed to the server. The page number -- `2` in the example below -- was associated with a `pageNum` key in the `POST` request to the server. \n",
    "\n",
    "We can replicate this `POST` request in order to get subsequent pages of results."
   ]
  },
  {
   "attachments": {},
   "cell_type": "markdown",
   "id": "f155dfe6-8ad4-4e89-9963-3bfac757aef0",
   "metadata": {},
   "source": [
    "![Screenshot 2023-09-15 at 10.06.31 AM.png](https://github.com/gwu-libraries/gwlibraries-workshops/blob/master/web-scraping/inspector-2.png?raw=true)"
   ]
  },
  {
   "cell_type": "markdown",
   "id": "a94ed6b0-326d-46b9-ae9a-41c55a387af9",
   "metadata": {},
   "source": [
    "One approach would be as follows:\n",
    "\n",
    "We already have the first page of each set of course schedules -- in our `course_listings` variable above. We also have the URL of each of these pages in our `links` variable. (The length and order of both lists should be the same, since we visited each link in order to obtain the pages in `course_listings`, and we haven't reordered or changed either list. \n",
    "\n",
    "So for each page in `course_listings`, we can do the following:\n",
    "\n",
    "1. Extract any links on the page having for their destination `javascript:goToPage`. (That will be in the `href` attribute of the `<a>` tag.)\n",
    "2. For all links on the page where the argument to `goToPage` is greater than `1` (we already have the first page, so we don't need to get it again), visit the page URL (stored in the `links` list), passing the page number in a `POST` request.\n",
    "3. Scrape these pages and add them to our `courses` list, using our function defined above."
   ]
  },
  {
   "cell_type": "code",
   "execution_count": 33,
   "id": "593b72f0-21d0-44a4-b85e-5cbc7d467e63",
   "metadata": {},
   "outputs": [],
   "source": [
    "# We will use a regular expression to identify those <a> tags that contain a certain string in their href attributes\n",
    "# For more on regular expressions, see the Python documentation: https://docs.python.org/3/library/re.html\n",
    "import re\n",
    "# The Python zip() function is a handy tool for looping over multiple lists in parallel\n",
    "for page, url in zip(course_listings, links):\n",
    "    # Since course_listings contains the raw HTML of each page, we need to parse it first\n",
    "    page_html = BeautifulSoup(page, features=\"html.parser\")\n",
    "    # Find all a tags that match a given string\n",
    "    page_nums =  page_html.find_all('a', href=re.compile('javascript:goToPage')) \n",
    "    # Loop over each matching element\n",
    "    for page_num in page_nums:\n",
    "        # We don't need to get the first page (we already have it)\n",
    "        if page_num.text != '1':\n",
    "            page_data = requests.post('https://my.gwu.edu/mod/pws/' + url, \n",
    "                              headers={'Content-Type': 'application/x-www-form-urlencoded'}, # This special head tells the server to expect form data\n",
    "                              data=f\"pageNum={page_num.text}\")  # Because it's form-urlencoded, we pass the data as a string\n",
    "            next_page_courses = scrape_course_info(page_data.text)\n",
    "            all_courses.extend(next_page_courses)"
   ]
  }
 ],
 "metadata": {
  "kernelspec": {
   "display_name": "Python 3 (ipykernel)",
   "language": "python",
   "name": "python3"
  },
  "language_info": {
   "codemirror_mode": {
    "name": "ipython",
    "version": 3
   },
   "file_extension": ".py",
   "mimetype": "text/x-python",
   "name": "python",
   "nbconvert_exporter": "python",
   "pygments_lexer": "ipython3",
   "version": "3.11.7"
  }
 },
 "nbformat": 4,
 "nbformat_minor": 5
}
