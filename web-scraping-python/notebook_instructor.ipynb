{
  "nbformat": 4,
  "nbformat_minor": 0,
  "metadata": {
    "colab": {
      "name": "Updated_Oct_2021_notebook-instructor.ipynb",
      "provenance": [],
      "collapsed_sections": []
    },
    "kernelspec": {
      "name": "python3",
      "display_name": "Python 3"
    }
  },
  "cells": [
    {
      "cell_type": "markdown",
      "metadata": {
        "id": "UuIowtekqdKO"
      },
      "source": [
        "Remember to periodically save!"
      ]
    },
    {
      "cell_type": "markdown",
      "metadata": {
        "id": "m3y8TlR2lFM-"
      },
      "source": [
        "# Web Scraping with Requests-HTML\n",
        "\n",
        "Documentation: https://requests.readthedocs.io/projects/requests-html/en/latest/\n",
        "\n",
        "If you've used Python for getting web pages, connecting to an API, or getting files off the web, odds are you've encountered the requests library. The library we're using today, Requests-HTML (note the different name) was developed by the author of the requests, Kenneth Reitz.  It's intended to be an easy-to-learn web scraping library, it's basically a layer on top of requests and BeautifulSoup. BeautifulSoup is another good basic Python library for parsing HTML. Lots of tutorials and documentation on it. \n",
        "\n",
        "\n",
        "## Part 1: Scraping headlines from the GW Hatchet\n",
        "\n",
        "Before we start scraping, let's look at the robots.txt file for the site. This is a list of instructions to crawlers--usually search engines--about how to crawl the site and which parts to stay away from. \n",
        "\n",
        "https://www.gwhatchet.com/robots.txt\n",
        "\n",
        "Note that this site is very open about crawling. That doesn't mean there aren't still legal and ethical considerations, but we're respecting their instructions about the site. \n",
        "\n",
        "\n",
        "**Getting started**\n",
        "\n",
        "First we need to install the `requests_html` Python library using the pip command."
      ]
    },
    {
      "cell_type": "code",
      "metadata": {
        "id": "wqrCkPF_h6Lq"
      },
      "source": [
        "! pip install requests_html"
      ],
      "execution_count": null,
      "outputs": []
    },
    {
      "cell_type": "code",
      "metadata": {
        "id": "_ULpyL6Gh7Jb"
      },
      "source": [
        "from requests_html import HTMLSession"
      ],
      "execution_count": 3,
      "outputs": []
    },
    {
      "cell_type": "markdown",
      "metadata": {
        "id": "pwCI4gvvoq5C"
      },
      "source": [
        "We  need to make an HTTP GET request to get the website HTML. To do this we create an HTMLSession. That session object has methods to make GET requests. \n",
        "\n",
        "The get() method takes the URL as an argument. Sends an HTTP GET request. \n",
        "\n"
      ]
    },
    {
      "cell_type": "code",
      "metadata": {
        "id": "qi2LtNMAiInM"
      },
      "source": [
        "session = HTMLSession()\n",
        "\n",
        "r = session.get('https://www.gwhatchet.com/section/news/')"
      ],
      "execution_count": 4,
      "outputs": []
    },
    {
      "cell_type": "code",
      "metadata": {
        "colab": {
          "base_uri": "https://localhost:8080/",
          "height": 0
        },
        "id": "ACd8zgLk5kru",
        "outputId": "053cc4cd-ac77-46c4-b955-53c4a5ef0d48"
      },
      "source": [
        "r.html"
      ],
      "execution_count": 6,
      "outputs": [
        {
          "output_type": "execute_result",
          "data": {
            "text/plain": [
              "<HTML url='https://www.gwhatchet.com/section/news/'>"
            ]
          },
          "metadata": {},
          "execution_count": 6
        }
      ]
    },
    {
      "cell_type": "markdown",
      "metadata": {
        "id": "E2FjCtI0k3BI"
      },
      "source": [
        "`r` is a Response object and it has an html attribute which contains all of the HTML from the page in Unicode. We can look at the web page's text using the text attribute.  This is like looking at the text content of all of the HTML tags. "
      ]
    },
    {
      "cell_type": "code",
      "metadata": {
        "id": "MI7rZ_7ciNVo",
        "colab": {
          "base_uri": "https://localhost:8080/",
          "height": 120
        },
        "outputId": "03c3cdbc-613e-4399-9091-122c316ab770"
      },
      "source": [
        "r.html.text"
      ],
      "execution_count": 5,
      "outputs": [
        {
          "output_type": "execute_result",
          "data": {
            "application/vnd.google.colaboratory.intrinsic+json": {
              "type": "string"
            },
            "text/plain": [
              "'News – The GW Hatchet\\nwindow._wpemojiSettings = {\"baseUrl\":\"https:\\\\/\\\\/s.w.org\\\\/images\\\\/core\\\\/emoji\\\\/12.0.0-1\\\\/72x72\\\\/\",\"ext\":\".png\",\"svgUrl\":\"https:\\\\/\\\\/s.w.org\\\\/images\\\\/core\\\\/emoji\\\\/12.0.0-1\\\\/svg\\\\/\",\"svgExt\":\".svg\",\"source\":{\"concatemoji\":\"https:\\\\/\\\\/www.gwhatchet.com\\\\/wp-includes\\\\/js\\\\/wp-emoji-release.min.js?ver=5.4\"}}; /*! This file is auto-generated */ !function(e,a,t){var r,n,o,i,p=a.createElement(\"canvas\"),s=p.getContext&&p.getContext(\"2d\");function c(e,t){var a=String.fromCharCode;s.clearRect(0,0,p.width,p.height),s.fillText(a.apply(this,e),0,0);var r=p.toDataURL();return s.clearRect(0,0,p.width,p.height),s.fillText(a.apply(this,t),0,0),r===p.toDataURL()}function l(e){if(!s||!s.fillText)return!1;switch(s.textBaseline=\"top\",s.font=\"600 32px Arial\",e){case\"flag\":return!c([127987,65039,8205,9895,65039],[127987,65039,8203,9895,65039])&&(!c([55356,56826,55356,56819],[55356,56826,8203,55356,56819])&&!c([55356,57332,56128,56423,56128,56418,56128,56421,56128,56430,56128,56423,56128,56447],[55356,57332,8203,56128,56423,8203,56128,56418,8203,56128,56421,8203,56128,56430,8203,56128,56423,8203,56128,56447]));case\"emoji\":return!c([55357,56424,55356,57342,8205,55358,56605,8205,55357,56424,55356,57340],[55357,56424,55356,57342,8203,55358,56605,8203,55357,56424,55356,57340])}return!1}function d(e){var t=a.createElement(\"script\");t.src=e,t.defer=t.type=\"text/javascript\",a.getElementsByTagName(\"head\")[0].appendChild(t)}for(i=Array(\"flag\",\"emoji\"),t.supports={everything:!0,everythingExceptFlag:!0},o=0;o<i.length;o++)t.supports[i[o]]=l(i[o]),t.supports.everything=t.supports.everything&&t.supports[i[o]],\"flag\"!==i[o]&&(t.supports.everythingExceptFlag=t.supports.everythingExceptFlag&&t.supports[i[o]]);t.supports.everythingExceptFlag=t.supports.everythingExceptFlag&&!t.supports.flag,t.DOMReady=!1,t.readyCallback=function(){t.DOMReady=!0},t.supports.everything||(n=function(){t.readyCallback()},a.addEventListener?(a.addEventListener(\"DOMContentLoaded\",n,!1),e.addEventListener(\"load\",n,!1)):(e.attachEvent(\"onload\",n),a.attachEvent(\"onreadystatechange\",function(){\"complete\"===a.readyState&&t.readyCallback()})),(r=t.source||{}).concatemoji?d(r.concatemoji):r.wpemoji&&r.twemoji&&(d(r.twemoji),d(r.wpemoji)))}(window,document,window._wpemojiSettings);\\nimg.wp-smiley, img.emoji { display: inline !important; border: none !important; box-shadow: none !important; height: 1em !important; width: 1em !important; margin: 0 .07em !important; vertical-align: -0.1em !important; background: none !important; padding: 0 !important; }\\n.has-text-align-justify{text-align:justify;}\\n{\"sampling_active\":0,\"sampling_rate\":100,\"ajax_url\":\"https:\\\\/\\\\/www.gwhatchet.com\\\\/wp-json\\\\/wordpress-popular-posts\\\\/v1\\\\/popular-posts\",\"ID\":0,\"token\":\"ce698026d9\",\"lang\":0,\"debug\":0}\\n{\"@context\":\"http:\\\\/\\\\/schema.org\",\"@type\":\"WebSite\",\"url\":\"https:\\\\/\\\\/www.gwhatchet.com\",\"name\":\"The GW Hatchet\"}\\nvar googletag = googletag || {}; var mapping = {}; var wide_mapping = {}; var wide_only_mapping = {}; var wide_preferred_mapping = {}; googletag.cmd = googletag.cmd || []; googletag.cmd.push(function() { mapping = googletag.sizeMapping() .addSize([1000, 0], [300, 250]) .addSize([750, 0], [728, 90]) .addSize([300, 0], [300, 250]) .addSize([0, 0], []) .build(); wide_mapping = googletag.sizeMapping() .addSize([750, 0], [728, 90]) .addSize([300, 0], [300, 250]) .addSize([0, 0], []) .build(); wide_only_mapping = googletag.sizeMapping() .addSize([750, 0], [728, 90]) .addSize([0, 0], []) .build(); wide_preferred_mapping = googletag.sizeMapping() .addSize([750, 0], [[728, 90], [300, 250]]) .addSize([300, 0], [300, 250]) .addSize([0, 0], []) .build(); rect_only_mapping = googletag.sizeMapping() .addSize([300, 0], [300, 250]) .addSize([0, 0], []) .build(); }); googletag.cmd.push(function() { var home_top = googletag.defineSlot(\\'/189534361/home_top\\', [[728, 90], [300, 250]], \\'div-gpt-ad-1479223395078-0\\').addService(googletag.pubads()); home_top.defineSizeMapping(mapping); googletag.enableServices(); }); function createTag(slot_name, sizes, tag_id, index, mapping) { return function() { var home_inner = googletag.defineSlot(\\'/189534361/\\'+slot_name, sizes, \\'div-gpt-ad-\\'+tag_id+\\'-\\'+index).addService(googletag.pubads()); home_inner.defineSizeMapping(window[mapping]); googletag.enableServices(); }; } for (var i = 0; i < 5; i++) { googletag.cmd.push(createTag(\\'home_inter\\', [[728, 90], [300, 250]], \\'1483201362070\\', i, \\'wide_mapping\\')); } googletag.cmd.push(createTag(\\'story_top\\', [[728, 90]], \\'1483205102802\\', 0, \\'wide_only_mapping\\')); googletag.cmd.push(createTag(\\'story_bottom\\', [[728, 90], [300, 250]], \\'1483220287344\\', 0, \\'wide_preferred_mapping\\'));\\n.dropbtn { border: none; cursor: pointer; } /* The container <div> - needed to position the dropdown content */ .dropdown { display: inline-block; position: relative; padding-left: 4px; padding-right: 4px; } /* Dropdown Content (Hidden by Default) */ .dropdown-content { display: none; margin-top: -0.1em; position: absolute; background-color: #02293d; width: 200px; font-size: 0.8rem; z-index: 1; margin-left: -4px; } .dropdown-content a { color: white; width: 100%; padding: 12px 16px; text-decoration: none; display: block; font-family: \"Source Sans Pro\", -system, -apple-system, \"Helvetica Neue\", \"Segoe UI\", \"Arial\", sans-serif; } /* Change color of dropdown links on hover */ .dropdown-content a:hover {background-color: #003b5c} /* Show the dropdown menu on hover */ /* Change the background color of the dropdown button when the dropdown content is shown */ .dropdown:hover { background-color: #02293d; } input[type=\\'checkbox\\'] { display: none; pointer-events: none; } .check-lbl { width: 100%; height: 100%; position: absolute; display: block; } /*show the submenu when input is checked*/ .mobile-only-drop-link { display: none; } @media (min-width: 999px) { .dropdown:hover .dropdown-content { display: block; } .check-lbl { display: none; } } /*Mobile only*/ @media (max-width: 999px) { .dropdown { display: block; background-color: #003b5c; padding-left: 4px; padding-right: 4px; } .dropdown:hover { background-color: #003b5c; } .dropdown-content { margin-left: -4px; } .dropdown:hover .dropdown-content { display: none; } } @media (max-width: 1199px) { .dropdown { padding-left: 0px; padding-right: 0px; } .dropdown-content { margin-left: -0px; } }\\nNews\\nAdministration Academics Events Health & Research Metro Student Government Student Life\\nCulture\\nDish of the Week Features Weekend Outlook\\nSports\\nCourtside Features\\nOpinions\\nColumns Essays Letters to the Editor Op-eds Staff Editorial Quick Takes\\nMultimedia\\nPhoto Video\\nPodcasts\\nGetting to the Bottom of It What’s New Buff and Blue\\nArchives\\nAdvertise\\nDonate\\nContact\\nAbout\\nJoin\\nNews\\nGreek life fall recruitment expanded to freshmen this year\\nBy Abby Kennedy and Lauren Sforza Yesterday\\nBrian Joyce, the director of fraternity and sorority life, said officials temporarily lifted the 12-credit completion requirement for recruitment this fall.\\nTwo professors receive NSA cyber scholarship grant\\nBy Eddie Herzig Yesterday\\nTwo cybersecurity professors received a grant from the National Security Agency allowing students to work in the Department of Defense following graduation.\\nSA Senate overrides Hill\\'s veto ahead of court hearing\\nBy Henry Huvos and Nicholas Pasion Yesterday\\nSenators overrode a presidential veto on legislation that could codify first-year seats to the SA’s bylaws Monday.\\nGlobal computer chip shortage delays technology order\\nBy Daniel Patrick Galgano Yesterday\\nInterim Chief Technology Officer Jared Johnson said the shortage has “significantly” delayed officials’ technology orders.\\nGWSB center reviews plans to expand financial literacy\\nBy Katelyn Aluise Yesterday\\nThe Global Financial Literacy Excellence Center hosted a virtual panel Monday, reviewing its findings on gaps in financial literacy across the world.\\nSMPA professor receives grant to protect female journalists\\nBy Cristina Stassis Yesterday\\nThe National Science Foundation awarded Rebekah Tromble a grant to create a response system for female journalists facing online harassment.\\nTrustees to announce Colonials decision this academic year: Speights\\nBy Isha Trivedi Yesterday\\nBoard of Trustees Chair Grace Speights said trustees have received recommendations from the committee considering the Colonials moniker renaming.\\nInterim communications vice president departing for American University\\nBy Isha Trivedi Yesterday\\nOfficials had named Heather Swain to the role last August, but she withdrew her acceptance for the job days later amid intense criticism.\\nThousands march to Supreme Court against abortion restrictions\\nBy Sejal Govindarao and Zachary Blackburn Yesterday\\nMore than 5,000 protesters gathered in D.C. Saturday, one of more than 600 marches in the United States opposing restrictive abortion laws.\\nStaff member transported to hospital after assault\\nBy Abby Kennedy, Isha Trivedi, Nicholas Pasion and Zachary Blackburn Monday\\nA staff member suffered serious injuries after unknown man assaulted them with intent to commit sexual abuse in the G Street Garage Monday afternoon.\\nNext »\\nFollow Us:\\nFacebook\\nTwitter\\nInstagram\\nYouTube\\nNewsletter\\nRSS\\nSections\\nNews\\nOpinions\\nCulture\\nSports\\nPhoto\\nVideo\\nPodcasts\\nReader Services\\nEmail Newsletter\\nBrowse Archives\\nLearn More\\nAbout Us\\nPrivacy Policy\\nCommenting Policy\\nPublishing Policy\\nGet in Touch\\nContact Us\\nJoin our Team\\nAdvertise\\nCopyright © 2021 Hatchet Publications, Inc. • Proudly Powered by WordPress\\n(function(i,s,o,g,r,a,m){i[\\'GoogleAnalyticsObject\\']=r;i[r]=i[r]||function(){ (i[r].q=i[r].q||[]).push(arguments)},i[r].l=1*new Date();a=s.createElement(o), m=s.getElementsByTagName(o)[0];a.async=1;a.src=g;m.parentNode.insertBefore(a,m) })(window,document,\\'script\\',\\'https://www.google-analytics.com/analytics.js\\',\\'ga\\'); ga(\\'create\\', \\'UA-1726704-1\\', \\'auto\\'); ga(\\'send\\', \\'pageview\\');'"
            ]
          },
          "metadata": {},
          "execution_count": 5
        }
      ]
    },
    {
      "cell_type": "markdown",
      "metadata": {
        "id": "B6RLw4p6kyOi"
      },
      "source": [
        "This html attribute also has many other attributes which are shortcuts to parts of the content. There is a links attribute which extracts all of the links in the page. Note that these are returned in alphabetical order, not the order on the page. "
      ]
    },
    {
      "cell_type": "code",
      "metadata": {
        "id": "ll7C6qZoiYsU"
      },
      "source": [
        "r.html.links"
      ],
      "execution_count": null,
      "outputs": []
    },
    {
      "cell_type": "code",
      "metadata": {
        "colab": {
          "base_uri": "https://localhost:8080/",
          "height": 0
        },
        "id": "KVBoUxmOftp7",
        "outputId": "81f98045-24fb-4709-9d00-c5c275910de5"
      },
      "source": [
        "r.html.find('footer')"
      ],
      "execution_count": 8,
      "outputs": [
        {
          "output_type": "execute_result",
          "data": {
            "text/plain": [
              "[<Element 'footer' >]"
            ]
          },
          "metadata": {},
          "execution_count": 8
        }
      ]
    },
    {
      "cell_type": "markdown",
      "metadata": {
        "id": "hdNug2oCwCVP"
      },
      "source": [
        "Now let's work at extracting certain parts of the page. Suppose we want all of the headlines. First we need to examine the page and determine if there is any markup that helps us identify headlines.  \n",
        "\n",
        "*Bring up the HTML of the page.*\n",
        "\n",
        "We use CSS selectors to specify tags, classes, ids, or other attributes. \n",
        "https://www.w3schools.com/cssref/css_selectors.asp\n",
        "\n",
        "We can see that all of the headlines are in h2 tags with a class of post-title. If there is a class that identifies the elements we want, that's ideal. \n",
        "\n",
        "In this case, we can use the h2 tag OR we could also use the class. *Show both parameters.*\n",
        "\n",
        "We can now use the html object's find() method to provide a CSS selector. "
      ]
    },
    {
      "cell_type": "code",
      "metadata": {
        "id": "E2N1H7ouwNOI"
      },
      "source": [
        "titles = r.html.find('h2')\n",
        "# But note that there are <h2> tags in the footer so should use the post-title class instead.\n",
        "titles = r.html.find('.post-title')"
      ],
      "execution_count": 15,
      "outputs": []
    },
    {
      "cell_type": "code",
      "metadata": {
        "colab": {
          "base_uri": "https://localhost:8080/",
          "height": 0
        },
        "id": "TSbc5hC6xjv2",
        "outputId": "df372c67-cdd9-4c6f-b519-93064c3711c8"
      },
      "source": [
        "type(titles)"
      ],
      "execution_count": 16,
      "outputs": [
        {
          "output_type": "execute_result",
          "data": {
            "text/plain": [
              "list"
            ]
          },
          "metadata": {},
          "execution_count": 16
        }
      ]
    },
    {
      "cell_type": "code",
      "metadata": {
        "id": "8RCGecahk1TG",
        "colab": {
          "base_uri": "https://localhost:8080/",
          "height": 0
        },
        "outputId": "361e8305-fc70-4c0d-bf7a-f445b74721f5"
      },
      "source": [
        "titles"
      ],
      "execution_count": 17,
      "outputs": [
        {
          "output_type": "execute_result",
          "data": {
            "text/plain": [
              "[<Element 'h2' class=('post-title',)>,\n",
              " <Element 'h2' class=('post-title',)>,\n",
              " <Element 'h2' class=('post-title',)>,\n",
              " <Element 'h2' class=('post-title',)>,\n",
              " <Element 'h2' class=('post-title',)>,\n",
              " <Element 'h2' class=('post-title',)>,\n",
              " <Element 'h2' class=('post-title',)>,\n",
              " <Element 'h2' class=('post-title',)>,\n",
              " <Element 'h2' class=('post-title',)>,\n",
              " <Element 'h2' class=('post-title',)>]"
            ]
          },
          "metadata": {},
          "execution_count": 17
        }
      ]
    },
    {
      "cell_type": "markdown",
      "metadata": {
        "id": "TRWbUOVYx_ik"
      },
      "source": [
        "`titles` is a list of Elements (capital E). We can access just the text content of those Elements using the `full_text` attribute. Let's look at just the first one to start."
      ]
    },
    {
      "cell_type": "code",
      "metadata": {
        "colab": {
          "base_uri": "https://localhost:8080/",
          "height": 35
        },
        "id": "bs3H_K3jyfZP",
        "outputId": "550b6ba2-5fff-4a3e-b6f4-61641e548f7c"
      },
      "source": [
        "titles[0].text"
      ],
      "execution_count": 18,
      "outputs": [
        {
          "output_type": "execute_result",
          "data": {
            "application/vnd.google.colaboratory.intrinsic+json": {
              "type": "string"
            },
            "text/plain": [
              "'Greek life fall recruitment expanded to freshmen this year'"
            ]
          },
          "metadata": {},
          "execution_count": 18
        }
      ]
    },
    {
      "cell_type": "markdown",
      "metadata": {
        "id": "YlBMFvwxy4Q3"
      },
      "source": [
        "Now let's grab the text of all of the headlines. We'll iterate through the Elements in the titles list and add to our headlines list the text attribute from each one:"
      ]
    },
    {
      "cell_type": "code",
      "metadata": {
        "colab": {
          "base_uri": "https://localhost:8080/",
          "height": 0
        },
        "id": "G-8jwZjWx9zg",
        "outputId": "ebad7be8-91f1-4829-9261-f505d4db1a43"
      },
      "source": [
        "headlines = [t.text for t in titles]\n",
        "print(headlines)"
      ],
      "execution_count": 19,
      "outputs": [
        {
          "output_type": "stream",
          "name": "stdout",
          "text": [
            "['Greek life fall recruitment expanded to freshmen this year', 'Two professors receive NSA cyber scholarship grant', \"SA Senate overrides Hill's veto ahead of court hearing\", 'Global computer chip shortage delays technology order', 'GWSB center reviews plans to expand financial literacy', 'SMPA professor receives grant to protect female journalists', 'Trustees to announce Colonials decision this academic year: Speights', 'Interim communications vice president departing for American University', 'Thousands march to Supreme Court against abortion restrictions', 'Staff member transported to hospital after assault']\n"
          ]
        }
      ]
    },
    {
      "cell_type": "markdown",
      "metadata": {
        "id": "U3S0uHnSzu75"
      },
      "source": [
        "That's fine for one page, but if we want to get a lot more headlines, we'll need to check multiple pages. Let's look at the Hatchet website and see which pages have new articles. \n",
        "\n",
        "*Return to Hatchet website and page through news section.*\n",
        "\n",
        "Note: there are only 10 headlines per page, and then we need to click Next to go to another page. Clicking on that, we can see that there is number in the URL. So seeing that, we can use Python to get the HTML of each page and then get the headlines from each one. \n",
        "\n",
        "Before we jump in and do that, we're at the point where we should consider what is the most polite way to get this content from the Hatchet website. When you're web scraping, you don't want to interfere with a website's regular traffic by requesting lots of content all at one. We've got a lot of us online in this workshop, so let's give our requests a little space. We'll pause a second between requesting each page. \n",
        "\n",
        "To do that pausing, we need to import another library in the Python standard library. "
      ]
    },
    {
      "cell_type": "code",
      "metadata": {
        "id": "aGK-CL3H44jj"
      },
      "source": [
        "from time import sleep"
      ],
      "execution_count": 20,
      "outputs": []
    },
    {
      "cell_type": "code",
      "metadata": {
        "colab": {
          "base_uri": "https://localhost:8080/",
          "height": 0
        },
        "id": "FZeKIPvkyqi7",
        "outputId": "1d71e66f-c0d1-432e-b24a-62c16f0d5ac2"
      },
      "source": [
        "news = []\n",
        "\n",
        "# get the first 4 pages\n",
        "for i in range(1,5):\n",
        "    resp = session.get('https://www.gwhatchet.com/section/news/page/{}'.format(i))\n",
        "    titles = resp.html.find('.post-title')\n",
        "    headlines = [t.text for t in titles]\n",
        "    news.extend(headlines)\n",
        "    sleep(1)\n",
        "\n",
        "print(news)"
      ],
      "execution_count": 21,
      "outputs": [
        {
          "output_type": "stream",
          "name": "stdout",
          "text": [
            "['Greek life fall recruitment expanded to freshmen this year', 'Two professors receive NSA cyber scholarship grant', \"SA Senate overrides Hill's veto ahead of court hearing\", 'Global computer chip shortage delays technology order', 'GWSB center reviews plans to expand financial literacy', 'SMPA professor receives grant to protect female journalists', 'Trustees to announce Colonials decision this academic year: Speights', 'Interim communications vice president departing for American University', 'Thousands march to Supreme Court against abortion restrictions', 'Staff member transported to hospital after assault', 'Crime log: Woman assaults student, police officer', 'Law professor finds ankle monitors as restrictive as incarceration', 'Officials launch fundraising initiative at Bicentennial Bash', 'Students protest Title IX case handling at Commencement', 'Writing Center to continue virtual appointments with in-person service', 'History department boosting diversity one year after Krug', 'Title IX Office mishandling sexual assault cases: student leaders', 'Locals deliver essentials to local homeless residents', 'Professors comply with maskless teaching policy: students', \"Warren tells graduates to 'fight hard' at joint Commencement\", 'Officials close campus spaces, streets in advance of bicentennial celebrations', 'Panelists talk boosting voting registration through tax system', 'Alumnus sues University over motorized tricycle crash', 'Officials respond to alleged mishandling of Title IX cases', 'SBA Senate funds thousands for International Law Society', 'Officials to reclassify postdoc researchers as trainees', 'GW rises three spots on U.S. News and World Report rankings', 'Milken professors sign Supreme Court brief on abortion rights', 'Officials watching potential shutdown ahead of Commencement', 'Black female officers sue MPD for sexual harassment', 'Officials search for new sustainability director', 'Panelists talk teaching racial justice in public administration', 'Student Court sets hearing for first-year senator case', 'Crime log: Spouse of staff member carjacked by male suspect', 'GW Law launches strategic planning process with Deloitte', 'SA textbook exchange program to alleviate costs: students', 'Officials to hold internal diversity review instead of external audit', 'Communication needed to convey FAFSA changes: experts', 'Absence of Vern COVID-19 testing site stirs health concerns', 'Pilot program to shut down E Street homeless encampment']\n"
          ]
        }
      ]
    },
    {
      "cell_type": "code",
      "metadata": {
        "colab": {
          "base_uri": "https://localhost:8080/",
          "height": 0
        },
        "id": "p0jJgzTK5sz4",
        "outputId": "559e3ab4-88cf-4268-8e0d-bb20ed4297c6"
      },
      "source": [
        "len(news)"
      ],
      "execution_count": 22,
      "outputs": [
        {
          "output_type": "execute_result",
          "data": {
            "text/plain": [
              "40"
            ]
          },
          "metadata": {},
          "execution_count": 22
        }
      ]
    },
    {
      "cell_type": "markdown",
      "metadata": {
        "id": "LcVHkZvRi6a7"
      },
      "source": [
        "Now that you have this data, you could go on to do other analysis of it. Maybe you want to look for mentions of certain entitites or do sentiment analysis or topic modelling of the headlines. There's a workshop on Natural Language Processing (NLP) Wednesday at 11:30 if you want to learn more about working with text data: https://library.gwu.edu/news-events/events/python-natural-language-processing-0"
      ]
    },
    {
      "cell_type": "markdown",
      "metadata": {
        "id": "0IrUJRuT7lny"
      },
      "source": [
        "**Exercise:**\n",
        "\n",
        "Collect the bylines from the news-articles on the page. Start with one page of news articles. \n",
        "\n",
        "Hints:\n",
        "1. determine what tag or class identifies the text you want. \n",
        "2. use the find() method to identify the elements to collect and put them into a list. Assign that to a variable called bylines. \n",
        "3. Extract the text from each element and assign the results to a list called authors. \n"
      ]
    },
    {
      "cell_type": "code",
      "metadata": {
        "id": "x1R-7v5W8j23"
      },
      "source": [
        "# Note that if you use just byline-author as below you will also pick up the text \"By\". \n",
        "# bylines = r.html.find('.byline-author')\n",
        "# bylines[0].text"
      ],
      "execution_count": null,
      "outputs": []
    },
    {
      "cell_type": "code",
      "metadata": {
        "id": "l_m9UPlx7qaF"
      },
      "source": [
        "bylines = r.html.find('.byline-author a')"
      ],
      "execution_count": 23,
      "outputs": []
    },
    {
      "cell_type": "code",
      "metadata": {
        "colab": {
          "base_uri": "https://localhost:8080/",
          "height": 35
        },
        "id": "D9LE4BqG76if",
        "outputId": "4a6caa1f-c9c4-44ee-d44f-133fda45a11e"
      },
      "source": [
        "bylines[0].text"
      ],
      "execution_count": 24,
      "outputs": [
        {
          "output_type": "execute_result",
          "data": {
            "application/vnd.google.colaboratory.intrinsic+json": {
              "type": "string"
            },
            "text/plain": [
              "'Abby Kennedy'"
            ]
          },
          "metadata": {},
          "execution_count": 24
        }
      ]
    },
    {
      "cell_type": "code",
      "metadata": {
        "colab": {
          "base_uri": "https://localhost:8080/",
          "height": 0
        },
        "id": "6KnrU_2p77O1",
        "outputId": "3c99e637-24bd-4004-9f2c-0941f23570c0"
      },
      "source": [
        "authors = [b.text for b in bylines]\n",
        "authors"
      ],
      "execution_count": 25,
      "outputs": [
        {
          "output_type": "execute_result",
          "data": {
            "text/plain": [
              "['Abby Kennedy',\n",
              " 'Lauren Sforza',\n",
              " 'Eddie Herzig',\n",
              " 'Henry Huvos',\n",
              " 'Nicholas Pasion',\n",
              " 'Daniel Patrick Galgano',\n",
              " 'Katelyn Aluise',\n",
              " 'Cristina Stassis',\n",
              " 'Isha Trivedi',\n",
              " 'Isha Trivedi',\n",
              " 'Sejal Govindarao',\n",
              " 'Zachary Blackburn',\n",
              " 'Abby Kennedy',\n",
              " 'Isha Trivedi',\n",
              " 'Nicholas Pasion',\n",
              " 'Zachary Blackburn']"
            ]
          },
          "metadata": {},
          "execution_count": 25
        }
      ]
    },
    {
      "cell_type": "markdown",
      "metadata": {
        "id": "ue35f0Ho-Vld"
      },
      "source": [
        "If you want to use this data to get a count of how many times each author has been published, you could count them. There is a count() method in Python."
      ]
    },
    {
      "cell_type": "code",
      "metadata": {
        "colab": {
          "base_uri": "https://localhost:8080/",
          "height": 0
        },
        "id": "uksVpVLX8mLx",
        "outputId": "95077f18-6756-445b-d643-fdde1d326f6e"
      },
      "source": [
        "authors.count(\"Zachary Blackburn\")"
      ],
      "execution_count": 26,
      "outputs": [
        {
          "output_type": "execute_result",
          "data": {
            "text/plain": [
              "2"
            ]
          },
          "metadata": {},
          "execution_count": 26
        }
      ]
    },
    {
      "cell_type": "markdown",
      "metadata": {
        "id": "QobayzUUb8DP"
      },
      "source": [
        "The .count() method is a bit inefficient for our purposes because you have to use the count method with each possible author's name. Better to use Python's Counter from the collections module. We can give Counter a list and it will return a count of each value that appears. "
      ]
    },
    {
      "cell_type": "code",
      "metadata": {
        "colab": {
          "base_uri": "https://localhost:8080/",
          "height": 0
        },
        "id": "zwRBSDBn8GXt",
        "outputId": "e222774c-0c8c-422d-ca6e-e23ebe799ae7"
      },
      "source": [
        "from collections import Counter\n",
        "a = Counter(authors)\n",
        "a"
      ],
      "execution_count": 27,
      "outputs": [
        {
          "output_type": "execute_result",
          "data": {
            "text/plain": [
              "Counter({'Abby Kennedy': 2,\n",
              "         'Cristina Stassis': 1,\n",
              "         'Daniel Patrick Galgano': 1,\n",
              "         'Eddie Herzig': 1,\n",
              "         'Henry Huvos': 1,\n",
              "         'Isha Trivedi': 3,\n",
              "         'Katelyn Aluise': 1,\n",
              "         'Lauren Sforza': 1,\n",
              "         'Nicholas Pasion': 2,\n",
              "         'Sejal Govindarao': 1,\n",
              "         'Zachary Blackburn': 2})"
            ]
          },
          "metadata": {},
          "execution_count": 27
        }
      ]
    },
    {
      "cell_type": "code",
      "metadata": {
        "colab": {
          "base_uri": "https://localhost:8080/",
          "height": 0
        },
        "id": "0Uap3MNvhtmS",
        "outputId": "bf24d666-b72e-48f6-fd57-70853b7a32cc"
      },
      "source": [
        "b = Counter(authors)\n",
        "print(b.most_common(3))\n",
        "#print(b[\"Abby Kennedy\"])\n"
      ],
      "execution_count": 31,
      "outputs": [
        {
          "output_type": "stream",
          "name": "stdout",
          "text": [
            "[('Isha Trivedi', 3), ('Abby Kennedy', 2), ('Nicholas Pasion', 2)]\n"
          ]
        }
      ]
    },
    {
      "cell_type": "markdown",
      "metadata": {
        "id": "UjXqHE6kzIkO"
      },
      "source": [
        "## Part 2: More scraping! Scraping course listings from the Schedule of Classes\n",
        "\n",
        "**Have you saved lately? Be sure to save your notebook file!**\n",
        "\n",
        "*Bring up the GW Schedule of Classes* \n",
        "https://my.gwu.edu/mod/pws/subjects.cfm?campId=1&termId=202103\n",
        "\n",
        "Recommend starting with one page, and then building up as you determine how to access the data you need. We'll start with just the American Studies courses for Spring. *Drill down to the Main Campus Spring semester and then select American Studies*.\n",
        "\n",
        "Let's suppose we want to have a spreadsheet listing all of the courses in our department for our major. \n",
        "\n",
        "We will need to parse the HTML to get the information in each of these rows. (We'll ignore the comments and Find Books links.)\n",
        "\n",
        "###robots.txt\n",
        "Before doing anything, let's look at the robots.txt\n",
        "\n",
        "https://my.gwu.edu/robots.txt\n",
        "Our page is in /mod/pws and there are no prohibitions about crawling that content. \n",
        "\n",
        "**Now we can move on and look at the HTML for the page we want:**\n",
        "\n",
        "*View Page Source.*\n",
        "\n",
        "*Discuss HTML tags used for tables: table, tr, td, etc.*\n",
        "\n",
        "Relevant tags and courses include the `tr` tag in the tables. It looks like we have a class on each row which we could use, `.crseRow1`. We could look for all of the `td`s within `.crseRow1`, but then we would lose the contxt of which row they were in. \n",
        "\n",
        "Let's see what we get with the class that's on each row in each table. \n",
        "\n"
      ]
    },
    {
      "cell_type": "code",
      "metadata": {
        "id": "pGGI44Op95Ru"
      },
      "source": [
        "session_new = HTMLSession()\n",
        "\n",
        "amst_url = 'https://my.gwu.edu/mod/pws/courses.cfm?campId=1&termId=202103&subjId=AMST'\n",
        "response = session_new.get(amst_url)"
      ],
      "execution_count": 32,
      "outputs": []
    },
    {
      "cell_type": "code",
      "metadata": {
        "colab": {
          "base_uri": "https://localhost:8080/",
          "height": 35
        },
        "id": "C-OjmlkW4-cL",
        "outputId": "51d6338c-20b1-4954-ad58-39030b194b6c"
      },
      "source": [
        "# Might be thinking we could look for all of the td's within .crseRow1\n",
        "tds = response.html.find('.crseRow1 td')\n",
        "tds[0].text"
      ],
      "execution_count": 33,
      "outputs": [
        {
          "output_type": "execute_result",
          "data": {
            "application/vnd.google.colaboratory.intrinsic+json": {
              "type": "string"
            },
            "text/plain": [
              "'WAITLIST'"
            ]
          },
          "metadata": {},
          "execution_count": 33
        }
      ]
    },
    {
      "cell_type": "code",
      "metadata": {
        "colab": {
          "base_uri": "https://localhost:8080/",
          "height": 0
        },
        "id": "fYGV6yQNSQ9m",
        "outputId": "4f31367a-a49a-4e7f-e9a8-bf8311f9d48a"
      },
      "source": [
        "for td in tds[:20]:\n",
        "  print(td.text)"
      ],
      "execution_count": 34,
      "outputs": [
        {
          "output_type": "stream",
          "name": "stdout",
          "text": [
            "WAITLIST\n",
            "68081\n",
            "AMST 1050\n",
            "11\n",
            "What is Democracy?\n",
            "3.00\n",
            "Anker, E\n",
            "MON B32\n",
            "T\n",
            "12:45PM - 03:15PM\n",
            "08/30/21 - 12/11/21\n",
            "\n",
            "OPEN\n",
            "62945\n",
            "AMST 1100\n",
            "10\n",
            "Politics and Film\n",
            "3.00\n",
            "Anker, E\n",
            "FNGR 108\n",
            "AND\n",
            "FNGR 108\n",
            "M\n",
            "12:45PM - 02:00PM\n",
            "AND\n",
            "M\n",
            "07:10PM - 09:40PM\n"
          ]
        }
      ]
    },
    {
      "cell_type": "code",
      "metadata": {
        "colab": {
          "base_uri": "https://localhost:8080/",
          "height": 0
        },
        "id": "SJGRCuWz5Kkb",
        "outputId": "e3f50096-011c-4d44-f2de-a077d865ced2"
      },
      "source": [
        "len(tds)\n",
        "#We have a long list of cells, and we would lose the contxt of which row they were in. "
      ],
      "execution_count": 35,
      "outputs": [
        {
          "output_type": "execute_result",
          "data": {
            "text/plain": [
              "638"
            ]
          },
          "metadata": {},
          "execution_count": 35
        }
      ]
    },
    {
      "cell_type": "markdown",
      "metadata": {
        "id": "fEZkavki5ZTj"
      },
      "source": [
        "Instead, let's try to work with each row and the data within it. \n"
      ]
    },
    {
      "cell_type": "code",
      "metadata": {
        "colab": {
          "base_uri": "https://localhost:8080/",
          "height": 35
        },
        "id": "NaEGkVj0zWDY",
        "outputId": "8fefd0db-955c-4d0f-ee8b-71a808600b03"
      },
      "source": [
        "rows = response.html.find('.crseRow1')\n",
        "rows[0].text"
      ],
      "execution_count": 36,
      "outputs": [
        {
          "output_type": "execute_result",
          "data": {
            "application/vnd.google.colaboratory.intrinsic+json": {
              "type": "string"
            },
            "text/plain": [
              "'WAITLIST\\n68081\\nAMST 1050\\n11\\nWhat is Democracy?\\n3.00\\nAnker, E\\nMON B32\\nT\\n12:45PM - 03:15PM\\n08/30/21 - 12/11/21'"
            ]
          },
          "metadata": {},
          "execution_count": 36
        }
      ]
    },
    {
      "cell_type": "markdown",
      "metadata": {
        "id": "GXmzzQLm4tUV"
      },
      "source": [
        "We get back a string, with each cell's text concatenated. It looks like the text for each cell, as gathered by requests_html's text, ends with a `\\n` newline character. \n",
        "\n",
        "We still have access to the elements within the table rows object. For example, we can look at the cells (`td` tags) in our first row as follows: "
      ]
    },
    {
      "cell_type": "markdown",
      "metadata": {
        "id": "Qsfg7nLHFKPN"
      },
      "source": [
        ""
      ]
    },
    {
      "cell_type": "code",
      "metadata": {
        "id": "QJ9RJRQX4brK"
      },
      "source": [
        "cells = rows[0].find('td')"
      ],
      "execution_count": 37,
      "outputs": []
    },
    {
      "cell_type": "code",
      "metadata": {
        "colab": {
          "base_uri": "https://localhost:8080/",
          "height": 35
        },
        "id": "5FNGRMPB7wtD",
        "outputId": "f9dea19d-fa5b-4cff-8e59-437cce5e8483"
      },
      "source": [
        "cells[0].text"
      ],
      "execution_count": 38,
      "outputs": [
        {
          "output_type": "execute_result",
          "data": {
            "application/vnd.google.colaboratory.intrinsic+json": {
              "type": "string"
            },
            "text/plain": [
              "'WAITLIST'"
            ]
          },
          "metadata": {},
          "execution_count": 38
        }
      ]
    },
    {
      "cell_type": "code",
      "metadata": {
        "id": "N3OMZLo_GnWN",
        "colab": {
          "base_uri": "https://localhost:8080/",
          "height": 35
        },
        "outputId": "366c201a-cd6d-4966-d177-ebfb148e13c1"
      },
      "source": [
        "cells[8].text"
      ],
      "execution_count": 39,
      "outputs": [
        {
          "output_type": "execute_result",
          "data": {
            "application/vnd.google.colaboratory.intrinsic+json": {
              "type": "string"
            },
            "text/plain": [
              "'T\\n12:45PM - 03:15PM'"
            ]
          },
          "metadata": {},
          "execution_count": 39
        }
      ]
    },
    {
      "cell_type": "markdown",
      "metadata": {
        "id": "0y2NVTVw8aqJ"
      },
      "source": [
        "Looking at the site, we can see that the time for the class is indeed on a different line from the day of the week, INSIDE THE SAME CELL. Let's take a look at each cell: "
      ]
    },
    {
      "cell_type": "code",
      "metadata": {
        "colab": {
          "base_uri": "https://localhost:8080/",
          "height": 0
        },
        "id": "CVHzV5q-8SKg",
        "outputId": "ffbdad67-93fc-49e4-9680-c661b2a1f37b"
      },
      "source": [
        "for c in cells:\n",
        "    print(\"td: \", c.text)"
      ],
      "execution_count": 40,
      "outputs": [
        {
          "output_type": "stream",
          "name": "stdout",
          "text": [
            "td:  WAITLIST\n",
            "td:  68081\n",
            "td:  AMST 1050\n",
            "td:  11\n",
            "td:  What is Democracy?\n",
            "td:  3.00\n",
            "td:  Anker, E\n",
            "td:  MON B32\n",
            "td:  T\n",
            "12:45PM - 03:15PM\n",
            "td:  08/30/21 - 12/11/21\n",
            "td:  \n"
          ]
        }
      ]
    },
    {
      "cell_type": "markdown",
      "metadata": {
        "id": "PPAxaznY_I5T"
      },
      "source": [
        "Now that we know how to access the text of each `td` and that there are some extra newlines in there, let's create a function that will strip out newlines in the text of the td tags. Our function will return a list that has the text of all of the cells. "
      ]
    },
    {
      "cell_type": "code",
      "metadata": {
        "id": "SXTOGm368WDt"
      },
      "source": [
        "def get_tds(tr):\n",
        "    row = [td.text.replace('\\n', ' ') for td in tr.find('td')]\n",
        "    return row"
      ],
      "execution_count": 41,
      "outputs": []
    },
    {
      "cell_type": "markdown",
      "metadata": {
        "id": "BPcM1Kf6_xk_"
      },
      "source": [
        "Now we can use this to get all the relevant text in all of the course tables on the page, and collect them into a courses list."
      ]
    },
    {
      "cell_type": "code",
      "metadata": {
        "id": "zx86mOG-_d6f"
      },
      "source": [
        "courses = []\n",
        "for tr in rows:\n",
        "    courses.append(get_tds(tr))"
      ],
      "execution_count": 43,
      "outputs": []
    },
    {
      "cell_type": "code",
      "metadata": {
        "id": "EmNPksDl_wOu"
      },
      "source": [
        "# Look at courses. Note that there are some here that don't appear on the web page! \n",
        "# That's because there is display:none as a style on some of the tables. \n",
        "\n",
        "courses"
      ],
      "execution_count": null,
      "outputs": []
    },
    {
      "cell_type": "markdown",
      "metadata": {
        "id": "PzDaqrR3Al6F"
      },
      "source": [
        "Now that we've extracted this data, we want to hold onto it. We'll create a CSV file to hold this data. "
      ]
    },
    {
      "cell_type": "code",
      "metadata": {
        "id": "nVWHER9zABQL"
      },
      "source": [
        "import csv\n",
        "\n",
        "with open('amst.csv', 'w', newline='') as csvfile:\n",
        "    writer = csv.writer(csvfile, delimiter=',')\n",
        "    for course in courses:\n",
        "        writer.writerow(course)"
      ],
      "execution_count": 45,
      "outputs": []
    },
    {
      "cell_type": "code",
      "metadata": {
        "colab": {
          "base_uri": "https://localhost:8080/",
          "height": 0
        },
        "id": "RhGRgC96AHSb",
        "outputId": "b005ea91-45a8-4afc-8869-df407cb2086a"
      },
      "source": [
        "!head amst.csv"
      ],
      "execution_count": 46,
      "outputs": [
        {
          "output_type": "stream",
          "name": "stdout",
          "text": [
            "WAITLIST,68081,AMST 1050,11,What is Democracy?,3.00,\"Anker, E\",MON B32,T 12:45PM - 03:15PM,08/30/21 - 12/11/21,\r\n",
            "OPEN,62945,AMST 1100,10,Politics and Film,3.00,\"Anker, E\",FNGR 108 AND FNGR 108,M 12:45PM - 02:00PM AND M 07:10PM - 09:40PM,08/30/21 - 12/11/21,Linked\r\n",
            "CLOSED,62983,AMST 1100,30,Discussion,0.00,\"Anker, E\",GELM B04,W 09:35AM - 10:25AM,08/30/21 - 12/11/21,Find Books\r\n",
            "CLOSED,62984,AMST 1100,31,Discussion,0.00,\"Anker, E\",1957 E B16,W 11:10AM - 12:00PM,08/30/21 - 12/11/21,Find Books\r\n",
            "OPEN,62985,AMST 1100,32,Discussion,0.00,\"Anker, E\",1957 E B17,W 09:35AM - 10:25AM,08/30/21 - 12/11/21,Find Books\r\n",
            "CLOSED,62986,AMST 1100,33,Discussion,0.00,\"Anker, E\",FNGR 108,W 12:45PM - 01:35PM,08/30/21 - 12/11/21,Find Books\r\n",
            "CLOSED,64060,AMST 1100,34,Discussion,0.00,\"Anker, E\",1957 E B17,W 12:45PM - 01:35PM,08/30/21 - 12/11/21,Find Books\r\n",
            "CLOSED,64061,AMST 1100,35,Discussion,0.00,\"Anker, E\",1957 E 214,W 02:20PM - 03:10PM,08/30/21 - 12/11/21,Find Books\r\n",
            "WAITLIST,68545,AMST 1100,36,Discussion,0.00,\"Anker, E\",MON 351,W 11:10AM - 12:00PM,08/30/21 - 12/11/21,Find Books\r\n",
            "OPEN,68546,AMST 1100,37,Discussion,0.00,\"Anker, E\",MON 251,W 02:20PM - 03:10PM,08/30/21 - 12/11/21,Find Books\r\n"
          ]
        }
      ]
    },
    {
      "cell_type": "markdown",
      "metadata": {
        "id": "qdkgWVTYAvC7"
      },
      "source": [
        "We could also load this CSV into pandas, if we wanted to use some of its filtering and analysis methods. "
      ]
    },
    {
      "cell_type": "code",
      "metadata": {
        "id": "emcYgBGCAImk"
      },
      "source": [
        "import pandas as pd\n"
      ],
      "execution_count": 47,
      "outputs": []
    },
    {
      "cell_type": "code",
      "metadata": {
        "id": "EpNe9d1kATRU"
      },
      "source": [
        "df = pd.DataFrame(courses, columns = ['STATUS', 'CRN', 'SUBJECT', 'SECT', 'COURSE', 'CREDIT', 'INSTR.', 'BLDG/RM', 'DAY/TIME', 'FROM / TO', 'Books'])"
      ],
      "execution_count": 48,
      "outputs": []
    },
    {
      "cell_type": "code",
      "metadata": {
        "id": "retCJ-C_ATl-",
        "colab": {
          "base_uri": "https://localhost:8080/",
          "height": 1835
        },
        "outputId": "3cc83fd6-4672-487d-ab80-31d00932d6f5"
      },
      "source": [
        "df"
      ],
      "execution_count": 49,
      "outputs": [
        {
          "output_type": "execute_result",
          "data": {
            "text/html": [
              "<div>\n",
              "<style scoped>\n",
              "    .dataframe tbody tr th:only-of-type {\n",
              "        vertical-align: middle;\n",
              "    }\n",
              "\n",
              "    .dataframe tbody tr th {\n",
              "        vertical-align: top;\n",
              "    }\n",
              "\n",
              "    .dataframe thead th {\n",
              "        text-align: right;\n",
              "    }\n",
              "</style>\n",
              "<table border=\"1\" class=\"dataframe\">\n",
              "  <thead>\n",
              "    <tr style=\"text-align: right;\">\n",
              "      <th></th>\n",
              "      <th>STATUS</th>\n",
              "      <th>CRN</th>\n",
              "      <th>SUBJECT</th>\n",
              "      <th>SECT</th>\n",
              "      <th>COURSE</th>\n",
              "      <th>CREDIT</th>\n",
              "      <th>INSTR.</th>\n",
              "      <th>BLDG/RM</th>\n",
              "      <th>DAY/TIME</th>\n",
              "      <th>FROM / TO</th>\n",
              "      <th>Books</th>\n",
              "    </tr>\n",
              "  </thead>\n",
              "  <tbody>\n",
              "    <tr>\n",
              "      <th>0</th>\n",
              "      <td>WAITLIST</td>\n",
              "      <td>68081</td>\n",
              "      <td>AMST 1050</td>\n",
              "      <td>11</td>\n",
              "      <td>What is Democracy?</td>\n",
              "      <td>3.00</td>\n",
              "      <td>Anker, E</td>\n",
              "      <td>MON B32</td>\n",
              "      <td>T 12:45PM - 03:15PM</td>\n",
              "      <td>08/30/21 - 12/11/21</td>\n",
              "      <td></td>\n",
              "    </tr>\n",
              "    <tr>\n",
              "      <th>1</th>\n",
              "      <td>OPEN</td>\n",
              "      <td>62945</td>\n",
              "      <td>AMST 1100</td>\n",
              "      <td>10</td>\n",
              "      <td>Politics and Film</td>\n",
              "      <td>3.00</td>\n",
              "      <td>Anker, E</td>\n",
              "      <td>FNGR 108 AND FNGR 108</td>\n",
              "      <td>M 12:45PM - 02:00PM AND M 07:10PM - 09:40PM</td>\n",
              "      <td>08/30/21 - 12/11/21</td>\n",
              "      <td>Linked</td>\n",
              "    </tr>\n",
              "    <tr>\n",
              "      <th>2</th>\n",
              "      <td>CLOSED</td>\n",
              "      <td>62983</td>\n",
              "      <td>AMST 1100</td>\n",
              "      <td>30</td>\n",
              "      <td>Discussion</td>\n",
              "      <td>0.00</td>\n",
              "      <td>Anker, E</td>\n",
              "      <td>GELM B04</td>\n",
              "      <td>W 09:35AM - 10:25AM</td>\n",
              "      <td>08/30/21 - 12/11/21</td>\n",
              "      <td>Find Books</td>\n",
              "    </tr>\n",
              "    <tr>\n",
              "      <th>3</th>\n",
              "      <td>CLOSED</td>\n",
              "      <td>62984</td>\n",
              "      <td>AMST 1100</td>\n",
              "      <td>31</td>\n",
              "      <td>Discussion</td>\n",
              "      <td>0.00</td>\n",
              "      <td>Anker, E</td>\n",
              "      <td>1957 E B16</td>\n",
              "      <td>W 11:10AM - 12:00PM</td>\n",
              "      <td>08/30/21 - 12/11/21</td>\n",
              "      <td>Find Books</td>\n",
              "    </tr>\n",
              "    <tr>\n",
              "      <th>4</th>\n",
              "      <td>OPEN</td>\n",
              "      <td>62985</td>\n",
              "      <td>AMST 1100</td>\n",
              "      <td>32</td>\n",
              "      <td>Discussion</td>\n",
              "      <td>0.00</td>\n",
              "      <td>Anker, E</td>\n",
              "      <td>1957 E B17</td>\n",
              "      <td>W 09:35AM - 10:25AM</td>\n",
              "      <td>08/30/21 - 12/11/21</td>\n",
              "      <td>Find Books</td>\n",
              "    </tr>\n",
              "    <tr>\n",
              "      <th>5</th>\n",
              "      <td>CLOSED</td>\n",
              "      <td>62986</td>\n",
              "      <td>AMST 1100</td>\n",
              "      <td>33</td>\n",
              "      <td>Discussion</td>\n",
              "      <td>0.00</td>\n",
              "      <td>Anker, E</td>\n",
              "      <td>FNGR 108</td>\n",
              "      <td>W 12:45PM - 01:35PM</td>\n",
              "      <td>08/30/21 - 12/11/21</td>\n",
              "      <td>Find Books</td>\n",
              "    </tr>\n",
              "    <tr>\n",
              "      <th>6</th>\n",
              "      <td>CLOSED</td>\n",
              "      <td>64060</td>\n",
              "      <td>AMST 1100</td>\n",
              "      <td>34</td>\n",
              "      <td>Discussion</td>\n",
              "      <td>0.00</td>\n",
              "      <td>Anker, E</td>\n",
              "      <td>1957 E B17</td>\n",
              "      <td>W 12:45PM - 01:35PM</td>\n",
              "      <td>08/30/21 - 12/11/21</td>\n",
              "      <td>Find Books</td>\n",
              "    </tr>\n",
              "    <tr>\n",
              "      <th>7</th>\n",
              "      <td>CLOSED</td>\n",
              "      <td>64061</td>\n",
              "      <td>AMST 1100</td>\n",
              "      <td>35</td>\n",
              "      <td>Discussion</td>\n",
              "      <td>0.00</td>\n",
              "      <td>Anker, E</td>\n",
              "      <td>1957 E 214</td>\n",
              "      <td>W 02:20PM - 03:10PM</td>\n",
              "      <td>08/30/21 - 12/11/21</td>\n",
              "      <td>Find Books</td>\n",
              "    </tr>\n",
              "    <tr>\n",
              "      <th>8</th>\n",
              "      <td>WAITLIST</td>\n",
              "      <td>68545</td>\n",
              "      <td>AMST 1100</td>\n",
              "      <td>36</td>\n",
              "      <td>Discussion</td>\n",
              "      <td>0.00</td>\n",
              "      <td>Anker, E</td>\n",
              "      <td>MON 351</td>\n",
              "      <td>W 11:10AM - 12:00PM</td>\n",
              "      <td>08/30/21 - 12/11/21</td>\n",
              "      <td>Find Books</td>\n",
              "    </tr>\n",
              "    <tr>\n",
              "      <th>9</th>\n",
              "      <td>OPEN</td>\n",
              "      <td>68546</td>\n",
              "      <td>AMST 1100</td>\n",
              "      <td>37</td>\n",
              "      <td>Discussion</td>\n",
              "      <td>0.00</td>\n",
              "      <td>Anker, E</td>\n",
              "      <td>MON 251</td>\n",
              "      <td>W 02:20PM - 03:10PM</td>\n",
              "      <td>08/30/21 - 12/11/21</td>\n",
              "      <td>Find Books</td>\n",
              "    </tr>\n",
              "    <tr>\n",
              "      <th>10</th>\n",
              "      <td>CANCELLED</td>\n",
              "      <td>66940</td>\n",
              "      <td>AMST 1200</td>\n",
              "      <td>10</td>\n",
              "      <td>The Sixties in America</td>\n",
              "      <td>3.00</td>\n",
              "      <td></td>\n",
              "      <td></td>\n",
              "      <td></td>\n",
              "      <td>08/30/21 - 12/11/21</td>\n",
              "      <td>Linked</td>\n",
              "    </tr>\n",
              "    <tr>\n",
              "      <th>11</th>\n",
              "      <td>CANCELLED</td>\n",
              "      <td>66941</td>\n",
              "      <td>AMST 1200</td>\n",
              "      <td>30</td>\n",
              "      <td>Discussion</td>\n",
              "      <td>0.00</td>\n",
              "      <td></td>\n",
              "      <td></td>\n",
              "      <td></td>\n",
              "      <td>08/30/21 - 12/11/21</td>\n",
              "      <td>Find Books</td>\n",
              "    </tr>\n",
              "    <tr>\n",
              "      <th>12</th>\n",
              "      <td>CANCELLED</td>\n",
              "      <td>66942</td>\n",
              "      <td>AMST 1200</td>\n",
              "      <td>31</td>\n",
              "      <td>Discussion</td>\n",
              "      <td>0.00</td>\n",
              "      <td></td>\n",
              "      <td></td>\n",
              "      <td></td>\n",
              "      <td>08/30/21 - 12/11/21</td>\n",
              "      <td>Find Books</td>\n",
              "    </tr>\n",
              "    <tr>\n",
              "      <th>13</th>\n",
              "      <td>CANCELLED</td>\n",
              "      <td>66943</td>\n",
              "      <td>AMST 1200</td>\n",
              "      <td>32</td>\n",
              "      <td>Discussion</td>\n",
              "      <td>0.00</td>\n",
              "      <td></td>\n",
              "      <td></td>\n",
              "      <td></td>\n",
              "      <td>08/30/21 - 12/11/21</td>\n",
              "      <td>Find Books</td>\n",
              "    </tr>\n",
              "    <tr>\n",
              "      <th>14</th>\n",
              "      <td>CANCELLED</td>\n",
              "      <td>66944</td>\n",
              "      <td>AMST 1200</td>\n",
              "      <td>33</td>\n",
              "      <td>Discussion</td>\n",
              "      <td>0.00</td>\n",
              "      <td></td>\n",
              "      <td></td>\n",
              "      <td></td>\n",
              "      <td>08/30/21 - 12/11/21</td>\n",
              "      <td>Find Books</td>\n",
              "    </tr>\n",
              "    <tr>\n",
              "      <th>15</th>\n",
              "      <td>CANCELLED</td>\n",
              "      <td>66945</td>\n",
              "      <td>AMST 1200</td>\n",
              "      <td>34</td>\n",
              "      <td>Discussion</td>\n",
              "      <td>0.00</td>\n",
              "      <td></td>\n",
              "      <td></td>\n",
              "      <td></td>\n",
              "      <td>08/30/21 - 12/11/21</td>\n",
              "      <td>Find Books</td>\n",
              "    </tr>\n",
              "    <tr>\n",
              "      <th>16</th>\n",
              "      <td>CANCELLED</td>\n",
              "      <td>66946</td>\n",
              "      <td>AMST 1200</td>\n",
              "      <td>35</td>\n",
              "      <td>Discussion</td>\n",
              "      <td>0.00</td>\n",
              "      <td></td>\n",
              "      <td></td>\n",
              "      <td></td>\n",
              "      <td>08/30/21 - 12/11/21</td>\n",
              "      <td>Find Books</td>\n",
              "    </tr>\n",
              "    <tr>\n",
              "      <th>17</th>\n",
              "      <td>OPEN</td>\n",
              "      <td>62122</td>\n",
              "      <td>AMST 2010</td>\n",
              "      <td>80</td>\n",
              "      <td>Early American Cultural History</td>\n",
              "      <td>3.00</td>\n",
              "      <td>Wuertenberg, N</td>\n",
              "      <td>DUQUES 151</td>\n",
              "      <td>MW 02:20PM - 03:10PM</td>\n",
              "      <td>08/30/21 - 12/11/21</td>\n",
              "      <td>XList Linked</td>\n",
              "    </tr>\n",
              "    <tr>\n",
              "      <th>18</th>\n",
              "      <td>OPEN</td>\n",
              "      <td>62118</td>\n",
              "      <td>HIST 2010</td>\n",
              "      <td>80</td>\n",
              "      <td>Early American Cultural History</td>\n",
              "      <td>3.00</td>\n",
              "      <td>Wuertenberg, N</td>\n",
              "      <td>DUQUES 151</td>\n",
              "      <td>MW 02:20PM - 03:10PM</td>\n",
              "      <td>08/30/21 - 12/11/21</td>\n",
              "      <td></td>\n",
              "    </tr>\n",
              "    <tr>\n",
              "      <th>19</th>\n",
              "      <td>OPEN</td>\n",
              "      <td>64811</td>\n",
              "      <td>AMST 2010</td>\n",
              "      <td>81</td>\n",
              "      <td>Discussion</td>\n",
              "      <td>0.00</td>\n",
              "      <td>Wuertenberg, N</td>\n",
              "      <td>DUQUES 359</td>\n",
              "      <td>R 09:35AM - 10:50AM</td>\n",
              "      <td>08/30/21 - 12/11/21</td>\n",
              "      <td>Find Books</td>\n",
              "    </tr>\n",
              "    <tr>\n",
              "      <th>20</th>\n",
              "      <td>WAITLIST</td>\n",
              "      <td>63135</td>\n",
              "      <td>AMST 2010</td>\n",
              "      <td>82</td>\n",
              "      <td>Discussion</td>\n",
              "      <td>0.00</td>\n",
              "      <td>Wuertenberg, N</td>\n",
              "      <td>DUQUES 250</td>\n",
              "      <td>R 11:10AM - 12:25PM</td>\n",
              "      <td>08/30/21 - 12/11/21</td>\n",
              "      <td>Find Books</td>\n",
              "    </tr>\n",
              "    <tr>\n",
              "      <th>21</th>\n",
              "      <td>OPEN</td>\n",
              "      <td>63137</td>\n",
              "      <td>AMST 2010</td>\n",
              "      <td>83</td>\n",
              "      <td>Discussion</td>\n",
              "      <td>0.00</td>\n",
              "      <td>Wuertenberg, N</td>\n",
              "      <td>COR 103</td>\n",
              "      <td>R 12:45PM - 02:00PM</td>\n",
              "      <td>08/30/21 - 12/11/21</td>\n",
              "      <td>Find Books</td>\n",
              "    </tr>\n",
              "    <tr>\n",
              "      <th>22</th>\n",
              "      <td>OPEN</td>\n",
              "      <td>62123</td>\n",
              "      <td>AMST 2010</td>\n",
              "      <td>84</td>\n",
              "      <td>Discussion</td>\n",
              "      <td>0.00</td>\n",
              "      <td>Wuertenberg, N</td>\n",
              "      <td>1957 E B16</td>\n",
              "      <td>R 02:20PM - 03:35PM</td>\n",
              "      <td>08/30/21 - 12/11/21</td>\n",
              "      <td>Find Books</td>\n",
              "    </tr>\n",
              "    <tr>\n",
              "      <th>23</th>\n",
              "      <td>CLOSED</td>\n",
              "      <td>67687</td>\n",
              "      <td>AMST 2071</td>\n",
              "      <td>80</td>\n",
              "      <td>Introduction to the Arts in America</td>\n",
              "      <td>3.00</td>\n",
              "      <td>Markoski, K</td>\n",
              "      <td>SMTH 114</td>\n",
              "      <td>TR 09:35AM - 10:50AM</td>\n",
              "      <td>08/30/21 - 12/11/21</td>\n",
              "      <td>XList</td>\n",
              "    </tr>\n",
              "    <tr>\n",
              "      <th>24</th>\n",
              "      <td>CLOSED</td>\n",
              "      <td>67579</td>\n",
              "      <td>CAH 2071</td>\n",
              "      <td>80</td>\n",
              "      <td>Introduction to the Arts in America</td>\n",
              "      <td>3.00</td>\n",
              "      <td>Markoski, K</td>\n",
              "      <td>SMTH 114</td>\n",
              "      <td>TR 09:35AM - 10:50AM</td>\n",
              "      <td>08/30/21 - 12/11/21</td>\n",
              "      <td></td>\n",
              "    </tr>\n",
              "    <tr>\n",
              "      <th>25</th>\n",
              "      <td>OPEN</td>\n",
              "      <td>65596</td>\n",
              "      <td>AMST 2430</td>\n",
              "      <td>10</td>\n",
              "      <td>Capitalism and Culture</td>\n",
              "      <td>3.00</td>\n",
              "      <td>Orenstein, D</td>\n",
              "      <td>1957 E B12</td>\n",
              "      <td>TR 12:45PM - 01:35PM</td>\n",
              "      <td>08/30/21 - 12/11/21</td>\n",
              "      <td>Linked</td>\n",
              "    </tr>\n",
              "    <tr>\n",
              "      <th>26</th>\n",
              "      <td>OPEN</td>\n",
              "      <td>66009</td>\n",
              "      <td>AMST 2430</td>\n",
              "      <td>30</td>\n",
              "      <td>Discussion</td>\n",
              "      <td>0.00</td>\n",
              "      <td>Orenstein, D</td>\n",
              "      <td>1957 E 212</td>\n",
              "      <td>R 09:35AM - 10:25AM</td>\n",
              "      <td>08/30/21 - 12/11/21</td>\n",
              "      <td>Find Books</td>\n",
              "    </tr>\n",
              "    <tr>\n",
              "      <th>27</th>\n",
              "      <td>OPEN</td>\n",
              "      <td>66010</td>\n",
              "      <td>AMST 2430</td>\n",
              "      <td>31</td>\n",
              "      <td>Discussion</td>\n",
              "      <td>0.00</td>\n",
              "      <td>Orenstein, D</td>\n",
              "      <td>1957 E 316</td>\n",
              "      <td>R 11:10AM - 12:00PM</td>\n",
              "      <td>08/30/21 - 12/11/21</td>\n",
              "      <td>Find Books</td>\n",
              "    </tr>\n",
              "    <tr>\n",
              "      <th>28</th>\n",
              "      <td>WAITLIST</td>\n",
              "      <td>66011</td>\n",
              "      <td>AMST 2430</td>\n",
              "      <td>32</td>\n",
              "      <td>Discussion</td>\n",
              "      <td>0.00</td>\n",
              "      <td>Orenstein, D</td>\n",
              "      <td>TOMP 204</td>\n",
              "      <td>R 02:20PM - 03:10PM</td>\n",
              "      <td>08/30/21 - 12/11/21</td>\n",
              "      <td>Find Books</td>\n",
              "    </tr>\n",
              "    <tr>\n",
              "      <th>29</th>\n",
              "      <td>WAITLIST</td>\n",
              "      <td>66012</td>\n",
              "      <td>AMST 2430</td>\n",
              "      <td>33</td>\n",
              "      <td>Discussion</td>\n",
              "      <td>0.00</td>\n",
              "      <td>Orenstein, D</td>\n",
              "      <td>1957 E 310</td>\n",
              "      <td>R 03:45PM - 04:35PM</td>\n",
              "      <td>08/30/21 - 12/11/21</td>\n",
              "      <td>Find Books</td>\n",
              "    </tr>\n",
              "    <tr>\n",
              "      <th>30</th>\n",
              "      <td>CLOSED</td>\n",
              "      <td>68094</td>\n",
              "      <td>AMST 2440W</td>\n",
              "      <td>80</td>\n",
              "      <td>The American City</td>\n",
              "      <td>3.00</td>\n",
              "      <td>Osman, S</td>\n",
              "      <td>COR 101</td>\n",
              "      <td>TR 02:20PM - 03:10PM</td>\n",
              "      <td>08/30/21 - 12/11/21</td>\n",
              "      <td>XList Linked</td>\n",
              "    </tr>\n",
              "    <tr>\n",
              "      <th>31</th>\n",
              "      <td>OPEN</td>\n",
              "      <td>68100</td>\n",
              "      <td>HIST 2440W</td>\n",
              "      <td>80</td>\n",
              "      <td>The American City</td>\n",
              "      <td>3.00</td>\n",
              "      <td>Osman, S</td>\n",
              "      <td>COR 101</td>\n",
              "      <td>TR 02:20PM - 03:10PM</td>\n",
              "      <td>08/30/21 - 12/11/21</td>\n",
              "      <td></td>\n",
              "    </tr>\n",
              "    <tr>\n",
              "      <th>32</th>\n",
              "      <td>OPEN</td>\n",
              "      <td>68095</td>\n",
              "      <td>AMST 2440W</td>\n",
              "      <td>81</td>\n",
              "      <td>Discussion</td>\n",
              "      <td>0.00</td>\n",
              "      <td>Osman, S</td>\n",
              "      <td>ROME 352</td>\n",
              "      <td>F 09:35AM - 10:25AM</td>\n",
              "      <td>08/30/21 - 12/11/21</td>\n",
              "      <td>Find Books</td>\n",
              "    </tr>\n",
              "    <tr>\n",
              "      <th>33</th>\n",
              "      <td>WAITLIST</td>\n",
              "      <td>68096</td>\n",
              "      <td>AMST 2440W</td>\n",
              "      <td>82</td>\n",
              "      <td>Discussion</td>\n",
              "      <td>0.00</td>\n",
              "      <td>Osman, S</td>\n",
              "      <td>ROME 352</td>\n",
              "      <td>F 11:10AM - 12:00PM</td>\n",
              "      <td>08/30/21 - 12/11/21</td>\n",
              "      <td>Find Books</td>\n",
              "    </tr>\n",
              "    <tr>\n",
              "      <th>34</th>\n",
              "      <td>WAITLIST</td>\n",
              "      <td>68097</td>\n",
              "      <td>AMST 2440W</td>\n",
              "      <td>83</td>\n",
              "      <td>Discussion</td>\n",
              "      <td>0.00</td>\n",
              "      <td>Osman, S</td>\n",
              "      <td>ROME 352</td>\n",
              "      <td>F 12:45PM - 01:35PM</td>\n",
              "      <td>08/30/21 - 12/11/21</td>\n",
              "      <td>Find Books</td>\n",
              "    </tr>\n",
              "    <tr>\n",
              "      <th>35</th>\n",
              "      <td>WAITLIST</td>\n",
              "      <td>68098</td>\n",
              "      <td>AMST 2440W</td>\n",
              "      <td>84</td>\n",
              "      <td>Discussion</td>\n",
              "      <td>0.00</td>\n",
              "      <td>Osman, S</td>\n",
              "      <td>ROME 352</td>\n",
              "      <td>F 02:20PM - 03:10PM</td>\n",
              "      <td>08/30/21 - 12/11/21</td>\n",
              "      <td>Find Books</td>\n",
              "    </tr>\n",
              "    <tr>\n",
              "      <th>36</th>\n",
              "      <td>OPEN</td>\n",
              "      <td>67688</td>\n",
              "      <td>AMST 2450</td>\n",
              "      <td>10</td>\n",
              "      <td>History and Meaning of Higher Education in the...</td>\n",
              "      <td>3.00</td>\n",
              "      <td>Gee, J</td>\n",
              "      <td>REMOTE INSTR</td>\n",
              "      <td>MW 11:10AM - 12:25PM</td>\n",
              "      <td>08/30/21 - 12/11/21</td>\n",
              "      <td></td>\n",
              "    </tr>\n",
              "    <tr>\n",
              "      <th>37</th>\n",
              "      <td>CANCELLED</td>\n",
              "      <td>66947</td>\n",
              "      <td>AMST 2490</td>\n",
              "      <td>30</td>\n",
              "      <td>Discussion</td>\n",
              "      <td>0.00</td>\n",
              "      <td></td>\n",
              "      <td></td>\n",
              "      <td></td>\n",
              "      <td>08/30/21 - 12/11/21</td>\n",
              "      <td></td>\n",
              "    </tr>\n",
              "    <tr>\n",
              "      <th>38</th>\n",
              "      <td>CANCELLED</td>\n",
              "      <td>66948</td>\n",
              "      <td>AMST 2490</td>\n",
              "      <td>31</td>\n",
              "      <td>Discussion</td>\n",
              "      <td>0.00</td>\n",
              "      <td></td>\n",
              "      <td></td>\n",
              "      <td></td>\n",
              "      <td>08/30/21 - 12/11/21</td>\n",
              "      <td></td>\n",
              "    </tr>\n",
              "    <tr>\n",
              "      <th>39</th>\n",
              "      <td>CANCELLED</td>\n",
              "      <td>66949</td>\n",
              "      <td>AMST 2490</td>\n",
              "      <td>32</td>\n",
              "      <td>Discussion</td>\n",
              "      <td>0.00</td>\n",
              "      <td></td>\n",
              "      <td></td>\n",
              "      <td></td>\n",
              "      <td>08/30/21 - 12/11/21</td>\n",
              "      <td></td>\n",
              "    </tr>\n",
              "    <tr>\n",
              "      <th>40</th>\n",
              "      <td>CANCELLED</td>\n",
              "      <td>66950</td>\n",
              "      <td>AMST 2490</td>\n",
              "      <td>33</td>\n",
              "      <td>Discussion</td>\n",
              "      <td>0.00</td>\n",
              "      <td></td>\n",
              "      <td></td>\n",
              "      <td></td>\n",
              "      <td>08/30/21 - 12/11/21</td>\n",
              "      <td></td>\n",
              "    </tr>\n",
              "    <tr>\n",
              "      <th>41</th>\n",
              "      <td>CLOSED</td>\n",
              "      <td>66951</td>\n",
              "      <td>AMST 2730W</td>\n",
              "      <td>80</td>\n",
              "      <td>World War II in History and Memory</td>\n",
              "      <td>3.00</td>\n",
              "      <td>Guglielmo, T</td>\n",
              "      <td>SMTH 120</td>\n",
              "      <td>MW 09:35AM - 10:25AM</td>\n",
              "      <td>08/30/21 - 12/11/21</td>\n",
              "      <td>XList Linked</td>\n",
              "    </tr>\n",
              "    <tr>\n",
              "      <th>42</th>\n",
              "      <td>CLOSED</td>\n",
              "      <td>67273</td>\n",
              "      <td>HIST 2730W</td>\n",
              "      <td>80</td>\n",
              "      <td>World War II in History and Memory</td>\n",
              "      <td>3.00</td>\n",
              "      <td>Guglielmo, T</td>\n",
              "      <td>SMTH 120</td>\n",
              "      <td>MW 09:35AM - 10:25AM</td>\n",
              "      <td>08/30/21 - 12/11/21</td>\n",
              "      <td></td>\n",
              "    </tr>\n",
              "    <tr>\n",
              "      <th>43</th>\n",
              "      <td>WAITLIST</td>\n",
              "      <td>67677</td>\n",
              "      <td>AMST 2730W</td>\n",
              "      <td>81</td>\n",
              "      <td>Recitation</td>\n",
              "      <td>0.00</td>\n",
              "      <td>Guglielmo, T</td>\n",
              "      <td>SMTH 115</td>\n",
              "      <td>R 11:10AM - 12:00PM</td>\n",
              "      <td>08/30/21 - 12/11/21</td>\n",
              "      <td>Find Books</td>\n",
              "    </tr>\n",
              "    <tr>\n",
              "      <th>44</th>\n",
              "      <td>WAITLIST</td>\n",
              "      <td>67678</td>\n",
              "      <td>AMST 2730W</td>\n",
              "      <td>82</td>\n",
              "      <td>Recitation</td>\n",
              "      <td>0.00</td>\n",
              "      <td>Guglielmo, T</td>\n",
              "      <td>SMTH 115</td>\n",
              "      <td>R 12:45PM - 01:35PM</td>\n",
              "      <td>08/30/21 - 12/11/21</td>\n",
              "      <td>Find Books</td>\n",
              "    </tr>\n",
              "    <tr>\n",
              "      <th>45</th>\n",
              "      <td>CLOSED</td>\n",
              "      <td>66952</td>\n",
              "      <td>AMST 3362</td>\n",
              "      <td>80</td>\n",
              "      <td>African American Women's History</td>\n",
              "      <td>3.00</td>\n",
              "      <td>Chapman, E</td>\n",
              "      <td>GELM B04</td>\n",
              "      <td>TR 02:20PM - 03:35PM</td>\n",
              "      <td>08/30/21 - 12/11/21</td>\n",
              "      <td>XList</td>\n",
              "    </tr>\n",
              "    <tr>\n",
              "      <th>46</th>\n",
              "      <td>CLOSED</td>\n",
              "      <td>66928</td>\n",
              "      <td>WGSS 3362</td>\n",
              "      <td>80</td>\n",
              "      <td>African American Women's History</td>\n",
              "      <td>3.00</td>\n",
              "      <td>Chapman, E</td>\n",
              "      <td>GELM B04</td>\n",
              "      <td>TR 02:20PM - 03:35PM</td>\n",
              "      <td>08/30/21 - 12/11/21</td>\n",
              "      <td></td>\n",
              "    </tr>\n",
              "    <tr>\n",
              "      <th>47</th>\n",
              "      <td>CLOSED</td>\n",
              "      <td>67277</td>\n",
              "      <td>HIST 3362</td>\n",
              "      <td>80</td>\n",
              "      <td>African American Women’s History</td>\n",
              "      <td>3.00</td>\n",
              "      <td>Chapman, E</td>\n",
              "      <td>GELM B04</td>\n",
              "      <td>TR 02:20PM - 03:35PM</td>\n",
              "      <td>08/30/21 - 12/11/21</td>\n",
              "      <td></td>\n",
              "    </tr>\n",
              "    <tr>\n",
              "      <th>48</th>\n",
              "      <td>OPEN</td>\n",
              "      <td>66238</td>\n",
              "      <td>AMST 3625</td>\n",
              "      <td>80</td>\n",
              "      <td>Ethnographic and Historical Perspectives on Da...</td>\n",
              "      <td>3.00</td>\n",
              "      <td>Kuipers, J; Cohen-Cole, J</td>\n",
              "      <td>DUQUES 359</td>\n",
              "      <td>T 12:45PM - 03:15PM</td>\n",
              "      <td>08/30/21 - 12/11/21</td>\n",
              "      <td>XList</td>\n",
              "    </tr>\n",
              "    <tr>\n",
              "      <th>49</th>\n",
              "      <td>CLOSED</td>\n",
              "      <td>66239</td>\n",
              "      <td>ANTH 3625</td>\n",
              "      <td>80</td>\n",
              "      <td>Ethnographic and Historical Perspectives on Da...</td>\n",
              "      <td>3.00</td>\n",
              "      <td>Kuipers, J; Cohen-Cole, J</td>\n",
              "      <td>DUQUES 359</td>\n",
              "      <td>T 12:45PM - 03:15PM</td>\n",
              "      <td>08/30/21 - 12/11/21</td>\n",
              "      <td></td>\n",
              "    </tr>\n",
              "    <tr>\n",
              "      <th>50</th>\n",
              "      <td>OPEN</td>\n",
              "      <td>66706</td>\n",
              "      <td>HONR 2047</td>\n",
              "      <td>85</td>\n",
              "      <td>Ethno&amp;HistPerspectivesOnData</td>\n",
              "      <td>3.00</td>\n",
              "      <td>Kuipers, J; Cohen-Cole, J</td>\n",
              "      <td>DUQUES 359</td>\n",
              "      <td>T 12:45PM - 03:15PM</td>\n",
              "      <td>08/30/21 - 12/11/21</td>\n",
              "      <td></td>\n",
              "    </tr>\n",
              "    <tr>\n",
              "      <th>51</th>\n",
              "      <td>OPEN</td>\n",
              "      <td>67966</td>\n",
              "      <td>DATS 2101</td>\n",
              "      <td>80</td>\n",
              "      <td>Ethical Life in a Digital World</td>\n",
              "      <td>3.00</td>\n",
              "      <td>Kuipers, J; Cohen-Cole, J</td>\n",
              "      <td>DUQUES 359</td>\n",
              "      <td>T 12:45PM - 03:15PM</td>\n",
              "      <td>08/30/21 - 12/11/21</td>\n",
              "      <td></td>\n",
              "    </tr>\n",
              "    <tr>\n",
              "      <th>52</th>\n",
              "      <td>OPEN</td>\n",
              "      <td>63740</td>\n",
              "      <td>AMST 3900</td>\n",
              "      <td>10</td>\n",
              "      <td>Critiquing Culture</td>\n",
              "      <td>3.00</td>\n",
              "      <td>Orenstein, D</td>\n",
              "      <td>1957 E 311</td>\n",
              "      <td>TR 09:35AM - 10:50AM</td>\n",
              "      <td>08/30/21 - 12/11/21</td>\n",
              "      <td></td>\n",
              "    </tr>\n",
              "    <tr>\n",
              "      <th>53</th>\n",
              "      <td>WAITLIST</td>\n",
              "      <td>65603</td>\n",
              "      <td>AMST 3901</td>\n",
              "      <td>10</td>\n",
              "      <td>Examining America</td>\n",
              "      <td>3.00</td>\n",
              "      <td>Pena, E</td>\n",
              "      <td>MON 351</td>\n",
              "      <td>T 12:45PM - 03:15PM</td>\n",
              "      <td>08/30/21 - 12/11/21</td>\n",
              "      <td></td>\n",
              "    </tr>\n",
              "    <tr>\n",
              "      <th>54</th>\n",
              "      <td>OPEN</td>\n",
              "      <td>67696</td>\n",
              "      <td>AMST 3950W</td>\n",
              "      <td>80</td>\n",
              "      <td>American Slavery&amp;Its Legacies</td>\n",
              "      <td>3.00</td>\n",
              "      <td>Chapman, E</td>\n",
              "      <td>PHIL 329</td>\n",
              "      <td>R 11:10AM - 01:00PM</td>\n",
              "      <td>08/30/21 - 12/11/21</td>\n",
              "      <td>XList</td>\n",
              "    </tr>\n",
              "    <tr>\n",
              "      <th>55</th>\n",
              "      <td>OPEN</td>\n",
              "      <td>67276</td>\n",
              "      <td>HIST 3301W</td>\n",
              "      <td>80</td>\n",
              "      <td>American Slavery &amp;Its Legacies</td>\n",
              "      <td>3.00</td>\n",
              "      <td>Chapman, E</td>\n",
              "      <td>PHIL 329</td>\n",
              "      <td>R 11:10AM - 01:00PM</td>\n",
              "      <td>08/30/21 - 12/11/21</td>\n",
              "      <td></td>\n",
              "    </tr>\n",
              "    <tr>\n",
              "      <th>56</th>\n",
              "      <td>OPEN</td>\n",
              "      <td>62124</td>\n",
              "      <td>AMST 4400</td>\n",
              "      <td>10</td>\n",
              "      <td>Independent Study</td>\n",
              "      <td>3.00</td>\n",
              "      <td>Guglielmo, T</td>\n",
              "      <td></td>\n",
              "      <td></td>\n",
              "      <td>08/30/21 - 12/11/21</td>\n",
              "      <td></td>\n",
              "    </tr>\n",
              "    <tr>\n",
              "      <th>57</th>\n",
              "      <td>CLOSED</td>\n",
              "      <td>64928</td>\n",
              "      <td>AMST 4500W</td>\n",
              "      <td>10</td>\n",
              "      <td>STEM &amp; its Cultures</td>\n",
              "      <td>3.00</td>\n",
              "      <td>Cohen-Cole, J</td>\n",
              "      <td>FNGR 209</td>\n",
              "      <td>R 12:45PM - 03:15PM</td>\n",
              "      <td>08/30/21 - 12/11/21</td>\n",
              "      <td></td>\n",
              "    </tr>\n",
              "  </tbody>\n",
              "</table>\n",
              "</div>"
            ],
            "text/plain": [
              "       STATUS    CRN  ...            FROM / TO         Books\n",
              "0    WAITLIST  68081  ...  08/30/21 - 12/11/21              \n",
              "1        OPEN  62945  ...  08/30/21 - 12/11/21        Linked\n",
              "2      CLOSED  62983  ...  08/30/21 - 12/11/21    Find Books\n",
              "3      CLOSED  62984  ...  08/30/21 - 12/11/21    Find Books\n",
              "4        OPEN  62985  ...  08/30/21 - 12/11/21    Find Books\n",
              "5      CLOSED  62986  ...  08/30/21 - 12/11/21    Find Books\n",
              "6      CLOSED  64060  ...  08/30/21 - 12/11/21    Find Books\n",
              "7      CLOSED  64061  ...  08/30/21 - 12/11/21    Find Books\n",
              "8    WAITLIST  68545  ...  08/30/21 - 12/11/21    Find Books\n",
              "9        OPEN  68546  ...  08/30/21 - 12/11/21    Find Books\n",
              "10  CANCELLED  66940  ...  08/30/21 - 12/11/21        Linked\n",
              "11  CANCELLED  66941  ...  08/30/21 - 12/11/21    Find Books\n",
              "12  CANCELLED  66942  ...  08/30/21 - 12/11/21    Find Books\n",
              "13  CANCELLED  66943  ...  08/30/21 - 12/11/21    Find Books\n",
              "14  CANCELLED  66944  ...  08/30/21 - 12/11/21    Find Books\n",
              "15  CANCELLED  66945  ...  08/30/21 - 12/11/21    Find Books\n",
              "16  CANCELLED  66946  ...  08/30/21 - 12/11/21    Find Books\n",
              "17       OPEN  62122  ...  08/30/21 - 12/11/21  XList Linked\n",
              "18       OPEN  62118  ...  08/30/21 - 12/11/21              \n",
              "19       OPEN  64811  ...  08/30/21 - 12/11/21    Find Books\n",
              "20   WAITLIST  63135  ...  08/30/21 - 12/11/21    Find Books\n",
              "21       OPEN  63137  ...  08/30/21 - 12/11/21    Find Books\n",
              "22       OPEN  62123  ...  08/30/21 - 12/11/21    Find Books\n",
              "23     CLOSED  67687  ...  08/30/21 - 12/11/21         XList\n",
              "24     CLOSED  67579  ...  08/30/21 - 12/11/21              \n",
              "25       OPEN  65596  ...  08/30/21 - 12/11/21        Linked\n",
              "26       OPEN  66009  ...  08/30/21 - 12/11/21    Find Books\n",
              "27       OPEN  66010  ...  08/30/21 - 12/11/21    Find Books\n",
              "28   WAITLIST  66011  ...  08/30/21 - 12/11/21    Find Books\n",
              "29   WAITLIST  66012  ...  08/30/21 - 12/11/21    Find Books\n",
              "30     CLOSED  68094  ...  08/30/21 - 12/11/21  XList Linked\n",
              "31       OPEN  68100  ...  08/30/21 - 12/11/21              \n",
              "32       OPEN  68095  ...  08/30/21 - 12/11/21    Find Books\n",
              "33   WAITLIST  68096  ...  08/30/21 - 12/11/21    Find Books\n",
              "34   WAITLIST  68097  ...  08/30/21 - 12/11/21    Find Books\n",
              "35   WAITLIST  68098  ...  08/30/21 - 12/11/21    Find Books\n",
              "36       OPEN  67688  ...  08/30/21 - 12/11/21              \n",
              "37  CANCELLED  66947  ...  08/30/21 - 12/11/21              \n",
              "38  CANCELLED  66948  ...  08/30/21 - 12/11/21              \n",
              "39  CANCELLED  66949  ...  08/30/21 - 12/11/21              \n",
              "40  CANCELLED  66950  ...  08/30/21 - 12/11/21              \n",
              "41     CLOSED  66951  ...  08/30/21 - 12/11/21  XList Linked\n",
              "42     CLOSED  67273  ...  08/30/21 - 12/11/21              \n",
              "43   WAITLIST  67677  ...  08/30/21 - 12/11/21    Find Books\n",
              "44   WAITLIST  67678  ...  08/30/21 - 12/11/21    Find Books\n",
              "45     CLOSED  66952  ...  08/30/21 - 12/11/21         XList\n",
              "46     CLOSED  66928  ...  08/30/21 - 12/11/21              \n",
              "47     CLOSED  67277  ...  08/30/21 - 12/11/21              \n",
              "48       OPEN  66238  ...  08/30/21 - 12/11/21         XList\n",
              "49     CLOSED  66239  ...  08/30/21 - 12/11/21              \n",
              "50       OPEN  66706  ...  08/30/21 - 12/11/21              \n",
              "51       OPEN  67966  ...  08/30/21 - 12/11/21              \n",
              "52       OPEN  63740  ...  08/30/21 - 12/11/21              \n",
              "53   WAITLIST  65603  ...  08/30/21 - 12/11/21              \n",
              "54       OPEN  67696  ...  08/30/21 - 12/11/21         XList\n",
              "55       OPEN  67276  ...  08/30/21 - 12/11/21              \n",
              "56       OPEN  62124  ...  08/30/21 - 12/11/21              \n",
              "57     CLOSED  64928  ...  08/30/21 - 12/11/21              \n",
              "\n",
              "[58 rows x 11 columns]"
            ]
          },
          "metadata": {},
          "execution_count": 49
        }
      ]
    },
    {
      "cell_type": "code",
      "metadata": {
        "id": "uKu0c8nRAUfE",
        "colab": {
          "base_uri": "https://localhost:8080/",
          "height": 696
        },
        "outputId": "87cc3820-ed8c-4cd8-d945-b9932e168525"
      },
      "source": [
        "df[df['STATUS'] == \"OPEN\"]\n"
      ],
      "execution_count": 52,
      "outputs": [
        {
          "output_type": "execute_result",
          "data": {
            "text/html": [
              "<div>\n",
              "<style scoped>\n",
              "    .dataframe tbody tr th:only-of-type {\n",
              "        vertical-align: middle;\n",
              "    }\n",
              "\n",
              "    .dataframe tbody tr th {\n",
              "        vertical-align: top;\n",
              "    }\n",
              "\n",
              "    .dataframe thead th {\n",
              "        text-align: right;\n",
              "    }\n",
              "</style>\n",
              "<table border=\"1\" class=\"dataframe\">\n",
              "  <thead>\n",
              "    <tr style=\"text-align: right;\">\n",
              "      <th></th>\n",
              "      <th>STATUS</th>\n",
              "      <th>CRN</th>\n",
              "      <th>SUBJECT</th>\n",
              "      <th>SECT</th>\n",
              "      <th>COURSE</th>\n",
              "      <th>CREDIT</th>\n",
              "      <th>INSTR.</th>\n",
              "      <th>BLDG/RM</th>\n",
              "      <th>DAY/TIME</th>\n",
              "      <th>FROM / TO</th>\n",
              "      <th>Books</th>\n",
              "    </tr>\n",
              "  </thead>\n",
              "  <tbody>\n",
              "    <tr>\n",
              "      <th>1</th>\n",
              "      <td>OPEN</td>\n",
              "      <td>62945</td>\n",
              "      <td>AMST 1100</td>\n",
              "      <td>10</td>\n",
              "      <td>Politics and Film</td>\n",
              "      <td>3.00</td>\n",
              "      <td>Anker, E</td>\n",
              "      <td>FNGR 108 AND FNGR 108</td>\n",
              "      <td>M 12:45PM - 02:00PM AND M 07:10PM - 09:40PM</td>\n",
              "      <td>08/30/21 - 12/11/21</td>\n",
              "      <td>Linked</td>\n",
              "    </tr>\n",
              "    <tr>\n",
              "      <th>4</th>\n",
              "      <td>OPEN</td>\n",
              "      <td>62985</td>\n",
              "      <td>AMST 1100</td>\n",
              "      <td>32</td>\n",
              "      <td>Discussion</td>\n",
              "      <td>0.00</td>\n",
              "      <td>Anker, E</td>\n",
              "      <td>1957 E B17</td>\n",
              "      <td>W 09:35AM - 10:25AM</td>\n",
              "      <td>08/30/21 - 12/11/21</td>\n",
              "      <td>Find Books</td>\n",
              "    </tr>\n",
              "    <tr>\n",
              "      <th>9</th>\n",
              "      <td>OPEN</td>\n",
              "      <td>68546</td>\n",
              "      <td>AMST 1100</td>\n",
              "      <td>37</td>\n",
              "      <td>Discussion</td>\n",
              "      <td>0.00</td>\n",
              "      <td>Anker, E</td>\n",
              "      <td>MON 251</td>\n",
              "      <td>W 02:20PM - 03:10PM</td>\n",
              "      <td>08/30/21 - 12/11/21</td>\n",
              "      <td>Find Books</td>\n",
              "    </tr>\n",
              "    <tr>\n",
              "      <th>17</th>\n",
              "      <td>OPEN</td>\n",
              "      <td>62122</td>\n",
              "      <td>AMST 2010</td>\n",
              "      <td>80</td>\n",
              "      <td>Early American Cultural History</td>\n",
              "      <td>3.00</td>\n",
              "      <td>Wuertenberg, N</td>\n",
              "      <td>DUQUES 151</td>\n",
              "      <td>MW 02:20PM - 03:10PM</td>\n",
              "      <td>08/30/21 - 12/11/21</td>\n",
              "      <td>XList Linked</td>\n",
              "    </tr>\n",
              "    <tr>\n",
              "      <th>18</th>\n",
              "      <td>OPEN</td>\n",
              "      <td>62118</td>\n",
              "      <td>HIST 2010</td>\n",
              "      <td>80</td>\n",
              "      <td>Early American Cultural History</td>\n",
              "      <td>3.00</td>\n",
              "      <td>Wuertenberg, N</td>\n",
              "      <td>DUQUES 151</td>\n",
              "      <td>MW 02:20PM - 03:10PM</td>\n",
              "      <td>08/30/21 - 12/11/21</td>\n",
              "      <td></td>\n",
              "    </tr>\n",
              "    <tr>\n",
              "      <th>19</th>\n",
              "      <td>OPEN</td>\n",
              "      <td>64811</td>\n",
              "      <td>AMST 2010</td>\n",
              "      <td>81</td>\n",
              "      <td>Discussion</td>\n",
              "      <td>0.00</td>\n",
              "      <td>Wuertenberg, N</td>\n",
              "      <td>DUQUES 359</td>\n",
              "      <td>R 09:35AM - 10:50AM</td>\n",
              "      <td>08/30/21 - 12/11/21</td>\n",
              "      <td>Find Books</td>\n",
              "    </tr>\n",
              "    <tr>\n",
              "      <th>21</th>\n",
              "      <td>OPEN</td>\n",
              "      <td>63137</td>\n",
              "      <td>AMST 2010</td>\n",
              "      <td>83</td>\n",
              "      <td>Discussion</td>\n",
              "      <td>0.00</td>\n",
              "      <td>Wuertenberg, N</td>\n",
              "      <td>COR 103</td>\n",
              "      <td>R 12:45PM - 02:00PM</td>\n",
              "      <td>08/30/21 - 12/11/21</td>\n",
              "      <td>Find Books</td>\n",
              "    </tr>\n",
              "    <tr>\n",
              "      <th>22</th>\n",
              "      <td>OPEN</td>\n",
              "      <td>62123</td>\n",
              "      <td>AMST 2010</td>\n",
              "      <td>84</td>\n",
              "      <td>Discussion</td>\n",
              "      <td>0.00</td>\n",
              "      <td>Wuertenberg, N</td>\n",
              "      <td>1957 E B16</td>\n",
              "      <td>R 02:20PM - 03:35PM</td>\n",
              "      <td>08/30/21 - 12/11/21</td>\n",
              "      <td>Find Books</td>\n",
              "    </tr>\n",
              "    <tr>\n",
              "      <th>25</th>\n",
              "      <td>OPEN</td>\n",
              "      <td>65596</td>\n",
              "      <td>AMST 2430</td>\n",
              "      <td>10</td>\n",
              "      <td>Capitalism and Culture</td>\n",
              "      <td>3.00</td>\n",
              "      <td>Orenstein, D</td>\n",
              "      <td>1957 E B12</td>\n",
              "      <td>TR 12:45PM - 01:35PM</td>\n",
              "      <td>08/30/21 - 12/11/21</td>\n",
              "      <td>Linked</td>\n",
              "    </tr>\n",
              "    <tr>\n",
              "      <th>26</th>\n",
              "      <td>OPEN</td>\n",
              "      <td>66009</td>\n",
              "      <td>AMST 2430</td>\n",
              "      <td>30</td>\n",
              "      <td>Discussion</td>\n",
              "      <td>0.00</td>\n",
              "      <td>Orenstein, D</td>\n",
              "      <td>1957 E 212</td>\n",
              "      <td>R 09:35AM - 10:25AM</td>\n",
              "      <td>08/30/21 - 12/11/21</td>\n",
              "      <td>Find Books</td>\n",
              "    </tr>\n",
              "    <tr>\n",
              "      <th>27</th>\n",
              "      <td>OPEN</td>\n",
              "      <td>66010</td>\n",
              "      <td>AMST 2430</td>\n",
              "      <td>31</td>\n",
              "      <td>Discussion</td>\n",
              "      <td>0.00</td>\n",
              "      <td>Orenstein, D</td>\n",
              "      <td>1957 E 316</td>\n",
              "      <td>R 11:10AM - 12:00PM</td>\n",
              "      <td>08/30/21 - 12/11/21</td>\n",
              "      <td>Find Books</td>\n",
              "    </tr>\n",
              "    <tr>\n",
              "      <th>31</th>\n",
              "      <td>OPEN</td>\n",
              "      <td>68100</td>\n",
              "      <td>HIST 2440W</td>\n",
              "      <td>80</td>\n",
              "      <td>The American City</td>\n",
              "      <td>3.00</td>\n",
              "      <td>Osman, S</td>\n",
              "      <td>COR 101</td>\n",
              "      <td>TR 02:20PM - 03:10PM</td>\n",
              "      <td>08/30/21 - 12/11/21</td>\n",
              "      <td></td>\n",
              "    </tr>\n",
              "    <tr>\n",
              "      <th>32</th>\n",
              "      <td>OPEN</td>\n",
              "      <td>68095</td>\n",
              "      <td>AMST 2440W</td>\n",
              "      <td>81</td>\n",
              "      <td>Discussion</td>\n",
              "      <td>0.00</td>\n",
              "      <td>Osman, S</td>\n",
              "      <td>ROME 352</td>\n",
              "      <td>F 09:35AM - 10:25AM</td>\n",
              "      <td>08/30/21 - 12/11/21</td>\n",
              "      <td>Find Books</td>\n",
              "    </tr>\n",
              "    <tr>\n",
              "      <th>36</th>\n",
              "      <td>OPEN</td>\n",
              "      <td>67688</td>\n",
              "      <td>AMST 2450</td>\n",
              "      <td>10</td>\n",
              "      <td>History and Meaning of Higher Education in the...</td>\n",
              "      <td>3.00</td>\n",
              "      <td>Gee, J</td>\n",
              "      <td>REMOTE INSTR</td>\n",
              "      <td>MW 11:10AM - 12:25PM</td>\n",
              "      <td>08/30/21 - 12/11/21</td>\n",
              "      <td></td>\n",
              "    </tr>\n",
              "    <tr>\n",
              "      <th>48</th>\n",
              "      <td>OPEN</td>\n",
              "      <td>66238</td>\n",
              "      <td>AMST 3625</td>\n",
              "      <td>80</td>\n",
              "      <td>Ethnographic and Historical Perspectives on Da...</td>\n",
              "      <td>3.00</td>\n",
              "      <td>Kuipers, J; Cohen-Cole, J</td>\n",
              "      <td>DUQUES 359</td>\n",
              "      <td>T 12:45PM - 03:15PM</td>\n",
              "      <td>08/30/21 - 12/11/21</td>\n",
              "      <td>XList</td>\n",
              "    </tr>\n",
              "    <tr>\n",
              "      <th>50</th>\n",
              "      <td>OPEN</td>\n",
              "      <td>66706</td>\n",
              "      <td>HONR 2047</td>\n",
              "      <td>85</td>\n",
              "      <td>Ethno&amp;HistPerspectivesOnData</td>\n",
              "      <td>3.00</td>\n",
              "      <td>Kuipers, J; Cohen-Cole, J</td>\n",
              "      <td>DUQUES 359</td>\n",
              "      <td>T 12:45PM - 03:15PM</td>\n",
              "      <td>08/30/21 - 12/11/21</td>\n",
              "      <td></td>\n",
              "    </tr>\n",
              "    <tr>\n",
              "      <th>51</th>\n",
              "      <td>OPEN</td>\n",
              "      <td>67966</td>\n",
              "      <td>DATS 2101</td>\n",
              "      <td>80</td>\n",
              "      <td>Ethical Life in a Digital World</td>\n",
              "      <td>3.00</td>\n",
              "      <td>Kuipers, J; Cohen-Cole, J</td>\n",
              "      <td>DUQUES 359</td>\n",
              "      <td>T 12:45PM - 03:15PM</td>\n",
              "      <td>08/30/21 - 12/11/21</td>\n",
              "      <td></td>\n",
              "    </tr>\n",
              "    <tr>\n",
              "      <th>52</th>\n",
              "      <td>OPEN</td>\n",
              "      <td>63740</td>\n",
              "      <td>AMST 3900</td>\n",
              "      <td>10</td>\n",
              "      <td>Critiquing Culture</td>\n",
              "      <td>3.00</td>\n",
              "      <td>Orenstein, D</td>\n",
              "      <td>1957 E 311</td>\n",
              "      <td>TR 09:35AM - 10:50AM</td>\n",
              "      <td>08/30/21 - 12/11/21</td>\n",
              "      <td></td>\n",
              "    </tr>\n",
              "    <tr>\n",
              "      <th>54</th>\n",
              "      <td>OPEN</td>\n",
              "      <td>67696</td>\n",
              "      <td>AMST 3950W</td>\n",
              "      <td>80</td>\n",
              "      <td>American Slavery&amp;Its Legacies</td>\n",
              "      <td>3.00</td>\n",
              "      <td>Chapman, E</td>\n",
              "      <td>PHIL 329</td>\n",
              "      <td>R 11:10AM - 01:00PM</td>\n",
              "      <td>08/30/21 - 12/11/21</td>\n",
              "      <td>XList</td>\n",
              "    </tr>\n",
              "    <tr>\n",
              "      <th>55</th>\n",
              "      <td>OPEN</td>\n",
              "      <td>67276</td>\n",
              "      <td>HIST 3301W</td>\n",
              "      <td>80</td>\n",
              "      <td>American Slavery &amp;Its Legacies</td>\n",
              "      <td>3.00</td>\n",
              "      <td>Chapman, E</td>\n",
              "      <td>PHIL 329</td>\n",
              "      <td>R 11:10AM - 01:00PM</td>\n",
              "      <td>08/30/21 - 12/11/21</td>\n",
              "      <td></td>\n",
              "    </tr>\n",
              "    <tr>\n",
              "      <th>56</th>\n",
              "      <td>OPEN</td>\n",
              "      <td>62124</td>\n",
              "      <td>AMST 4400</td>\n",
              "      <td>10</td>\n",
              "      <td>Independent Study</td>\n",
              "      <td>3.00</td>\n",
              "      <td>Guglielmo, T</td>\n",
              "      <td></td>\n",
              "      <td></td>\n",
              "      <td>08/30/21 - 12/11/21</td>\n",
              "      <td></td>\n",
              "    </tr>\n",
              "  </tbody>\n",
              "</table>\n",
              "</div>"
            ],
            "text/plain": [
              "   STATUS    CRN  ...            FROM / TO         Books\n",
              "1    OPEN  62945  ...  08/30/21 - 12/11/21        Linked\n",
              "4    OPEN  62985  ...  08/30/21 - 12/11/21    Find Books\n",
              "9    OPEN  68546  ...  08/30/21 - 12/11/21    Find Books\n",
              "17   OPEN  62122  ...  08/30/21 - 12/11/21  XList Linked\n",
              "18   OPEN  62118  ...  08/30/21 - 12/11/21              \n",
              "19   OPEN  64811  ...  08/30/21 - 12/11/21    Find Books\n",
              "21   OPEN  63137  ...  08/30/21 - 12/11/21    Find Books\n",
              "22   OPEN  62123  ...  08/30/21 - 12/11/21    Find Books\n",
              "25   OPEN  65596  ...  08/30/21 - 12/11/21        Linked\n",
              "26   OPEN  66009  ...  08/30/21 - 12/11/21    Find Books\n",
              "27   OPEN  66010  ...  08/30/21 - 12/11/21    Find Books\n",
              "31   OPEN  68100  ...  08/30/21 - 12/11/21              \n",
              "32   OPEN  68095  ...  08/30/21 - 12/11/21    Find Books\n",
              "36   OPEN  67688  ...  08/30/21 - 12/11/21              \n",
              "48   OPEN  66238  ...  08/30/21 - 12/11/21         XList\n",
              "50   OPEN  66706  ...  08/30/21 - 12/11/21              \n",
              "51   OPEN  67966  ...  08/30/21 - 12/11/21              \n",
              "52   OPEN  63740  ...  08/30/21 - 12/11/21              \n",
              "54   OPEN  67696  ...  08/30/21 - 12/11/21         XList\n",
              "55   OPEN  67276  ...  08/30/21 - 12/11/21              \n",
              "56   OPEN  62124  ...  08/30/21 - 12/11/21              \n",
              "\n",
              "[21 rows x 11 columns]"
            ]
          },
          "metadata": {},
          "execution_count": 52
        }
      ]
    },
    {
      "cell_type": "markdown",
      "metadata": {
        "id": "cSpY4DhhTk_Y"
      },
      "source": [
        "Instructions for mounting your Google Drive: \n",
        "https://www.marktechpost.com/2019/06/07/how-to-connect-google-colab-with-google-drive/"
      ]
    },
    {
      "cell_type": "code",
      "metadata": {
        "id": "d8lq1eU7gZI3",
        "colab": {
          "base_uri": "https://localhost:8080/",
          "height": 0
        },
        "outputId": "586a09be-ccb2-46b4-9758-b40a7778998c"
      },
      "source": [
        "from google.colab import drive\n",
        "drive.mount('/content/drive')"
      ],
      "execution_count": 50,
      "outputs": [
        {
          "output_type": "stream",
          "name": "stdout",
          "text": [
            "Mounted at /content/drive\n"
          ]
        }
      ]
    },
    {
      "cell_type": "code",
      "metadata": {
        "id": "ng91cOZcT0iW"
      },
      "source": [
        "!cp amst.csv /content/drive/MyDrive\n"
      ],
      "execution_count": 51,
      "outputs": []
    },
    {
      "cell_type": "markdown",
      "metadata": {
        "id": "Qz26ssh3A2aw"
      },
      "source": [
        "Now that we've done this on one page, what might be next steps?\n",
        "\n",
        "* Create a function to modularize the work we did. Then apply this to other pages (Note that there were 2 pages for AMST) and other departments. \n",
        "* Consider how you can be respectful of the website. Where could you insert some sleep statements? \n",
        "* Maybe there are better times of day to run this kind of scraping?"
      ]
    },
    {
      "cell_type": "code",
      "metadata": {
        "id": "2e_vdT5zAfwF"
      },
      "source": [
        ""
      ],
      "execution_count": null,
      "outputs": []
    }
  ]
}