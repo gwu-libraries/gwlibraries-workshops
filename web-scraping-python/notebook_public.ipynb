{
  "nbformat": 4,
  "nbformat_minor": 0,
  "metadata": {
    "colab": {
      "name": "Updated_Oct_2021_notebook-public.ipynb",
      "provenance": [],
      "collapsed_sections": []
    },
    "kernelspec": {
      "name": "python3",
      "display_name": "Python 3"
    }
  },
  "cells": [
    {
      "cell_type": "markdown",
      "metadata": {
        "id": "UuIowtekqdKO"
      },
      "source": [
        "Remember to periodically save!"
      ]
    },
    {
      "cell_type": "markdown",
      "metadata": {
        "id": "m3y8TlR2lFM-"
      },
      "source": [
        "# Web Scraping with Requests-HTML\n",
        "\n",
        "Documentation: https://requests.readthedocs.io/projects/requests-html/en/latest/\n",
        "\n",
        "If you've used Python for getting web pages, connecting to an API, or getting files off the web, odds are you've encountered the requests library. The library we're using today, Requests-HTML (note the different name) was developed by the author of the requests, Kenneth Reitz.  It's intended to be an easy-to-learn web scraping library, it's basically a layer on top of requests and BeautifulSoup. BeautifulSoup is another good basic Python library for parsing HTML. Lots of tutorials and documentation on it. \n",
        "\n",
        "\n",
        "## Part 1: Scraping headlines from the GW Hatchet\n",
        "\n",
        "Before we start scraping, let's look at the robots.txt file for the site. This is a list of instructions to crawlers--usually search engines--about how to crawl the site and which parts to stay away from. \n",
        "\n",
        "https://www.gwhatchet.com/robots.txt\n",
        "\n",
        "Note that this site is very open about crawling. That doesn't mean there aren't still legal and ethical considerations, but we're respecting their instructions about the site. \n",
        "\n",
        "\n",
        "**Getting started**\n",
        "\n",
        "First we need to install the `requests_html` Python library using the pip command."
      ]
    },
    {
      "cell_type": "code",
      "metadata": {
        "id": "wqrCkPF_h6Lq"
      },
      "source": [
        "! pip install requests_html"
      ],
      "execution_count": null,
      "outputs": []
    },
    {
      "cell_type": "code",
      "metadata": {
        "id": "_ULpyL6Gh7Jb"
      },
      "source": [
        "from requests_html import HTMLSession"
      ],
      "execution_count": null,
      "outputs": []
    },
    {
      "cell_type": "markdown",
      "metadata": {
        "id": "pwCI4gvvoq5C"
      },
      "source": [
        "We  need to make an HTTP GET request to get the website HTML. To do this we create an HTMLSession. That session object has methods to make GET requests. \n",
        "\n",
        "The get() method takes the URL as an argument. Sends an HTTP GET request. \n",
        "\n"
      ]
    },
    {
      "cell_type": "code",
      "metadata": {
        "id": "qi2LtNMAiInM"
      },
      "source": [
        "session = HTMLSession()\n",
        "\n",
        "r = session.get('https://www.gwhatchet.com/section/news/')"
      ],
      "execution_count": null,
      "outputs": []
    },
    {
      "cell_type": "code",
      "metadata": {
        "colab": {
          "base_uri": "https://localhost:8080/"
        },
        "id": "ACd8zgLk5kru",
        "outputId": "053cc4cd-ac77-46c4-b955-53c4a5ef0d48"
      },
      "source": [
        "r.html"
      ],
      "execution_count": null,
      "outputs": [
        {
          "output_type": "execute_result",
          "data": {
            "text/plain": [
              "<HTML url='https://www.gwhatchet.com/section/news/'>"
            ]
          },
          "metadata": {},
          "execution_count": 6
        }
      ]
    },
    {
      "cell_type": "markdown",
      "metadata": {
        "id": "E2FjCtI0k3BI"
      },
      "source": [
        "`r` is a Response object and it has an html attribute which contains all of the HTML from the page in Unicode. We can look at the web page's text using the text attribute.  This is like looking at the text content of all of the HTML tags. "
      ]
    },
    {
      "cell_type": "code",
      "metadata": {
        "id": "MI7rZ_7ciNVo",
        "colab": {
          "base_uri": "https://localhost:8080/",
          "height": 120
        },
        "outputId": "03c3cdbc-613e-4399-9091-122c316ab770"
      },
      "source": [
        "r.html.text"
      ],
      "execution_count": null,
      "outputs": [
        {
          "output_type": "execute_result",
          "data": {
            "application/vnd.google.colaboratory.intrinsic+json": {
              "type": "string"
            },
            "text/plain": [
              "'News – The GW Hatchet\\nwindow._wpemojiSettings = {\"baseUrl\":\"https:\\\\/\\\\/s.w.org\\\\/images\\\\/core\\\\/emoji\\\\/12.0.0-1\\\\/72x72\\\\/\",\"ext\":\".png\",\"svgUrl\":\"https:\\\\/\\\\/s.w.org\\\\/images\\\\/core\\\\/emoji\\\\/12.0.0-1\\\\/svg\\\\/\",\"svgExt\":\".svg\",\"source\":{\"concatemoji\":\"https:\\\\/\\\\/www.gwhatchet.com\\\\/wp-includes\\\\/js\\\\/wp-emoji-release.min.js?ver=5.4\"}}; /*! This file is auto-generated */ !function(e,a,t){var r,n,o,i,p=a.createElement(\"canvas\"),s=p.getContext&&p.getContext(\"2d\");function c(e,t){var a=String.fromCharCode;s.clearRect(0,0,p.width,p.height),s.fillText(a.apply(this,e),0,0);var r=p.toDataURL();return s.clearRect(0,0,p.width,p.height),s.fillText(a.apply(this,t),0,0),r===p.toDataURL()}function l(e){if(!s||!s.fillText)return!1;switch(s.textBaseline=\"top\",s.font=\"600 32px Arial\",e){case\"flag\":return!c([127987,65039,8205,9895,65039],[127987,65039,8203,9895,65039])&&(!c([55356,56826,55356,56819],[55356,56826,8203,55356,56819])&&!c([55356,57332,56128,56423,56128,56418,56128,56421,56128,56430,56128,56423,56128,56447],[55356,57332,8203,56128,56423,8203,56128,56418,8203,56128,56421,8203,56128,56430,8203,56128,56423,8203,56128,56447]));case\"emoji\":return!c([55357,56424,55356,57342,8205,55358,56605,8205,55357,56424,55356,57340],[55357,56424,55356,57342,8203,55358,56605,8203,55357,56424,55356,57340])}return!1}function d(e){var t=a.createElement(\"script\");t.src=e,t.defer=t.type=\"text/javascript\",a.getElementsByTagName(\"head\")[0].appendChild(t)}for(i=Array(\"flag\",\"emoji\"),t.supports={everything:!0,everythingExceptFlag:!0},o=0;o<i.length;o++)t.supports[i[o]]=l(i[o]),t.supports.everything=t.supports.everything&&t.supports[i[o]],\"flag\"!==i[o]&&(t.supports.everythingExceptFlag=t.supports.everythingExceptFlag&&t.supports[i[o]]);t.supports.everythingExceptFlag=t.supports.everythingExceptFlag&&!t.supports.flag,t.DOMReady=!1,t.readyCallback=function(){t.DOMReady=!0},t.supports.everything||(n=function(){t.readyCallback()},a.addEventListener?(a.addEventListener(\"DOMContentLoaded\",n,!1),e.addEventListener(\"load\",n,!1)):(e.attachEvent(\"onload\",n),a.attachEvent(\"onreadystatechange\",function(){\"complete\"===a.readyState&&t.readyCallback()})),(r=t.source||{}).concatemoji?d(r.concatemoji):r.wpemoji&&r.twemoji&&(d(r.twemoji),d(r.wpemoji)))}(window,document,window._wpemojiSettings);\\nimg.wp-smiley, img.emoji { display: inline !important; border: none !important; box-shadow: none !important; height: 1em !important; width: 1em !important; margin: 0 .07em !important; vertical-align: -0.1em !important; background: none !important; padding: 0 !important; }\\n.has-text-align-justify{text-align:justify;}\\n{\"sampling_active\":0,\"sampling_rate\":100,\"ajax_url\":\"https:\\\\/\\\\/www.gwhatchet.com\\\\/wp-json\\\\/wordpress-popular-posts\\\\/v1\\\\/popular-posts\",\"ID\":0,\"token\":\"ce698026d9\",\"lang\":0,\"debug\":0}\\n{\"@context\":\"http:\\\\/\\\\/schema.org\",\"@type\":\"WebSite\",\"url\":\"https:\\\\/\\\\/www.gwhatchet.com\",\"name\":\"The GW Hatchet\"}\\nvar googletag = googletag || {}; var mapping = {}; var wide_mapping = {}; var wide_only_mapping = {}; var wide_preferred_mapping = {}; googletag.cmd = googletag.cmd || []; googletag.cmd.push(function() { mapping = googletag.sizeMapping() .addSize([1000, 0], [300, 250]) .addSize([750, 0], [728, 90]) .addSize([300, 0], [300, 250]) .addSize([0, 0], []) .build(); wide_mapping = googletag.sizeMapping() .addSize([750, 0], [728, 90]) .addSize([300, 0], [300, 250]) .addSize([0, 0], []) .build(); wide_only_mapping = googletag.sizeMapping() .addSize([750, 0], [728, 90]) .addSize([0, 0], []) .build(); wide_preferred_mapping = googletag.sizeMapping() .addSize([750, 0], [[728, 90], [300, 250]]) .addSize([300, 0], [300, 250]) .addSize([0, 0], []) .build(); rect_only_mapping = googletag.sizeMapping() .addSize([300, 0], [300, 250]) .addSize([0, 0], []) .build(); }); googletag.cmd.push(function() { var home_top = googletag.defineSlot(\\'/189534361/home_top\\', [[728, 90], [300, 250]], \\'div-gpt-ad-1479223395078-0\\').addService(googletag.pubads()); home_top.defineSizeMapping(mapping); googletag.enableServices(); }); function createTag(slot_name, sizes, tag_id, index, mapping) { return function() { var home_inner = googletag.defineSlot(\\'/189534361/\\'+slot_name, sizes, \\'div-gpt-ad-\\'+tag_id+\\'-\\'+index).addService(googletag.pubads()); home_inner.defineSizeMapping(window[mapping]); googletag.enableServices(); }; } for (var i = 0; i < 5; i++) { googletag.cmd.push(createTag(\\'home_inter\\', [[728, 90], [300, 250]], \\'1483201362070\\', i, \\'wide_mapping\\')); } googletag.cmd.push(createTag(\\'story_top\\', [[728, 90]], \\'1483205102802\\', 0, \\'wide_only_mapping\\')); googletag.cmd.push(createTag(\\'story_bottom\\', [[728, 90], [300, 250]], \\'1483220287344\\', 0, \\'wide_preferred_mapping\\'));\\n.dropbtn { border: none; cursor: pointer; } /* The container <div> - needed to position the dropdown content */ .dropdown { display: inline-block; position: relative; padding-left: 4px; padding-right: 4px; } /* Dropdown Content (Hidden by Default) */ .dropdown-content { display: none; margin-top: -0.1em; position: absolute; background-color: #02293d; width: 200px; font-size: 0.8rem; z-index: 1; margin-left: -4px; } .dropdown-content a { color: white; width: 100%; padding: 12px 16px; text-decoration: none; display: block; font-family: \"Source Sans Pro\", -system, -apple-system, \"Helvetica Neue\", \"Segoe UI\", \"Arial\", sans-serif; } /* Change color of dropdown links on hover */ .dropdown-content a:hover {background-color: #003b5c} /* Show the dropdown menu on hover */ /* Change the background color of the dropdown button when the dropdown content is shown */ .dropdown:hover { background-color: #02293d; } input[type=\\'checkbox\\'] { display: none; pointer-events: none; } .check-lbl { width: 100%; height: 100%; position: absolute; display: block; } /*show the submenu when input is checked*/ .mobile-only-drop-link { display: none; } @media (min-width: 999px) { .dropdown:hover .dropdown-content { display: block; } .check-lbl { display: none; } } /*Mobile only*/ @media (max-width: 999px) { .dropdown { display: block; background-color: #003b5c; padding-left: 4px; padding-right: 4px; } .dropdown:hover { background-color: #003b5c; } .dropdown-content { margin-left: -4px; } .dropdown:hover .dropdown-content { display: none; } } @media (max-width: 1199px) { .dropdown { padding-left: 0px; padding-right: 0px; } .dropdown-content { margin-left: -0px; } }\\nNews\\nAdministration Academics Events Health & Research Metro Student Government Student Life\\nCulture\\nDish of the Week Features Weekend Outlook\\nSports\\nCourtside Features\\nOpinions\\nColumns Essays Letters to the Editor Op-eds Staff Editorial Quick Takes\\nMultimedia\\nPhoto Video\\nPodcasts\\nGetting to the Bottom of It What’s New Buff and Blue\\nArchives\\nAdvertise\\nDonate\\nContact\\nAbout\\nJoin\\nNews\\nGreek life fall recruitment expanded to freshmen this year\\nBy Abby Kennedy and Lauren Sforza Yesterday\\nBrian Joyce, the director of fraternity and sorority life, said officials temporarily lifted the 12-credit completion requirement for recruitment this fall.\\nTwo professors receive NSA cyber scholarship grant\\nBy Eddie Herzig Yesterday\\nTwo cybersecurity professors received a grant from the National Security Agency allowing students to work in the Department of Defense following graduation.\\nSA Senate overrides Hill\\'s veto ahead of court hearing\\nBy Henry Huvos and Nicholas Pasion Yesterday\\nSenators overrode a presidential veto on legislation that could codify first-year seats to the SA’s bylaws Monday.\\nGlobal computer chip shortage delays technology order\\nBy Daniel Patrick Galgano Yesterday\\nInterim Chief Technology Officer Jared Johnson said the shortage has “significantly” delayed officials’ technology orders.\\nGWSB center reviews plans to expand financial literacy\\nBy Katelyn Aluise Yesterday\\nThe Global Financial Literacy Excellence Center hosted a virtual panel Monday, reviewing its findings on gaps in financial literacy across the world.\\nSMPA professor receives grant to protect female journalists\\nBy Cristina Stassis Yesterday\\nThe National Science Foundation awarded Rebekah Tromble a grant to create a response system for female journalists facing online harassment.\\nTrustees to announce Colonials decision this academic year: Speights\\nBy Isha Trivedi Yesterday\\nBoard of Trustees Chair Grace Speights said trustees have received recommendations from the committee considering the Colonials moniker renaming.\\nInterim communications vice president departing for American University\\nBy Isha Trivedi Yesterday\\nOfficials had named Heather Swain to the role last August, but she withdrew her acceptance for the job days later amid intense criticism.\\nThousands march to Supreme Court against abortion restrictions\\nBy Sejal Govindarao and Zachary Blackburn Yesterday\\nMore than 5,000 protesters gathered in D.C. Saturday, one of more than 600 marches in the United States opposing restrictive abortion laws.\\nStaff member transported to hospital after assault\\nBy Abby Kennedy, Isha Trivedi, Nicholas Pasion and Zachary Blackburn Monday\\nA staff member suffered serious injuries after unknown man assaulted them with intent to commit sexual abuse in the G Street Garage Monday afternoon.\\nNext »\\nFollow Us:\\nFacebook\\nTwitter\\nInstagram\\nYouTube\\nNewsletter\\nRSS\\nSections\\nNews\\nOpinions\\nCulture\\nSports\\nPhoto\\nVideo\\nPodcasts\\nReader Services\\nEmail Newsletter\\nBrowse Archives\\nLearn More\\nAbout Us\\nPrivacy Policy\\nCommenting Policy\\nPublishing Policy\\nGet in Touch\\nContact Us\\nJoin our Team\\nAdvertise\\nCopyright © 2021 Hatchet Publications, Inc. • Proudly Powered by WordPress\\n(function(i,s,o,g,r,a,m){i[\\'GoogleAnalyticsObject\\']=r;i[r]=i[r]||function(){ (i[r].q=i[r].q||[]).push(arguments)},i[r].l=1*new Date();a=s.createElement(o), m=s.getElementsByTagName(o)[0];a.async=1;a.src=g;m.parentNode.insertBefore(a,m) })(window,document,\\'script\\',\\'https://www.google-analytics.com/analytics.js\\',\\'ga\\'); ga(\\'create\\', \\'UA-1726704-1\\', \\'auto\\'); ga(\\'send\\', \\'pageview\\');'"
            ]
          },
          "metadata": {},
          "execution_count": 5
        }
      ]
    },
    {
      "cell_type": "markdown",
      "metadata": {
        "id": "B6RLw4p6kyOi"
      },
      "source": [
        "This html attribute also has many other attributes which are shortcuts to parts of the content. There is a links attribute which extracts all of the links in the page. Note that these are returned in alphabetical order, not the order on the page. "
      ]
    },
    {
      "cell_type": "code",
      "metadata": {
        "id": "ll7C6qZoiYsU"
      },
      "source": [
        "r.html.links"
      ],
      "execution_count": null,
      "outputs": []
    },
    {
      "cell_type": "code",
      "metadata": {
        "colab": {
          "base_uri": "https://localhost:8080/"
        },
        "id": "KVBoUxmOftp7",
        "outputId": "81f98045-24fb-4709-9d00-c5c275910de5"
      },
      "source": [
        "r.html.find('footer')"
      ],
      "execution_count": null,
      "outputs": [
        {
          "output_type": "execute_result",
          "data": {
            "text/plain": [
              "[<Element 'footer' >]"
            ]
          },
          "metadata": {},
          "execution_count": 8
        }
      ]
    },
    {
      "cell_type": "markdown",
      "metadata": {
        "id": "hdNug2oCwCVP"
      },
      "source": [
        "Now let's work at extracting certain parts of the page. Suppose we want all of the headlines. First we need to examine the page and determine if there is any markup that helps us identify headlines.  \n",
        "\n",
        "*Take a look at the HTML of the page.*\n",
        "\n",
        "We use CSS selectors to specify tags, classes, ids, or other attributes. \n",
        "https://www.w3schools.com/cssref/css_selectors.asp\n",
        "\n",
        "We can see that all of the headlines are in h2 tags with a class of post-title. If there is a class that identifies the elements we want, that's ideal. \n",
        "\n",
        "In this case, we can use the h2 tag OR we could also use the class. *Show both parameters.*\n",
        "\n",
        "We can now use the html object's find() method to provide a CSS selector. "
      ]
    },
    {
      "cell_type": "code",
      "metadata": {
        "id": "E2N1H7ouwNOI"
      },
      "source": [
        "titles = r.html.find('h2')\n",
        "# But note that there are <h2> tags in the footer so should use the post-title class instead.\n",
        "titles = r.html.find('.post-title')"
      ],
      "execution_count": null,
      "outputs": []
    },
    {
      "cell_type": "code",
      "metadata": {
        "colab": {
          "base_uri": "https://localhost:8080/"
        },
        "id": "TSbc5hC6xjv2",
        "outputId": "df372c67-cdd9-4c6f-b519-93064c3711c8"
      },
      "source": [
        "type(titles)"
      ],
      "execution_count": null,
      "outputs": [
        {
          "output_type": "execute_result",
          "data": {
            "text/plain": [
              "list"
            ]
          },
          "metadata": {},
          "execution_count": 16
        }
      ]
    },
    {
      "cell_type": "code",
      "metadata": {
        "id": "8RCGecahk1TG",
        "colab": {
          "base_uri": "https://localhost:8080/"
        },
        "outputId": "361e8305-fc70-4c0d-bf7a-f445b74721f5"
      },
      "source": [
        "titles"
      ],
      "execution_count": null,
      "outputs": [
        {
          "output_type": "execute_result",
          "data": {
            "text/plain": [
              "[<Element 'h2' class=('post-title',)>,\n",
              " <Element 'h2' class=('post-title',)>,\n",
              " <Element 'h2' class=('post-title',)>,\n",
              " <Element 'h2' class=('post-title',)>,\n",
              " <Element 'h2' class=('post-title',)>,\n",
              " <Element 'h2' class=('post-title',)>,\n",
              " <Element 'h2' class=('post-title',)>,\n",
              " <Element 'h2' class=('post-title',)>,\n",
              " <Element 'h2' class=('post-title',)>,\n",
              " <Element 'h2' class=('post-title',)>]"
            ]
          },
          "metadata": {},
          "execution_count": 17
        }
      ]
    },
    {
      "cell_type": "markdown",
      "metadata": {
        "id": "TRWbUOVYx_ik"
      },
      "source": [
        "`titles` is a list of Elements (capital E). We can access just the text content of those Elements using the `full_text` attribute. Let's look at just the first one to start."
      ]
    },
    {
      "cell_type": "code",
      "metadata": {
        "colab": {
          "base_uri": "https://localhost:8080/",
          "height": 35
        },
        "id": "bs3H_K3jyfZP",
        "outputId": "550b6ba2-5fff-4a3e-b6f4-61641e548f7c"
      },
      "source": [
        "titles[0].text"
      ],
      "execution_count": null,
      "outputs": [
        {
          "output_type": "execute_result",
          "data": {
            "application/vnd.google.colaboratory.intrinsic+json": {
              "type": "string"
            },
            "text/plain": [
              "'Greek life fall recruitment expanded to freshmen this year'"
            ]
          },
          "metadata": {},
          "execution_count": 18
        }
      ]
    },
    {
      "cell_type": "markdown",
      "metadata": {
        "id": "YlBMFvwxy4Q3"
      },
      "source": [
        "Now let's grab the text of all of the headlines. We'll iterate through the Elements in the titles list and add to our headlines list the text attribute from each one:"
      ]
    },
    {
      "cell_type": "code",
      "metadata": {
        "colab": {
          "base_uri": "https://localhost:8080/"
        },
        "id": "G-8jwZjWx9zg",
        "outputId": "ebad7be8-91f1-4829-9261-f505d4db1a43"
      },
      "source": [
        "headlines = [t.text for t in titles]\n",
        "print(headlines)"
      ],
      "execution_count": null,
      "outputs": [
        {
          "output_type": "stream",
          "name": "stdout",
          "text": [
            "['Greek life fall recruitment expanded to freshmen this year', 'Two professors receive NSA cyber scholarship grant', \"SA Senate overrides Hill's veto ahead of court hearing\", 'Global computer chip shortage delays technology order', 'GWSB center reviews plans to expand financial literacy', 'SMPA professor receives grant to protect female journalists', 'Trustees to announce Colonials decision this academic year: Speights', 'Interim communications vice president departing for American University', 'Thousands march to Supreme Court against abortion restrictions', 'Staff member transported to hospital after assault']\n"
          ]
        }
      ]
    },
    {
      "cell_type": "markdown",
      "metadata": {
        "id": "U3S0uHnSzu75"
      },
      "source": [
        "That's fine for one page, but if we want to get a lot more headlines, we'll need to check multiple pages. Let's look at the Hatchet website and see which pages have new articles. \n",
        "\n",
        "*Return to Hatchet website and page through news section.*\n",
        "\n",
        "Note: there are only 10 headlines per page, and then we need to click Next to go to another page. Clicking on that, we can see that there is number in the URL. So seeing that, we can use Python to get the HTML of each page and then get the headlines from each one. \n",
        "\n",
        "Before we jump in and do that, we're at the point where we should consider what is the most polite way to get this content from the Hatchet website. When you're web scraping, you don't want to interfere with a website's regular traffic by requesting lots of content all at one. We've got a lot of us online in this workshop, so let's give our requests a little space. We'll pause a second between requesting each page. \n",
        "\n",
        "To do that pausing, we need to import another library in the Python standard library. "
      ]
    },
    {
      "cell_type": "code",
      "metadata": {
        "id": "aGK-CL3H44jj"
      },
      "source": [
        "from time import sleep"
      ],
      "execution_count": null,
      "outputs": []
    },
    {
      "cell_type": "code",
      "metadata": {
        "colab": {
          "base_uri": "https://localhost:8080/"
        },
        "id": "FZeKIPvkyqi7",
        "outputId": "1d71e66f-c0d1-432e-b24a-62c16f0d5ac2"
      },
      "source": [
        "news = []\n",
        "\n",
        "# get the first 4 pages\n",
        "for i in range(1,5):\n",
        "    resp = session.get('https://www.gwhatchet.com/section/news/page/{}'.format(i))\n",
        "    titles = resp.html.find('.post-title')\n",
        "    headlines = [t.text for t in titles]\n",
        "    news.extend(headlines)\n",
        "    sleep(1)\n",
        "\n",
        "print(news)"
      ],
      "execution_count": null,
      "outputs": [
        {
          "output_type": "stream",
          "name": "stdout",
          "text": [
            "['Greek life fall recruitment expanded to freshmen this year', 'Two professors receive NSA cyber scholarship grant', \"SA Senate overrides Hill's veto ahead of court hearing\", 'Global computer chip shortage delays technology order', 'GWSB center reviews plans to expand financial literacy', 'SMPA professor receives grant to protect female journalists', 'Trustees to announce Colonials decision this academic year: Speights', 'Interim communications vice president departing for American University', 'Thousands march to Supreme Court against abortion restrictions', 'Staff member transported to hospital after assault', 'Crime log: Woman assaults student, police officer', 'Law professor finds ankle monitors as restrictive as incarceration', 'Officials launch fundraising initiative at Bicentennial Bash', 'Students protest Title IX case handling at Commencement', 'Writing Center to continue virtual appointments with in-person service', 'History department boosting diversity one year after Krug', 'Title IX Office mishandling sexual assault cases: student leaders', 'Locals deliver essentials to local homeless residents', 'Professors comply with maskless teaching policy: students', \"Warren tells graduates to 'fight hard' at joint Commencement\", 'Officials close campus spaces, streets in advance of bicentennial celebrations', 'Panelists talk boosting voting registration through tax system', 'Alumnus sues University over motorized tricycle crash', 'Officials respond to alleged mishandling of Title IX cases', 'SBA Senate funds thousands for International Law Society', 'Officials to reclassify postdoc researchers as trainees', 'GW rises three spots on U.S. News and World Report rankings', 'Milken professors sign Supreme Court brief on abortion rights', 'Officials watching potential shutdown ahead of Commencement', 'Black female officers sue MPD for sexual harassment', 'Officials search for new sustainability director', 'Panelists talk teaching racial justice in public administration', 'Student Court sets hearing for first-year senator case', 'Crime log: Spouse of staff member carjacked by male suspect', 'GW Law launches strategic planning process with Deloitte', 'SA textbook exchange program to alleviate costs: students', 'Officials to hold internal diversity review instead of external audit', 'Communication needed to convey FAFSA changes: experts', 'Absence of Vern COVID-19 testing site stirs health concerns', 'Pilot program to shut down E Street homeless encampment']\n"
          ]
        }
      ]
    },
    {
      "cell_type": "code",
      "metadata": {
        "colab": {
          "base_uri": "https://localhost:8080/"
        },
        "id": "p0jJgzTK5sz4",
        "outputId": "559e3ab4-88cf-4268-8e0d-bb20ed4297c6"
      },
      "source": [
        "len(news)"
      ],
      "execution_count": null,
      "outputs": [
        {
          "output_type": "execute_result",
          "data": {
            "text/plain": [
              "40"
            ]
          },
          "metadata": {},
          "execution_count": 22
        }
      ]
    },
    {
      "cell_type": "markdown",
      "metadata": {
        "id": "LcVHkZvRi6a7"
      },
      "source": [
        "Now that you have this data, you could go on to do other analysis of it. Maybe you want to look for mentions of certain entitites or do sentiment analysis or topic modelling of the headlines. There's a workshop on Natural Language Processing (NLP) Wednesday, October 13 at 11:30 if you want to learn more about working with text data: https://library.gwu.edu/news-events/events/python-natural-language-processing-0"
      ]
    },
    {
      "cell_type": "markdown",
      "metadata": {
        "id": "0IrUJRuT7lny"
      },
      "source": [
        "**Exercise:**\n",
        "\n",
        "Collect the bylines from the news-articles on the page. Start with one page of news articles. \n",
        "\n",
        "Hints:\n",
        "1. determine what tag or class identifies the text you want. \n",
        "2. use the find() method to identify the elements to collect and put them into a list. Assign that to a variable called bylines. \n",
        "3. Extract the text from each element and assign the results to a list called authors. \n"
      ]
    },
    {
      "cell_type": "code",
      "metadata": {
        "id": "x1R-7v5W8j23"
      },
      "source": [
        "# Note that if you use just byline-author as below you will also pick up the text \"By\". \n",
        "# bylines = r.html.find('.byline-author')\n",
        "# bylines[0].text"
      ],
      "execution_count": null,
      "outputs": []
    },
    {
      "cell_type": "code",
      "metadata": {
        "id": "l_m9UPlx7qaF"
      },
      "source": [
        "bylines = r.html.find('.byline-author a')"
      ],
      "execution_count": null,
      "outputs": []
    },
    {
      "cell_type": "code",
      "metadata": {
        "colab": {
          "base_uri": "https://localhost:8080/",
          "height": 35
        },
        "id": "D9LE4BqG76if",
        "outputId": "4a6caa1f-c9c4-44ee-d44f-133fda45a11e"
      },
      "source": [
        "bylines[0].text"
      ],
      "execution_count": null,
      "outputs": [
        {
          "output_type": "execute_result",
          "data": {
            "application/vnd.google.colaboratory.intrinsic+json": {
              "type": "string"
            },
            "text/plain": [
              "'Abby Kennedy'"
            ]
          },
          "metadata": {},
          "execution_count": 24
        }
      ]
    },
    {
      "cell_type": "code",
      "metadata": {
        "colab": {
          "base_uri": "https://localhost:8080/"
        },
        "id": "6KnrU_2p77O1",
        "outputId": "3c99e637-24bd-4004-9f2c-0941f23570c0"
      },
      "source": [
        "authors = [b.text for b in bylines]\n",
        "authors"
      ],
      "execution_count": null,
      "outputs": [
        {
          "output_type": "execute_result",
          "data": {
            "text/plain": [
              "['Abby Kennedy',\n",
              " 'Lauren Sforza',\n",
              " 'Eddie Herzig',\n",
              " 'Henry Huvos',\n",
              " 'Nicholas Pasion',\n",
              " 'Daniel Patrick Galgano',\n",
              " 'Katelyn Aluise',\n",
              " 'Cristina Stassis',\n",
              " 'Isha Trivedi',\n",
              " 'Isha Trivedi',\n",
              " 'Sejal Govindarao',\n",
              " 'Zachary Blackburn',\n",
              " 'Abby Kennedy',\n",
              " 'Isha Trivedi',\n",
              " 'Nicholas Pasion',\n",
              " 'Zachary Blackburn']"
            ]
          },
          "metadata": {},
          "execution_count": 25
        }
      ]
    },
    {
      "cell_type": "markdown",
      "metadata": {
        "id": "ue35f0Ho-Vld"
      },
      "source": [
        "If you want to use this data to get a count of how many times each author has been published, you could count them. There is a count() method in Python."
      ]
    },
    {
      "cell_type": "code",
      "metadata": {
        "colab": {
          "base_uri": "https://localhost:8080/"
        },
        "id": "uksVpVLX8mLx",
        "outputId": "95077f18-6756-445b-d643-fdde1d326f6e"
      },
      "source": [
        "authors.count(\"Zachary Blackburn\")"
      ],
      "execution_count": null,
      "outputs": [
        {
          "output_type": "execute_result",
          "data": {
            "text/plain": [
              "2"
            ]
          },
          "metadata": {},
          "execution_count": 26
        }
      ]
    },
    {
      "cell_type": "markdown",
      "metadata": {
        "id": "QobayzUUb8DP"
      },
      "source": [
        "The .count() method is a bit inefficient for our purposes because you have to use the count method with each possible author's name. Better to use Python's Counter from the collections module. We can give Counter a list and it will return a count of each value that appears. "
      ]
    },
    {
      "cell_type": "code",
      "metadata": {
        "colab": {
          "base_uri": "https://localhost:8080/"
        },
        "id": "zwRBSDBn8GXt",
        "outputId": "e222774c-0c8c-422d-ca6e-e23ebe799ae7"
      },
      "source": [
        "from collections import Counter\n",
        "a = Counter(authors)\n",
        "a"
      ],
      "execution_count": null,
      "outputs": [
        {
          "output_type": "execute_result",
          "data": {
            "text/plain": [
              "Counter({'Abby Kennedy': 2,\n",
              "         'Cristina Stassis': 1,\n",
              "         'Daniel Patrick Galgano': 1,\n",
              "         'Eddie Herzig': 1,\n",
              "         'Henry Huvos': 1,\n",
              "         'Isha Trivedi': 3,\n",
              "         'Katelyn Aluise': 1,\n",
              "         'Lauren Sforza': 1,\n",
              "         'Nicholas Pasion': 2,\n",
              "         'Sejal Govindarao': 1,\n",
              "         'Zachary Blackburn': 2})"
            ]
          },
          "metadata": {},
          "execution_count": 27
        }
      ]
    },
    {
      "cell_type": "code",
      "metadata": {
        "colab": {
          "base_uri": "https://localhost:8080/"
        },
        "id": "0Uap3MNvhtmS",
        "outputId": "bf24d666-b72e-48f6-fd57-70853b7a32cc"
      },
      "source": [
        "b = Counter(authors)\n",
        "print(b.most_common(3))\n",
        "#print(b[\"Abby Kennedy\"])\n"
      ],
      "execution_count": null,
      "outputs": [
        {
          "output_type": "stream",
          "name": "stdout",
          "text": [
            "[('Isha Trivedi', 3), ('Abby Kennedy', 2), ('Nicholas Pasion', 2)]\n"
          ]
        }
      ]
    },
    {
      "cell_type": "markdown",
      "metadata": {
        "id": "UjXqHE6kzIkO"
      },
      "source": [
        "## Part 2: More scraping! Scraping course listings from the Schedule of Classes\n",
        "\n",
        "**Have you saved lately? Be sure to save your notebook file!**\n",
        "\n",
        "*Bring up the GW Schedule of Classes in your browser* \n",
        "https://my.gwu.edu/mod/pws/subjects.cfm?campId=1&termId=202103\n",
        "\n",
        "Recommend starting with one page, and then building up as you determine how to access the data you need. We'll start with just the American Studies courses for Spring. *Drill down to the Main Campus Spring semester and then select American Studies*.\n",
        "\n",
        "Let's suppose we want to have a spreadsheet listing all of the courses in our department for our major. \n",
        "\n",
        "We will need to parse the HTML to get the information in each of these rows. (We'll ignore the comments and Find Books links.)\n",
        "\n",
        "###robots.txt\n",
        "Before doing anything, let's look at the robots.txt\n",
        "\n",
        "https://my.gwu.edu/robots.txt\n",
        "Our page is in /mod/pws and there are no prohibitions about crawling that content. \n",
        "\n",
        "**Now we can move on and look at the HTML for the page we want:**\n",
        "\n",
        "*View Page Source.*\n",
        "\n",
        "Relevant tags and courses include the `tr` tag in the tables. It looks like we have a class on each row which we could use, `.crseRow1`. We could look for all of the `td`s within `.crseRow1`, but then we would lose the contxt of which row they were in. \n",
        "\n",
        "Let's see what we get with the class that's on each row in each table. \n",
        "\n"
      ]
    },
    {
      "cell_type": "code",
      "metadata": {
        "id": "pGGI44Op95Ru"
      },
      "source": [
        "session_new = HTMLSession()\n",
        "\n",
        "amst_url = 'https://my.gwu.edu/mod/pws/courses.cfm?campId=1&termId=202103&subjId=AMST'\n",
        "response = session_new.get(amst_url)"
      ],
      "execution_count": null,
      "outputs": []
    },
    {
      "cell_type": "code",
      "metadata": {
        "colab": {
          "base_uri": "https://localhost:8080/",
          "height": 35
        },
        "id": "C-OjmlkW4-cL",
        "outputId": "51d6338c-20b1-4954-ad58-39030b194b6c"
      },
      "source": [
        "tds = response.html.find('.crseRow1 td')\n",
        "tds[0].text"
      ],
      "execution_count": null,
      "outputs": [
        {
          "output_type": "execute_result",
          "data": {
            "application/vnd.google.colaboratory.intrinsic+json": {
              "type": "string"
            },
            "text/plain": [
              "'WAITLIST'"
            ]
          },
          "metadata": {},
          "execution_count": 33
        }
      ]
    },
    {
      "cell_type": "code",
      "metadata": {
        "colab": {
          "base_uri": "https://localhost:8080/"
        },
        "id": "fYGV6yQNSQ9m",
        "outputId": "4f31367a-a49a-4e7f-e9a8-bf8311f9d48a"
      },
      "source": [
        "for td in tds[:20]:\n",
        "  print(td.text)"
      ],
      "execution_count": null,
      "outputs": [
        {
          "output_type": "stream",
          "name": "stdout",
          "text": [
            "WAITLIST\n",
            "68081\n",
            "AMST 1050\n",
            "11\n",
            "What is Democracy?\n",
            "3.00\n",
            "Anker, E\n",
            "MON B32\n",
            "T\n",
            "12:45PM - 03:15PM\n",
            "08/30/21 - 12/11/21\n",
            "\n",
            "OPEN\n",
            "62945\n",
            "AMST 1100\n",
            "10\n",
            "Politics and Film\n",
            "3.00\n",
            "Anker, E\n",
            "FNGR 108\n",
            "AND\n",
            "FNGR 108\n",
            "M\n",
            "12:45PM - 02:00PM\n",
            "AND\n",
            "M\n",
            "07:10PM - 09:40PM\n"
          ]
        }
      ]
    },
    {
      "cell_type": "code",
      "metadata": {
        "colab": {
          "base_uri": "https://localhost:8080/"
        },
        "id": "SJGRCuWz5Kkb",
        "outputId": "e3f50096-011c-4d44-f2de-a077d865ced2"
      },
      "source": [
        "len(tds)\n",
        "#We have a long list of cells, and we would lose the contxt of which row they were in. "
      ],
      "execution_count": null,
      "outputs": [
        {
          "output_type": "execute_result",
          "data": {
            "text/plain": [
              "638"
            ]
          },
          "metadata": {},
          "execution_count": 35
        }
      ]
    },
    {
      "cell_type": "markdown",
      "metadata": {
        "id": "fEZkavki5ZTj"
      },
      "source": [
        "Instead, let's try to work with each row and the data within it. \n"
      ]
    },
    {
      "cell_type": "code",
      "metadata": {
        "colab": {
          "base_uri": "https://localhost:8080/",
          "height": 35
        },
        "id": "NaEGkVj0zWDY",
        "outputId": "8fefd0db-955c-4d0f-ee8b-71a808600b03"
      },
      "source": [
        "rows = response.html.find('.crseRow1')\n",
        "rows[0].text"
      ],
      "execution_count": null,
      "outputs": [
        {
          "output_type": "execute_result",
          "data": {
            "application/vnd.google.colaboratory.intrinsic+json": {
              "type": "string"
            },
            "text/plain": [
              "'WAITLIST\\n68081\\nAMST 1050\\n11\\nWhat is Democracy?\\n3.00\\nAnker, E\\nMON B32\\nT\\n12:45PM - 03:15PM\\n08/30/21 - 12/11/21'"
            ]
          },
          "metadata": {},
          "execution_count": 36
        }
      ]
    },
    {
      "cell_type": "markdown",
      "metadata": {
        "id": "GXmzzQLm4tUV"
      },
      "source": [
        "We get back a string, with each cell's text concatenated. It looks like the text for each cell, as gathered by requests_html's text, ends with a `\\n` newline character. \n",
        "\n",
        "We still have access to the elements within the table rows object. For example, we can look at the cells (`td` tags) in our first row as follows: "
      ]
    },
    {
      "cell_type": "markdown",
      "metadata": {
        "id": "Qsfg7nLHFKPN"
      },
      "source": [
        ""
      ]
    },
    {
      "cell_type": "code",
      "metadata": {
        "id": "QJ9RJRQX4brK"
      },
      "source": [
        "cells = rows[0].find('td')"
      ],
      "execution_count": null,
      "outputs": []
    },
    {
      "cell_type": "code",
      "metadata": {
        "colab": {
          "base_uri": "https://localhost:8080/",
          "height": 35
        },
        "id": "5FNGRMPB7wtD",
        "outputId": "f9dea19d-fa5b-4cff-8e59-437cce5e8483"
      },
      "source": [
        "cells[0].text"
      ],
      "execution_count": null,
      "outputs": [
        {
          "output_type": "execute_result",
          "data": {
            "application/vnd.google.colaboratory.intrinsic+json": {
              "type": "string"
            },
            "text/plain": [
              "'WAITLIST'"
            ]
          },
          "metadata": {},
          "execution_count": 38
        }
      ]
    },
    {
      "cell_type": "code",
      "metadata": {
        "id": "N3OMZLo_GnWN",
        "colab": {
          "base_uri": "https://localhost:8080/",
          "height": 35
        },
        "outputId": "366c201a-cd6d-4966-d177-ebfb148e13c1"
      },
      "source": [
        "cells[8].text"
      ],
      "execution_count": null,
      "outputs": [
        {
          "output_type": "execute_result",
          "data": {
            "application/vnd.google.colaboratory.intrinsic+json": {
              "type": "string"
            },
            "text/plain": [
              "'T\\n12:45PM - 03:15PM'"
            ]
          },
          "metadata": {},
          "execution_count": 39
        }
      ]
    },
    {
      "cell_type": "markdown",
      "metadata": {
        "id": "0y2NVTVw8aqJ"
      },
      "source": [
        "Looking at the site, we can see that the time for the class is indeed on a different line from the day of the week, INSIDE THE SAME CELL. Let's take a look at each cell: "
      ]
    },
    {
      "cell_type": "code",
      "metadata": {
        "colab": {
          "base_uri": "https://localhost:8080/"
        },
        "id": "CVHzV5q-8SKg",
        "outputId": "ffbdad67-93fc-49e4-9680-c661b2a1f37b"
      },
      "source": [
        "for c in cells:\n",
        "    print(\"td: \", c.text)"
      ],
      "execution_count": null,
      "outputs": [
        {
          "output_type": "stream",
          "name": "stdout",
          "text": [
            "td:  WAITLIST\n",
            "td:  68081\n",
            "td:  AMST 1050\n",
            "td:  11\n",
            "td:  What is Democracy?\n",
            "td:  3.00\n",
            "td:  Anker, E\n",
            "td:  MON B32\n",
            "td:  T\n",
            "12:45PM - 03:15PM\n",
            "td:  08/30/21 - 12/11/21\n",
            "td:  \n"
          ]
        }
      ]
    },
    {
      "cell_type": "markdown",
      "metadata": {
        "id": "PPAxaznY_I5T"
      },
      "source": [
        "Now that we know how to access the text of each `td` and that there are some extra newlines in there, let's create a function that will strip out newlines in the text of the td tags. Our function will return a list that has the text of all of the cells. "
      ]
    },
    {
      "cell_type": "code",
      "metadata": {
        "id": "SXTOGm368WDt"
      },
      "source": [
        "def get_tds(tr):\n",
        "    row = [td.text.replace('\\n', ' ') for td in tr.find('td')]\n",
        "    return row"
      ],
      "execution_count": null,
      "outputs": []
    },
    {
      "cell_type": "markdown",
      "metadata": {
        "id": "BPcM1Kf6_xk_"
      },
      "source": [
        "Now we can use this to get all the relevant text in all of the course tables on the page, and collect them into a courses list."
      ]
    },
    {
      "cell_type": "code",
      "metadata": {
        "id": "zx86mOG-_d6f"
      },
      "source": [
        "courses = []\n",
        "for tr in rows:\n",
        "    courses.append(get_tds(tr))"
      ],
      "execution_count": null,
      "outputs": []
    },
    {
      "cell_type": "code",
      "metadata": {
        "id": "EmNPksDl_wOu"
      },
      "source": [
        "# Look at courses. Note that there are some here that don't appear on the web page! \n",
        "# That's because there is display:none as a style on some of the tables. \n",
        "\n",
        "courses"
      ],
      "execution_count": null,
      "outputs": []
    },
    {
      "cell_type": "markdown",
      "metadata": {
        "id": "PzDaqrR3Al6F"
      },
      "source": [
        "Now that we've extracted this data, we want to hold onto it. We'll create a CSV file to hold this data. "
      ]
    },
    {
      "cell_type": "code",
      "metadata": {
        "id": "nVWHER9zABQL"
      },
      "source": [
        "import csv\n",
        "\n",
        "with open('amst.csv', 'w', newline='') as csvfile:\n",
        "    writer = csv.writer(csvfile, delimiter=',')\n",
        "    for course in courses:\n",
        "        writer.writerow(course)"
      ],
      "execution_count": null,
      "outputs": []
    },
    {
      "cell_type": "code",
      "metadata": {
        "colab": {
          "base_uri": "https://localhost:8080/"
        },
        "id": "RhGRgC96AHSb",
        "outputId": "b005ea91-45a8-4afc-8869-df407cb2086a"
      },
      "source": [
        "!head amst.csv"
      ],
      "execution_count": null,
      "outputs": [
        {
          "output_type": "stream",
          "name": "stdout",
          "text": [
            "WAITLIST,68081,AMST 1050,11,What is Democracy?,3.00,\"Anker, E\",MON B32,T 12:45PM - 03:15PM,08/30/21 - 12/11/21,\r\n",
            "OPEN,62945,AMST 1100,10,Politics and Film,3.00,\"Anker, E\",FNGR 108 AND FNGR 108,M 12:45PM - 02:00PM AND M 07:10PM - 09:40PM,08/30/21 - 12/11/21,Linked\r\n",
            "CLOSED,62983,AMST 1100,30,Discussion,0.00,\"Anker, E\",GELM B04,W 09:35AM - 10:25AM,08/30/21 - 12/11/21,Find Books\r\n",
            "CLOSED,62984,AMST 1100,31,Discussion,0.00,\"Anker, E\",1957 E B16,W 11:10AM - 12:00PM,08/30/21 - 12/11/21,Find Books\r\n",
            "OPEN,62985,AMST 1100,32,Discussion,0.00,\"Anker, E\",1957 E B17,W 09:35AM - 10:25AM,08/30/21 - 12/11/21,Find Books\r\n",
            "CLOSED,62986,AMST 1100,33,Discussion,0.00,\"Anker, E\",FNGR 108,W 12:45PM - 01:35PM,08/30/21 - 12/11/21,Find Books\r\n",
            "CLOSED,64060,AMST 1100,34,Discussion,0.00,\"Anker, E\",1957 E B17,W 12:45PM - 01:35PM,08/30/21 - 12/11/21,Find Books\r\n",
            "CLOSED,64061,AMST 1100,35,Discussion,0.00,\"Anker, E\",1957 E 214,W 02:20PM - 03:10PM,08/30/21 - 12/11/21,Find Books\r\n",
            "WAITLIST,68545,AMST 1100,36,Discussion,0.00,\"Anker, E\",MON 351,W 11:10AM - 12:00PM,08/30/21 - 12/11/21,Find Books\r\n",
            "OPEN,68546,AMST 1100,37,Discussion,0.00,\"Anker, E\",MON 251,W 02:20PM - 03:10PM,08/30/21 - 12/11/21,Find Books\r\n"
          ]
        }
      ]
    },
    {
      "cell_type": "markdown",
      "metadata": {
        "id": "qdkgWVTYAvC7"
      },
      "source": [
        "We could also load this CSV into pandas, if we wanted to use some of its filtering and analysis methods. "
      ]
    },
    {
      "cell_type": "code",
      "metadata": {
        "id": "emcYgBGCAImk"
      },
      "source": [
        "import pandas as pd\n"
      ],
      "execution_count": null,
      "outputs": []
    },
    {
      "cell_type": "code",
      "metadata": {
        "id": "EpNe9d1kATRU"
      },
      "source": [
        "df = pd.DataFrame(courses, columns = ['STATUS', 'CRN', 'SUBJECT', 'SECT', 'COURSE', 'CREDIT', 'INSTR.', 'BLDG/RM', 'DAY/TIME', 'FROM / TO', 'Books'])"
      ],
      "execution_count": null,
      "outputs": []
    },
    {
      "cell_type": "code",
      "metadata": {
        "id": "retCJ-C_ATl-"
      },
      "source": [
        "df"
      ],
      "execution_count": null,
      "outputs": []
    },
    {
      "cell_type": "code",
      "metadata": {
        "id": "uKu0c8nRAUfE"
      },
      "source": [
        "df[df['STATUS'] == \"OPEN\"]\n"
      ],
      "execution_count": null,
      "outputs": []
    },
    {
      "cell_type": "markdown",
      "metadata": {
        "id": "cSpY4DhhTk_Y"
      },
      "source": [
        "Instructions for mounting your Google Drive: \n",
        "https://www.marktechpost.com/2019/06/07/how-to-connect-google-colab-with-google-drive/"
      ]
    },
    {
      "cell_type": "code",
      "metadata": {
        "id": "d8lq1eU7gZI3",
        "colab": {
          "base_uri": "https://localhost:8080/"
        },
        "outputId": "586a09be-ccb2-46b4-9758-b40a7778998c"
      },
      "source": [
        "from google.colab import drive\n",
        "drive.mount('/content/drive')"
      ],
      "execution_count": null,
      "outputs": [
        {
          "output_type": "stream",
          "name": "stdout",
          "text": [
            "Mounted at /content/drive\n"
          ]
        }
      ]
    },
    {
      "cell_type": "code",
      "metadata": {
        "id": "ng91cOZcT0iW"
      },
      "source": [
        "!cp amst.csv /content/drive/MyDrive\n"
      ],
      "execution_count": null,
      "outputs": []
    },
    {
      "cell_type": "markdown",
      "metadata": {
        "id": "Qz26ssh3A2aw"
      },
      "source": [
        "Now that we've done this on one page, what might be next steps?\n",
        "\n",
        "* Create a function to modularize the work we did. Then apply this to other pages (Note that there were 2 pages for AMST) and other departments. \n",
        "* Consider how you can be respectful of the website. Where could you insert some sleep statements? \n",
        "* Maybe there are better times of day to run this kind of scraping?"
      ]
    },
    {
      "cell_type": "code",
      "metadata": {
        "id": "2e_vdT5zAfwF"
      },
      "source": [
        ""
      ],
      "execution_count": null,
      "outputs": []
    }
  ]
}