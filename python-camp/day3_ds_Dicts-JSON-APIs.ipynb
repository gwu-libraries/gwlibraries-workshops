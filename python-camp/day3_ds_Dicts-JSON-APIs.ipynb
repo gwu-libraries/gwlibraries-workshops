{
 "cells": [
  {
   "cell_type": "markdown",
   "metadata": {},
   "source": [
    "(updated March 2022)\n",
    "\n",
    "# Day 3: Working with structured data\n",
    "Instructor: Dolsy"
   ]
  },
  {
   "cell_type": "markdown",
   "metadata": {},
   "source": [
    "Now we're covering some content that's not in the Open edX course--we think it's useful in your learning about Python fundamentals, especially for working with data on the web. \n",
    "\n",
    "Let's start a new notebook.\n",
    "\n",
    "Pre-work: you should have watched and followed along with the video about Python dictionaries. \n",
    "\n",
    "A Python dictionary holds pairs of objects: keys and values. \n",
    "- Keys may be strings or integers. \n",
    "- A value may be any type, whether an integer, string, boolean, list, etc. It can even be another dictionary! \n",
    "- In other programming languages, these structures might be called maps, hashmaps, or associative arrays.\n",
    "\n",
    "The last exercise in the video was to create a dictionary that holds data about a city. We'll walk through creating one now and if you did the exercise, I'd also invite you to share your dictionary in the Slack chat. \n"
   ]
  },
  {
   "cell_type": "code",
   "execution_count": null,
   "metadata": {},
   "outputs": [],
   "source": [
    "city = {\"name\": \"District of Columbia\", \"population\": 692683, \n",
    "        \"country\": \"USA\", \n",
    "        \"landmarks\": [\"Lincoln Memorial\", \"U.S. Capitol\", \"GWU\"]}"
   ]
  },
  {
   "cell_type": "markdown",
   "metadata": {},
   "source": [
    "In today's lesson, we're going to work with lists and dictionaries as the building blocks for data structures that we can transform in Python in various ways. Transforming data from one structure to another is a very common task in programming, and one for which people often turn to a language like Python to accomplish.\n",
    "\n",
    "We'll also look at a Python library called pandas, which provides powerful tools for working with large datasets efficiently."
   ]
  },
  {
   "cell_type": "markdown",
   "metadata": {},
   "source": [
    "### Extracting values from a dictionary\n",
    "\n",
    "In the pre-work for today, you saw how to extract a single value from a dictionary by key. Let's say we want to print the name and population of the city in our `city` dictionary."
   ]
  },
  {
   "cell_type": "code",
   "execution_count": null,
   "metadata": {},
   "outputs": [],
   "source": [
    "name = city['name']\n",
    "population = city['population']\n",
    "print('Name: ', name)\n",
    "print('Population: ', population)"
   ]
  },
  {
   "cell_type": "markdown",
   "metadata": {},
   "source": [
    "What if we had to do this for a number of cities? As we learned in Python Camp Day 2, we can use **functions** to encapsulate code that we need to run repeatedly. \n",
    "\n",
    "#### Exercise:\n",
    "\n",
    "Can you write a function that prints the name, population, and the number of landmarks from a `city` dictionary (as defined above)? \n",
    "\n",
    "##### Optional\n",
    "Using the `get` method on dictionaries, account for cases where a city may have no landmarks associated with it."
   ]
  },
  {
   "cell_type": "markdown",
   "metadata": {},
   "source": [
    "##### Answer\n",
    "```\n",
    "def print_city_info(city):\n",
    "   name = city['name']\n",
    "   population = city['population']\n",
    "   landmarks = city.get('landmarks', [])\n",
    "   print('Name: ', name)\n",
    "   print('Population: ', population) \n",
    "   print('Number of landmarks: ', len(landmarks))\n",
    "```"
   ]
  },
  {
   "cell_type": "code",
   "execution_count": null,
   "metadata": {},
   "outputs": [],
   "source": [
    "def print_city_info(city):\n",
    "    name = city['name']\n",
    "    population = city['population']\n",
    "    landmarks = city.get('landmarks', [])\n",
    "    print('Name: ', name)\n",
    "    print('Population: ', population) \n",
    "    print('Number of landmarks: ', len(landmarks))"
   ]
  },
  {
   "cell_type": "code",
   "execution_count": null,
   "metadata": {},
   "outputs": [],
   "source": [
    "print_city_info(city)"
   ]
  },
  {
   "cell_type": "markdown",
   "metadata": {},
   "source": [
    "As you saw in the pre-work video, there are two ways of accessing the keys in a dictionary. \n",
    "1. We can simply put the key in square brackets after the name of the dictionary. If the key doesn't exist, we'll get a `KeyError`. \n",
    "2. We can use the `get` method, which returns `None` -- or another default value that we can supply -- if the key does not exist."
   ]
  },
  {
   "cell_type": "code",
   "execution_count": null,
   "metadata": {},
   "outputs": [],
   "source": [
    "city['longitude']"
   ]
  },
  {
   "cell_type": "code",
   "execution_count": null,
   "metadata": {},
   "outputs": [],
   "source": [
    "city.get('longitude')"
   ]
  },
  {
   "cell_type": "code",
   "execution_count": null,
   "metadata": {},
   "outputs": [],
   "source": [
    "city.get('longitude', 'Not defined')"
   ]
  },
  {
   "cell_type": "markdown",
   "metadata": {},
   "source": [
    "### Getting data from the web\n",
    "\n",
    "\n",
    "Dictionaries are frequently-used in Python when bringing in data from the web. \n",
    "\n",
    "An **API** (application programming interface) is an endpoint or a URL on the web, that returns structured data in response to a request from another computer/application/browser requesting it. \n",
    "\n",
    "Many API's return data in **JSON format** (Javascript Object Notation, pronounced Jay-son). \n",
    "\n",
    "Let's look at an example in the browser. This is from Geonames.org, a crowd-sourced database of geographical information.\n",
    "\n",
    "http://api.geonames.org/countryInfoJSON?formatted=true&lang=it&username=dolsysmith&style=full"
   ]
  },
  {
   "cell_type": "markdown",
   "metadata": {},
   "source": [
    "Note that the structure resembles a Python dictionary. Can you describe this structure, using the Python terms we've learned so far?"
   ]
  },
  {
   "cell_type": "markdown",
   "metadata": {},
   "source": [
    "### Using an API\n",
    "\n",
    "The Geonames [country info](https://www.geonames.org/export/web-services.html#countryInfo) API returns structured data about each country in the world. \n",
    "\n",
    "#### Parts of an API\n",
    "1. A base URL or endpoint\n",
    "2. A set of optional or required parameters\n",
    "3. A method of authentication"
   ]
  },
  {
   "cell_type": "markdown",
   "metadata": {},
   "source": [
    "Looking at a URL, the endpoint or base is the part before the question mark."
   ]
  },
  {
   "cell_type": "code",
   "execution_count": null,
   "metadata": {},
   "outputs": [],
   "source": [
    "country_url = 'http://api.geonames.org/countryInfoJSON'"
   ]
  },
  {
   "cell_type": "markdown",
   "metadata": {},
   "source": [
    "Parameters are included after the question mark in the URL, separated by ampersands (`&`). "
   ]
  },
  {
   "cell_type": "code",
   "execution_count": null,
   "metadata": {},
   "outputs": [],
   "source": [
    "# We won't include the country parameter, so that we can get all countries by default\n",
    "lang = 'en'"
   ]
  },
  {
   "cell_type": "markdown",
   "metadata": {},
   "source": [
    "Web API's use a variety of methods of authentication. The Geonames API  requires that you include `username` parameter in your request URL. \n",
    "\n",
    "If you followed the instructions in the Pre-work for today, you should have created a Geonames account. If you didn't, let's take a moment to do that now. "
   ]
  },
  {
   "cell_type": "code",
   "execution_count": null,
   "metadata": {},
   "outputs": [],
   "source": [
    "# Insert your username between the quotation marks\n",
    "username = 'dolsysmith'"
   ]
  },
  {
   "cell_type": "markdown",
   "metadata": {},
   "source": [
    "#### Making API requests in Python"
   ]
  },
  {
   "cell_type": "markdown",
   "metadata": {},
   "source": [
    "The [requests](https://docs.python-requests.org/en/latest/) library for Python simplifies the process of interacting with web API's. Using `requests`, we can just supply the different parts defined above, and the library will take care of the rest."
   ]
  },
  {
   "cell_type": "markdown",
   "metadata": {},
   "source": [
    "But before we can use `requests`, we have to `import` it. \n",
    "\n",
    "Importing a Python library brings a set of additional functionality into the current Python session."
   ]
  },
  {
   "cell_type": "code",
   "execution_count": null,
   "metadata": {},
   "outputs": [],
   "source": [
    "import requests"
   ]
  },
  {
   "cell_type": "markdown",
   "metadata": {},
   "source": [
    "The `requests` library (also called a **module**) has a number of methods. We can access these by the dot-notation (similar to how we use `append` on a list). \n",
    "\n",
    "The particular method we need is called `get`. (Note that this **NOT** the same method as the `get` we used with Python dictionaries. It just happens to have the same name.)"
   ]
  },
  {
   "cell_type": "markdown",
   "metadata": {},
   "source": [
    "`requests.get` takes a few possible arguments. \n",
    "- A URL as a string (required).\n",
    "- Optionally, a set of parameters as a Python dictionary."
   ]
  },
  {
   "cell_type": "code",
   "execution_count": null,
   "metadata": {},
   "outputs": [],
   "source": [
    "params = {'lang': lang,\n",
    "         'username': username}"
   ]
  },
  {
   "cell_type": "code",
   "execution_count": null,
   "metadata": {},
   "outputs": [],
   "source": [
    "response = requests.get(country_url, params)"
   ]
  },
  {
   "cell_type": "markdown",
   "metadata": {},
   "source": [
    "We assigned the result of `requests.get` to a variable called `response`. \n",
    "\n",
    "The first thing we can do is check the **status code** of our request. \n",
    "- `200` means that the request was successful.\n",
    "- Any other number usually means that an error was encountered."
   ]
  },
  {
   "cell_type": "code",
   "execution_count": null,
   "metadata": {},
   "outputs": [],
   "source": [
    "response.status_code"
   ]
  },
  {
   "cell_type": "markdown",
   "metadata": {},
   "source": [
    "If you got an error, look at `response.text` to see if there's an error message associated with it."
   ]
  },
  {
   "cell_type": "markdown",
   "metadata": {},
   "source": [
    "If you got `200`, you can access the data via the `json` method."
   ]
  },
  {
   "cell_type": "code",
   "execution_count": null,
   "metadata": {},
   "outputs": [],
   "source": [
    "data = response.json()"
   ]
  },
  {
   "cell_type": "markdown",
   "metadata": {},
   "source": [
    "`requests` has loaded the JSON into a Python dictionary, which allows us to use the keys to access the data. The top-level key is `geonames`."
   ]
  },
  {
   "cell_type": "code",
   "execution_count": null,
   "metadata": {},
   "outputs": [],
   "source": [
    "data['geonames']"
   ]
  },
  {
   "cell_type": "markdown",
   "metadata": {},
   "source": [
    "### Analyzing/transforming data with lists & dictionaries\n",
    "\n",
    "`data['geonames']` is a list of Python dictionaries. Let's compare it to the same data presented as a [spreadsheet](https://docs.google.com/spreadsheets/d/197QM-eq03pZ7Fva_7k9S1oNxHsCIPrY85UnEsTBFYSI/edit?usp=sharing).\n",
    "\n",
    "What do you notice about this comparison? "
   ]
  },
  {
   "cell_type": "markdown",
   "metadata": {},
   "source": [
    "Spreadsheets have various functions that we can use to analyze our data. For instance, we can sort the sheet by population to find the most or least populous countries.\n",
    "\n",
    "How could we do this with Python?"
   ]
  },
  {
   "cell_type": "markdown",
   "metadata": {},
   "source": [
    "#### Exercise\n",
    "\n",
    "Take a minute to make a plan for some code to find the most populous country in our dataset. Don't write any Python code yet. Just focus on the logic and the elements of the data structure. \n",
    "- What is the data element we want to measure?\n",
    "- What is/are the data element(s) we want to return? \n",
    "- What operations do we need to perform on `data['geonames']` in order to accomplish this?\n",
    "\n",
    "If you're following along in the notebook code for this lesson, try not to look ahead before doing this exercise."
   ]
  },
  {
   "cell_type": "markdown",
   "metadata": {},
   "source": [
    "#### A first pass"
   ]
  },
  {
   "cell_type": "code",
   "execution_count": null,
   "metadata": {},
   "outputs": [],
   "source": [
    "def most_populous(countries):\n",
    "    '''\n",
    "    Returns the most populous country from a list of countries.\n",
    "    :param countries: a list of dictionaries; should contain countryName and population keys\n",
    "    '''\n",
    "    # Why are we setting result to be an empty dictionary rather than a string?\n",
    "    result = {}\n",
    "    for country in countries:\n",
    "        if country['population'] > result['population']:\n",
    "            result = country\n",
    "    return result"
   ]
  },
  {
   "cell_type": "code",
   "execution_count": null,
   "metadata": {},
   "outputs": [],
   "source": [
    "most_populous(data['geonames'])"
   ]
  },
  {
   "cell_type": "markdown",
   "metadata": {},
   "source": [
    "You should have gotten a `KeyError` when running the above code. Try stepping through the code with the first element in `data['geonames']` and see if you can identify the problem.\n",
    "\n",
    "#### A second pass"
   ]
  },
  {
   "cell_type": "code",
   "execution_count": null,
   "metadata": {},
   "outputs": [],
   "source": [
    "def most_populous(countries):\n",
    "    '''\n",
    "    Returns the most populous country from a list of countries.\n",
    "    :param countries: a list of dictionaries; should contain countryName and population keys\n",
    "    '''\n",
    "    # Why are we setting result to be an empty dictionary rather than a string?\n",
    "    result = {}\n",
    "    for country in countries:\n",
    "        # Why do we need result.get('population', 0) instead of result['population']?\n",
    "        if country['population'] > result.get('population', 0):\n",
    "            result = country\n",
    "    return result"
   ]
  },
  {
   "cell_type": "code",
   "execution_count": null,
   "metadata": {},
   "outputs": [],
   "source": [
    "most_populous(data['geonames'])"
   ]
  },
  {
   "cell_type": "markdown",
   "metadata": {},
   "source": [
    "What's up with this `TypeError`? Try stepping through the code again. \n",
    "\n",
    "Hint: Running `type(data['geonames'][0]['population'])` might help.\n",
    "\n",
    "#### A third pass"
   ]
  },
  {
   "cell_type": "code",
   "execution_count": null,
   "metadata": {},
   "outputs": [],
   "source": [
    "def most_populous(countries):\n",
    "    '''\n",
    "    Returns the most populous country from a list of countries.\n",
    "    :param countries: a list of dictionaries; should contain countryName and population keys\n",
    "    '''\n",
    "    # Why are we setting result to be an empty dictionary rather than a string?\n",
    "    result = {}\n",
    "    for country in countries:\n",
    "        # Converting the population value to an integer\n",
    "        pop = int(country['population'])\n",
    "        # Why do we need result.get('population', 0) instead of result['population']?\n",
    "        if pop > result.get('population', 0):\n",
    "            result = country\n",
    "    return result"
   ]
  },
  {
   "cell_type": "code",
   "execution_count": null,
   "metadata": {},
   "outputs": [],
   "source": [
    "most_populous(data['geonames'])"
   ]
  },
  {
   "cell_type": "markdown",
   "metadata": {},
   "source": [
    "Yikes! I thought we fixed it! Try stepping through the code again, this time using the first **two** elements of `data['geonames']`.\n",
    "\n",
    "#### A fourth pass\n",
    "\n",
    "Maybe the problem lies in trying to capture the whole dictionary of the country each time. Another approach: leverage the fact that `countries` is a list. We can simply keep track of the **index** of the most populous country each time, and then at the end of the loop, whatever that index is, we return the element at that position from our `countries` list."
   ]
  },
  {
   "cell_type": "code",
   "execution_count": null,
   "metadata": {},
   "outputs": [],
   "source": [
    "def most_populous(countries):\n",
    "    '''\n",
    "    Returns the most populous country from a list of countries.\n",
    "    :param countries: a list of dictionaries; should contain countryName and population keys\n",
    "    '''\n",
    "    # We set it to 0 so that it will be initialized the first time we use it below\n",
    "    most_pop_index = 0\n",
    "    # We'll also keep track of the largest population value we've seen\n",
    "    most_pop = 0\n",
    "    # Remember that len() gives you the length of a list\n",
    "    num_countries = len(countries)\n",
    "    # Here we use the range() function to loop over the numbers from 0...num_countries\n",
    "    for i in range(num_countries):\n",
    "        # Converting the population value to an integer\n",
    "        # Note that now we need to access the country by index explicitly\n",
    "        pop = int(countries[i]['population'])\n",
    "        if pop > most_pop:\n",
    "            # Here we need to update both the index of the most populous country and the actual population value\n",
    "            most_pop_index = i\n",
    "            most_pop = pop\n",
    "    return countries[most_pop_index]"
   ]
  },
  {
   "cell_type": "code",
   "execution_count": null,
   "metadata": {},
   "outputs": [],
   "source": [
    "most_populous(data['geonames'])"
   ]
  },
  {
   "cell_type": "markdown",
   "metadata": {},
   "source": [
    "Whew! We finally got the result we wanted. The advantage of this approach is that we made all the steps explicit. But is there a more concise way to achieve the same result? Or what if we wanted to find the top 5 most populous countries?\n",
    "\n",
    "As it happens, there are a few ways. Let's look at one way that involves **transforming** our data structure (instead of looping over it)."
   ]
  },
  {
   "cell_type": "markdown",
   "metadata": {},
   "source": [
    "#### Lists vs dictionaries\n",
    "\n",
    "But first, a detour.\n",
    "\n",
    "`data['geonames']` has the disadvantage that we can't easily look up a country by name. For that, we need to loop over the whole list.\n",
    "\n",
    "If needed: review indexing by position vs. indexing by key.\n",
    "\n",
    "Let's transform our list of dictionaries into a **dictionary** mapping each country's name to its population."
   ]
  },
  {
   "cell_type": "code",
   "execution_count": null,
   "metadata": {},
   "outputs": [],
   "source": [
    "def create_pop_map(countries):\n",
    "    '''\n",
    "    Returns a dictionary mapping country names to their populations.\n",
    "    :param countries: a list of dictionaries ...\n",
    "    '''\n",
    "    pop_map = {}\n",
    "    for country in countries:\n",
    "        name = country['countryName']\n",
    "        pop = int(country['population'])\n",
    "        pop_map[name] = pop\n",
    "    # Don't forget to return something!\n",
    "    return pop_map"
   ]
  },
  {
   "cell_type": "code",
   "execution_count": null,
   "metadata": {},
   "outputs": [],
   "source": [
    "population_map = create_pop_map(data['geonames'])"
   ]
  },
  {
   "cell_type": "code",
   "execution_count": null,
   "metadata": {},
   "outputs": [],
   "source": [
    "population_map['United States']"
   ]
  },
  {
   "cell_type": "markdown",
   "metadata": {},
   "source": [
    "Now we've transformed our list of dictionaries into a flatter structure: a dictionary mapping strings to integers.\n",
    "\n",
    "Python dictionaries don't have a built-in method for sorting the values, but there's a special kind of Python collection called a `Counter` that we can use to do that."
   ]
  },
  {
   "cell_type": "code",
   "execution_count": null,
   "metadata": {},
   "outputs": [],
   "source": [
    "from collections import Counter"
   ]
  },
  {
   "cell_type": "markdown",
   "metadata": {},
   "source": [
    "Here we create a new `Counter` object. "
   ]
  },
  {
   "cell_type": "code",
   "execution_count": null,
   "metadata": {},
   "outputs": [],
   "source": [
    "pop_counter = Counter(population_map)"
   ]
  },
  {
   "cell_type": "markdown",
   "metadata": {},
   "source": [
    "`pop_counter` still behaves like a Python dictionary."
   ]
  },
  {
   "cell_type": "code",
   "execution_count": null,
   "metadata": {},
   "outputs": [],
   "source": [
    "pop_counter['Argentina']"
   ]
  },
  {
   "cell_type": "markdown",
   "metadata": {},
   "source": [
    "But it has some added features, like a `most_common` method that accepts an integer (N) and returns the N elements with the highest values."
   ]
  },
  {
   "cell_type": "code",
   "execution_count": null,
   "metadata": {},
   "outputs": [],
   "source": [
    "pop_counter.most_common(5)"
   ]
  },
  {
   "cell_type": "markdown",
   "metadata": {},
   "source": [
    "#### Exercise\n",
    "\n",
    "Write a function that returns the top 5 largest countries by area."
   ]
  },
  {
   "cell_type": "markdown",
   "metadata": {},
   "source": [
    "```\n",
    "def largest_areas(countries, top_n):\n",
    "    '''\n",
    "    Returns the top N countries by area.\n",
    "    :param countries: a list of dictionaries ...\n",
    "    :param top_n: an integer\n",
    "    '''\n",
    "    area_map = {}\n",
    "    for country in countries:\n",
    "        name = country['countryName']\n",
    "        area = float(country['areaInSqKm'])\n",
    "        area_map[name] = area\n",
    "    # Don't forget to return something!\n",
    "    return Counter(area_map).most_common(top_n)\n",
    "```"
   ]
  },
  {
   "cell_type": "code",
   "execution_count": null,
   "metadata": {},
   "outputs": [],
   "source": [
    "# largest_areas(data['geonames'], 5)"
   ]
  },
  {
   "cell_type": "markdown",
   "metadata": {},
   "source": [
    "#### Exercise\n",
    "\n",
    "Write a function that returns a dictionary mapping each country name to the number of official languages recorded by Geonames for that country. "
   ]
  },
  {
   "cell_type": "markdown",
   "metadata": {},
   "source": [
    "```\n",
    "def create_lang_map(countries):\n",
    "    '''\n",
    "    Returns a dictionary mapping country names to the number of official languages.\n",
    "    :param countries: a list of dictionaries ...\n",
    "    '''\n",
    "    lang_map = {}\n",
    "    for country in countries:\n",
    "        name = country['countryName']\n",
    "        # the languages value is a comma-separated string\n",
    "        languages = country['languages'].split(',')\n",
    "        lang_map[name] = len(languages)\n",
    "    # Don't forget to return something!\n",
    "    return lang_map\n",
    "```"
   ]
  },
  {
   "cell_type": "code",
   "execution_count": null,
   "metadata": {
    "scrolled": true
   },
   "outputs": [],
   "source": [
    "# create_lang_map(data['geonames'])"
   ]
  },
  {
   "cell_type": "markdown",
   "metadata": {},
   "source": [
    "### Exporting data\n",
    "\n",
    "One more thing we might want to do with our data is export it as a comma-separated values (CSV) file. \n",
    "\n",
    "Like JSON, CSV is a common format for working with and exchanging data. Unlike JSON, CSV is a **flat** format, meaning that the data is structured as a table, with rows and columns. Nested JSON doesn't always translate well to CSV. Our `data['geonames']` object, however -- a list of dictionaries -- lends itself quite well to transformation to CSV."
   ]
  },
  {
   "cell_type": "markdown",
   "metadata": {},
   "source": [
    "A CSV file has a header consisting of the names of the columns. In this case, we can derive the column names from the **keys** of the dictionaries representing the different countries. \n",
    "\n",
    "Assuming every dictionary in the list `data['geonames']` has the same keys, we could define the header as a comma-separated string consisting of the keys in the first dictionary in the list."
   ]
  },
  {
   "cell_type": "code",
   "execution_count": null,
   "metadata": {},
   "outputs": [],
   "source": [
    "header = data['geonames'][0].keys()\n",
    "print(','.join(header))"
   ]
  },
  {
   "cell_type": "markdown",
   "metadata": {},
   "source": [
    "What about the rows beneath the header? One way to think of them is as the set of strings produced by joining the **values** of each dictionary with commas."
   ]
  },
  {
   "cell_type": "code",
   "execution_count": null,
   "metadata": {},
   "outputs": [],
   "source": [
    "# Here's what the first row might look like\n",
    "row = data['geonames'][0]\n",
    "values = []\n",
    "for value in row.values():\n",
    "    # We have to convert any non-string values to strings, or else the .join method won't work\n",
    "    values.append(str(value))\n",
    "print(','.join(values))"
   ]
  },
  {
   "cell_type": "markdown",
   "metadata": {},
   "source": [
    "In practice, it's a little more complicated than that. For one, we need to account for cases where the elements in a row might contain commas themselves, which is usually done by using special quoting characters.\n",
    "\n",
    "Fortunately, there are tools out there to help us!"
   ]
  },
  {
   "cell_type": "markdown",
   "metadata": {},
   "source": [
    "#### Introducing pandas\n",
    "\n",
    "With the `pandas` library, we can easily convert a list of Python dictionaries into a CSV."
   ]
  },
  {
   "cell_type": "markdown",
   "metadata": {},
   "source": [
    "First we import the `pandas` library."
   ]
  },
  {
   "cell_type": "code",
   "execution_count": null,
   "metadata": {},
   "outputs": [],
   "source": [
    "# pd is an alias -- just an abbreviation so that we don't have to retype pandas a lot\n",
    "import pandas as pd"
   ]
  },
  {
   "cell_type": "markdown",
   "metadata": {},
   "source": [
    "Then we create what's called a **DataFrame** from our list of dictionaries."
   ]
  },
  {
   "cell_type": "code",
   "execution_count": null,
   "metadata": {},
   "outputs": [],
   "source": [
    "df = pd.DataFrame.from_records(data['geonames'])"
   ]
  },
  {
   "cell_type": "markdown",
   "metadata": {},
   "source": [
    "It even displays in our notebook as a nice, formatted table!"
   ]
  },
  {
   "cell_type": "code",
   "execution_count": null,
   "metadata": {},
   "outputs": [],
   "source": [
    "df"
   ]
  },
  {
   "cell_type": "markdown",
   "metadata": {},
   "source": [
    "Now we can save to CSV in one line. We just need to pass as an argument a string that indicates the filename and the path to it in our environment. The `./` means that we want to save it in the same directory as our notebook.\n",
    "\n",
    "We also use the optional **keyword argument** `index=False` so that the CSV won't have the line numbers you see above as a separate column."
   ]
  },
  {
   "cell_type": "code",
   "execution_count": null,
   "metadata": {},
   "outputs": [],
   "source": [
    "df.to_csv('./countries-from-geonames.csv', index=False)"
   ]
  }
 ],
 "metadata": {
  "kernelspec": {
   "display_name": "Python 3",
   "language": "python",
   "name": "python3"
  },
  "language_info": {
   "codemirror_mode": {
    "name": "ipython",
    "version": 3
   },
   "file_extension": ".py",
   "mimetype": "text/x-python",
   "name": "python",
   "nbconvert_exporter": "python",
   "pygments_lexer": "ipython3",
   "version": "3.8.5"
  }
 },
 "nbformat": 4,
 "nbformat_minor": 4
}
