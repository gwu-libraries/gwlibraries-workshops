{
  "nbformat": 4,
  "nbformat_minor": 0,
  "metadata": {
    "colab": {
      "provenance": []
    },
    "kernelspec": {
      "display_name": "Python 3",
      "language": "python",
      "name": "python3"
    }
  },
  "cells": [
    {
      "cell_type": "markdown",
      "metadata": {
        "id": "kj7BstLdzwUi"
      },
      "source": [
        "# Data with Pandas\n",
        "\n",
        "Since Pandas is a third-party Python library (not part of the standard Python libraries), we need to **import** it.\n",
        "\n",
        "\n",
        "### <font color='red'>***You must run this next cell in order for any of the pandas steps to work!***</font>"
      ]
    },
    {
      "cell_type": "code",
      "metadata": {
        "id": "wuh70S40QTME"
      },
      "source": [
        "import pandas as pd"
      ],
      "execution_count": null,
      "outputs": []
    },
    {
      "cell_type": "markdown",
      "metadata": {
        "id": "W4eiqUQUzwU1"
      },
      "source": [
        "### The data we're using today\n",
        "\n",
        "For this lesson, we will be using the Portal Teaching data (https://figshare.com/articles/Portal_Project_Teaching_Database/1314459), a subset of the data from Ernst et al Long-term monitoring and experimental manipulation of a Chihuahuan Desert ecosystem near Portal, Arizona, USA (https://doi.org/10.1890/15-2115.1)"
      ]
    },
    {
      "cell_type": "markdown",
      "metadata": {
        "id": "Xd6sXr_7zwU3"
      },
      "source": [
        "This section will use the **surveys.csv** file that you downloaded along with this notebook (in the **python-intro-workshop** folder), so it should be ready to go.\n",
        "\n",
        "(If needed, it can also be downloaded from here:  https://ndownloader.figshare.com/files/2292172)"
      ]
    },
    {
      "cell_type": "markdown",
      "metadata": {
        "id": "YiP2m9nGzwU7"
      },
      "source": [
        "Each row records the species and weight of each animal caught in plots in the study area.\n",
        "\n",
        "The columns represent:\n",
        "\n",
        "| Column \t| Description |\n",
        "| --- | --- |\n",
        "| record_id |\tUnique id for the observation|\n",
        "| month |\tmonth of observation |\n",
        "|day \t|day of observation|\n",
        "|year |\tyear of observation|\n",
        "|plot_id \t|ID of a particular plot|\n",
        "|species_id |\t2-letter code|\n",
        "|sex |\tsex of animal (\"M\", \"F\")|\n",
        "|hindfoot_length |\tlength of the hindfoot in mm|\n",
        "|weight |\tweight of the animal in grams|"
      ]
    },
    {
      "cell_type": "markdown",
      "metadata": {
        "id": "rfB9kebuzwU9"
      },
      "source": [
        "Each time we call a function that's in a library, we use the syntax *LibraryName.FunctionName*. Adding the library name with a `.` before the function name tells Python where to find the function. In the example above, we have imported Pandas as `pd`. This means we don't have to type out `pandas` each time we call a Pandas function."
      ]
    },
    {
      "cell_type": "markdown",
      "metadata": {
        "id": "MXXLQelPzwU_"
      },
      "source": [
        "Let's use panda's built-in function that reads in a CSV file:"
      ]
    },
    {
      "cell_type": "code",
      "metadata": {
        "id": "V1jdZQQszwVD"
      },
      "source": [
        "# To download the file from the internet:\n",
        "# pd.read_csv(\"https://URL.of.the/file\")\n",
        "\n",
        "# Or if you're able to download the file locally:\n",
        "# pd.read_csv(\"surveys.csv\")\n",
        "\n",
        "# If you're inside Google Colaboratory, you can borrow code from\n",
        "# https://colab.research.google.com/notebooks/io.ipynb?authuser=1 to load files from your computer\n",
        "# (Just paste in the code under \"Uploading files from your local file system\")\n",
        "#\n",
        "# For example, you could use:\n",
        "# -----\n",
        "# from google.colab import files\n",
        "# uploaded = files.upload()\n",
        "# pd.read_csv('data.csv') # substitute your file name for \"data.csv\"\n",
        "# ----"
      ],
      "execution_count": null,
      "outputs": []
    },
    {
      "cell_type": "code",
      "source": [],
      "metadata": {
        "id": "7BQX36Udri0H"
      },
      "execution_count": null,
      "outputs": []
    },
    {
      "cell_type": "markdown",
      "metadata": {
        "id": "GUdzgOJ3zwVK"
      },
      "source": [
        "That read our CSV file, but we'd like to store it as an **object**.  So we'll create a variable for it, called `surveys_df`.  This is just like how we used a variable above to store an integer, or a string, or a list, or a dictionary.  We're just storing a Pandas DataFrame object instead.\n",
        "\n",
        "Please call your new object `surveys_df`"
      ]
    },
    {
      "cell_type": "code",
      "source": [],
      "metadata": {
        "id": "oFnGWeuGtycA"
      },
      "execution_count": null,
      "outputs": []
    },
    {
      "cell_type": "markdown",
      "metadata": {
        "id": "mFRGYUXwzwVa"
      },
      "source": [
        "Try evaluating `surveys_df`:"
      ]
    },
    {
      "cell_type": "code",
      "metadata": {
        "id": "hFnmctoezwVc"
      },
      "source": [],
      "execution_count": null,
      "outputs": []
    },
    {
      "cell_type": "markdown",
      "metadata": {
        "id": "d6yTR9_xzwVn"
      },
      "source": [
        "How would you now check what **class** (type) of object `surveys_df` is?"
      ]
    },
    {
      "cell_type": "code",
      "metadata": {
        "id": "aLTetS-fzwVr"
      },
      "source": [],
      "execution_count": null,
      "outputs": []
    },
    {
      "cell_type": "markdown",
      "metadata": {
        "id": "i-E2AfE5zwVx"
      },
      "source": [
        "`surveys_df` is a Pandas **DataFrame**.   A DataFrame is a 2-dimensional structure that can store data in rows and columns - similar to a spreadsheet or a table, but with some other nice features.  (Yes, it's very similar to a `data.frame` in R.)"
      ]
    },
    {
      "cell_type": "markdown",
      "metadata": {
        "id": "npQrHQF9zwV3"
      },
      "source": [
        "Just like the Pandas *library* has functions, *objects* can have **functions** (which may take arguments) and **attributes** (which don't).\n",
        "\n",
        "A Pandas DataFrame object has an attribute called `dtypes` which lists out the type of each column:"
      ]
    },
    {
      "cell_type": "code",
      "metadata": {
        "id": "O7YXJIa0zwV5"
      },
      "source": [
        "surveys_df.dtypes"
      ],
      "execution_count": null,
      "outputs": []
    },
    {
      "cell_type": "markdown",
      "metadata": {
        "id": "Z-JIDpMPzwWG"
      },
      "source": [
        "Try these to see what they do:\n",
        "\n",
        "    surveys_df.columns\n",
        "    surveys_df.head()\n",
        "Also, what does `surveys_df.head(15)` do, versus `surveys_df.head(4)`?\n",
        "\n",
        "    surveys_df.tail()\n",
        "    surveys_df.shape\n",
        "    \n",
        "Take note of the output of the shape method. What format does it return the shape of the DataFrame in?\n"
      ]
    },
    {
      "cell_type": "code",
      "metadata": {
        "id": "_WnKLZZvzwWM"
      },
      "source": [],
      "execution_count": null,
      "outputs": []
    },
    {
      "cell_type": "markdown",
      "metadata": {
        "id": "VQH3gjPezwWT"
      },
      "source": [
        "What if we want to isolate just one column?  There are (at least) two ways we can do this:\n",
        "\n",
        "- We can use bracket notation, like this:\n",
        "\n",
        "    `mydataframe['myvariable']`\n",
        "\n",
        "- We can treat the variable like an attribute, like this:\n",
        "\n",
        "    `mydataframe.myvariable`\n",
        "\n",
        "\n",
        "Try it for `surveys_df` and the `species_id` variable:"
      ]
    },
    {
      "cell_type": "code",
      "metadata": {
        "id": "kfK1tkl_zwWW"
      },
      "source": [],
      "execution_count": null,
      "outputs": []
    },
    {
      "cell_type": "markdown",
      "metadata": {
        "id": "sKBvXKA2zwWe"
      },
      "source": [
        "or"
      ]
    },
    {
      "cell_type": "code",
      "metadata": {
        "id": "n3z2o3U2zwWg"
      },
      "source": [],
      "execution_count": null,
      "outputs": []
    },
    {
      "cell_type": "markdown",
      "metadata": {
        "id": "GdT847tOzwWq"
      },
      "source": [
        "Let's see what type `surveys_df['species_id']` is, using the `type()` function that we used this morning.  Try it."
      ]
    },
    {
      "cell_type": "code",
      "metadata": {
        "id": "3GYjPQM8zwWt"
      },
      "source": [],
      "execution_count": null,
      "outputs": []
    },
    {
      "cell_type": "markdown",
      "metadata": {
        "id": "hBz40eDizwW0"
      },
      "source": [
        "You can think of a Pandas **Series** as a series of observations of one variable.  It behaves like a Python list."
      ]
    },
    {
      "cell_type": "markdown",
      "metadata": {
        "id": "52_nMSn2zwW1"
      },
      "source": [
        "We can also slice and dice -- similar to how we selected parts of list objects above.  What does the next line do?"
      ]
    },
    {
      "cell_type": "code",
      "metadata": {
        "scrolled": true,
        "id": "7uPUAKyazwW2"
      },
      "source": [
        "surveys_df[3:10]"
      ],
      "execution_count": null,
      "outputs": []
    },
    {
      "cell_type": "markdown",
      "metadata": {
        "id": "0Jw9AmFnzwXC"
      },
      "source": [
        "Another way to select is with `.loc`, which selects based on *labels* (as opposed to `.iloc` which selects using *numerical indices*).  Try this:"
      ]
    },
    {
      "cell_type": "code",
      "metadata": {
        "id": "BzBJbqjfzwXF"
      },
      "source": [
        "surveys_df.loc[[3, 10, 12], ['day', 'year', 'species_id']]"
      ],
      "execution_count": null,
      "outputs": []
    },
    {
      "cell_type": "markdown",
      "metadata": {
        "id": "oCUzC5WczwXM"
      },
      "source": [
        "We can also use `.query` to select only rows matching certain conditions.  Note that the query expression is in single quotes."
      ]
    },
    {
      "cell_type": "code",
      "metadata": {
        "id": "QCd1TkcQzwXQ"
      },
      "source": [
        "surveys_df.query('hindfoot_length < 10')"
      ],
      "execution_count": null,
      "outputs": []
    },
    {
      "cell_type": "markdown",
      "metadata": {
        "id": "xmukwujJzwXV"
      },
      "source": [
        "There are other ways to do this.  Try this expression:"
      ]
    },
    {
      "cell_type": "code",
      "metadata": {
        "id": "26tykkKnzwXa"
      },
      "source": [
        "surveys_df['hindfoot_length'] < 10"
      ],
      "execution_count": null,
      "outputs": []
    },
    {
      "cell_type": "markdown",
      "metadata": {
        "id": "E57kPghXzwX4"
      },
      "source": [
        "How can you use this to get back a data frame with only the rows in `surveys_df` where `hindfoot_length < 10`?"
      ]
    },
    {
      "cell_type": "code",
      "metadata": {
        "id": "Su7nRMw0zwX8"
      },
      "source": [],
      "execution_count": null,
      "outputs": []
    },
    {
      "cell_type": "markdown",
      "metadata": {
        "id": "nJTAgWHMzwYF"
      },
      "source": [
        "**Challenge**:  How might you query to get back only rows with `hindfoot_length < 10` **and** `weight > 10` in ONE expression?  (There is more than one way to accomplish this!)"
      ]
    },
    {
      "cell_type": "markdown",
      "metadata": {
        "id": "6Q7aYxjozwYI"
      },
      "source": [
        "Pandas has a handy `unique()` function (well, it has many handy functions!) to get all the unique elements in the column:"
      ]
    },
    {
      "cell_type": "code",
      "metadata": {
        "id": "cfRCopBWzwYL"
      },
      "source": [
        "unique_species = pd.unique(surveys_df['species_id'])"
      ],
      "execution_count": null,
      "outputs": []
    },
    {
      "cell_type": "markdown",
      "metadata": {
        "id": "Brt8BF1xzwYQ"
      },
      "source": [
        "Try evaluting the **`.size`** attribute on the above result to see how many unique species there are in the data set."
      ]
    },
    {
      "cell_type": "code",
      "metadata": {
        "id": "qaqmOyY1zwYU"
      },
      "source": [],
      "execution_count": null,
      "outputs": []
    },
    {
      "cell_type": "markdown",
      "metadata": {
        "id": "z0XtY9ogzwYk"
      },
      "source": [
        "We see from above that we can also isolate just the data in one column.  Let's try isolating the `weight` column, and calling the **`describe()`** function to get some statistics on it."
      ]
    },
    {
      "cell_type": "code",
      "metadata": {
        "id": "4AAtcd38zwYs"
      },
      "source": [],
      "execution_count": null,
      "outputs": []
    },
    {
      "cell_type": "markdown",
      "metadata": {
        "id": "HTRl5zTzzwYw"
      },
      "source": [
        "Using `corr()`, We can also get a quick pairwise correlation between every pair of numerical variables:"
      ]
    },
    {
      "cell_type": "code",
      "metadata": {
        "id": "RpO4DiNPzwY0"
      },
      "source": [],
      "execution_count": null,
      "outputs": []
    },
    {
      "cell_type": "markdown",
      "metadata": {
        "id": "t8NJ3268zwY_"
      },
      "source": [
        "Pandas can also sort and group data based on the values in a column:"
      ]
    },
    {
      "cell_type": "code",
      "metadata": {
        "id": "gM9BdjxHzwZE"
      },
      "source": [
        "grouped_by_species = surveys_df.groupby('species_id')"
      ],
      "execution_count": null,
      "outputs": []
    },
    {
      "cell_type": "markdown",
      "metadata": {
        "id": "KoDUtl7JDAEw"
      },
      "source": [
        "Another handy operator is `~` (tilde), which gives us the \"opposite\" of a result.  Let's say we want to get all of the `AB` species observations, but only where the `hindfoot_length` variable has a value:"
      ]
    },
    {
      "cell_type": "code",
      "metadata": {
        "id": "5VpJHaPZ3j7M"
      },
      "source": [
        "surveys_df.loc[(surveys_df.species_id == 'AB') & ~surveys_df.hindfoot_length.isnull()]"
      ],
      "execution_count": null,
      "outputs": []
    },
    {
      "cell_type": "markdown",
      "metadata": {
        "id": "2RDbakQKzwZI"
      },
      "source": [
        "Try running **`describe()`** on `grouped_by_species`:"
      ]
    },
    {
      "cell_type": "code",
      "metadata": {
        "id": "wFTR_f8DDdZ3"
      },
      "source": [],
      "execution_count": null,
      "outputs": []
    },
    {
      "cell_type": "markdown",
      "metadata": {
        "id": "bsRnnigmzwZY"
      },
      "source": [
        "Now we're going to create some series with:\n",
        "\n",
        "* The number of animals observed per species\n",
        "* The mean weight of all animals observed in each species"
      ]
    },
    {
      "cell_type": "code",
      "metadata": {
        "id": "VdguX2twzwZc"
      },
      "source": [
        "# a series with the number of samples by species\n",
        "species_counts = grouped_by_species.size()\n",
        "# a series with the mean weight by species\n",
        "species_mean_weights = grouped_by_species['weight'].mean()"
      ],
      "execution_count": null,
      "outputs": []
    },
    {
      "cell_type": "markdown",
      "metadata": {
        "id": "ECPIasskzwZg"
      },
      "source": [
        "(For future reference:  `.agg()` or `.aggregate()` can be a useful way to work with \"groupby\" objects)\n",
        "\n",
        "\n",
        "Let's look at each - notice that each is a Series:"
      ]
    },
    {
      "cell_type": "code",
      "metadata": {
        "id": "v9TacWLhzwZh"
      },
      "source": [],
      "execution_count": null,
      "outputs": []
    },
    {
      "cell_type": "code",
      "metadata": {
        "id": "eAd_gG-gzwZk"
      },
      "source": [],
      "execution_count": null,
      "outputs": []
    },
    {
      "cell_type": "markdown",
      "metadata": {
        "id": "9RzFSc7ezwZn"
      },
      "source": [
        "Let's try creating some quick bar charts.  First we need to make sure figures appear inline in the notebook:"
      ]
    },
    {
      "cell_type": "code",
      "metadata": {
        "id": "jpInBlB6zwZp"
      },
      "source": [
        "import matplotlib.pyplot as plt\n",
        "\n",
        "%matplotlib inline"
      ],
      "execution_count": null,
      "outputs": []
    },
    {
      "cell_type": "markdown",
      "metadata": {
        "id": "OODo3imQzwZt"
      },
      "source": [
        "And now we'll create some quick charts:"
      ]
    },
    {
      "cell_type": "code",
      "metadata": {
        "scrolled": true,
        "id": "HQeIDa-HzwZv"
      },
      "source": [
        "plt.scatter(x = surveys_df.weight, y=surveys_df.hindfoot_length)\n",
        "\n",
        "plt.show()"
      ],
      "execution_count": null,
      "outputs": []
    },
    {
      "cell_type": "code",
      "metadata": {
        "id": "mzkcTOxlzwZ2"
      },
      "source": [
        "plt.hist(surveys_df.hindfoot_length[surveys_df.hindfoot_length.notnull()])\n",
        "plt.title('Distribution of hindfoot length values')\n",
        "plt.show()"
      ],
      "execution_count": null,
      "outputs": []
    },
    {
      "cell_type": "markdown",
      "metadata": {
        "id": "DdVDbrmVzwZ7"
      },
      "source": [
        "We can also call `.plot()` on a Series:"
      ]
    },
    {
      "cell_type": "code",
      "metadata": {
        "id": "nzCRy1omzwZ8"
      },
      "source": [
        "species_counts.plot(kind='bar')"
      ],
      "execution_count": null,
      "outputs": []
    },
    {
      "cell_type": "code",
      "metadata": {
        "id": "U51qqn_1zwaS"
      },
      "source": [
        "species_mean_weights.plot(kind='bar')"
      ],
      "execution_count": null,
      "outputs": []
    },
    {
      "cell_type": "markdown",
      "metadata": {
        "id": "yJbruXq5zwaY"
      },
      "source": [
        "And now for a scatter plot, where we specify which variables are the x and y:"
      ]
    },
    {
      "cell_type": "code",
      "metadata": {
        "id": "quXqJ_d_zwaY"
      },
      "source": [
        "surveys_df.plot(kind='scatter', y='hindfoot_length', x='weight')"
      ],
      "execution_count": null,
      "outputs": []
    },
    {
      "cell_type": "markdown",
      "metadata": {
        "id": "OIfC96T9zwak"
      },
      "source": [
        "See if you can look up another plot type and get it to work!"
      ]
    },
    {
      "cell_type": "code",
      "metadata": {
        "id": "PHPXc2aIzwak"
      },
      "source": [
        "surveys_df"
      ],
      "execution_count": null,
      "outputs": []
    },
    {
      "cell_type": "markdown",
      "metadata": {
        "id": "q1_0wpDqzwas"
      },
      "source": [
        "## Nicer plotting, with `ggplot`\n",
        "\n",
        "Let's try a different plotting library, called `ggplot` (from the `plotnine` package), that thinks about plotting data in a different way, in terms of \"adding\" *data* plus *aesthetics* (colors, shapes, etc.) plus *layers* (which add to or modify the plot)\n",
        "\n",
        "First we need to import the ggplot library, from the `plotline` package:"
      ]
    },
    {
      "cell_type": "code",
      "metadata": {
        "id": "C5t9lURnzwau"
      },
      "source": [
        "# This step seemes to be needed to run in Google Colaboratory -- it might not be needed in Anaconda\n",
        "# Install the plotnine Python library\n",
        "!pip install plotnine==0.5.0"
      ],
      "execution_count": null,
      "outputs": []
    },
    {
      "cell_type": "code",
      "metadata": {
        "id": "mVbPI73Vzwav"
      },
      "source": [
        "from plotnine import *"
      ],
      "execution_count": null,
      "outputs": []
    },
    {
      "cell_type": "markdown",
      "metadata": {
        "id": "uV-YHg42zwaz"
      },
      "source": [
        "The first thing we'll do is create a ggplot object and give it:\n",
        "- Our data frame (`surveys_df`)\n",
        "- Aesthetics information, such as which variables in our data frame will be used as the independent (x) and dependent (y) variables"
      ]
    },
    {
      "cell_type": "code",
      "metadata": {
        "id": "pfbYSX5kzwa0"
      },
      "source": [
        "ggplot(surveys_df) + aes(x = 'weight', y = 'hindfoot_length')"
      ],
      "execution_count": null,
      "outputs": []
    },
    {
      "cell_type": "markdown",
      "metadata": {
        "id": "JjXQtbTzzwa4"
      },
      "source": [
        "Hmmm, we get a canvas but it's mysteriously empty!   We need to add a ***layer***, using `+`.  We'll add a layer with points:"
      ]
    },
    {
      "cell_type": "code",
      "metadata": {
        "id": "GWYv4Z_Rzwa6"
      },
      "source": [
        "ggplot(surveys_df) + aes(x = 'weight', y = 'hindfoot_length') + geom_point()"
      ],
      "execution_count": null,
      "outputs": []
    },
    {
      "cell_type": "markdown",
      "metadata": {
        "id": "UmLMlsLizwa8"
      },
      "source": [
        "Not bad!  Let's see if we can perhaps color-code the points based on the species_id."
      ]
    },
    {
      "cell_type": "code",
      "metadata": {
        "id": "IGGiS21Kzwa9"
      },
      "source": [
        "ggplot(surveys_df) + aes(x = 'weight', y = 'hindfoot_length', color='species_id') + geom_point()"
      ],
      "execution_count": null,
      "outputs": []
    },
    {
      "cell_type": "markdown",
      "metadata": {
        "id": "FaWUSZXHzwbB"
      },
      "source": [
        "This is great, but, perhaps with so many species_id values, it becomes hard to distinguish between the colors to have a meaningful color layer.   Let's create a subset using just the top 10 species.\n",
        "\n",
        "Remember earlier we created `species_counts`?  We'll use it and do a bit of sorting to get just the top ten species as as a list:"
      ]
    },
    {
      "cell_type": "code",
      "metadata": {
        "id": "7VOWaT2MzwbC"
      },
      "source": [
        "species_counts.sort_values(ascending=False)"
      ],
      "execution_count": null,
      "outputs": []
    },
    {
      "cell_type": "markdown",
      "metadata": {
        "id": "n1rig23qzwbE"
      },
      "source": [
        "How would you get just the first 10 values?"
      ]
    },
    {
      "cell_type": "code",
      "metadata": {
        "id": "V9n7v622zwbM"
      },
      "source": [],
      "execution_count": null,
      "outputs": []
    },
    {
      "cell_type": "markdown",
      "metadata": {
        "id": "BNfbi1CozwbO"
      },
      "source": [
        "But we simply want the species ids, not any of the other stuff.  Similar to a Python dictionary, we can use `.keys()` to get that:"
      ]
    },
    {
      "cell_type": "code",
      "metadata": {
        "id": "Xs0g-1i9zwbQ"
      },
      "source": [
        "species_counts.sort_values(ascending=False)[:10].keys()"
      ],
      "execution_count": null,
      "outputs": []
    },
    {
      "cell_type": "markdown",
      "metadata": {
        "id": "R3Nl0gQuzwbT"
      },
      "source": [
        "And let's use a variable to store our index of top species so we can reuse it:"
      ]
    },
    {
      "cell_type": "code",
      "metadata": {
        "id": "1F1BZuOTzwbT"
      },
      "source": [
        "top_species = species_counts.sort_values(ascending=False)[:10].keys()"
      ],
      "execution_count": null,
      "outputs": []
    },
    {
      "cell_type": "markdown",
      "metadata": {
        "id": "BiIGs2_XzwbZ"
      },
      "source": [
        "Now that we have a simple list of the top 10 species IDs, we can use `.isin()` to create a subset data frame containing just the rows with those species_id values:"
      ]
    },
    {
      "cell_type": "markdown",
      "metadata": {
        "id": "zc0shSx9zwba"
      },
      "source": [
        "Now that our new data frame has a smaller variety of species, let's try it again with species_id as the key for the color:"
      ]
    },
    {
      "cell_type": "code",
      "metadata": {
        "id": "FR55YAREzwbc"
      },
      "source": [
        "subset_df = surveys_df[surveys_df.species_id.isin(top_species)]"
      ],
      "execution_count": null,
      "outputs": []
    },
    {
      "cell_type": "code",
      "metadata": {
        "id": "H5YT4Z4Rzwbg"
      },
      "source": [
        "surveys_plot = ggplot(subset_df) + aes(x = 'weight', y = 'hindfoot_length', color='species_id') + geom_point()"
      ],
      "execution_count": null,
      "outputs": []
    },
    {
      "cell_type": "markdown",
      "metadata": {
        "id": "oDffX2Qhzwbo"
      },
      "source": [
        "And now to render the plot:"
      ]
    },
    {
      "cell_type": "code",
      "metadata": {
        "id": "LdoG5vUMzwbp"
      },
      "source": [
        "surveys_plot"
      ],
      "execution_count": null,
      "outputs": []
    },
    {
      "cell_type": "markdown",
      "metadata": {
        "id": "tMxxrXRSzwbs"
      },
      "source": []
    },
    {
      "cell_type": "markdown",
      "metadata": {
        "id": "Tnfk_soxzwbu"
      },
      "source": [
        "Here are some other layers we can try adding.  See what they do:"
      ]
    },
    {
      "cell_type": "code",
      "metadata": {
        "id": "9X2HAT5Wzwbu"
      },
      "source": [
        "surveys_plot + stat_smooth() + theme_xkcd()"
      ],
      "execution_count": null,
      "outputs": []
    },
    {
      "cell_type": "code",
      "metadata": {
        "id": "0vtlO-HRzwbv"
      },
      "source": [
        "surveys_plot + facet_wrap('~species_id')"
      ],
      "execution_count": null,
      "outputs": []
    },
    {
      "cell_type": "markdown",
      "source": [
        "# Data Visualization Exercise\n",
        "\n",
        "Another Python library for data visualization is **Seaborn**.  Like many libraries, Seaborn comes with some \"built-in\" sample data sets.\n",
        "\n",
        "- Browse the Seaborn gallery at https://seaborn.pydata.org/examples/\n",
        "- Choose an example that interests you.\n",
        "- Copy the code to your notebook and run it.\n",
        "- Look at the Data Frame that contains the data.\n",
        "  - What are the variables?  What is the data type of each variable?\n",
        "  - Which visual properties are mapped to which variables?\n"
      ],
      "metadata": {
        "id": "r1w_xrn12U3z"
      }
    },
    {
      "cell_type": "code",
      "source": [],
      "metadata": {
        "id": "NjsBRjgw2gnk"
      },
      "execution_count": null,
      "outputs": []
    }
  ]
}