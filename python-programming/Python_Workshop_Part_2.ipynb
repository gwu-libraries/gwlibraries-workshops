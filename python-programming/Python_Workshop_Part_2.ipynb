{
  "cells": [
    {
      "cell_type": "markdown",
      "metadata": {
        "id": "kj7BstLdzwUi"
      },
      "source": [
        "# Data with Pandas\n",
        "\n",
        "Since Pandas is a third-party Python library (not part of the standard Python libraries), we need to **import** it.\n",
        "\n",
        "\n",
        "### <font color='red'>***You must run this next cell in order for any of the pandas steps to work!***</font>"
      ]
    },
    {
      "cell_type": "code",
      "execution_count": null,
      "metadata": {
        "id": "wuh70S40QTME"
      },
      "outputs": [],
      "source": [
        "import pandas as pd"
      ]
    },
    {
      "cell_type": "markdown",
      "metadata": {
        "id": "W4eiqUQUzwU1"
      },
      "source": [
        "### The data we're using today\n",
        "\n",
        "For this lesson, we will be using the Portal Teaching data (https://figshare.com/articles/Portal_Project_Teaching_Database/1314459), a subset of the data from Ernst et al Long-term monitoring and experimental manipulation of a Chihuahuan Desert ecosystem near Portal, Arizona, USA (https://doi.org/10.1890/15-2115.1)"
      ]
    },
    {
      "cell_type": "markdown",
      "metadata": {
        "id": "Xd6sXr_7zwU3"
      },
      "source": [
        "This section will use a data file called **surveys.csv** which we will download from the Internet shortly.\n",
        "\n",
        "(If needed, it can also be downloaded from here:  https://ndownloader.figshare.com/files/2292172)"
      ]
    },
    {
      "cell_type": "markdown",
      "metadata": {
        "id": "YiP2m9nGzwU7"
      },
      "source": [
        "Each row in the data file records the species and weight of each animal caught in plots in the study area.\n",
        "\n",
        "The columns represent:\n",
        "\n",
        "| Column \t| Description |\n",
        "| --- | --- |\n",
        "| record_id |\tUnique id for the observation|\n",
        "| month |\tmonth of observation |\n",
        "|day \t|day of observation|\n",
        "|year |\tyear of observation|\n",
        "|plot_id \t|ID of a particular plot|\n",
        "|species_id |\t2-letter code|\n",
        "|sex |\tsex of animal (\"M\", \"F\")|\n",
        "|hindfoot_length |\tlength of the hindfoot in mm|\n",
        "|weight |\tweight of the animal in grams|"
      ]
    },
    {
      "cell_type": "markdown",
      "metadata": {
        "id": "rfB9kebuzwU9"
      },
      "source": [
        "Each time we call a function that's in a library, we use the syntax *`LibraryName.FunctionName`*. Adding the library name with a `.` before the function name tells Python where to find the function. In the example above, we have imported Pandas as `pd`. This means we don't have to type out `pandas` each time we call a Pandas function."
      ]
    },
    {
      "cell_type": "markdown",
      "source": [
        "## Loading data"
      ],
      "metadata": {
        "id": "C8LNklVXOiWb"
      }
    },
    {
      "cell_type": "markdown",
      "metadata": {
        "id": "MXXLQelPzwU_"
      },
      "source": [
        "Let's use Pandas' built-in function, `read_csv`, that reads in a CSV file:"
      ]
    },
    {
      "cell_type": "code",
      "execution_count": null,
      "metadata": {
        "id": "V1jdZQQszwVD"
      },
      "outputs": [],
      "source": [
        "# To download the file from the internet:\n",
        "# pd.read_csv(\"https://raw.githubusercontent.com/gwu-libraries/gwlibraries-workshops/master/python-programming/surveys.csv\")\n",
        "\n",
        "pd.read_csv('https://go.gwu.edu/pywdata1')\n",
        "# Or if you're able to download the file locally:\n",
        "# pd.read_csv(\"surveys.csv\")\n",
        "\n",
        "# If you're inside Google Colaboratory, you can borrow code from\n",
        "# https://colab.research.google.com/notebooks/io.ipynb?authuser=1 to load files from your computer\n",
        "# (Just paste in the code under \"Uploading files from your local file system\")"
      ]
    },
    {
      "cell_type": "markdown",
      "metadata": {
        "id": "GUdzgOJ3zwVK"
      },
      "source": [
        "That read our CSV file, but we'd like to store it as an **object**.  So we'll create a variable for it, called `surveys_df`.  This is just like how we used a variable above to store an integer, or a string, or a list, or a dictionary.  We're just storing a Pandas DataFrame object instead.\n",
        "\n",
        "Make sure to run the cell below:"
      ]
    },
    {
      "cell_type": "code",
      "execution_count": null,
      "metadata": {
        "id": "yfJiuHc2zwVO"
      },
      "outputs": [],
      "source": [
        "# To download the file from the internet:\n",
        "surveys_df = pd.read_csv(\"https://go.gwu.edu/pywdata1\")\n",
        "\n",
        "# Or if you're able to download the file locally:\n",
        "#surveys_df = pd.read_csv(\"surveys.csv\")"
      ]
    },
    {
      "cell_type": "markdown",
      "metadata": {
        "id": "mFRGYUXwzwVa"
      },
      "source": [
        "Try evaluating `surveys_df`:"
      ]
    },
    {
      "cell_type": "code",
      "execution_count": null,
      "metadata": {
        "id": "hFnmctoezwVc"
      },
      "outputs": [],
      "source": []
    },
    {
      "cell_type": "markdown",
      "source": [
        "## Properties of a Pandas `DataFrame`"
      ],
      "metadata": {
        "id": "wp90fj-uOmhI"
      }
    },
    {
      "cell_type": "markdown",
      "metadata": {
        "id": "d6yTR9_xzwVn"
      },
      "source": [
        "How would you now check what **class** (type) of object `surveys_df` is?"
      ]
    },
    {
      "cell_type": "code",
      "execution_count": null,
      "metadata": {
        "id": "aLTetS-fzwVr"
      },
      "outputs": [],
      "source": []
    },
    {
      "cell_type": "markdown",
      "metadata": {
        "id": "i-E2AfE5zwVx"
      },
      "source": [
        "`surveys_df` is a Pandas **DataFrame**.   A DataFrame is a 2-dimensional structure that can store data in rows and columns - similar to a spreadsheet or a table, but with some other nice features.  (Yes, it's very similar to a `data.frame` in R.)"
      ]
    },
    {
      "cell_type": "markdown",
      "metadata": {
        "id": "npQrHQF9zwV3"
      },
      "source": [
        "Just like the Pandas *library* has functions, *objects* can have **functions** (which may take arguments) and **attributes** (which don't).\n",
        "\n",
        "A Pandas DataFrame object has an attribute called `dtypes` which lists out the type of each column.  Try it."
      ]
    },
    {
      "cell_type": "code",
      "execution_count": null,
      "metadata": {
        "id": "O7YXJIa0zwV5"
      },
      "outputs": [],
      "source": []
    },
    {
      "cell_type": "markdown",
      "metadata": {
        "id": "Z-JIDpMPzwWG"
      },
      "source": [
        "Try these to see what they do:\n",
        "\n",
        "    surveys_df.columns\n",
        "    surveys_df.head()\n",
        "Also, what does `surveys_df.head(15)` do, versus `surveys_df.head(4)`?\n",
        "\n",
        "    surveys_df.tail()\n",
        "    surveys_df.shape\n"
      ]
    },
    {
      "cell_type": "code",
      "execution_count": null,
      "metadata": {
        "id": "aaedS-hktGBR"
      },
      "outputs": [],
      "source": []
    },
    {
      "cell_type": "markdown",
      "metadata": {
        "id": "71e6tscEtQGJ"
      },
      "source": [
        "Take note of the output of the shape method. What format does it return the shape of the DataFrame in?"
      ]
    },
    {
      "cell_type": "code",
      "execution_count": null,
      "metadata": {
        "id": "_WnKLZZvzwWM"
      },
      "outputs": [],
      "source": []
    },
    {
      "cell_type": "markdown",
      "source": [
        "## Slicing and Dicing (Subsetting)"
      ],
      "metadata": {
        "id": "Q72_5FS0ObIz"
      }
    },
    {
      "cell_type": "markdown",
      "metadata": {
        "id": "VQH3gjPezwWT"
      },
      "source": [
        "What if we want to isolate just one column?  There are (at least) two ways we can do this:\n",
        "\n",
        "- We can use bracket notation, like this:\n",
        "\n",
        "    `mydataframe['myvariable']`\n",
        "\n",
        "- We can treat the variable like an attribute, like this:\n",
        "\n",
        "    `mydataframe.myvariable`\n",
        "\n",
        "\n",
        "Try it for `surveys_df` and the `species_id` variable:"
      ]
    },
    {
      "cell_type": "code",
      "execution_count": null,
      "metadata": {
        "id": "kfK1tkl_zwWW"
      },
      "outputs": [],
      "source": []
    },
    {
      "cell_type": "code",
      "execution_count": null,
      "metadata": {
        "id": "n3z2o3U2zwWg"
      },
      "outputs": [],
      "source": []
    },
    {
      "cell_type": "markdown",
      "metadata": {
        "id": "GdT847tOzwWq"
      },
      "source": [
        "Let's see what type `surveys_df['species_id']` is, using the `type()` function that we used this morning.  Try it."
      ]
    },
    {
      "cell_type": "code",
      "execution_count": null,
      "metadata": {
        "id": "3GYjPQM8zwWt"
      },
      "outputs": [],
      "source": []
    },
    {
      "cell_type": "markdown",
      "metadata": {
        "id": "hBz40eDizwW0"
      },
      "source": [
        "You can think of a Pandas **Series** as a series of observations of one variable.  It behaves like a Python list."
      ]
    },
    {
      "cell_type": "markdown",
      "metadata": {
        "id": "52_nMSn2zwW1"
      },
      "source": [
        "We can also slice and dice -- similar to how we selected parts of list objects above.  Try getting back the 3rd through 10th rows of `surveys_df` using this structure:\n",
        "\n",
        "`df[2:5]` # returns rows 2 through 4 of `df`"
      ]
    },
    {
      "cell_type": "code",
      "execution_count": null,
      "metadata": {
        "id": "7uPUAKyazwW2",
        "scrolled": true
      },
      "outputs": [],
      "source": []
    },
    {
      "cell_type": "markdown",
      "metadata": {
        "id": "HGruf3C_u76a"
      },
      "source": [
        "Or, we can select just certain columns with a structure like this:\n",
        "\n",
        "df[['variableA', 'variableB']] # returns a DataFrame with `variableA` and `variableB` from `df`\n",
        "\n",
        "Use this structure to get back a `DataFrame` containg just the `species_id` and `hindfood_length` columns from `surveys_df`:"
      ]
    },
    {
      "cell_type": "code",
      "execution_count": null,
      "metadata": {
        "id": "GRnVvpRUuGcA"
      },
      "outputs": [],
      "source": []
    },
    {
      "cell_type": "markdown",
      "metadata": {
        "id": "0Jw9AmFnzwXC"
      },
      "source": [
        "What if we want to get a subset on both columns _and_ rows?\n",
        "\n",
        "Another way to select is with `.loc`, which selects based on *labels* (as opposed to `.iloc` which selects using *numerical indices*).  Try this:"
      ]
    },
    {
      "cell_type": "code",
      "execution_count": null,
      "metadata": {
        "id": "BzBJbqjfzwXF"
      },
      "outputs": [],
      "source": []
    },
    {
      "cell_type": "markdown",
      "metadata": {
        "id": "oCUzC5WczwXM"
      },
      "source": [
        "We can also use `.query` to select only rows matching certain conditions.  Note that the query expression is in single quotes."
      ]
    },
    {
      "cell_type": "code",
      "execution_count": null,
      "metadata": {
        "id": "QCd1TkcQzwXQ"
      },
      "outputs": [],
      "source": []
    },
    {
      "cell_type": "markdown",
      "metadata": {
        "id": "xmukwujJzwXV"
      },
      "source": [
        "There are other ways to do this.  Try this expression:"
      ]
    },
    {
      "cell_type": "code",
      "execution_count": null,
      "metadata": {
        "id": "26tykkKnzwXa"
      },
      "outputs": [],
      "source": []
    },
    {
      "cell_type": "markdown",
      "source": [
        "How can I tally up the number of False and True values in the series above?"
      ],
      "metadata": {
        "id": "7e0VQhCZRfhg"
      }
    },
    {
      "cell_type": "code",
      "source": [],
      "metadata": {
        "id": "BDvTS_M3RSNb"
      },
      "execution_count": null,
      "outputs": []
    },
    {
      "cell_type": "markdown",
      "metadata": {
        "id": "E57kPghXzwX4"
      },
      "source": [
        "How can you use this to get back a data frame with only the rows in `surveys_df` where `hindfoot_length < 10`?"
      ]
    },
    {
      "cell_type": "code",
      "execution_count": null,
      "metadata": {
        "id": "Su7nRMw0zwX8"
      },
      "outputs": [],
      "source": []
    },
    {
      "cell_type": "markdown",
      "metadata": {
        "id": "nJTAgWHMzwYF"
      },
      "source": [
        "**Challenge**:  How might you query to get back only rows with `hindfoot_length < 10` **and** `weight > 10` in ONE expression?  (There is more than one way to accomplish this!)"
      ]
    },
    {
      "cell_type": "code",
      "source": [],
      "metadata": {
        "id": "sIdtI6KRPkYh"
      },
      "execution_count": null,
      "outputs": []
    },
    {
      "cell_type": "markdown",
      "source": [
        "Another handy operator is `~` (tilde), which gives us the \"opposite\" of a result.  Let's say we want to get all of the `AB` species observations, but only where the `hindfoot_length` variable has a value:"
      ],
      "metadata": {
        "id": "NLu96fKKYPcC"
      }
    },
    {
      "cell_type": "code",
      "source": [],
      "metadata": {
        "id": "qgzK8RlHYV2V"
      },
      "execution_count": null,
      "outputs": []
    },
    {
      "cell_type": "markdown",
      "source": [
        "## Basic descriptive statistics"
      ],
      "metadata": {
        "id": "V46RieAxP-St"
      }
    },
    {
      "cell_type": "markdown",
      "source": [
        "### Numerical data"
      ],
      "metadata": {
        "id": "8wqYAo3IQmo7"
      }
    },
    {
      "cell_type": "markdown",
      "source": [
        "We see from above that we can also isolate just the data in one column. Let's try isolating the weight column, and calling the describe() function to get some statistics on it."
      ],
      "metadata": {
        "id": "5DjKM-vKQbS4"
      }
    },
    {
      "cell_type": "code",
      "source": [],
      "metadata": {
        "id": "ztP1gfdkQdoj"
      },
      "execution_count": null,
      "outputs": []
    },
    {
      "cell_type": "markdown",
      "source": [
        "We can also ask for descriptive statistics across all numerical variables:"
      ],
      "metadata": {
        "id": "-A510coSZhn4"
      }
    },
    {
      "cell_type": "code",
      "source": [],
      "metadata": {
        "id": "Rz_dRyDrZoBM"
      },
      "execution_count": null,
      "outputs": []
    },
    {
      "cell_type": "markdown",
      "source": [
        "Using corr(), we can also get a pairwise correlation between every pair of numerical variables:"
      ],
      "metadata": {
        "id": "_gbF9vbvQ1md"
      }
    },
    {
      "cell_type": "code",
      "source": [],
      "metadata": {
        "id": "YoHVMTCyRAno"
      },
      "execution_count": null,
      "outputs": []
    },
    {
      "cell_type": "markdown",
      "source": [
        "### Categorical Data"
      ],
      "metadata": {
        "id": "gCy57u9ZQtbG"
      }
    },
    {
      "cell_type": "markdown",
      "source": [
        "We can use `.describe()` on a `Series` containing text to get some basic descriptive information."
      ],
      "metadata": {
        "id": "tPSAUCqOQCSE"
      }
    },
    {
      "cell_type": "code",
      "source": [],
      "metadata": {
        "id": "fvyT3qphPyzb"
      },
      "execution_count": null,
      "outputs": []
    },
    {
      "cell_type": "markdown",
      "source": [
        "For categorical data, we can also find out how many there are of each unique value, using `.value_counts()`"
      ],
      "metadata": {
        "id": "ecrQcd5QQOWr"
      }
    },
    {
      "cell_type": "code",
      "source": [],
      "metadata": {
        "id": "jSbjmO-VQN4_"
      },
      "execution_count": null,
      "outputs": []
    },
    {
      "cell_type": "markdown",
      "metadata": {
        "id": "6Q7aYxjozwYI"
      },
      "source": [
        "Pandas has a handy `unique()` function (well, it has many handy functions!) to get all the unique elements in a `Series`:"
      ]
    },
    {
      "cell_type": "code",
      "execution_count": null,
      "metadata": {
        "id": "cfRCopBWzwYL"
      },
      "outputs": [],
      "source": []
    },
    {
      "cell_type": "markdown",
      "metadata": {
        "id": "Brt8BF1xzwYQ"
      },
      "source": [
        "Try evaluting the **`.size`** attribute on the above result to see how many unique species there are in the data set."
      ]
    },
    {
      "cell_type": "code",
      "execution_count": null,
      "metadata": {
        "id": "qaqmOyY1zwYU"
      },
      "outputs": [],
      "source": []
    },
    {
      "cell_type": "markdown",
      "source": [
        "## Grouping"
      ],
      "metadata": {
        "id": "s7JSDBVdRI3I"
      }
    },
    {
      "cell_type": "markdown",
      "metadata": {
        "id": "t8NJ3268zwY_"
      },
      "source": [
        "Pandas can also sort and group data based on the values in a column:"
      ]
    },
    {
      "cell_type": "code",
      "execution_count": null,
      "metadata": {
        "id": "gM9BdjxHzwZE"
      },
      "outputs": [],
      "source": [
        "grouped_by_species = surveys_df.groupby('species_id')"
      ]
    },
    {
      "cell_type": "markdown",
      "source": [
        "`.groupby` doesn't appear to do anything until we perform subsequent steps."
      ],
      "metadata": {
        "id": "pCwPvEfNSrpH"
      }
    },
    {
      "cell_type": "code",
      "execution_count": null,
      "metadata": {
        "id": "oVP8TV8WDpmu"
      },
      "outputs": [],
      "source": []
    },
    {
      "cell_type": "markdown",
      "metadata": {
        "id": "2RDbakQKzwZI"
      },
      "source": [
        "But now try running **`describe()`** on `grouped_by_species`:"
      ]
    },
    {
      "cell_type": "code",
      "execution_count": null,
      "metadata": {
        "id": "wFTR_f8DDdZ3"
      },
      "outputs": [],
      "source": []
    },
    {
      "cell_type": "markdown",
      "metadata": {
        "id": "Jdi8TIiYEKdW"
      },
      "source": [
        "Try grouping by multiple variables.  You will need to pass a **list** of variables to group on."
      ]
    },
    {
      "cell_type": "code",
      "execution_count": null,
      "metadata": {
        "id": "CjWuOn-VEQDL"
      },
      "outputs": [],
      "source": []
    },
    {
      "cell_type": "markdown",
      "metadata": {
        "id": "bsRnnigmzwZY"
      },
      "source": [
        "Now we're going to create some series with:\n",
        "\n",
        "* The number of animals observed per species\n",
        "* The mean weight of all animals observed in each species"
      ]
    },
    {
      "cell_type": "code",
      "source": [
        "# a series with the mean weight by species\n",
        "species_mean_weights = grouped_by_species['weight'].mean()\n",
        "species_mean_weights"
      ],
      "metadata": {
        "id": "os5kmiX4t533"
      },
      "execution_count": null,
      "outputs": []
    },
    {
      "cell_type": "markdown",
      "source": [
        "We can sort to find the species with the highest mean weights.  Remember that `species_mean_weights` is a Series, so we can use its `.sort_values()` method.  Additionally, we can use the optional `ascending` parameter to control whether it sorts in ascending or descending order."
      ],
      "metadata": {
        "id": "9HsxflQNuEtZ"
      }
    },
    {
      "cell_type": "code",
      "source": [],
      "metadata": {
        "id": "B8mWIUSGuIfa"
      },
      "execution_count": null,
      "outputs": []
    },
    {
      "cell_type": "markdown",
      "source": [
        "We can also get the tally of species observations by using `Series.value_counts()`.  Notice that by default, `Series.value_counts` sorts in descending order."
      ],
      "metadata": {
        "id": "qHwqZ1OvtzpB"
      }
    },
    {
      "cell_type": "markdown",
      "metadata": {
        "id": "ECPIasskzwZg"
      },
      "source": [
        "(For future reference:  `.agg()` or `.aggregate()` can be a useful way to work with \"groupby\" objects)"
      ]
    },
    {
      "cell_type": "markdown",
      "source": [
        "## Merging (Joining) data frames"
      ],
      "metadata": {
        "id": "Y1NSHEzE0sSk"
      }
    },
    {
      "cell_type": "markdown",
      "source": [
        "Let's read in a second data frame from `https://go.gwu.edu/pywdata2`, and call it `species_df`"
      ],
      "metadata": {
        "id": "VY6MUmGA0yjS"
      }
    },
    {
      "cell_type": "code",
      "source": [
        "species_df = pd.read_csv('https://go.gwu.edu/pywdata2')\n",
        "species_df"
      ],
      "metadata": {
        "id": "qtfLDzYY09Jr"
      },
      "execution_count": null,
      "outputs": []
    },
    {
      "cell_type": "markdown",
      "source": [
        "We can \"calculate\" a new text variable (let's call it `genus_species`) by concatenating the values of `genus` and `species`:"
      ],
      "metadata": {
        "id": "XnkGy6XV1IJs"
      }
    },
    {
      "cell_type": "code",
      "source": [],
      "metadata": {
        "id": "JN-vD6-Z1A2E"
      },
      "execution_count": null,
      "outputs": []
    },
    {
      "cell_type": "markdown",
      "source": [
        "Let's now \"join\" the common name onto the existing, surveys_df data frame.\n",
        "\n",
        "A brief summary of ways we can join table A and table B:\n",
        "- **left join** keeps all rows in table A, adds on columns from table B but only for rows where the \"key\" matches.  Where there's no matching row in table B, the result is \"NA\" (missing data) in the variables from table B.\n",
        "- **right join** keeps all rows in table B, adds on columns from table A but only for rows where the \"key\" matches.  Where there's no matching row in table A, the result is \"NA\" (missing data) in the variables from table A.\n",
        "- **inner join** keeps ONLY the rows where there is a match between table A and table B (based on the \"key\" variable in common)\n",
        "- **outer join** keeps ALL rows in BOTH table A and table B.  For rows the key's value is only found in table A, the variables from table B will have missing data; for rows the key's value is only found in table B, the variables from table A will have missing data."
      ],
      "metadata": {
        "id": "cluniYX01k4Q"
      }
    },
    {
      "cell_type": "markdown",
      "source": [
        "In our case, we will do a left join, because we want to keep all the original data in `surveys_df`, but we wish to enhance it with the name for the species, where it is available in `species_df`.\n",
        "\n",
        "We will use the `.merge()` method available on the `surveys_df` DataFrame.  We need to give it a few things:\n",
        "* The second data frame that we wish to merge onto this one.\n",
        "* The variable(s) that we want to merge on.  In other words, the variable(s) that will need to match between the two data frames.  This parameter is called `on`.\n",
        "* The method of merging (see above).  This parameter is called `how`."
      ],
      "metadata": {
        "id": "qdt26LBK_Qzz"
      }
    },
    {
      "cell_type": "code",
      "source": [
        "surveys_df = surveys_df.merge(species_df[['species_id', 'genus_species', 'taxa']],\n",
        "                          on='species_id', how='left')\n",
        "surveys_df"
      ],
      "metadata": {
        "id": "YGWilPsl1rW7"
      },
      "execution_count": null,
      "outputs": []
    },
    {
      "cell_type": "markdown",
      "source": [
        "## Plotting with Matplotlib"
      ],
      "metadata": {
        "id": "0Ftw37v_xth2"
      }
    },
    {
      "cell_type": "markdown",
      "metadata": {
        "id": "9RzFSc7ezwZn"
      },
      "source": [
        "Let's try creating some quick bar charts.  First we need to make sure figures appear inline in the notebook:"
      ]
    },
    {
      "cell_type": "code",
      "execution_count": null,
      "metadata": {
        "id": "jpInBlB6zwZp"
      },
      "outputs": [],
      "source": [
        "import matplotlib.pyplot as plt\n",
        "\n",
        "%matplotlib inline"
      ]
    },
    {
      "cell_type": "markdown",
      "metadata": {
        "id": "OODo3imQzwZt"
      },
      "source": [
        "And now we'll create some quick charts using `plt.scatter()` followed by `plt.show()`:"
      ]
    },
    {
      "cell_type": "code",
      "execution_count": null,
      "metadata": {
        "id": "HQeIDa-HzwZv",
        "scrolled": true
      },
      "outputs": [],
      "source": [
        "plt.scatter(x = surveys_df.weight, y=surveys_df.hindfoot_length)\n",
        "\n",
        "plt.show()"
      ]
    },
    {
      "cell_type": "markdown",
      "metadata": {
        "id": "yKefXGal3-kc"
      },
      "source": [
        "We can also use `plt.hist()` to create a histogram.  Create a histogram of the values of `surveys_df.hindfoot_length`."
      ]
    },
    {
      "cell_type": "code",
      "execution_count": null,
      "metadata": {
        "id": "mzkcTOxlzwZ2"
      },
      "outputs": [],
      "source": [
        "plt.hist(surveys_df.hindfoot_length)\n",
        "plt.title('Distribution of hindfoot length values')\n",
        "plt.show()"
      ]
    },
    {
      "cell_type": "markdown",
      "metadata": {
        "id": "DdVDbrmVzwZ7"
      },
      "source": [
        "We can also call `.plot()` on a Series.  We can specify which type of plot we want by populating the `kind` parameter.  For a bar plot, we can specify `kind = 'bar'`."
      ]
    },
    {
      "cell_type": "code",
      "execution_count": null,
      "metadata": {
        "id": "nzCRy1omzwZ8"
      },
      "outputs": [],
      "source": []
    },
    {
      "cell_type": "markdown",
      "metadata": {
        "id": "Xuz4ygyx4G-y"
      },
      "source": [
        "And we can control the size of the figure by adding a `figsize` parameter to `plot()`.  For example, we can add `figsize=(15,5)` where 15 is the width and 5 is the height."
      ]
    },
    {
      "cell_type": "code",
      "execution_count": null,
      "metadata": {
        "id": "U51qqn_1zwaS"
      },
      "outputs": [],
      "source": []
    },
    {
      "cell_type": "markdown",
      "metadata": {
        "id": "yJbruXq5zwaY"
      },
      "source": [
        "And now for a scatter plot (`kind = 'scatter'`), where we specify the names of the `x` and `y` variables:"
      ]
    },
    {
      "cell_type": "code",
      "execution_count": null,
      "metadata": {
        "id": "bI6hKyiJ5QBb"
      },
      "outputs": [],
      "source": []
    },
    {
      "cell_type": "markdown",
      "metadata": {
        "id": "BGCcAoAn5VIR"
      },
      "source": [
        "But let's look up what more we can do with this plot.  Try looking up help on `matplotlib.pyplot.scatter`"
      ]
    },
    {
      "cell_type": "code",
      "execution_count": null,
      "metadata": {
        "id": "eImkhlVE5gWg"
      },
      "outputs": [],
      "source": []
    },
    {
      "cell_type": "markdown",
      "metadata": {
        "id": "cbFabWQw5hWg"
      },
      "source": [
        "Let's try using a few of these parameters, like `marker`, `alpha` and `c` (color)"
      ]
    },
    {
      "cell_type": "code",
      "execution_count": null,
      "metadata": {
        "id": "quXqJ_d_zwaY"
      },
      "outputs": [],
      "source": []
    },
    {
      "cell_type": "markdown",
      "metadata": {
        "id": "OIfC96T9zwak"
      },
      "source": [
        "See if you can look up another plot type and get it to work!"
      ]
    },
    {
      "cell_type": "code",
      "execution_count": null,
      "metadata": {
        "id": "PHPXc2aIzwak"
      },
      "outputs": [],
      "source": []
    },
    {
      "cell_type": "markdown",
      "metadata": {
        "id": "q1_0wpDqzwas"
      },
      "source": [
        "## Nicer plotting, with `ggplot`\n",
        "\n",
        "Let's try a different plotting library, called `ggplot` (from the `plotnine` package), that thinks about plotting data in a different way, in terms of \"adding\" *data* plus *aesthetics* (colors, shapes, etc.) plus *layers* (which add to or modify the plot)\n",
        "\n",
        "In Python, the `ggplot` library is available as part of the `plotline` package."
      ]
    },
    {
      "cell_type": "code",
      "execution_count": null,
      "metadata": {
        "id": "mVbPI73Vzwav"
      },
      "outputs": [],
      "source": [
        "from plotnine import *"
      ]
    },
    {
      "cell_type": "markdown",
      "metadata": {
        "id": "uV-YHg42zwaz"
      },
      "source": [
        "The first thing we'll do is create a ggplot object using `ggplot()` and give it:\n",
        "- Our data frame (`surveys_df`)\n",
        "- Aesthetics information, such as which variables in our data frame will be used as the independent (x) and dependent (y) variables.  We'll add (using `+`) `aes(x, y)`"
      ]
    },
    {
      "cell_type": "code",
      "execution_count": null,
      "metadata": {
        "id": "pfbYSX5kzwa0"
      },
      "outputs": [],
      "source": [
        "ggplot(surveys_df) + aes(x = 'weight', y = 'hindfoot_length')"
      ]
    },
    {
      "cell_type": "markdown",
      "metadata": {
        "id": "JjXQtbTzzwa4"
      },
      "source": [
        "Hmmm, we get a canvas but it's mysteriously empty!   We need to add a ***layer***, using `+`.  We'll add a layer with points, using `geom_point()`."
      ]
    },
    {
      "cell_type": "code",
      "execution_count": null,
      "metadata": {
        "id": "GWYv4Z_Rzwa6"
      },
      "outputs": [],
      "source": [
        "ggplot(surveys_df) + aes(x = 'weight', y = 'hindfoot_length') + geom_point()"
      ]
    },
    {
      "cell_type": "markdown",
      "metadata": {
        "id": "UmLMlsLizwa8"
      },
      "source": [
        "Not bad!  Let's see if we can perhaps color-code the points based on the species_id, by adding a `color` parameter to the `aes()` component."
      ]
    },
    {
      "cell_type": "code",
      "execution_count": null,
      "metadata": {
        "id": "IGGiS21Kzwa9"
      },
      "outputs": [],
      "source": [
        "ggplot(surveys_df) + aes(x = 'weight', y = 'hindfoot_length', color='species_id') + geom_point()"
      ]
    },
    {
      "cell_type": "markdown",
      "metadata": {
        "id": "FaWUSZXHzwbB"
      },
      "source": [
        "This is great, but, perhaps with so many species_id values, it becomes hard to distinguish between the colors to have a meaningful color layer.   Let's create a subset using just the top 10 species.\n",
        "\n",
        "Remember earlier we created `species_counts`?  We'll use it here, to get just the top ten species as as a list:"
      ]
    },
    {
      "cell_type": "code",
      "execution_count": null,
      "metadata": {
        "id": "7VOWaT2MzwbC"
      },
      "outputs": [],
      "source": [
        "species_counts"
      ]
    },
    {
      "cell_type": "markdown",
      "metadata": {
        "id": "n1rig23qzwbE"
      },
      "source": [
        "How would you get just the first 10 values?"
      ]
    },
    {
      "cell_type": "code",
      "execution_count": null,
      "metadata": {
        "id": "V9n7v622zwbM"
      },
      "outputs": [],
      "source": []
    },
    {
      "cell_type": "markdown",
      "metadata": {
        "id": "BNfbi1CozwbO"
      },
      "source": [
        "But we simply want the species ids, not any of the other stuff.  Similar to a Python dictionary, we can use `.keys()` to get that:"
      ]
    },
    {
      "cell_type": "code",
      "execution_count": null,
      "metadata": {
        "id": "Xs0g-1i9zwbQ"
      },
      "outputs": [],
      "source": []
    },
    {
      "cell_type": "markdown",
      "metadata": {
        "id": "R3Nl0gQuzwbT"
      },
      "source": [
        "And let's use a variable to store our index of top species so we can reuse it:"
      ]
    },
    {
      "cell_type": "code",
      "execution_count": null,
      "metadata": {
        "id": "1F1BZuOTzwbT"
      },
      "outputs": [],
      "source": []
    },
    {
      "cell_type": "markdown",
      "metadata": {
        "id": "BiIGs2_XzwbZ"
      },
      "source": [
        "Now that we have a simple list of the top 10 species IDs, we can use `.isin()` to create a subset data frame containing just the rows with those species_id values.  Let's call this new data frame `subset_df`:"
      ]
    },
    {
      "cell_type": "code",
      "execution_count": null,
      "metadata": {
        "id": "FR55YAREzwbc"
      },
      "outputs": [],
      "source": [
        "subset_df = surveys_df[surveys_df.species_id.isin(top_species)]\n",
        "subset_df"
      ]
    },
    {
      "cell_type": "markdown",
      "metadata": {
        "id": "zc0shSx9zwba"
      },
      "source": [
        "Now that our new data frame has a smaller variety of species, let's try it again with `genus_species` as the key for the color:"
      ]
    },
    {
      "cell_type": "code",
      "execution_count": null,
      "metadata": {
        "id": "H5YT4Z4Rzwbg"
      },
      "outputs": [],
      "source": [
        "surveys_plot = ggplot(subset_df) + \\\n",
        "  aes(x = 'weight', y = 'hindfoot_length', color='genus_species') + \\\n",
        "  geom_point(alpha=0.2)"
      ]
    },
    {
      "cell_type": "markdown",
      "metadata": {
        "id": "oDffX2Qhzwbo"
      },
      "source": [
        "And now to render the plot:"
      ]
    },
    {
      "cell_type": "code",
      "execution_count": null,
      "metadata": {
        "id": "LdoG5vUMzwbp"
      },
      "outputs": [],
      "source": [
        "surveys_plot"
      ]
    },
    {
      "cell_type": "markdown",
      "metadata": {
        "id": "Tnfk_soxzwbu"
      },
      "source": [
        "Here are some other layers we can try adding.  See what the `stat_smooth()` and `theme_xkcd()` layers do:"
      ]
    },
    {
      "cell_type": "code",
      "execution_count": null,
      "metadata": {
        "id": "9X2HAT5Wzwbu"
      },
      "outputs": [],
      "source": [
        "surveys_plot + stat_smooth() + theme_xkcd()"
      ]
    },
    {
      "cell_type": "markdown",
      "metadata": {
        "id": "GL05Fbph7PAX"
      },
      "source": [
        "We can also try `facet_wrap('~variablename')` and pass it the name of the variable we'd like to use as our facet.  Let's facet on `species_id` so we can look at the hindfoot_length vs. weight for each species separately:"
      ]
    },
    {
      "cell_type": "code",
      "execution_count": null,
      "metadata": {
        "id": "0vtlO-HRzwbv"
      },
      "outputs": [],
      "source": [
        "surveys_plot + facet_wrap('~species_id')"
      ]
    },
    {
      "cell_type": "markdown",
      "metadata": {
        "id": "QW6p5pDbKMbC"
      },
      "source": [
        "## Linear Regression\n",
        "\n",
        "Let's try a simple regression regression on one of the species' length/weight data."
      ]
    },
    {
      "cell_type": "code",
      "execution_count": null,
      "metadata": {
        "id": "ZxUsIJuPKdO0"
      },
      "outputs": [],
      "source": [
        "ds_data = surveys_df[surveys_df.species_id=='DS'][['hindfoot_length', 'weight', 'sex']]"
      ]
    },
    {
      "cell_type": "code",
      "execution_count": null,
      "metadata": {
        "id": "uzUnmcjrK_OP"
      },
      "outputs": [],
      "source": [
        "ds_data.head()"
      ]
    },
    {
      "cell_type": "code",
      "execution_count": null,
      "metadata": {
        "id": "ahWhkBuBLBbW"
      },
      "outputs": [],
      "source": [
        "ds_data = ds_data[~ds_data.hindfoot_length.isnull() & ~ds_data.weight.isnull() & ~ds_data.sex.isnull()]"
      ]
    },
    {
      "cell_type": "code",
      "execution_count": null,
      "metadata": {
        "id": "e9PIo63nLNnr"
      },
      "outputs": [],
      "source": [
        "ds_data.head()"
      ]
    },
    {
      "cell_type": "code",
      "execution_count": null,
      "metadata": {
        "id": "-PXWpvfRLOz3"
      },
      "outputs": [],
      "source": [
        "ds_data[ds_data.sex.isnull()]"
      ]
    },
    {
      "cell_type": "code",
      "execution_count": null,
      "metadata": {
        "id": "iCS0oE8PLlBw"
      },
      "outputs": [],
      "source": [
        "import math\n",
        "import numpy as np\n",
        "from sklearn.linear_model import LinearRegression"
      ]
    },
    {
      "cell_type": "code",
      "execution_count": null,
      "metadata": {
        "id": "VxA3NH2JMJ8r"
      },
      "outputs": [],
      "source": [
        "ds_data.hist(bins=20, figsize=(20, 5)) # Creates one histogram per continuous data"
      ]
    },
    {
      "cell_type": "code",
      "execution_count": null,
      "metadata": {
        "id": "FgtMNcnSMjkt"
      },
      "outputs": [],
      "source": [
        "100*ds_data['weight']"
      ]
    },
    {
      "cell_type": "code",
      "execution_count": null,
      "metadata": {
        "id": "pLnaycrfNpYU"
      },
      "outputs": [],
      "source": [
        "plt.scatter(ds_data.hindfoot_length, ds_data.weight)"
      ]
    },
    {
      "cell_type": "code",
      "execution_count": null,
      "metadata": {
        "id": "AuF5Mv3PRA11"
      },
      "outputs": [],
      "source": [
        "#ds_data[['hindfoot_length']]\n",
        "\n",
        "regr = LinearRegression()\n",
        "regr.fit(X = ds_data[['hindfoot_length']], y = ds_data[['weight']])"
      ]
    },
    {
      "cell_type": "code",
      "execution_count": null,
      "metadata": {
        "id": "zTullSXwH4Y-"
      },
      "outputs": [],
      "source": [
        "regr.coef_"
      ]
    },
    {
      "cell_type": "code",
      "execution_count": null,
      "metadata": {
        "id": "Oipme3tLJ6qV"
      },
      "outputs": [],
      "source": [
        "regr.intercept_"
      ]
    },
    {
      "cell_type": "code",
      "execution_count": null,
      "metadata": {
        "id": "s16slIPsLMRq"
      },
      "outputs": [],
      "source": [
        "# R-squared\n",
        "\n",
        "regr.score(X = ds_data[['hindfoot_length']], y = ds_data[['weight']])"
      ]
    }
  ],
  "metadata": {
    "colab": {
      "provenance": []
    },
    "kernelspec": {
      "display_name": "Python 3",
      "language": "python",
      "name": "python3"
    }
  },
  "nbformat": 4,
  "nbformat_minor": 0
}