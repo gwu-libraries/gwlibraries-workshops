{
  "nbformat": 4,
  "nbformat_minor": 0,
  "metadata": {
    "colab": {
      "provenance": [],
      "collapsed_sections": [
        "cBRuUUgb3--9",
        "HLItTaYq3-_G",
        "1iLUd1sm3-_W",
        "CjjDvjIM3-_l",
        "vx4AjHrt3-_m",
        "68-RHxdY3-_w",
        "frfNuKfY3-_6",
        "4OepVVOi3_AQ",
        "g9N_jn5N3_Ab",
        "oJE-7t2j3_Aj"
      ]
    },
    "kernelspec": {
      "display_name": "Python 3",
      "language": "python",
      "name": "python3"
    }
  },
  "cells": [
    {
      "cell_type": "markdown",
      "metadata": {
        "collapsed": true,
        "id": "VCn4ocPf3-9g"
      },
      "source": [
        "# Welcome to the **GW Libraries Programming with Python workshop.**\n",
        "\n",
        "## Quick tips\n",
        "\n",
        "When working in a Google Colaboratory notebook, **Shift-Return / Shift-Enter** runs the cell you're on.  You can also run the cell using the \"Play\" button at the left edge of the cell.\n",
        "\n",
        "There are many other keyboard shortcuts.  You can access the list via the menu bar, at **Tools-->Command palette**.  In fact, you can even customize your keyboard shortcuts using **Tools-->Keyboard shortcuts**.\n",
        "\n",
        "### Google Colab shortcuts:\n",
        "- Shift-Enter / Shift-Return runs the cell you're on.  You can also run the cell using the \"Play\" button in the toolbar.\n",
        "- Alt-Enter (Windows) / Option-Return (Mac) runs the cell you're on _and_ inserts a new cell below.\n",
        "- More shortcuts under Tools --> Keyboard Shortcuts\n",
        "\n",
        "You will probably get some errors in working through this notebook.  That's okay, you can just go back and change the cell and re-run it.\n",
        "\n",
        "The notebook auto-saves as you work, just like Gmail and most Google apps.\n",
        "\n",
        "----"
      ]
    },
    {
      "cell_type": "markdown",
      "source": [
        "# Variables\n",
        "\n",
        "The first thing we're going to do is to learn about **variables**.  Variables are a way to store values that can be numbers, text, lists, boolean (true/false), etc. as **named objects**.\n",
        "\n",
        "Much like in algebra, you set the value of a variable using what looks like an equation.\n",
        "\n",
        "To run this next cell, click on it and either press Shift-Enter/Shift-Return, or press the Play (\"run cell\") button in the toolbar."
      ],
      "metadata": {
        "id": "NwUcWitqBXpM"
      }
    },
    {
      "cell_type": "code",
      "metadata": {
        "id": "Hih5T6rp3-9h"
      },
      "source": [
        "gdp = 22.32"
      ],
      "execution_count": 1,
      "outputs": []
    },
    {
      "cell_type": "markdown",
      "metadata": {
        "id": "RG28W_Rp3-9l"
      },
      "source": [
        "So let's see the effect of that, by having Python **evaluate** our variable called `gdp`.  Again, press Shift-Enter, or press the Play (\"run cell\") button in the toolbar."
      ]
    },
    {
      "cell_type": "code",
      "metadata": {
        "id": "escqhnnT3-9m"
      },
      "source": [
        "gdp"
      ],
      "execution_count": null,
      "outputs": []
    },
    {
      "cell_type": "markdown",
      "metadata": {
        "id": "mIfP3fMy3-9p"
      },
      "source": [
        "Next, set the value of a new variable to your name.   A couple of things you'll need to know:\n",
        "* Variable names can't contain spaces or special characters (except `_` )\n",
        "* Some terms we use when we describe text variables (as opposed to numeric):\n",
        "  * We can use the term **string** to refer to text (because it's a string of individual symbols).\n",
        "  * We might also refer to an individual letter or symbol as a **character**\n",
        "* String values (like words or text) ***must*** be contained in a pair of either matching single quotes or matching double quotes.  For example:  `'This is some text'` or `\"This is some text\"`"
      ]
    },
    {
      "cell_type": "code",
      "metadata": {
        "id": "BG1S-FXf3-9q"
      },
      "source": [],
      "execution_count": null,
      "outputs": []
    },
    {
      "cell_type": "code",
      "metadata": {
        "id": "PSv1a1_v3-9t"
      },
      "source": [],
      "execution_count": null,
      "outputs": []
    },
    {
      "cell_type": "markdown",
      "metadata": {
        "id": "lejV-TVE3-9w"
      },
      "source": [
        "If you have another language installed on your computer (Chinese, Arabic, etc.), try using foreign characters in your string.  Python handles these well.\n",
        "\n",
        "An example might be:\n",
        "\n",
        "```\n",
        "someText = 'سلام'\n",
        "```\n",
        "\n"
      ]
    },
    {
      "cell_type": "code",
      "metadata": {
        "id": "wm-rlMl03-9x"
      },
      "source": [],
      "execution_count": null,
      "outputs": []
    },
    {
      "cell_type": "code",
      "metadata": {
        "id": "X2r7SBUfYj0O"
      },
      "source": [],
      "execution_count": null,
      "outputs": []
    },
    {
      "cell_type": "markdown",
      "metadata": {
        "id": "KE4xtx2P3-90"
      },
      "source": [
        "What if we wanted to do some simple math using these variables?\n",
        "\n",
        "* Create a new variable called `population` and set it to `331.05`.\n",
        "* Create another new variable called `gdp_per_capita` and set it to the product of gdp \\* population (use `*` for multiplying)\n"
      ]
    },
    {
      "cell_type": "code",
      "metadata": {
        "id": "02eJwKZG3-91"
      },
      "source": [],
      "execution_count": null,
      "outputs": []
    },
    {
      "cell_type": "markdown",
      "metadata": {
        "id": "WGwHjIGQ3-94"
      },
      "source": [
        "What happens if you try multiplying the name variable by 4?"
      ]
    },
    {
      "cell_type": "code",
      "metadata": {
        "id": "rxnXu5X83-95"
      },
      "source": [],
      "execution_count": null,
      "outputs": []
    },
    {
      "cell_type": "markdown",
      "metadata": {
        "id": "C7AwupUb3-98"
      },
      "source": [
        "How about if you *divide* it by 2?  Add a number to it?  Add another name to it (using `+`)?"
      ]
    },
    {
      "cell_type": "code",
      "metadata": {
        "id": "Tzo39Wuw3-9_"
      },
      "source": [],
      "execution_count": null,
      "outputs": []
    },
    {
      "cell_type": "markdown",
      "metadata": {
        "id": "Xm-RztaA3--C"
      },
      "source": [
        "What we're starting to see here is that Python has different **types** for numbers, text, and more.  You can find out the type of a variable by using:\n",
        "\n",
        "**`type(`**put your variable here**`)`**\n",
        "\n",
        "Try it."
      ]
    },
    {
      "cell_type": "code",
      "metadata": {
        "id": "sYpL6SxR3--D"
      },
      "source": [],
      "execution_count": null,
      "outputs": []
    },
    {
      "cell_type": "markdown",
      "metadata": {
        "id": "arl0WWLQ3--F"
      },
      "source": [
        "Numbers, by the way, aren't just numbers.  Look at the type of the `price` variable versus another variable set to `7`.\n",
        "\n",
        "You can even re-assign an existing variable to new type.  Try it!"
      ]
    },
    {
      "cell_type": "code",
      "metadata": {
        "id": "xWcahPaM3--I"
      },
      "source": [],
      "execution_count": null,
      "outputs": []
    },
    {
      "cell_type": "markdown",
      "metadata": {
        "id": "w_GGZDIm3--L"
      },
      "source": [
        "There's also another important basic variable type, called a **boolean** variable.  Booleans can have a value of **`True`** or **`False`** (capitalized, in Python)\n",
        "\n",
        "Create a variable called `gwstudent` and assign its value to `True`:"
      ]
    },
    {
      "cell_type": "code",
      "metadata": {
        "id": "fmoWI8iJ3--L"
      },
      "source": [],
      "execution_count": null,
      "outputs": []
    },
    {
      "cell_type": "markdown",
      "metadata": {
        "id": "ZELnzZg83--N"
      },
      "source": [
        "Now evaluate the `type()` of `gwstudent`."
      ]
    },
    {
      "cell_type": "code",
      "metadata": {
        "id": "OdJNjqCq3--O"
      },
      "source": [],
      "execution_count": null,
      "outputs": []
    },
    {
      "cell_type": "markdown",
      "metadata": {
        "id": "jpIN2CC53--P"
      },
      "source": [
        "#### Comparison operators:  <, >, ==, !=, <=, >=, and, or, not, ...\n",
        "\n",
        "Try out some comparisons, for example, whether:\n",
        "* `price` is greater than 5.99\n",
        "* `name` is equal to \"Dan\""
      ]
    },
    {
      "cell_type": "code",
      "metadata": {
        "id": "qUm9mdD03--R"
      },
      "source": [],
      "execution_count": null,
      "outputs": []
    },
    {
      "cell_type": "markdown",
      "metadata": {
        "id": "oe-XFxuD3--T"
      },
      "source": [
        "# Lists and Tuples"
      ]
    },
    {
      "cell_type": "markdown",
      "metadata": {
        "id": "Ay50GND03--U"
      },
      "source": [
        "**Lists** in Python hold an _ordered_ sequence of elements, like this:\n",
        "\n",
        "`states = ['Virginia', 'Maryland', 'New Jersey', 'Utah', 'Rhode Island']`\n",
        "\n",
        "Try creating a list of several countries."
      ]
    },
    {
      "cell_type": "code",
      "metadata": {
        "id": "Tj5OYx1F3--V"
      },
      "source": [],
      "execution_count": null,
      "outputs": []
    },
    {
      "cell_type": "markdown",
      "metadata": {
        "id": "-YGuf5dq3--Y"
      },
      "source": [
        "We can access the n'th element of a list using the `mylist[n]` notation.\n",
        "\n",
        "Try retrieving the first country in the list you created above."
      ]
    },
    {
      "cell_type": "code",
      "metadata": {
        "id": "V6YHSvmA3--Z"
      },
      "source": [],
      "execution_count": null,
      "outputs": []
    },
    {
      "cell_type": "markdown",
      "metadata": {
        "id": "bQM_djA33--c"
      },
      "source": [
        "Notice that in Python, the first element of the list is really the \"0th\" element (this is not the case when programming in R!)\n",
        "\n",
        "You can also access parts of the list using syntax like: [0:2], [:2], [3:], [-2],[-2:].  See if you can figure out what these do."
      ]
    },
    {
      "cell_type": "code",
      "metadata": {
        "id": "P1w-jAVt3--c"
      },
      "source": [],
      "execution_count": null,
      "outputs": []
    },
    {
      "cell_type": "code",
      "metadata": {
        "id": "iKON6p_I3--e"
      },
      "source": [],
      "execution_count": null,
      "outputs": []
    },
    {
      "cell_type": "markdown",
      "metadata": {
        "id": "-uQfEZhi3--g"
      },
      "source": [
        "Lists come with useful functions, like `len(mylist)` which returns the length of the list.  Try using `len()`"
      ]
    },
    {
      "cell_type": "code",
      "metadata": {
        "id": "1l8dgYI-3--g"
      },
      "source": [],
      "execution_count": null,
      "outputs": []
    },
    {
      "cell_type": "markdown",
      "metadata": {
        "id": "53lEIr323--i"
      },
      "source": [
        "What if you wanted to add an element to a list?  Or remove an element from a list?  Try using:\n",
        "\n",
        "`mylist.append(<the new element>)`\n",
        "for example, `states.append('New York')`"
      ]
    },
    {
      "cell_type": "code",
      "metadata": {
        "id": "1zzMmhQc3--k"
      },
      "source": [],
      "execution_count": null,
      "outputs": []
    },
    {
      "cell_type": "markdown",
      "metadata": {
        "collapsed": true,
        "id": "hzf2U3nM3--l"
      },
      "source": [
        "There are also list functions to do things like insert, remove, sort, reverse.  You can also use the `+` operator to add lists together. You can even multiply a list by a number, similar to how earlier we multiplied a string by a number!\n",
        "\n",
        "Try adding a list of two new states to your list."
      ]
    },
    {
      "cell_type": "code",
      "metadata": {
        "id": "7Vzuhhuv3--m"
      },
      "source": [],
      "execution_count": null,
      "outputs": []
    },
    {
      "cell_type": "markdown",
      "metadata": {
        "id": "ObNsGOTA3--o"
      },
      "source": [
        "So far, we've only created lists of strings (text).  Do you think Python will let you have a list with a mix of different types in it (numbers, strings, other lists, etc.)?  Try it."
      ]
    },
    {
      "cell_type": "code",
      "metadata": {
        "id": "eZdwGK7B3--o"
      },
      "source": [],
      "execution_count": null,
      "outputs": []
    },
    {
      "cell_type": "markdown",
      "metadata": {
        "id": "wPIiOpKl3--q"
      },
      "source": [
        "Strings (like your name variable) also have some list-like behaviors, because they're lists of individual charactres.  How might you get the the n'th character from a string?"
      ]
    },
    {
      "cell_type": "code",
      "metadata": {
        "id": "B2Nmb7CJ3--q"
      },
      "source": [],
      "execution_count": null,
      "outputs": []
    },
    {
      "cell_type": "markdown",
      "metadata": {
        "id": "AtqTtIkR3--s"
      },
      "source": [
        "### Tuples\n",
        "\n",
        "Notice that we created a list using [] square brackets.  If we use () parentheses, we create what's called a *tuple*.  A tuple might be something like this:"
      ]
    },
    {
      "cell_type": "code",
      "metadata": {
        "id": "BpsG6_Rb3--u"
      },
      "source": [
        "colors = ('blue', 'green', 'red')"
      ],
      "execution_count": null,
      "outputs": []
    },
    {
      "cell_type": "markdown",
      "metadata": {
        "id": "BFQtx0XY3--v"
      },
      "source": [
        "Notice that tuples are like lists: you can access elements, etc.  But what if you try to append to a tuple?"
      ]
    },
    {
      "cell_type": "markdown",
      "metadata": {
        "id": "wWgGPRMr3--x"
      },
      "source": [
        "### The \"in\" operator\n",
        "\n",
        "We can use `in` to see whether an element is found in a list.  Try running:\n",
        "\n",
        "`'yellow' in colors`"
      ]
    },
    {
      "cell_type": "code",
      "metadata": {
        "id": "KQ3CpNco3--y"
      },
      "source": [],
      "execution_count": null,
      "outputs": []
    },
    {
      "cell_type": "markdown",
      "metadata": {
        "collapsed": true,
        "id": "yK9qVYSV3--0"
      },
      "source": [
        "# Dictionaries\n",
        "\n",
        "A **Dictionary** is a container that holds pairs of objects - keys and values.  Keys may be strings or numbers.  A value may be any type, whether an integer, string, boolean, list, etc.  It can even be another dictionary!\n",
        "\n",
        "Here's an example of a dictionary:"
      ]
    },
    {
      "cell_type": "code",
      "metadata": {
        "id": "PYOxILdR3--0"
      },
      "source": [
        "workshop = {'name': 'Programming With Python',\n",
        "            'duration': 2,\n",
        "            'instructors': ['Dan', 'Laura', 'Dolsy', 'Nopi'],\n",
        "            'awesome': True}"
      ],
      "execution_count": null,
      "outputs": []
    },
    {
      "cell_type": "markdown",
      "metadata": {
        "collapsed": true,
        "id": "gRKrDjY53--4"
      },
      "source": [
        "So dictionaries are very similar to lists, except that they're indexed with keys.\n",
        "\n",
        "Dictionaries are actually data structures that can represent objects in **JSON** (JavaScript Object Notation) format, which today is a very common way of representing data!\n",
        "\n",
        "How do you think you would access the value of `'instructors'` key from the `workshop` dictionary?"
      ]
    },
    {
      "cell_type": "code",
      "metadata": {
        "id": "H3eEDCnw3--4"
      },
      "source": [],
      "execution_count": null,
      "outputs": []
    },
    {
      "cell_type": "markdown",
      "metadata": {
        "id": "2VY6VvO13--6"
      },
      "source": [
        "How do you think you would ***add*** an item to the dictionary?  Try adding a 'location' item.  How about replacing an item?"
      ]
    },
    {
      "cell_type": "code",
      "metadata": {
        "id": "19V7U78b3--7"
      },
      "source": [],
      "execution_count": null,
      "outputs": []
    },
    {
      "cell_type": "markdown",
      "metadata": {
        "collapsed": true,
        "id": "cBRuUUgb3--9"
      },
      "source": [
        "### Challenge\n",
        "\n",
        "How might you add two more names to the list of instructors?  (Challenge:  Try to do this in one line, *without* just overriding the list of instructors)"
      ]
    },
    {
      "cell_type": "code",
      "metadata": {
        "id": "svn_3DI83---"
      },
      "source": [],
      "execution_count": null,
      "outputs": []
    },
    {
      "cell_type": "markdown",
      "metadata": {
        "id": "wzTveZhQ3-_C"
      },
      "source": [
        "We can also look up whether a certain key exists in a dictionary.  How might you evaluate whether or not `workshop` contains a `location` key?"
      ]
    },
    {
      "cell_type": "code",
      "metadata": {
        "id": "KHGH6NWc3-_D"
      },
      "source": [],
      "execution_count": null,
      "outputs": []
    },
    {
      "cell_type": "markdown",
      "metadata": {
        "id": "HLItTaYq3-_G"
      },
      "source": [
        "# Comments\n",
        "\n",
        "Comment lines start with `#`.  They don't execute any code, but it's a very good idea to comment your code so that the reader (which might be your future self) can understand anything that's not already obvious from your clear and well-written code."
      ]
    },
    {
      "cell_type": "code",
      "metadata": {
        "id": "htTaGJwK3-_G"
      },
      "source": [
        "# This is a comment and is here for the reader's benefit"
      ],
      "execution_count": null,
      "outputs": []
    },
    {
      "cell_type": "markdown",
      "metadata": {
        "id": "gSIbXT1H3-_I"
      },
      "source": [
        "# Iteration (looping)\n",
        "\n",
        "Iteration allows us to repeat over a section of code, and iterate through a list (or other \"iterable\") at the same time.  **`for`** and **`while`** create iterations, like this:\n",
        "\n",
        "```\n",
        "numbers = [4, 6, 0, 5.5, 3]\n",
        "for n in numbers:\n",
        "    print(\"The next number in the list, squared is \", n**2)\n",
        "    \n",
        "print(\"We're done iterating -- notice that this line isn't indented, so it's outside the loop\")\n",
        "```    \n",
        "\n",
        "and this brings up the topic of **indentation**!  The block (i.e., lines) of code that you're iterating over needs to be indented.  In Python, you should indent by 4 spaces.\n",
        "\n",
        "Try creating a list of exam scores that we'd like to grade on a curve.  Use `max()` to find out the highest score.  Then create an iteration that prints out the score as well as the score graded on a curve (by dividing by the highest score).\n"
      ]
    },
    {
      "cell_type": "code",
      "metadata": {
        "id": "cB9e2EI73-_J"
      },
      "source": [],
      "execution_count": null,
      "outputs": []
    },
    {
      "cell_type": "code",
      "metadata": {
        "id": "4x_EHB0E3-_K"
      },
      "source": [],
      "execution_count": null,
      "outputs": []
    },
    {
      "cell_type": "code",
      "metadata": {
        "id": "3Lgp854N3-_O"
      },
      "source": [],
      "execution_count": null,
      "outputs": []
    },
    {
      "cell_type": "markdown",
      "metadata": {
        "id": "XWIo1pp63-_R"
      },
      "source": [
        "Iterating over dictionaries is slightly different:\n"
      ]
    },
    {
      "cell_type": "code",
      "metadata": {
        "id": "ajcpjk-y3-_S"
      },
      "source": [
        "for key, value in workshop.items():\n",
        "    print (\"The key is \", key, \" and the value is \", value)"
      ],
      "execution_count": null,
      "outputs": []
    },
    {
      "cell_type": "markdown",
      "metadata": {
        "id": "KuMsoqE13-_V"
      },
      "source": [
        "Notice that dictionaries are unordered.  There's no guarantee about what order the iterator will yield the dictionary items to you in."
      ]
    },
    {
      "cell_type": "markdown",
      "metadata": {
        "id": "1iLUd1sm3-_W"
      },
      "source": [
        "### Another way to iterate: `while`"
      ]
    },
    {
      "cell_type": "markdown",
      "metadata": {
        "id": "rKM4VW1a3-_W"
      },
      "source": [
        "What if we don't have a list or other \"iterable\" for our for loop to iterate over? In that case, you can also loop using **`while`**."
      ]
    },
    {
      "cell_type": "markdown",
      "metadata": {
        "id": "vP__9XLG3-_X"
      },
      "source": [
        "Let's keep adding random numbers (between 1 and 10) until the sum hits at least 50.  We can use Python's `random` library, which we first need to **import** (more on `import`ing soon):"
      ]
    },
    {
      "cell_type": "code",
      "metadata": {
        "id": "rEL49SnT3-_Y"
      },
      "source": [
        "import random"
      ],
      "execution_count": null,
      "outputs": []
    },
    {
      "cell_type": "code",
      "metadata": {
        "id": "l0B88TmOr3G3"
      },
      "source": [
        "help(random.randint)"
      ],
      "execution_count": null,
      "outputs": []
    },
    {
      "cell_type": "code",
      "metadata": {
        "id": "bzXjGNYy3-_e"
      },
      "source": [
        "random.randint(1,10)"
      ],
      "execution_count": null,
      "outputs": []
    },
    {
      "cell_type": "markdown",
      "metadata": {
        "id": "ePNCscCD3-_j"
      },
      "source": [
        "Now for the `while` loop:"
      ]
    },
    {
      "cell_type": "code",
      "metadata": {
        "id": "UyMM99xtbIJK"
      },
      "source": [
        "total_so_far = 0\n",
        "while total_so_far < 50:\n",
        "  print(\"Total so far is \", total_so_far)\n",
        "  total_so_far = total_so_far + random.randint(1, 10)\n",
        "\n",
        "print(\"Final total is \", total_so_far)"
      ],
      "execution_count": null,
      "outputs": []
    },
    {
      "cell_type": "markdown",
      "metadata": {
        "id": "CjjDvjIM3-_l"
      },
      "source": [
        "### A random side note:\n",
        "    \n",
        "Try running the cell above with `random.randint(1,10)` again and again.  In a scientific setting, how might you ensure that your random sequence is \"repeatable\"?"
      ]
    },
    {
      "cell_type": "markdown",
      "metadata": {
        "id": "vx4AjHrt3-_m"
      },
      "source": [
        "### Another use of while:"
      ]
    },
    {
      "cell_type": "markdown",
      "metadata": {
        "id": "H3nPfMFJ3-_n"
      },
      "source": [
        "One way you might see `while` used is with **`while True`** which just continues indefinitely:"
      ]
    },
    {
      "cell_type": "code",
      "metadata": {
        "id": "r3ZC3GJP3-_o"
      },
      "source": [
        "lucky_number = 7\n",
        "\n",
        "while True:\n",
        "    a_number = random.randint(1,10)\n",
        "    if a_number != lucky_number:\n",
        "        print(\"Darn! Didn't get a\", lucky_number)\n",
        "    else:\n",
        "        print(\"Got a lucky\", lucky_number,\"-- Taking my winnings and quitting the while loop.\")\n",
        "        break"
      ],
      "execution_count": null,
      "outputs": []
    },
    {
      "cell_type": "markdown",
      "metadata": {
        "id": "P-XGL6w03-_u"
      },
      "source": [
        "What does the `break` statement do?"
      ]
    },
    {
      "cell_type": "markdown",
      "metadata": {
        "id": "68-RHxdY3-_w"
      },
      "source": [
        "## Conditionals\n",
        "\n",
        "Notice that in the example above, we snuck in the use of **`if`** and **`else`**.  Conditional expressions, using `if`, `else`, and `elif` (a contraction of \"else if\") allow us to execute blocks of code only if the condition is true.\n",
        "\n",
        "Create some code that iterates through a list of exam scores.  If a score is 70 or above, it should print out \"Pass!\"  If it's below 70, it should print out \"Fail!\"\n",
        "\n",
        "Un-comment the `for` loop and add your content inside:"
      ]
    },
    {
      "cell_type": "code",
      "metadata": {
        "id": "3SXK9Mlj3-_x"
      },
      "source": [
        "scores = [61, 95, 70, 80, 85, 99]\n",
        "\n",
        "# for s in scores:\n",
        "    # put your code here"
      ],
      "execution_count": null,
      "outputs": []
    },
    {
      "cell_type": "markdown",
      "metadata": {
        "id": "yWD7Vgst3-_z"
      },
      "source": [
        "## Functions\n",
        "\n",
        "We've already seen some built-in functions, such as `print()`, `max()`, and `len()`.  But Python is meant to be used with more than just its built-in functions.\n",
        "\n",
        "Let's try to take the square root of a number in Python, using `sqrt()`:"
      ]
    },
    {
      "cell_type": "code",
      "metadata": {
        "id": "myIRws_q3-_2"
      },
      "source": [],
      "execution_count": null,
      "outputs": []
    },
    {
      "cell_type": "markdown",
      "metadata": {
        "id": "frfNuKfY3-_6"
      },
      "source": [
        "What happened?  But I googled and saw that the square root function in Python is called `sqrt()`!\n",
        "\n",
        "### Importing libraries and using their functions\n",
        "\n",
        "Libraries are sets of Python functions that you can \"import\" to make available and use with *your* code.\n",
        "\n",
        "There are libraries that are part of Python, such as `math`, and libraries that other people write, such as `numpy`.\n",
        "\n",
        "We can import the math library into our code with:\n",
        "\n",
        "```import math```\n",
        "\n",
        "Each time we call a function that's in a library, we use the syntax ***LibraryName.FunctionName***. Adding the library name with a . before the function name tells Python where to find the function.\n",
        "\n",
        "Let's try taking that square root again:"
      ]
    },
    {
      "cell_type": "code",
      "metadata": {
        "id": "RyEU0Ta83-_7"
      },
      "source": [],
      "execution_count": null,
      "outputs": []
    },
    {
      "cell_type": "code",
      "metadata": {
        "id": "EMi_z9S23-_-"
      },
      "source": [],
      "execution_count": null,
      "outputs": []
    },
    {
      "cell_type": "markdown",
      "metadata": {
        "id": "c0VFkQQK3_AC"
      },
      "source": [
        "And if we want, we can do something like this:\n",
        "\n",
        "```from math import sqrt```\n",
        "\n",
        "See if you can figure out what effect that had:"
      ]
    },
    {
      "cell_type": "code",
      "metadata": {
        "id": "t64EaSE23_AD"
      },
      "source": [],
      "execution_count": null,
      "outputs": []
    },
    {
      "cell_type": "markdown",
      "metadata": {
        "id": "Nl12CtpR3_AH"
      },
      "source": [
        "When might you choose\n",
        "\n",
        "```import some_library```\n",
        "\n",
        "versus\n",
        "\n",
        "```from some_library import some_function```\n",
        "\n",
        "or even\n",
        "\n",
        "```from some_library import *``` ?"
      ]
    },
    {
      "cell_type": "markdown",
      "metadata": {
        "id": "CX966Y2x3_AH"
      },
      "source": [
        "### Writing our own functions\n",
        "\n",
        "What if we want to write our own functions?\n",
        "\n",
        "Defining part of a program in Python as a function is done using the `def` keyword. For example a function that takes a temperature in degrees Fahrenheit and returns the temperature in degrees Celsius:"
      ]
    },
    {
      "cell_type": "code",
      "metadata": {
        "id": "V5_TRo5m3_AI"
      },
      "source": [
        "def fahreinheit2celsius(temp_fahr):\n",
        "    temp_celsius = (temp_fahr-32)*5/9\n",
        "    return temp_celsius"
      ],
      "execution_count": null,
      "outputs": []
    },
    {
      "cell_type": "markdown",
      "metadata": {
        "id": "7vkUoEVj3_AK"
      },
      "source": [
        "Now we can use it:"
      ]
    },
    {
      "cell_type": "code",
      "metadata": {
        "id": "9jZ9c_DV3_AM"
      },
      "source": [
        "c = fahreinheit2celsius(100)\n",
        "print(c)"
      ],
      "execution_count": null,
      "outputs": []
    },
    {
      "cell_type": "markdown",
      "metadata": {
        "id": "4OepVVOi3_AQ"
      },
      "source": [
        "### What's variable \"scope\"?"
      ]
    },
    {
      "cell_type": "markdown",
      "metadata": {
        "id": "XdushatC3_AS"
      },
      "source": [
        "Let's say we had defined our function like this, using a variable called `ratio` instead of `5/9`:"
      ]
    },
    {
      "cell_type": "code",
      "metadata": {
        "id": "DsarEKmX3_AU"
      },
      "source": [
        "# Convert temperature in Fahrenheit to Celsius\n",
        "def f2c(temp_fahr):\n",
        "    ratio = 5/9\n",
        "    temp_celsius = (temp_fahr-32)*ratio\n",
        "    return temp_celsius"
      ],
      "execution_count": null,
      "outputs": []
    },
    {
      "cell_type": "markdown",
      "metadata": {
        "id": "yW-oe1L53_AX"
      },
      "source": [
        "What happens if we then try to print `ratio`?"
      ]
    },
    {
      "cell_type": "code",
      "metadata": {
        "id": "j-NKGKtU3_AX"
      },
      "source": [],
      "execution_count": null,
      "outputs": []
    },
    {
      "cell_type": "markdown",
      "metadata": {
        "id": "WC9o75sM3_Aa"
      },
      "source": [
        "Why did we get this error?"
      ]
    },
    {
      "cell_type": "markdown",
      "metadata": {
        "id": "g9N_jn5N3_Ab"
      },
      "source": [
        "### A bit more about passing values to functions\n",
        "\n",
        "Remember earlier how we graded test scores on a curve?  Let's make a function to do that.  We'll pass it the individual test score, and the top score that will be our new \"100%\":"
      ]
    },
    {
      "cell_type": "code",
      "metadata": {
        "id": "-GcixbEK3_Ab"
      },
      "source": [],
      "execution_count": null,
      "outputs": []
    },
    {
      "cell_type": "code",
      "metadata": {
        "id": "P0R-7Yj23_Ae"
      },
      "source": [],
      "execution_count": null,
      "outputs": []
    },
    {
      "cell_type": "markdown",
      "metadata": {
        "id": "NUToYKAP3_Ah"
      },
      "source": [
        "Now, if we specify which parameter is which, we can pass them in any order we like!"
      ]
    },
    {
      "cell_type": "code",
      "metadata": {
        "id": "d7FBU31y3_Ah"
      },
      "source": [],
      "execution_count": null,
      "outputs": []
    },
    {
      "cell_type": "markdown",
      "metadata": {
        "id": "nxyRDcl-3_Aj"
      },
      "source": [
        "Key points here:\n",
        "\n",
        "- definition starts with **`def`**\n",
        "- function body is indented\n",
        "- parameters are matched \"in order\", unless we specify them by name\n",
        "- **`return`** keyword precedes returned value\n"
      ]
    },
    {
      "cell_type": "markdown",
      "metadata": {
        "id": "oJE-7t2j3_Aj"
      },
      "source": [
        "## Challenge - Putting some skills together\n",
        "\n",
        "Can you define a function called `pad` that would take a list and pads it with some new item if it's less than the length you want?  You would use it like this:\n",
        "\n",
        "```\n",
        "names = ['Ali', 'Bob', 'Carla']\n",
        "names2 = ['Divya', 'Ed']\n",
        "```\n",
        "Then `pad(names, 5, '*')` would evaluate to:\n",
        "```\n",
        "['Ali', 'Bob', 'Carla', '*', '*']\n",
        "```\n",
        "\n",
        "and `pad(names2, 6, '%%%')` would evaluate to:\n",
        "```\n",
        "['Divya', 'Ed', '%%%', '%%%', '%%%', '%%%']\n",
        "```"
      ]
    },
    {
      "cell_type": "code",
      "metadata": {
        "id": "IjVCOVNs3_Ak"
      },
      "source": [],
      "execution_count": null,
      "outputs": []
    },
    {
      "cell_type": "code",
      "metadata": {
        "id": "tgrmuzBt3_Am"
      },
      "source": [],
      "execution_count": null,
      "outputs": []
    },
    {
      "cell_type": "markdown",
      "source": [
        "# Challenge - Word Counter\n",
        "\n",
        "We would like to create a function called `wordcount` that accepts a string of text, and returns a dictionary with the number of times each word appears.\n",
        "\n",
        "For example:\n",
        "\n",
        "`wordcount('This sentence is a sentence that repeats itself many many times')`\n",
        "\n",
        "should return:\n",
        "\n",
        "```\n",
        "{'This': 1,\n",
        " 'sentence': 2,\n",
        " 'is': 1,\n",
        " 'a': 1,\n",
        " 'that': 1,\n",
        " 'repeats': 1,\n",
        " 'itself': 1,\n",
        " 'many': 2,\n",
        " 'times': 1}\n",
        " ```\n",
        "\n",
        " Hint: If `s` is a string variable, you can use `s.split(' ')` to break s into a list of words, where Python breaks the sentence up on spaces (or on whatever you pass to `.split()`\n",
        "\n"
      ],
      "metadata": {
        "id": "P-cRClxNKI56"
      }
    },
    {
      "cell_type": "code",
      "source": [
        "\n"
      ],
      "metadata": {
        "id": "xz8tBthoKHzs"
      },
      "execution_count": null,
      "outputs": []
    }
  ]
}