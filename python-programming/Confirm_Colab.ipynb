{
  "nbformat": 4,
  "nbformat_minor": 0,
  "metadata": {
    "colab": {
      "name": "Confirm_Colab.ipynb",
      "provenance": []
    },
    "kernelspec": {
      "name": "python3",
      "display_name": "Python 3"
    },
    "language_info": {
      "name": "python"
    }
  },
  "cells": [
    {
      "cell_type": "markdown",
      "metadata": {
        "id": "DjJhtzXldnXc"
      },
      "source": [
        "# You have successfully opened a Google Colaboratory notebook!\n",
        "\n",
        "### See you at the workshop :-)"
      ]
    }
  ]
}