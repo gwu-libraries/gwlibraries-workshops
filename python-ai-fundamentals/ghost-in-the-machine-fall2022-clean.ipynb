{
 "cells": [
  {
   "cell_type": "markdown",
   "metadata": {},
   "source": [
    "# Human behind the Curtain, or Ghost in the Machine?\n",
    "#### Exploring the foundations of AI with Python"
   ]
  },
  {
   "cell_type": "markdown",
   "metadata": {},
   "source": [
    "### Example: Drawing marbles from a jar"
   ]
  },
  {
   "cell_type": "code",
   "execution_count": null,
   "metadata": {},
   "outputs": [],
   "source": [
    "marbles_sample = {'red': 10,\n",
    "                 'green': 15,\n",
    "                 'blue': 15,\n",
    "                 'yellow': 10}"
   ]
  },
  {
   "cell_type": "code",
   "execution_count": null,
   "metadata": {},
   "outputs": [],
   "source": [
    "from random import choices\n",
    "from collections import Counter"
   ]
  },
  {
   "cell_type": "code",
   "execution_count": null,
   "metadata": {},
   "outputs": [],
   "source": [
    "num_selections = 1000\n",
    "\n",
    "marbles_sim = choices(list(marbles_sample.keys()), weights=list(marbles_sample.values()),\n",
    "                k=num_selections)"
   ]
  },
  {
   "cell_type": "code",
   "execution_count": null,
   "metadata": {},
   "outputs": [],
   "source": [
    "marbles_sim_counter = Counter()\n",
    "for marble in marbles_sim:\n",
    "    marbles_sim_counter[marble] += 1"
   ]
  },
  {
   "cell_type": "code",
   "execution_count": null,
   "metadata": {},
   "outputs": [],
   "source": [
    "for marble, count in marbles_sim_counter.items():\n",
    "    print('color: {}, percent_seen: {}, percent_in_sample: {}'.format(marble, \n",
    "                                                                      count/num_selections,\n",
    "                                                                      marbles_sample[marble]/50))"
   ]
  },
  {
   "cell_type": "markdown",
   "metadata": {},
   "source": [
    "## Text tables "
   ]
  },
  {
   "cell_type": "markdown",
   "metadata": {},
   "source": [
    "### Building a probability distribution (1): single letters"
   ]
  },
  {
   "cell_type": "code",
   "execution_count": null,
   "metadata": {},
   "outputs": [],
   "source": [
    "import nltk\n",
    "nltk.download('gutenberg')\n",
    "from nltk.corpus import gutenberg"
   ]
  },
  {
   "cell_type": "code",
   "execution_count": null,
   "metadata": {},
   "outputs": [],
   "source": [
    "gutenberg.fileids()"
   ]
  },
  {
   "cell_type": "code",
   "execution_count": null,
   "metadata": {},
   "outputs": [],
   "source": [
    "texts = gutenberg.raw()"
   ]
  },
  {
   "cell_type": "code",
   "execution_count": null,
   "metadata": {},
   "outputs": [],
   "source": [
    "non_alpha = {c for c in set(texts) if not c.isalpha()}"
   ]
  },
  {
   "cell_type": "code",
   "execution_count": null,
   "metadata": {},
   "outputs": [],
   "source": [
    "texts_cleaned = texts\n",
    "for c in non_alpha:\n",
    "    texts_cleaned = texts_cleaned.replace(c, '')\n",
    "texts_cleaned = texts_cleaned.lower()"
   ]
  },
  {
   "cell_type": "code",
   "execution_count": null,
   "metadata": {},
   "outputs": [],
   "source": [
    "texts_cleaned[:1000]"
   ]
  },
  {
   "cell_type": "code",
   "execution_count": null,
   "metadata": {},
   "outputs": [],
   "source": [
    "def create_dist(text):\n",
    "    '''\n",
    "    Given a Python string, compute the distribution of characters.\n",
    "    '''\n",
    "    dist = Counter()\n",
    "    for character in text:\n",
    "        dist[character] += 1\n",
    "    return dist"
   ]
  },
  {
   "cell_type": "code",
   "execution_count": null,
   "metadata": {},
   "outputs": [],
   "source": [
    "dist = create_dist(texts_cleaned)"
   ]
  },
  {
   "cell_type": "code",
   "execution_count": null,
   "metadata": {},
   "outputs": [],
   "source": [
    "def generate_text(dist, length=500):\n",
    "    '''\n",
    "    Given a distribution of letters (Python dictionary), create a text of the given length by random sampling.\n",
    "    '''\n",
    "    text = ''.join(choices(list(dist.keys()), weights=list(dist.values()), k=length))\n",
    "    return text"
   ]
  },
  {
   "cell_type": "code",
   "execution_count": null,
   "metadata": {},
   "outputs": [],
   "source": [
    "generate_text(dist)"
   ]
  },
  {
   "cell_type": "code",
   "execution_count": null,
   "metadata": {},
   "outputs": [],
   "source": [
    "non_alpha_spc = {c for c in set(texts) if not c.isalpha() and not c.isspace()}"
   ]
  },
  {
   "cell_type": "code",
   "execution_count": null,
   "metadata": {},
   "outputs": [],
   "source": [
    "texts_cleaned = texts\n",
    "for c in non_alpha_spc:\n",
    "    texts_cleaned = texts_cleaned.replace(c, '').lower()"
   ]
  },
  {
   "cell_type": "code",
   "execution_count": null,
   "metadata": {},
   "outputs": [],
   "source": [
    "import re\n",
    "texts_cleaned = re.sub('\\s+', ' ', texts_cleaned)"
   ]
  },
  {
   "cell_type": "code",
   "execution_count": null,
   "metadata": {},
   "outputs": [],
   "source": [
    "texts_cleaned[:1000]"
   ]
  },
  {
   "cell_type": "code",
   "execution_count": null,
   "metadata": {},
   "outputs": [],
   "source": [
    "dist = create_dist(texts_cleaned)\n",
    "generate_text(dist)"
   ]
  },
  {
   "cell_type": "code",
   "execution_count": null,
   "metadata": {},
   "outputs": [],
   "source": [
    "''.join(choices(list(set(texts_cleaned)), k=500))"
   ]
  },
  {
   "cell_type": "markdown",
   "metadata": {},
   "source": [
    "## Markov chains"
   ]
  },
  {
   "cell_type": "markdown",
   "metadata": {},
   "source": [
    "### Building a probability distribution (2): transitions from 1 letter"
   ]
  },
  {
   "cell_type": "code",
   "execution_count": null,
   "metadata": {},
   "outputs": [],
   "source": [
    "from collections import defaultdict\n",
    "def create_dist_pairs(text):\n",
    "    '''\n",
    "    Given a Python string, create a transition table showing the frequency with which any given character is followed by any other\n",
    "    '''\n",
    "    dist = defaultdict(Counter) # Initializes the inner dictionary to a Counter \n",
    "    for i, character in enumerate(text[:-1]):\n",
    "        first_char = character\n",
    "        next_char = text[i+1] # text[i] is the current character\n",
    "        dist[first_char][next_char] += 1 # Increment the frequency observed for this transition\n",
    "    return dist"
   ]
  },
  {
   "cell_type": "code",
   "execution_count": null,
   "metadata": {},
   "outputs": [],
   "source": [
    "def generate_text_from_pairs(dist, length=500):\n",
    "    '''\n",
    "    Given a transition table, create a text of n characters by random sampling.\n",
    "    '''\n",
    "    first_char = choices(list(dist.keys()))[0] # Using a uniform distribution: any character equally likely\n",
    "    text = first_char # The text to be generated starts with this character\n",
    "    for i in range(length):\n",
    "        transitions = dist[first_char] # Access the nest dictionary\n",
    "        next_char = choices(list(transitions.keys()), list(transitions.values()))[0]\n",
    "        text += next_char\n",
    "        first_char = next_char # Reset for the next time through\n",
    "    return text"
   ]
  },
  {
   "cell_type": "code",
   "execution_count": null,
   "metadata": {},
   "outputs": [],
   "source": [
    "pair_dist = create_dist_pairs(texts_cleaned)"
   ]
  },
  {
   "cell_type": "code",
   "execution_count": null,
   "metadata": {},
   "outputs": [],
   "source": [
    "generate_text_from_pairs(pair_dist)"
   ]
  },
  {
   "cell_type": "markdown",
   "metadata": {},
   "source": [
    "### Building a probability distribution (3): transitions with n-grams"
   ]
  },
  {
   "cell_type": "code",
   "execution_count": null,
   "metadata": {},
   "outputs": [],
   "source": [
    "def create_dist_n(sequence, n=2):\n",
    "    '''Returns a 2-D dictionary, where the outer keys are ngrams of length n,\n",
    "    the inner keys represent the elements following each ngram, and the values\n",
    "    represent the weights of each transition.'''\n",
    "    dist = defaultdict(Counter)\n",
    "    for i, element in enumerate(sequence[:-n]): # We don't want go past the end of the sequence\n",
    "        first_elem = tuple(sequence[i:i+n]) # Convert to tuple so we can use as a dict key\n",
    "        next_elem = sequence[i+n]\n",
    "        dist[first_elem][next_elem] += 1\n",
    "    return dist"
   ]
  },
  {
   "cell_type": "code",
   "execution_count": null,
   "metadata": {},
   "outputs": [],
   "source": [
    "def generate_text_from_ngrams(dist, length=500, sep=''):\n",
    "    '''\n",
    "    Given a transition table, create a text of n elements by random sampling.\n",
    "    '''\n",
    "    first_elem = choices(list(dist.keys()))[0] \n",
    "    size = len(first_elem)\n",
    "    elements = list(first_elem) # The text to be generated starts with this character\n",
    "    for i in range(length):\n",
    "        transitions = dist[first_elem] # Access the nest dictionary\n",
    "        next_elem = choices(list(transitions.keys()), list(transitions.values()))[0]\n",
    "        elements.append(next_elem)\n",
    "        first_elem = tuple(elements[-size:]) # Reset for the next time through\n",
    "    return sep.join(elements)"
   ]
  },
  {
   "cell_type": "code",
   "execution_count": null,
   "metadata": {},
   "outputs": [],
   "source": [
    "dist_3 = create_dist_n(texts_cleaned, n=2)"
   ]
  },
  {
   "cell_type": "code",
   "execution_count": null,
   "metadata": {},
   "outputs": [],
   "source": [
    "generate_text_from_ngrams(dist_3)"
   ]
  },
  {
   "cell_type": "code",
   "execution_count": null,
   "metadata": {},
   "outputs": [],
   "source": [
    "dist_4 = create_dist_n(texts_cleaned, n=3)\n",
    "generate_text_from_ngrams(dist_4)"
   ]
  },
  {
   "cell_type": "code",
   "execution_count": null,
   "metadata": {},
   "outputs": [],
   "source": [
    "dist_words = create_dist_n(texts_cleaned.split(), n=2)"
   ]
  },
  {
   "cell_type": "code",
   "execution_count": null,
   "metadata": {},
   "outputs": [],
   "source": [
    "generate_text_from_ngrams(dist_words, length=100, sep=' ')"
   ]
  }
 ],
 "metadata": {
  "kernelspec": {
   "display_name": "Python 3",
   "language": "python",
   "name": "python3"
  },
  "language_info": {
   "codemirror_mode": {
    "name": "ipython",
    "version": 3
   },
   "file_extension": ".py",
   "mimetype": "text/x-python",
   "name": "python",
   "nbconvert_exporter": "python",
   "pygments_lexer": "ipython3",
   "version": "3.8.5"
  }
 },
 "nbformat": 4,
 "nbformat_minor": 4
}
